{
 "cells": [
  {
   "cell_type": "markdown",
   "metadata": {},
   "source": [
    "# 5강 과제\n",
    "\n",
    "### 학번 : 201685-010100\n",
    "### 이름 : 지용기 "
   ]
  },
  {
   "cell_type": "markdown",
   "metadata": {},
   "source": [
    "### 5강에서 Clustering 방법들을 개괄적으로 소개하였다. 그 중 Decision Tree (의사결정나무) 는 최근 벌어진 바둑경기에서 9단 이세돌을 이긴 알파고(AlphaGo)의 핵심적인 알고리즘 중 하나이다. 첨부된 PPT 파일을 통해 이 의사결정나무가 어떻게 작동하는지 그 원리를 Tenis playing의 예를 통해 확인하고 간략히 기술하도록 하라."
   ]
  },
  {
   "cell_type": "markdown",
   "metadata": {},
   "source": [
    "#### 데이터의 생성"
   ]
  },
  {
   "cell_type": "code",
   "execution_count": 11,
   "metadata": {
    "collapsed": true
   },
   "outputs": [],
   "source": [
    "Outlook <- c( \"Sunny\", \"Sunny\", \"Overcast\", \"Rain\", \"Rain\", \"Rain\", \"Overcast\", \n",
    "             \"Sunny\", \"Sunny\", \"Rain\", \"Sunny\", \"Overcast\", \"Overcast\", \"Rain\"  )\n",
    "Temp <- c(\"Hot\", \"Hot\", \"Hot\", \"Mild\", \"Cool\", \"Cool\", \"Cool\", \n",
    "          \"Mild\", \"Cool\", \"Mild\", \"Mild\", \"Mild\", \"Hot\", \"Mild\" )\n",
    "Humidity <- c(\"High\", \"High\", \"High\", \"High\", \"Normal\", \"Normal\", \"Normal\", \"High\", \n",
    "              \"Normal\", \"Normal\", \"Normal\", \"High\", \"Normal\", \"High\" )\n",
    "Wind <- c(\"Weak\", \"Strong\", \"Weak\", \"Weak\", \"Weak\", \"Strong\", \"Weak\", \n",
    "          \"Weak\", \"Weak\", \"Strong\", \"Strong\", \"Strong\", \"Weak\", \"Strong\")\n",
    "PayTennis <- c(\"No\", \"No\", \"Yes\", \"Yes\", \"Yes\", \"No\", \"Yes\", \"No\", \"Yes\", \"Yes\", \"Yes\", \"Yes\", \"Yes\", \"No\" )\n",
    "training.example <- data.frame(Outlook, Temp, Humidity, Wind, PayTennis)"
   ]
  },
  {
   "cell_type": "code",
   "execution_count": 12,
   "metadata": {
    "collapsed": false
   },
   "outputs": [
    {
     "data": {
      "text/html": [
       "<table>\n",
       "<thead><tr><th></th><th scope=col>Outlook</th><th scope=col>Temp</th><th scope=col>Humidity</th><th scope=col>Wind</th><th scope=col>PayTennis</th></tr></thead>\n",
       "<tbody>\n",
       "\t<tr><th scope=row>1</th><td>Sunny</td><td>Hot</td><td>High</td><td>Weak</td><td>No</td></tr>\n",
       "\t<tr><th scope=row>2</th><td>Sunny</td><td>Hot</td><td>High</td><td>Strong</td><td>No</td></tr>\n",
       "\t<tr><th scope=row>3</th><td>Overcast</td><td>Hot</td><td>High</td><td>Weak</td><td>Yes</td></tr>\n",
       "\t<tr><th scope=row>4</th><td>Rain</td><td>Mild</td><td>High</td><td>Weak</td><td>Yes</td></tr>\n",
       "\t<tr><th scope=row>5</th><td>Rain</td><td>Cool</td><td>Normal</td><td>Weak</td><td>Yes</td></tr>\n",
       "\t<tr><th scope=row>6</th><td>Rain</td><td>Cool</td><td>Normal</td><td>Strong</td><td>No</td></tr>\n",
       "\t<tr><th scope=row>7</th><td>Overcast</td><td>Cool</td><td>Normal</td><td>Weak</td><td>Yes</td></tr>\n",
       "\t<tr><th scope=row>8</th><td>Sunny</td><td>Mild</td><td>High</td><td>Weak</td><td>No</td></tr>\n",
       "\t<tr><th scope=row>9</th><td>Sunny</td><td>Cool</td><td>Normal</td><td>Weak</td><td>Yes</td></tr>\n",
       "\t<tr><th scope=row>10</th><td>Rain</td><td>Mild</td><td>Normal</td><td>Strong</td><td>Yes</td></tr>\n",
       "\t<tr><th scope=row>11</th><td>Sunny</td><td>Mild</td><td>Normal</td><td>Strong</td><td>Yes</td></tr>\n",
       "\t<tr><th scope=row>12</th><td>Overcast</td><td>Mild</td><td>High</td><td>Strong</td><td>Yes</td></tr>\n",
       "\t<tr><th scope=row>13</th><td>Overcast</td><td>Hot</td><td>Normal</td><td>Weak</td><td>Yes</td></tr>\n",
       "\t<tr><th scope=row>14</th><td>Rain</td><td>Mild</td><td>High</td><td>Strong</td><td>No</td></tr>\n",
       "</tbody>\n",
       "</table>\n"
      ],
      "text/latex": [
       "\\begin{tabular}{r|lllll}\n",
       "  & Outlook & Temp & Humidity & Wind & PayTennis\\\\\n",
       "\\hline\n",
       "\t1 & Sunny & Hot & High & Weak & No\\\\\n",
       "\t2 & Sunny & Hot & High & Strong & No\\\\\n",
       "\t3 & Overcast & Hot & High & Weak & Yes\\\\\n",
       "\t4 & Rain & Mild & High & Weak & Yes\\\\\n",
       "\t5 & Rain & Cool & Normal & Weak & Yes\\\\\n",
       "\t6 & Rain & Cool & Normal & Strong & No\\\\\n",
       "\t7 & Overcast & Cool & Normal & Weak & Yes\\\\\n",
       "\t8 & Sunny & Mild & High & Weak & No\\\\\n",
       "\t9 & Sunny & Cool & Normal & Weak & Yes\\\\\n",
       "\t10 & Rain & Mild & Normal & Strong & Yes\\\\\n",
       "\t11 & Sunny & Mild & Normal & Strong & Yes\\\\\n",
       "\t12 & Overcast & Mild & High & Strong & Yes\\\\\n",
       "\t13 & Overcast & Hot & Normal & Weak & Yes\\\\\n",
       "\t14 & Rain & Mild & High & Strong & No\\\\\n",
       "\\end{tabular}\n"
      ],
      "text/plain": [
       "    Outlook Temp Humidity   Wind PayTennis\n",
       "1     Sunny  Hot     High   Weak        No\n",
       "2     Sunny  Hot     High Strong        No\n",
       "3  Overcast  Hot     High   Weak       Yes\n",
       "4      Rain Mild     High   Weak       Yes\n",
       "5      Rain Cool   Normal   Weak       Yes\n",
       "6      Rain Cool   Normal Strong        No\n",
       "7  Overcast Cool   Normal   Weak       Yes\n",
       "8     Sunny Mild     High   Weak        No\n",
       "9     Sunny Cool   Normal   Weak       Yes\n",
       "10     Rain Mild   Normal Strong       Yes\n",
       "11    Sunny Mild   Normal Strong       Yes\n",
       "12 Overcast Mild     High Strong       Yes\n",
       "13 Overcast  Hot   Normal   Weak       Yes\n",
       "14     Rain Mild     High Strong        No"
      ]
     },
     "execution_count": 12,
     "metadata": {},
     "output_type": "execute_result"
    }
   ],
   "source": [
    "training.example"
   ]
  },
  {
   "cell_type": "code",
   "execution_count": 13,
   "metadata": {
    "collapsed": false
   },
   "outputs": [
    {
     "data": {
      "text/plain": [
       "     Outlook    Temp     Humidity     Wind   PayTennis\n",
       " Overcast:4   Cool:4   High  :7   Strong:6   No :5    \n",
       " Rain    :5   Hot :4   Normal:7   Weak  :8   Yes:9    \n",
       " Sunny   :5   Mild:6                                  "
      ]
     },
     "execution_count": 13,
     "metadata": {},
     "output_type": "execute_result"
    }
   ],
   "source": [
    "summary( training.example )"
   ]
  },
  {
   "cell_type": "markdown",
   "metadata": {},
   "source": [
    "attach( training.example  )"
   ]
  },
  {
   "cell_type": "markdown",
   "metadata": {},
   "source": [
    "#### 루트 노드의 선택"
   ]
  },
  {
   "cell_type": "code",
   "execution_count": 4,
   "metadata": {
    "collapsed": false
   },
   "outputs": [],
   "source": [
    "tab.Outook <- table(Outlook, PayTennis)\n",
    "tab.Temp <- table(Temp, PayTennis)\n",
    "tab.Humidity <- table(Humidity, PayTennis)\n",
    "tab.Wind <- table(Wind, PayTennis)"
   ]
  },
  {
   "cell_type": "code",
   "execution_count": 5,
   "metadata": {
    "collapsed": false
   },
   "outputs": [
    {
     "data": {
      "text/plain": [
       "          PayTennis\n",
       "Outlook    No Yes\n",
       "  Overcast  0   4\n",
       "  Rain      2   3\n",
       "  Sunny     3   2"
      ]
     },
     "execution_count": 5,
     "metadata": {},
     "output_type": "execute_result"
    },
    {
     "data": {
      "text/plain": [
       "          PayTennis\n",
       "Outlook     No Yes\n",
       "  Overcast 0.0 1.0\n",
       "  Rain     0.4 0.6\n",
       "  Sunny    0.6 0.4"
      ]
     },
     "execution_count": 5,
     "metadata": {},
     "output_type": "execute_result"
    }
   ],
   "source": [
    "tab.Outook\n",
    "prop.table(tab.Outook,1)"
   ]
  },
  {
   "cell_type": "code",
   "execution_count": 38,
   "metadata": {
    "collapsed": false
   },
   "outputs": [
    {
     "data": {
      "text/html": [
       "1.49972183240961"
      ],
      "text/latex": [
       "1.49972183240961"
      ],
      "text/markdown": [
       "1.49972183240961"
      ],
      "text/plain": [
       "[1] 1.499722"
      ]
     },
     "execution_count": 38,
     "metadata": {},
     "output_type": "execute_result"
    }
   ],
   "source": [
    "entropy.Outook <- - log2(1)  - 0.4 * log2(0.4) - 0.6  * log2( 0.6 )  - 0.4  *  log2( 0.4 ) \n",
    "entropy.Outook"
   ]
  },
  {
   "cell_type": "code",
   "execution_count": 33,
   "metadata": {
    "collapsed": false
   },
   "outputs": [
    {
     "data": {
      "text/plain": [
       "      PayTennis\n",
       "Temp   No Yes\n",
       "  Cool  1   3\n",
       "  Hot   2   2\n",
       "  Mild  2   4"
      ]
     },
     "execution_count": 33,
     "metadata": {},
     "output_type": "execute_result"
    },
    {
     "data": {
      "text/plain": [
       "      PayTennis\n",
       "Temp          No       Yes\n",
       "  Cool 0.2500000 0.7500000\n",
       "  Hot  0.5000000 0.5000000\n",
       "  Mild 0.3333333 0.6666667"
      ]
     },
     "execution_count": 33,
     "metadata": {},
     "output_type": "execute_result"
    }
   ],
   "source": [
    "tab.Temp\n",
    "prop.table(tab.Temp, 1)"
   ]
  },
  {
   "cell_type": "code",
   "execution_count": 40,
   "metadata": {
    "collapsed": false
   },
   "outputs": [
    {
     "data": {
      "text/html": [
       "2.73474557417124"
      ],
      "text/latex": [
       "2.73474557417124"
      ],
      "text/markdown": [
       "2.73474557417124"
      ],
      "text/plain": [
       "[1] 2.734746"
      ]
     },
     "execution_count": 40,
     "metadata": {},
     "output_type": "execute_result"
    }
   ],
   "source": [
    "entropy.Temp <- - 0.25*log2(0.25) - 0.75*log2(0.75) - 0.5*log2( 0.5 ) - 0.5*log2( 0.5 ) - 0.33*log2( 0.33 ) - 0.66*log2( 0.66 )  \n",
    "entropy.Temp"
   ]
  },
  {
   "cell_type": "code",
   "execution_count": 41,
   "metadata": {
    "collapsed": false
   },
   "outputs": [
    {
     "data": {
      "text/plain": [
       "        PayTennis\n",
       "Humidity No Yes\n",
       "  High    4   3\n",
       "  Normal  1   6"
      ]
     },
     "execution_count": 41,
     "metadata": {},
     "output_type": "execute_result"
    },
    {
     "data": {
      "text/plain": [
       "        PayTennis\n",
       "Humidity        No       Yes\n",
       "  High   0.5714286 0.4285714\n",
       "  Normal 0.1428571 0.8571429"
      ]
     },
     "execution_count": 41,
     "metadata": {},
     "output_type": "execute_result"
    }
   ],
   "source": [
    "tab.Humidity \n",
    "prop.table(tab.Humidity, 1)"
   ]
  },
  {
   "cell_type": "code",
   "execution_count": 42,
   "metadata": {
    "collapsed": false
   },
   "outputs": [
    {
     "data": {
      "text/html": [
       "1.58430264530786"
      ],
      "text/latex": [
       "1.58430264530786"
      ],
      "text/markdown": [
       "1.58430264530786"
      ],
      "text/plain": [
       "[1] 1.584303"
      ]
     },
     "execution_count": 42,
     "metadata": {},
     "output_type": "execute_result"
    }
   ],
   "source": [
    "entropy.Humidity <- - 0.57*log2(0.57) - 0.42*log2(0.42) - 0.14*log2(0.14) - 0.85*log2(0.85) \n",
    "entropy.Humidity"
   ]
  },
  {
   "cell_type": "code",
   "execution_count": 43,
   "metadata": {
    "collapsed": false
   },
   "outputs": [
    {
     "data": {
      "text/plain": [
       "        PayTennis\n",
       "Wind     No Yes\n",
       "  Strong  3   3\n",
       "  Weak    2   6"
      ]
     },
     "execution_count": 43,
     "metadata": {},
     "output_type": "execute_result"
    },
    {
     "data": {
      "text/plain": [
       "        PayTennis\n",
       "Wind       No  Yes\n",
       "  Strong 0.50 0.50\n",
       "  Weak   0.25 0.75"
      ]
     },
     "execution_count": 43,
     "metadata": {},
     "output_type": "execute_result"
    }
   ],
   "source": [
    "tab.Wind\n",
    "prop.table(tab.Wind, 1)"
   ]
  },
  {
   "cell_type": "code",
   "execution_count": 44,
   "metadata": {
    "collapsed": false
   },
   "outputs": [
    {
     "data": {
      "text/html": [
       "1.81127812445913"
      ],
      "text/latex": [
       "1.81127812445913"
      ],
      "text/markdown": [
       "1.81127812445913"
      ],
      "text/plain": [
       "[1] 1.811278"
      ]
     },
     "execution_count": 44,
     "metadata": {},
     "output_type": "execute_result"
    }
   ],
   "source": [
    "entropy.Wind <- - 0.5*log2(0.5) - 0.5*log2(0.5) - 0.25*log2(0.25) - 0.75*log2(0.75) \n",
    "entropy.Wind"
   ]
  },
  {
   "cell_type": "code",
   "execution_count": 45,
   "metadata": {
    "collapsed": false
   },
   "outputs": [
    {
     "data": {
      "text/html": [
       "1.49972183240961"
      ],
      "text/latex": [
       "1.49972183240961"
      ],
      "text/markdown": [
       "1.49972183240961"
      ],
      "text/plain": [
       "[1] 1.499722"
      ]
     },
     "execution_count": 45,
     "metadata": {},
     "output_type": "execute_result"
    },
    {
     "data": {
      "text/html": [
       "2.73474557417124"
      ],
      "text/latex": [
       "2.73474557417124"
      ],
      "text/markdown": [
       "2.73474557417124"
      ],
      "text/plain": [
       "[1] 2.734746"
      ]
     },
     "execution_count": 45,
     "metadata": {},
     "output_type": "execute_result"
    },
    {
     "data": {
      "text/html": [
       "1.58430264530786"
      ],
      "text/latex": [
       "1.58430264530786"
      ],
      "text/markdown": [
       "1.58430264530786"
      ],
      "text/plain": [
       "[1] 1.584303"
      ]
     },
     "execution_count": 45,
     "metadata": {},
     "output_type": "execute_result"
    },
    {
     "data": {
      "text/html": [
       "1.81127812445913"
      ],
      "text/latex": [
       "1.81127812445913"
      ],
      "text/markdown": [
       "1.81127812445913"
      ],
      "text/plain": [
       "[1] 1.811278"
      ]
     },
     "execution_count": 45,
     "metadata": {},
     "output_type": "execute_result"
    }
   ],
   "source": [
    "entropy.Outook\n",
    "entropy.Temp\n",
    "entropy.Humidity\n",
    "entropy.Wind"
   ]
  },
  {
   "cell_type": "markdown",
   "metadata": {},
   "source": [
    "- 4개의 변수중에서 엔트로피가 가장 낮은 변수는 Outook 이므로 루트가 됨."
   ]
  },
  {
   "cell_type": "markdown",
   "metadata": {},
   "source": [
    "##### Outook 변수중에서  Sunny로 연결되는 변수의 선택"
   ]
  },
  {
   "cell_type": "code",
   "execution_count": 22,
   "metadata": {
    "collapsed": false
   },
   "outputs": [
    {
     "data": {
      "text/html": [
       "<table>\n",
       "<thead><tr><th></th><th scope=col>Outlook</th><th scope=col>Temp</th><th scope=col>Humidity</th><th scope=col>Wind</th><th scope=col>PayTennis</th></tr></thead>\n",
       "<tbody>\n",
       "\t<tr><th scope=row>1</th><td>Sunny</td><td>Hot</td><td>High</td><td>Weak</td><td>No</td></tr>\n",
       "\t<tr><th scope=row>2</th><td>Sunny</td><td>Hot</td><td>High</td><td>Strong</td><td>No</td></tr>\n",
       "\t<tr><th scope=row>8</th><td>Sunny</td><td>Mild</td><td>High</td><td>Weak</td><td>No</td></tr>\n",
       "\t<tr><th scope=row>9</th><td>Sunny</td><td>Cool</td><td>Normal</td><td>Weak</td><td>Yes</td></tr>\n",
       "\t<tr><th scope=row>11</th><td>Sunny</td><td>Mild</td><td>Normal</td><td>Strong</td><td>Yes</td></tr>\n",
       "</tbody>\n",
       "</table>\n"
      ],
      "text/latex": [
       "\\begin{tabular}{r|lllll}\n",
       "  & Outlook & Temp & Humidity & Wind & PayTennis\\\\\n",
       "\\hline\n",
       "\t1 & Sunny & Hot & High & Weak & No\\\\\n",
       "\t2 & Sunny & Hot & High & Strong & No\\\\\n",
       "\t8 & Sunny & Mild & High & Weak & No\\\\\n",
       "\t9 & Sunny & Cool & Normal & Weak & Yes\\\\\n",
       "\t11 & Sunny & Mild & Normal & Strong & Yes\\\\\n",
       "\\end{tabular}\n"
      ],
      "text/plain": [
       "   Outlook Temp Humidity   Wind PayTennis\n",
       "1    Sunny  Hot     High   Weak        No\n",
       "2    Sunny  Hot     High Strong        No\n",
       "8    Sunny Mild     High   Weak        No\n",
       "9    Sunny Cool   Normal   Weak       Yes\n",
       "11   Sunny Mild   Normal Strong       Yes"
      ]
     },
     "execution_count": 22,
     "metadata": {},
     "output_type": "execute_result"
    },
    {
     "data": {
      "text/plain": [
       "      PayTennis\n",
       "Temp    No Yes\n",
       "  Cool 0.0 1.0\n",
       "  Hot  1.0 0.0\n",
       "  Mild 0.5 0.5"
      ]
     },
     "execution_count": 22,
     "metadata": {},
     "output_type": "execute_result"
    },
    {
     "data": {
      "text/html": [
       "1"
      ],
      "text/latex": [
       "1"
      ],
      "text/markdown": [
       "1"
      ],
      "text/plain": [
       "[1] 1"
      ]
     },
     "execution_count": 22,
     "metadata": {},
     "output_type": "execute_result"
    }
   ],
   "source": [
    "training.example.sunny <- training.example[ Outlook == \"Sunny\",  ]\n",
    "training.example.sunny\n",
    "\n",
    "tab.sunny.Temp <- with(training.example.sunny,  table(Temp, PayTennis) )\n",
    "prop.table(tab.sunny.Temp, 1)\n",
    "entropy.sunny.Temp <-  - log2( 1 )- log2( 1 ) - 0.5*log2( 0.5 ) - 0.5*log2( 0.5 )\n",
    "entropy.sunny.Temp"
   ]
  },
  {
   "cell_type": "code",
   "execution_count": 24,
   "metadata": {
    "collapsed": false
   },
   "outputs": [
    {
     "data": {
      "text/plain": [
       "        PayTennis\n",
       "Humidity No Yes\n",
       "  High    1   0\n",
       "  Normal  0   1"
      ]
     },
     "execution_count": 24,
     "metadata": {},
     "output_type": "execute_result"
    },
    {
     "data": {
      "text/html": [
       "0"
      ],
      "text/latex": [
       "0"
      ],
      "text/markdown": [
       "0"
      ],
      "text/plain": [
       "[1] 0"
      ]
     },
     "execution_count": 24,
     "metadata": {},
     "output_type": "execute_result"
    }
   ],
   "source": [
    "tab.sunny.Humidity <- with(training.example.sunny,  table(Humidity, PayTennis) )\n",
    "prop.table(tab.sunny.Humidity, 1)\n",
    "entropy.sunny.Humidity <-  - log2( 1 )- log2( 1 )\n",
    "entropy.sunny.Humidity"
   ]
  },
  {
   "cell_type": "code",
   "execution_count": 26,
   "metadata": {
    "collapsed": false
   },
   "outputs": [
    {
     "data": {
      "text/plain": [
       "        PayTennis\n",
       "Wind            No       Yes\n",
       "  Strong 0.5000000 0.5000000\n",
       "  Weak   0.6666667 0.3333333"
      ]
     },
     "execution_count": 26,
     "metadata": {},
     "output_type": "execute_result"
    },
    {
     "data": {
      "text/html": [
       "2.05564496647474"
      ],
      "text/latex": [
       "2.05564496647474"
      ],
      "text/markdown": [
       "2.05564496647474"
      ],
      "text/plain": [
       "[1] 2.055645"
      ]
     },
     "execution_count": 26,
     "metadata": {},
     "output_type": "execute_result"
    }
   ],
   "source": [
    "tab.sunny.Wind <- with(training.example.sunny,  table(Wind, PayTennis) )\n",
    "prop.table(tab.sunny.Wind, 1)\n",
    "entropy.sunny.Wind <-  - 0.5*log2( 0.5 ) - 0.5*log2( 0.5 ) - 0.66*log2( 0.33 )\n",
    "entropy.sunny.Wind"
   ]
  },
  {
   "cell_type": "markdown",
   "metadata": {},
   "source": [
    "- Outook 변수중에서 Sunny일때는 하위 노드로 Humidity 를 갖을때 가장 엔트로피가 낮고, PayTennis를 완벽히 구분이 됩니다."
   ]
  },
  {
   "cell_type": "markdown",
   "metadata": {},
   "source": [
    "##### Outook 변수중에서  Overcast일때"
   ]
  },
  {
   "cell_type": "code",
   "execution_count": 27,
   "metadata": {
    "collapsed": false
   },
   "outputs": [
    {
     "data": {
      "text/html": [
       "<table>\n",
       "<thead><tr><th></th><th scope=col>Outlook</th><th scope=col>Temp</th><th scope=col>Humidity</th><th scope=col>Wind</th><th scope=col>PayTennis</th></tr></thead>\n",
       "<tbody>\n",
       "\t<tr><th scope=row>3</th><td>Overcast</td><td>Hot</td><td>High</td><td>Weak</td><td>Yes</td></tr>\n",
       "\t<tr><th scope=row>7</th><td>Overcast</td><td>Cool</td><td>Normal</td><td>Weak</td><td>Yes</td></tr>\n",
       "\t<tr><th scope=row>12</th><td>Overcast</td><td>Mild</td><td>High</td><td>Strong</td><td>Yes</td></tr>\n",
       "\t<tr><th scope=row>13</th><td>Overcast</td><td>Hot</td><td>Normal</td><td>Weak</td><td>Yes</td></tr>\n",
       "</tbody>\n",
       "</table>\n"
      ],
      "text/latex": [
       "\\begin{tabular}{r|lllll}\n",
       "  & Outlook & Temp & Humidity & Wind & PayTennis\\\\\n",
       "\\hline\n",
       "\t3 & Overcast & Hot & High & Weak & Yes\\\\\n",
       "\t7 & Overcast & Cool & Normal & Weak & Yes\\\\\n",
       "\t12 & Overcast & Mild & High & Strong & Yes\\\\\n",
       "\t13 & Overcast & Hot & Normal & Weak & Yes\\\\\n",
       "\\end{tabular}\n"
      ],
      "text/plain": [
       "    Outlook Temp Humidity   Wind PayTennis\n",
       "3  Overcast  Hot     High   Weak       Yes\n",
       "7  Overcast Cool   Normal   Weak       Yes\n",
       "12 Overcast Mild     High Strong       Yes\n",
       "13 Overcast  Hot   Normal   Weak       Yes"
      ]
     },
     "execution_count": 27,
     "metadata": {},
     "output_type": "execute_result"
    }
   ],
   "source": [
    "training.example.Overcast <- training.example[ Outlook == \"Overcast\",  ]\n",
    "training.example.Overcast"
   ]
  },
  {
   "cell_type": "markdown",
   "metadata": {},
   "source": [
    "- Overcast일때는 PayTennis가 모두 Yes로 구분이 되기 때문에 하위 노드가 필요가 없음."
   ]
  },
  {
   "cell_type": "markdown",
   "metadata": {},
   "source": [
    "##### Outook 변수중에서  Rain일때"
   ]
  },
  {
   "cell_type": "code",
   "execution_count": 4,
   "metadata": {
    "collapsed": false
   },
   "outputs": [
    {
     "data": {
      "text/html": [
       "<table>\n",
       "<thead><tr><th></th><th scope=col>Outlook</th><th scope=col>Temp</th><th scope=col>Humidity</th><th scope=col>Wind</th><th scope=col>PayTennis</th></tr></thead>\n",
       "<tbody>\n",
       "\t<tr><th scope=row>4</th><td>Rain</td><td>Mild</td><td>High</td><td>Weak</td><td>Yes</td></tr>\n",
       "\t<tr><th scope=row>5</th><td>Rain</td><td>Cool</td><td>Normal</td><td>Weak</td><td>Yes</td></tr>\n",
       "\t<tr><th scope=row>6</th><td>Rain</td><td>Cool</td><td>Normal</td><td>Strong</td><td>No</td></tr>\n",
       "\t<tr><th scope=row>10</th><td>Rain</td><td>Mild</td><td>Normal</td><td>Strong</td><td>Yes</td></tr>\n",
       "\t<tr><th scope=row>14</th><td>Rain</td><td>Mild</td><td>High</td><td>Strong</td><td>No</td></tr>\n",
       "</tbody>\n",
       "</table>\n"
      ],
      "text/latex": [
       "\\begin{tabular}{r|lllll}\n",
       "  & Outlook & Temp & Humidity & Wind & PayTennis\\\\\n",
       "\\hline\n",
       "\t4 & Rain & Mild & High & Weak & Yes\\\\\n",
       "\t5 & Rain & Cool & Normal & Weak & Yes\\\\\n",
       "\t6 & Rain & Cool & Normal & Strong & No\\\\\n",
       "\t10 & Rain & Mild & Normal & Strong & Yes\\\\\n",
       "\t14 & Rain & Mild & High & Strong & No\\\\\n",
       "\\end{tabular}\n"
      ],
      "text/plain": [
       "   Outlook Temp Humidity   Wind PayTennis\n",
       "4     Rain Mild     High   Weak       Yes\n",
       "5     Rain Cool   Normal   Weak       Yes\n",
       "6     Rain Cool   Normal Strong        No\n",
       "10    Rain Mild   Normal Strong       Yes\n",
       "14    Rain Mild     High Strong        No"
      ]
     },
     "execution_count": 4,
     "metadata": {},
     "output_type": "execute_result"
    }
   ],
   "source": [
    "training.example.Rain <- training.example[ Outlook == \"Rain\",  ]\n",
    "training.example.Rain"
   ]
  },
  {
   "cell_type": "code",
   "execution_count": 6,
   "metadata": {
    "collapsed": false
   },
   "outputs": [
    {
     "data": {
      "text/plain": [
       "      PayTennis\n",
       "Temp          No       Yes\n",
       "  Cool 0.5000000 0.5000000\n",
       "  Hot                     \n",
       "  Mild 0.3333333 0.6666667"
      ]
     },
     "execution_count": 6,
     "metadata": {},
     "output_type": "execute_result"
    },
    {
     "data": {
      "text/html": [
       "2.42346744971211"
      ],
      "text/latex": [
       "2.42346744971211"
      ],
      "text/markdown": [
       "2.42346744971211"
      ],
      "text/plain": [
       "[1] 2.423467"
      ]
     },
     "execution_count": 6,
     "metadata": {},
     "output_type": "execute_result"
    }
   ],
   "source": [
    "tab.Rain.Temp <- with(training.example.Rain,  table(Temp, PayTennis) )\n",
    "prop.table(tab.Rain.Temp, 1)\n",
    "entropy.Rain.Temp <-  - 0.5*log2( 0.5 )- log2( 0.5 ) - 0.33*log2( 0.33 ) - 0.66*log2( 0.66 )\n",
    "entropy.Rain.Temp"
   ]
  },
  {
   "cell_type": "code",
   "execution_count": 7,
   "metadata": {
    "collapsed": false
   },
   "outputs": [
    {
     "data": {
      "text/plain": [
       "        PayTennis\n",
       "Humidity        No       Yes\n",
       "  High   0.5000000 0.5000000\n",
       "  Normal 0.3333333 0.6666667"
      ]
     },
     "execution_count": 7,
     "metadata": {},
     "output_type": "execute_result"
    },
    {
     "data": {
      "text/html": [
       "2.42346744971211"
      ],
      "text/latex": [
       "2.42346744971211"
      ],
      "text/markdown": [
       "2.42346744971211"
      ],
      "text/plain": [
       "[1] 2.423467"
      ]
     },
     "execution_count": 7,
     "metadata": {},
     "output_type": "execute_result"
    }
   ],
   "source": [
    "tab.Rain.Humidity <- with(training.example.Rain,  table(Humidity, PayTennis) )\n",
    "prop.table(tab.Rain.Humidity, 1)\n",
    "entropy.Rain.Humidity <-  - 0.5*log2( 0.5 )- log2( 0.5 ) - 0.33*log2( 0.33 ) - 0.66*log2( 0.66 )\n",
    "entropy.Rain.Humidity"
   ]
  },
  {
   "cell_type": "code",
   "execution_count": 9,
   "metadata": {
    "collapsed": false
   },
   "outputs": [
    {
     "data": {
      "text/plain": [
       "        PayTennis\n",
       "Wind            No       Yes\n",
       "  Strong 0.6666667 0.3333333\n",
       "  Weak   0.0000000 1.0000000"
      ]
     },
     "execution_count": 9,
     "metadata": {},
     "output_type": "execute_result"
    },
    {
     "data": {
      "text/html": [
       "0.923467449712108"
      ],
      "text/latex": [
       "0.923467449712108"
      ],
      "text/markdown": [
       "0.923467449712108"
      ],
      "text/plain": [
       "[1] 0.9234674"
      ]
     },
     "execution_count": 9,
     "metadata": {},
     "output_type": "execute_result"
    }
   ],
   "source": [
    "tab.Rain.Wind <- with(training.example.Rain,  table(Wind, PayTennis) )\n",
    "prop.table(tab.Rain.Wind, 1)\n",
    "entropy.Rain.Wind <-  - 0.66*log2( 0.66 )- 0.33*log2( 0.33 ) - log2( 1 )\n",
    "entropy.Rain.Wind"
   ]
  },
  {
   "cell_type": "markdown",
   "metadata": {},
   "source": [
    "- Outook 변수중에서 Rain일때는 하위 노드로 Wind 를 갖을때 가장 엔트로피가 낮습니다.\n",
    "- 그래서 하위노드로 Wind로 하며 Wind는 완벽히 PayTennis을 완벽히 구분을 못하므로, 하위 노드를 갖을 수 있습니다."
   ]
  },
  {
   "cell_type": "code",
   "execution_count": null,
   "metadata": {
    "collapsed": true
   },
   "outputs": [],
   "source": []
  }
 ],
 "metadata": {
  "kernelspec": {
   "display_name": "R",
   "language": "R",
   "name": "ir"
  },
  "language_info": {
   "codemirror_mode": "r",
   "file_extension": ".r",
   "mimetype": "text/x-r-source",
   "name": "R",
   "pygments_lexer": "r",
   "version": "3.1.3"
  }
 },
 "nbformat": 4,
 "nbformat_minor": 0
}
