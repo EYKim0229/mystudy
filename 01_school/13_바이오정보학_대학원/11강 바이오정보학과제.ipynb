{
 "cells": [
  {
   "cell_type": "markdown",
   "metadata": {},
   "source": [
    "# 11강 바이오정보학  과제\n",
    "\n",
    "\n",
    "### 학번 : 201685-010100\n",
    "### 이름 : 지용기 \n",
    "\n",
    "###  \"NCBI의 protein DB에 방문하여 실험적으로 확인된 homo sapiens의 p53단백질의 서열들 중 61개의 아미노산으로 이루어진 p53 단백질 서열을 가지고 Phyre2 홈페이지에 접속하여 단백질의 구조를 예측해 보시오.\""
   ]
  },
  {
   "cell_type": "markdown",
   "metadata": {},
   "source": [
    "NCB의 protein DB에서 home sapiens의 p52 단백질의 서열들중 61개의 아미노산으로 이루어진 p53 조회 결과임\n",
    "\n",
    "![](hw11_01.png)"
   ]
  },
  {
   "cell_type": "markdown",
   "metadata": {},
   "source": [
    "## 아미노산 서열\n",
    "\n",
    "yspalnkmfc qlaktcpvql wvdstpppgt rvramaiykq sqhmtevvrr cphhercsdsd"
   ]
  },
  {
   "cell_type": "markdown",
   "metadata": {},
   "source": [
    "## Phyre2사이트에서의 단백질 구조 예측 결과"
   ]
  },
  {
   "cell_type": "markdown",
   "metadata": {},
   "source": [
    "![](hw11_02.png)"
   ]
  },
  {
   "cell_type": "markdown",
   "metadata": {},
   "source": [
    "![](hw11_03.png)"
   ]
  },
  {
   "cell_type": "code",
   "execution_count": null,
   "metadata": {
    "collapsed": true
   },
   "outputs": [],
   "source": []
  }
 ],
 "metadata": {
  "kernelspec": {
   "display_name": "Python 2",
   "language": "python",
   "name": "python2"
  },
  "language_info": {
   "codemirror_mode": {
    "name": "ipython",
    "version": 2
   },
   "file_extension": ".py",
   "mimetype": "text/x-python",
   "name": "python",
   "nbconvert_exporter": "python",
   "pygments_lexer": "ipython2",
   "version": "2.7.11"
  }
 },
 "nbformat": 4,
 "nbformat_minor": 0
}
