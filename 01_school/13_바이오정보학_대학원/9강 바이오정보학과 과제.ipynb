{
 "cells": [
  {
   "cell_type": "markdown",
   "metadata": {},
   "source": [
    "# 9강 바이오정보학 과제\n",
    "\n",
    "\n",
    "### 학번 : 201685-010100\n",
    "### 이름 : 지용기 \n",
    "\n",
    "### 수업 내용을 따라, Human( homo sapiens )에서 MDM2 유전자의 Nucleotide 서열을 찾아내시오."
   ]
  },
  {
   "cell_type": "markdown",
   "metadata": {},
   "source": [
    "#### 01. NBCI 메인화면에서 MDM2입력하고 검색한 결과\n",
    "\n",
    "![](hw09_01.png)"
   ]
  },
  {
   "cell_type": "markdown",
   "metadata": {
    "collapsed": true
   },
   "source": [
    "#### 02. 검색결과에서 PubMed을 클릭하면, 논문 내용에 MDM2 단어가 검색이 되는 논문들의 리스트를 보여주고, 논문 초록 및 온라인 저널 자동 연결 서비스 제공함.\n",
    "\n",
    "![](hw09_02.png)"
   ]
  },
  {
   "cell_type": "markdown",
   "metadata": {},
   "source": [
    "#### 03. PubMed에서 첫번째로 나오는 논문을 클릭하면, 해당 논문의 제목과 초록을 볼 수 있는 화면을 보여줌.\n",
    "\n",
    "\n",
    "![](hw09_03.png)"
   ]
  },
  {
   "cell_type": "markdown",
   "metadata": {
    "collapsed": true
   },
   "source": [
    "#### 04. NBCI 결과에서 OMIM( Online Mendelian Inheritance in Man  ) 데이터베이스를 클릭하면, 사람에게 관련한 다양한 유전병과 그에 상관있는 유전자들의 정보를 볼 수 있음\n",
    "\n",
    "![](hw09_04.png)"
   ]
  },
  {
   "cell_type": "markdown",
   "metadata": {},
   "source": [
    "#### 05. OMIM의 결과화면에서 첫번째인 \"MOUSE DOUBLE MINUTE 2 HOMOLOG; MDM2\"을 클릭하면 상세정보를 볼 수 있는 화면이 나옴.\n",
    "\n",
    "![](hw09_05.png)"
   ]
  },
  {
   "cell_type": "markdown",
   "metadata": {},
   "source": [
    "#### 06. NBCI 결과에서 Nucleotide 데이터베이스를 클릭하면, DNA와 같은 nucleotide 서열정보를 보여줌. \n",
    "\n",
    "![](hw09_06.png)"
   ]
  },
  {
   "cell_type": "markdown",
   "metadata": {},
   "source": [
    "#### 07.  Nucleotide 검색결과에서  \"Homo sapiens isolate P2-MDM2-FL Mdm2 (mdm2) mRNA, partial cds\" 항목을 클릭하면, 서열 정보와 서열정보를 포함한 논문정보를 보여주고 있음\n",
    "\n",
    "![](hw09_07.png)"
   ]
  },
  {
   "cell_type": "markdown",
   "metadata": {},
   "source": [
    "#### 08. NBCI 결과에서 Structure 데이터베이스를 클릭하면,  단백질 3차원 구조에 대한 정보를 볼 수 있음.\n",
    "\n",
    "![](hw09_08.png)"
   ]
  },
  {
   "cell_type": "markdown",
   "metadata": {},
   "source": [
    "#### 09. Structure 결과화면에서 \"Crystal Structure of Human Mdm2\" 항목을 클릭하면 상세한 단백질 3차원 구조를 볼 수 있음\n",
    "\n",
    "![](hw09_09.png)"
   ]
  }
 ],
 "metadata": {
  "kernelspec": {
   "display_name": "R",
   "language": "R",
   "name": "ir"
  },
  "language_info": {
   "codemirror_mode": "r",
   "file_extension": ".r",
   "mimetype": "text/x-r-source",
   "name": "R",
   "pygments_lexer": "r",
   "version": "3.1.3"
  }
 },
 "nbformat": 4,
 "nbformat_minor": 0
}
