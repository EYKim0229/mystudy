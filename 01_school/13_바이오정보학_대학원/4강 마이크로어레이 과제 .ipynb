{
 "cells": [
  {
   "cell_type": "markdown",
   "metadata": {},
   "source": [
    "# 4강 마이크로어레이 과제 \n",
    "\n",
    "### 학번 : 201685-010100\n",
    "### 이름 : 지용기 \n",
    "\n",
    "### 4강의 동영상 강의와 위키피디아에서 \"DNA microarray\"의 내용 등을 참고하여 Microarray 기술을 활용해 얻을 수 있는 정보의 종류를 기술하고, 각 정보들을 활용하여 진행되고 있는 통계적 분석 방법들에 대해 기술하라. \n"
   ]
  },
  {
   "cell_type": "markdown",
   "metadata": {},
   "source": [
    "## 1. DNA microarray 란 무엇인가"
   ]
  },
  {
   "cell_type": "markdown",
   "metadata": {},
   "source": [
    "- 흔히 DNA칩 또는 바이오칩으로 알려져 있는 DNA 마이크로어레이(영어: DNA Microarray)는 매우 작은 DNA 조각들이 고체 표면에 집적된 것을 말한다. \n",
    "- 과학자들은 많은 양의 유전자의 발현 정도를 동시에 측정하거나 게놈의 다양한 부분의 유전자형을 파악하기 위해 사용한다. \n",
    "- 각 DNA 조각들은 탐침(유전자 검체)으로 알려진 특정 DNA 연속물의 피코몰(몰) 정도의 양을 포함하고 있다. \n",
    "- 이것들은 주로 유전자의 짧은 부분이거나 고 엄격성의 조건에서 cDNA나 cRNA 샘플을 잡종으로 만드는데 쓰이는 다른 DNA 요소이다.\n",
    "- 유전자 검출 패러다임의 전환\n",
    "    - DNA칩은 기존의 유전자 검출기법을 대규모로 집적하여 병렬화한 대량 획득 기법에 불과하다.\n",
    "    - 하지만, 중요한 패러다임 전환으로 유전자 연구를 유전체 전체로 확장하였다.\n",
    "    - 정성적 분석에서 정량적 분석으로 바꾸었으며, 고전적으로 화학적/정성적 방법론에 의존하는 생물학적 유전자 연구에 수리적/정량적 방법론이 도입됨을 의미한다.\n",
    "    \n",
    "- DNA칩 분류\n",
    "    - 검출용 뉴클레오타이드에 따른 분류\n",
    "        -  cDNA( 200 ~ 500 bp )칩과 올리고뉴클레오타이드( 15 ~ 100 bp )칩\n",
    "    - 제작 방법에 따른 분류\n",
    "        - 핀마이크로어레이나 잉크젯 등의 로봇 프린팅칩\n",
    "        - 반도체 제작 공정을 이용한 어피메트릭스 사의 광식각칩"
   ]
  },
  {
   "cell_type": "markdown",
   "metadata": {},
   "source": [
    "![](homework04_02.jpeg)"
   ]
  },
  {
   "cell_type": "markdown",
   "metadata": {},
   "source": [
    "## 2. Microarray 기술을 활용해 얻을 수 있는 정보의 종류"
   ]
  },
  {
   "cell_type": "markdown",
   "metadata": {},
   "source": [
    "- 단순하게 세포에 특정한 처치를 한 후, 조건 전후의 유전자 발현비율\n",
    "- 유전자 발현 비율을 이용해서 기능성 클러스터 분석\n",
    "- 클러스터 분석을 이용하여 미지의 유전자가 어떤 유전자들과 상관되어 있는가 하는 단초를 제시하여, 복잡한 관찰로부터 새로운 가설을 생성해냄으로써, 다음 실험을 설계하는 시간과 노력을 줄여준다."
   ]
  },
  {
   "cell_type": "markdown",
   "metadata": {},
   "source": [
    "## 3. 통계적 분석 방법"
   ]
  },
  {
   "cell_type": "markdown",
   "metadata": {},
   "source": [
    "### 클러스터 분석 ( clustering )\n",
    "- 클러스터 분석은 크게 계층적 클러스터링과 분할형 클러스터링으로 구분된다.\n",
    "![](homework04_03.jpeg)"
   ]
  },
  {
   "cell_type": "markdown",
   "metadata": {},
   "source": [
    "#### 01 계층적 클러스터 분석\n",
    "- spellman등은 계층적 클러스터링 분석을 사용하여 유전자 발현의 주기성을 분석하여 효모에서 세포분열 주기에 관여하는 유전자 800여 개를 새로 찾아냈다.\n",
    "- 이는 짝지은 유전자 발현 프로파일사이의 피어슨 상관계수( pearson correlction coefficient )를 구해서, 가까운 것끼리 묶어서 작은 클러스터를 만들고, 결합 역치를 조심씩 낮추어 가면서, 점점 더 큰 클러스터들로 묶어 올라가, 결국 전체를 하나의 수형도 구조로 만드는 매우 간단한 알고리즘이다.\n",
    "\n",
    "#### 02 분할형 클러스터 분석\n",
    "- 자료를 몇 개의 클러스터로 직접 분할한다.\n",
    "- Church 등은 K-mean클러스터 분석을 적용하였고,\n",
    "- Tamayo 등은 인공신경망 기법의 하나인 SOM( Self-Oragnizing Maps)으로 의미 있는 유전자 클러스터들을 찾을 수 있음을 제시했다."
   ]
  },
  {
   "cell_type": "markdown",
   "metadata": {},
   "source": [
    "###  분류분석( Classification )\n",
    "- 클러스터 분석은 인공지능분야에서는 비지도학습( unsupervised machine learning )으로 분류된다.\n",
    "- 복잡한 생명 현상에 대한 지식이 증가하면서, 지도학습( supervised machine learning )기법도 빠르고 성공적으로 기능유전체학 분야에 도입되고 있다.\n",
    "- 예를 들어 이미 클래스를 알고 있는 데이터를 기계학습 알고리즘으로 학습하여 새로운 증례가 암인지 정상인지를 예측할 수 있다.\n",
    "- 실제로 Golub 등은 백혈병의 두 아형, AML과 ALL을 유전자칩 실험 후 지도기계학습 방법으로 학습하면 매우 높은 적중률로 진단이 가능함을 증명하였다."
   ]
  },
  {
   "cell_type": "markdown",
   "metadata": {},
   "source": [
    "![](homework04_04.jpeg)"
   ]
  },
  {
   "cell_type": "markdown",
   "metadata": {},
   "source": [
    "###  Integrative analysis\n",
    "- 예를 들어, 퍼브진( PubGene, http://www.pubgene.org )은 텍스트 마이닝 기법을 활용하여 유전체 발현의 실험정보를 메드라인과 같은 문헌정보와 통합해 낸다.\n",
    "- 다양한 메타 데이터베이스가 개발되고 있으며 자연어처리 기법도 생명의료 분야의 문헌 및 데이터베이스로부터 유전자 조절 상호작용 네트워크를 재구성하는데 이용된다.\n"
   ]
  },
  {
   "cell_type": "markdown",
   "metadata": {},
   "source": [
    "![](homework04_05.jpeg)"
   ]
  },
  {
   "cell_type": "code",
   "execution_count": null,
   "metadata": {
    "collapsed": true
   },
   "outputs": [],
   "source": []
  }
 ],
 "metadata": {
  "kernelspec": {
   "display_name": "Python 2",
   "language": "python",
   "name": "python2"
  },
  "language_info": {
   "codemirror_mode": {
    "name": "ipython",
    "version": 2
   },
   "file_extension": ".py",
   "mimetype": "text/x-python",
   "name": "python",
   "nbconvert_exporter": "python",
   "pygments_lexer": "ipython2",
   "version": "2.7.11"
  }
 },
 "nbformat": 4,
 "nbformat_minor": 0
}
