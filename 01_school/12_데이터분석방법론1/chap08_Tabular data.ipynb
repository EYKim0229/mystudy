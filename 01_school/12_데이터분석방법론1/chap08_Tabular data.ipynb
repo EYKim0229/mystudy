{
 "cells": [
  {
   "cell_type": "markdown",
   "metadata": {},
   "source": [
    "# 8장 Tabular data"
   ]
  },
  {
   "cell_type": "markdown",
   "metadata": {},
   "source": [
    "- 이장의 학습목표\n",
    "    - 데이블형식으로 주어지는 데이터에 대한 분석 방법\n",
    "    - prop.test(), binom.test(), chisq.test(), fisher.test()\n",
    "    - 범주형 데이터에서 사용됨."
   ]
  },
  {
   "cell_type": "markdown",
   "metadata": {},
   "source": [
    "## 8.1 Single proportions"
   ]
  },
  {
   "cell_type": "markdown",
   "metadata": {},
   "source": [
    "- Single proportions( 단일비율 ) 검정은 시행 N 이고, 확률이 p인 이항분포을 기반으로 함.\n",
    "- N 이 크면(시행을 많이하면),  평균이 Np이고 분산이 Np(1-p)인 정규분포로 근사함. \n",
    "- 이항분포와 정규분포의 관계에 대한 실험 => [Galton Board  동영상](https://www.youtube.com/watch?v=AUSKTk9ENzg), [이미지](http://opfocus.org/index.php?topic=picture&v=13&s=2&p=2)\n",
    "\n",
    "- 표기법\n",
    "    - x : 시행을 N번 했을때 성공 횟수,    동전 던지기를 100번했을때 앞면이 나오는 횟수\n",
    "    - $ p_0 $ : 가설 검정할때의 성공확률\n",
    "- 평균이 0 이고, 분산이 1인 표준정규분포와  자유도가 1인 $ x^2 $ 분포로 근사적으로 변경 가능함.\n",
    "$$ u  =  \\frac{x - Np_0 } {  \\sqrt{ Np_0( 1 - p_0 ) }  }   $$"
   ]
  },
  {
   "cell_type": "markdown",
   "metadata": {},
   "source": [
    "#### prop.test()을 이용한 비율 검정\n",
    "- 램덤하게 뽑은 215명의 환자중에서 39명이 천식을 가지고 있다면, random patient는 천식을 가질 수 있는 확률이 0.15 인지 검정을 해보자."
   ]
  },
  {
   "cell_type": "code",
   "execution_count": 3,
   "metadata": {
    "collapsed": false
   },
   "outputs": [
    {
     "data": {
      "text/plain": [
       "\n",
       "\t1-sample proportions test with continuity correction\n",
       "\n",
       "data:  39 out of 215, null probability 0.15\n",
       "X-squared = 1.425, df = 1, p-value = 0.2326\n",
       "alternative hypothesis: true p is not equal to 0.15\n",
       "95 percent confidence interval:\n",
       " 0.1335937 0.2408799\n",
       "sample estimates:\n",
       "        p \n",
       "0.1813953 \n"
      ]
     },
     "execution_count": 3,
     "metadata": {},
     "output_type": "execute_result"
    },
    {
     "data": {
      "text/html": [
       "0.181395348837209"
      ],
      "text/latex": [
       "0.181395348837209"
      ],
      "text/markdown": [
       "0.181395348837209"
      ],
      "text/plain": [
       "[1] 0.1813953"
      ]
     },
     "execution_count": 3,
     "metadata": {},
     "output_type": "execute_result"
    }
   ],
   "source": [
    "prop.test( 39, 215, .15 )\n",
    "39 / 215"
   ]
  },
  {
   "cell_type": "markdown",
   "metadata": {},
   "source": [
    "- 검증 결과에 대한 해석을 해보자.~~"
   ]
  },
  {
   "cell_type": "markdown",
   "metadata": {},
   "source": [
    "#### binom.test()을 이용한 검정\n",
    "- 이항분포를 이용해서 검정하므로 정확한 검정결과를 얻을 수 있음.\n",
    "- 그러나, prop.test()가 단일비율 검정에 더 많이 사용함."
   ]
  },
  {
   "cell_type": "code",
   "execution_count": 4,
   "metadata": {
    "collapsed": false
   },
   "outputs": [
    {
     "data": {
      "text/plain": [
       "\n",
       "\tExact binomial test\n",
       "\n",
       "data:  39 and 215\n",
       "number of successes = 39, number of trials = 215, p-value = 0.2135\n",
       "alternative hypothesis: true probability of success is not equal to 0.15\n",
       "95 percent confidence interval:\n",
       " 0.1322842 0.2395223\n",
       "sample estimates:\n",
       "probability of success \n",
       "             0.1813953 \n"
      ]
     },
     "execution_count": 4,
     "metadata": {},
     "output_type": "execute_result"
    }
   ],
   "source": [
    "binom.test(39,215,.15)"
   ]
  },
  {
   "cell_type": "markdown",
   "metadata": {},
   "source": [
    "- p-value가 prop.test()의 결과와 좀 다름."
   ]
  },
  {
   "cell_type": "markdown",
   "metadata": {},
   "source": [
    "## 8.2 Two independent proportions"
   ]
  },
  {
   "cell_type": "markdown",
   "metadata": {},
   "source": [
    "- 2개 이상의 비율을 비교할때는 prop.test()함수를 사용함.\n",
    "- 이때, 2개의 vector를 인자로 주고, 첫번째는 성공횟수 vector, 두번째는 시행회수 vector임.\n",
    "- Number of positive outcomes = (𝒙𝟏,𝒙𝟐) , \n",
    "  total number = (𝑵𝟏,𝑵𝟐) \n",
    "  Hypothesis 𝑷𝟏=𝑷𝟐\n",
    "\n",
    "- 표준정규분포와 카이제곱분포로 근사하는 방법\n",
    "![](https://upload.wikimedia.org/math/0/b/7/0b7491a8614d7808364b5a3fec9e8033.png)\n",
    "![](https://upload.wikimedia.org/math/b/6/b/b6b322a96b890d51c23efb952a74d1a7.png)"
   ]
  },
  {
   "cell_type": "code",
   "execution_count": 6,
   "metadata": {
    "collapsed": false
   },
   "outputs": [
    {
     "data": {
      "text/plain": [
       "\n",
       "\t2-sample test for equality of proportions with continuity correction\n",
       "\n",
       "data:  lewitt.machin.success out of lewitt.machin.total\n",
       "X-squared = 3.2793, df = 1, p-value = 0.07016\n",
       "alternative hypothesis: two.sided\n",
       "95 percent confidence interval:\n",
       " 0.01151032 0.87310506\n",
       "sample estimates:\n",
       "   prop 1    prop 2 \n",
       "0.7500000 0.3076923 \n"
      ]
     },
     "execution_count": 6,
     "metadata": {},
     "output_type": "execute_result"
    }
   ],
   "source": [
    "lewitt.machin.success <- c(9,4)\n",
    "lewitt.machin.total <- c(12,13)\n",
    "prop.test(lewitt.machin.success,lewitt.machin.total)"
   ]
  },
  {
   "cell_type": "markdown",
   "metadata": {},
   "source": [
    "- 검증 결과에 대한 해석을 해보자.~~\n",
    "- 결과로 나오는 confidence interval은 비율들의 차이에 대한 값임."
   ]
  },
  {
   "cell_type": "markdown",
   "metadata": {},
   "source": [
    "#### chisq.test() \n",
    "- prop.test()와 으로 p-value이 정확히 일치함.\n",
    "- 2 × 2 table 데이터를 주어줌."
   ]
  },
  {
   "cell_type": "code",
   "execution_count": 7,
   "metadata": {
    "collapsed": false
   },
   "outputs": [
    {
     "data": {
      "text/html": [
       "<table>\n",
       "<tbody>\n",
       "\t<tr><td>9</td><td>3</td></tr>\n",
       "\t<tr><td>4</td><td>9</td></tr>\n",
       "</tbody>\n",
       "</table>\n"
      ],
      "text/latex": [
       "\\begin{tabular}{ll}\n",
       "\t 9 & 3\\\\\n",
       "\t 4 & 9\\\\\n",
       "\\end{tabular}\n"
      ],
      "text/markdown": [
       "1. 9\n",
       "2. 4\n",
       "3. 3\n",
       "4. 9\n",
       "\n",
       "\n"
      ],
      "text/plain": [
       "     [,1] [,2]\n",
       "[1,]    9    3\n",
       "[2,]    4    9"
      ]
     },
     "execution_count": 7,
     "metadata": {},
     "output_type": "execute_result"
    }
   ],
   "source": [
    "matrix(c(9,4,3,9),2)"
   ]
  },
  {
   "cell_type": "code",
   "execution_count": 1,
   "metadata": {
    "collapsed": false
   },
   "outputs": [
    {
     "data": {
      "text/plain": [
       "\n",
       "\tPearson's Chi-squared test with Yates' continuity correction\n",
       "\n",
       "data:  lewitt.machin\n",
       "X-squared = 3.2793, df = 1, p-value = 0.07016\n"
      ]
     },
     "execution_count": 1,
     "metadata": {},
     "output_type": "execute_result"
    }
   ],
   "source": [
    "lewitt.machin <- matrix(c(9,4,3,9),2)\n",
    "chisq.test(lewitt.machin)"
   ]
  },
  {
   "cell_type": "markdown",
   "metadata": {},
   "source": [
    "## 8.4 𝑟 × 𝑐 tables"
   ]
  },
  {
   "cell_type": "markdown",
   "metadata": {},
   "source": [
    "- 2그룹 이상에서 2가지 경우에 대해서는 chisq.test()으로 검정이 가능\n",
    "- 3그룹 이상에서 3가지 경우 이상일때는 ??\n",
    "\n",
    "![](chap08_01.png)\n",
    "\n",
    "$$  E_{ij} = \\frac{n_{i.} × n_{.j} }  {  n_{..} } $$ \n",
    "\n",
    "\n",
    "- 결혼 상태에 따른 카페인 소비에 영향이 있는지 검정해보자."
   ]
  },
  {
   "cell_type": "code",
   "execution_count": 2,
   "metadata": {
    "collapsed": false
   },
   "outputs": [
    {
     "data": {
      "text/html": [
       "<table>\n",
       "<thead><tr><th></th><th scope=col>0</th><th scope=col>1-150</th><th scope=col>151-300</th><th scope=col>>300</th></tr></thead>\n",
       "<tbody>\n",
       "\t<tr><th scope=row>Married</th><td> 652</td><td>1537</td><td> 598</td><td> 242</td></tr>\n",
       "\t<tr><th scope=row>Prev.married</th><td>36</td><td>46</td><td>38</td><td>21</td></tr>\n",
       "\t<tr><th scope=row>Single</th><td>218</td><td>327</td><td>106</td><td> 67</td></tr>\n",
       "</tbody>\n",
       "</table>\n"
      ],
      "text/latex": [
       "\\begin{tabular}{r|llll}\n",
       "  & 0 & 1-150 & 151-300 & >300\\\\\n",
       "\\hline\n",
       "\tMarried &  652 & 1537 &  598 &  242\\\\\n",
       "\tPrev.married & 36 & 46 & 38 & 21\\\\\n",
       "\tSingle & 218 & 327 & 106 &  67\\\\\n",
       "\\end{tabular}\n"
      ],
      "text/markdown": [
       "1. 652\n",
       "2. 36\n",
       "3. 218\n",
       "4. 1537\n",
       "5. 46\n",
       "6. 327\n",
       "7. 598\n",
       "8. 38\n",
       "9. 106\n",
       "10. 242\n",
       "11. 21\n",
       "12. 67\n",
       "\n",
       "\n"
      ],
      "text/plain": [
       "               0 1-150 151-300 >300\n",
       "Married      652  1537     598  242\n",
       "Prev.married  36    46      38   21\n",
       "Single       218   327     106   67"
      ]
     },
     "execution_count": 2,
     "metadata": {},
     "output_type": "execute_result"
    }
   ],
   "source": [
    "caff.marital <- matrix(c(652,1537,598,242,36,46,38,21,218 ,327,106,67), nrow=3,byrow=T)\n",
    "colnames(caff.marital) <- c(\"0\",\"1-150\",\"151-300\",\">300\")\n",
    "rownames(caff.marital) <- c(\"Married\",\"Prev.married\",\"Single\")\n",
    "caff.marital"
   ]
  },
  {
   "cell_type": "code",
   "execution_count": 3,
   "metadata": {
    "collapsed": false
   },
   "outputs": [
    {
     "data": {
      "text/plain": [
       "\n",
       "\tPearson's Chi-squared test\n",
       "\n",
       "data:  caff.marital\n",
       "X-squared = 51.656, df = 6, p-value = 2.187e-09\n"
      ]
     },
     "execution_count": 3,
     "metadata": {},
     "output_type": "execute_result"
    }
   ],
   "source": [
    "chisq.test(caff.marital)"
   ]
  },
  {
   "cell_type": "markdown",
   "metadata": {},
   "source": [
    "- 검정결과 매우 유의하다고 나와서 독립이다는 가정이 모순된다고 결론을 내릴 수 있음.\n",
    "- 결혼 상태에 따라서 카페인 소비량이 같다는 귀무가설을 기각하고, 결혼 상태에 따라서 카페인 소비량이 다름."
   ]
  },
  {
   "cell_type": "code",
   "execution_count": 11,
   "metadata": {
    "collapsed": false
   },
   "outputs": [
    {
     "data": {
      "text/html": [
       "<table>\n",
       "<thead><tr><th></th><th scope=col>0</th><th scope=col>1-150</th><th scope=col>151-300</th><th scope=col>>300</th></tr></thead>\n",
       "<tbody>\n",
       "\t<tr><th scope=row>Married</th><td> 705.8318</td><td>1488.0118</td><td> 578.0653</td><td> 257.0910</td></tr>\n",
       "\t<tr><th scope=row>Prev.married</th><td>32.85648</td><td>69.26698</td><td>26.90895</td><td>11.96759</td></tr>\n",
       "\t<tr><th scope=row>Single</th><td>167.31173</td><td>352.72119</td><td>137.02572</td><td> 60.94136</td></tr>\n",
       "</tbody>\n",
       "</table>\n"
      ],
      "text/latex": [
       "\\begin{tabular}{r|llll}\n",
       "  & 0 & 1-150 & 151-300 & >300\\\\\n",
       "\\hline\n",
       "\tMarried &  705.8318 & 1488.0118 &  578.0653 &  257.0910\\\\\n",
       "\tPrev.married & 32.85648 & 69.26698 & 26.90895 & 11.96759\\\\\n",
       "\tSingle & 167.31173 & 352.72119 & 137.02572 &  60.94136\\\\\n",
       "\\end{tabular}\n"
      ],
      "text/markdown": [
       "1. 705.831790123457\n",
       "2. 32.8564814814815\n",
       "3. 167.311728395062\n",
       "4. 1488.01183127572\n",
       "5. 69.266975308642\n",
       "6. 352.721193415638\n",
       "7. 578.065329218107\n",
       "8. 26.9089506172839\n",
       "9. 137.025720164609\n",
       "10. 257.091049382716\n",
       "11. 11.9675925925926\n",
       "12. 60.9413580246914\n",
       "\n",
       "\n"
      ],
      "text/plain": [
       "                     0      1-150   151-300      >300\n",
       "Married      705.83179 1488.01183 578.06533 257.09105\n",
       "Prev.married  32.85648   69.26698  26.90895  11.96759\n",
       "Single       167.31173  352.72119 137.02572  60.94136"
      ]
     },
     "execution_count": 11,
     "metadata": {},
     "output_type": "execute_result"
    },
    {
     "data": {
      "text/html": [
       "<table>\n",
       "<thead><tr><th></th><th scope=col>0</th><th scope=col>1-150</th><th scope=col>151-300</th><th scope=col>>300</th></tr></thead>\n",
       "<tbody>\n",
       "\t<tr><th scope=row>Married</th><td> 652</td><td>1537</td><td> 598</td><td> 242</td></tr>\n",
       "\t<tr><th scope=row>Prev.married</th><td>36</td><td>46</td><td>38</td><td>21</td></tr>\n",
       "\t<tr><th scope=row>Single</th><td>218</td><td>327</td><td>106</td><td> 67</td></tr>\n",
       "</tbody>\n",
       "</table>\n"
      ],
      "text/latex": [
       "\\begin{tabular}{r|llll}\n",
       "  & 0 & 1-150 & 151-300 & >300\\\\\n",
       "\\hline\n",
       "\tMarried &  652 & 1537 &  598 &  242\\\\\n",
       "\tPrev.married & 36 & 46 & 38 & 21\\\\\n",
       "\tSingle & 218 & 327 & 106 &  67\\\\\n",
       "\\end{tabular}\n"
      ],
      "text/markdown": [
       "1. 652\n",
       "2. 36\n",
       "3. 218\n",
       "4. 1537\n",
       "5. 46\n",
       "6. 327\n",
       "7. 598\n",
       "8. 38\n",
       "9. 106\n",
       "10. 242\n",
       "11. 21\n",
       "12. 67\n",
       "\n",
       "\n"
      ],
      "text/plain": [
       "               0 1-150 151-300 >300\n",
       "Married      652  1537     598  242\n",
       "Prev.married  36    46      38   21\n",
       "Single       218   327     106   67"
      ]
     },
     "execution_count": 11,
     "metadata": {},
     "output_type": "execute_result"
    }
   ],
   "source": [
    "chisq.test(caff.marital)$expected\n",
    "chisq.test(caff.marital)$observed"
   ]
  },
  {
   "cell_type": "code",
   "execution_count": 7,
   "metadata": {
    "collapsed": false
   },
   "outputs": [
    {
     "data": {
      "text/html": [
       "<table>\n",
       "<thead><tr><th></th><th scope=col>0</th><th scope=col>1-150</th><th scope=col>151-300</th><th scope=col>>300</th></tr></thead>\n",
       "<tbody>\n",
       "\t<tr><th scope=row>Married</th><td>4.1055981</td><td>1.6127833</td><td>0.6874502</td><td>0.8858331</td></tr>\n",
       "\t<tr><th scope=row>Prev.married</th><td>0.3007537</td><td>7.8154436</td><td>4.5713926</td><td>6.8171090</td></tr>\n",
       "\t<tr><th scope=row>Single</th><td>15.3563704</td><td> 1.8756451</td><td> 7.0249243</td><td> 0.6023355</td></tr>\n",
       "</tbody>\n",
       "</table>\n"
      ],
      "text/latex": [
       "\\begin{tabular}{r|llll}\n",
       "  & 0 & 1-150 & 151-300 & >300\\\\\n",
       "\\hline\n",
       "\tMarried & 4.1055981 & 1.6127833 & 0.6874502 & 0.8858331\\\\\n",
       "\tPrev.married & 0.3007537 & 7.8154436 & 4.5713926 & 6.8171090\\\\\n",
       "\tSingle & 15.3563704 &  1.8756451 &  7.0249243 &  0.6023355\\\\\n",
       "\\end{tabular}\n"
      ],
      "text/markdown": [
       "1. 4.10559805954481\n",
       "2. 0.300753709183327\n",
       "3. 15.3563704286724\n",
       "4. 1.61278332908217\n",
       "5. 7.81544361653994\n",
       "6. 1.87564513580295\n",
       "7. 0.687450153289719\n",
       "8. 4.57139255110284\n",
       "9. 7.02492430308896\n",
       "10. 0.885833139731566\n",
       "11. 6.81710903359839\n",
       "12. 0.602335487340129\n",
       "\n",
       "\n"
      ],
      "text/plain": [
       "                      0    1-150   151-300      >300\n",
       "Married       4.1055981 1.612783 0.6874502 0.8858331\n",
       "Prev.married  0.3007537 7.815444 4.5713926 6.8171090\n",
       "Single       15.3563704 1.875645 7.0249243 0.6023355"
      ]
     },
     "execution_count": 7,
     "metadata": {},
     "output_type": "execute_result"
    }
   ],
   "source": [
    "E <- chisq.test(caff.marital)$expected\n",
    "O <- chisq.test(caff.marital)$observed\n",
    "(O-E)^2/E"
   ]
  },
  {
   "cell_type": "markdown",
   "metadata": {},
   "source": [
    "- 여기에서 결혼전에는 커피를 안 마시는 사람이 많다가 결혼하면 낮아지고, 이혼하면 더 낮아지는 것을 확인할 수 있음.\n",
    "- 결혼하면 스트레스가 쌓이고, 이혼하면 더 스트레스 ???\n",
    "\n",
    "\n",
    "#### chisq.test()함수는 raw (untabulated) 데이터를 바로 사용할 수 있음."
   ]
  },
  {
   "cell_type": "code",
   "execution_count": 10,
   "metadata": {
    "collapsed": false
   },
   "outputs": [
    {
     "name": "stderr",
     "output_type": "stream",
     "text": [
      "The following objects are masked from juul (pos = 3):\n",
      "\n",
      "    age, igf1, menarche, sex, tanner, testvol\n",
      "\n"
     ]
    },
    {
     "data": {
      "text/plain": [
       "      age            menarche          sex             igf1      \n",
       " Min.   : 0.170   Min.   :1.000   Min.   :1.000   Min.   : 25.0  \n",
       " 1st Qu.: 9.053   1st Qu.:1.000   1st Qu.:1.000   1st Qu.:202.2  \n",
       " Median :12.560   Median :1.000   Median :2.000   Median :313.5  \n",
       " Mean   :15.095   Mean   :1.476   Mean   :1.534   Mean   :340.2  \n",
       " 3rd Qu.:16.855   3rd Qu.:2.000   3rd Qu.:2.000   3rd Qu.:462.8  \n",
       " Max.   :83.000   Max.   :2.000   Max.   :2.000   Max.   :915.0  \n",
       " NA's   :5        NA's   :635     NA's   :5       NA's   :321    \n",
       "     tanner        testvol      \n",
       " Min.   :1.00   Min.   : 1.000  \n",
       " 1st Qu.:1.00   1st Qu.: 1.000  \n",
       " Median :2.00   Median : 3.000  \n",
       " Mean   :2.64   Mean   : 7.896  \n",
       " 3rd Qu.:5.00   3rd Qu.:15.000  \n",
       " Max.   :5.00   Max.   :30.000  \n",
       " NA's   :240    NA's   :859     "
      ]
     },
     "execution_count": 10,
     "metadata": {},
     "output_type": "execute_result"
    },
    {
     "data": {
      "text/html": [
       "<table>\n",
       "<thead><tr><th></th><th scope=col>age</th><th scope=col>menarche</th><th scope=col>sex</th><th scope=col>igf1</th><th scope=col>tanner</th><th scope=col>testvol</th></tr></thead>\n",
       "<tbody>\n",
       "\t<tr><th scope=row>1</th><td>NA</td><td>NA</td><td>NA</td><td>90</td><td>NA</td><td>NA</td></tr>\n",
       "\t<tr><th scope=row>2</th><td>NA</td><td>NA</td><td>NA</td><td>88</td><td>NA</td><td>NA</td></tr>\n",
       "\t<tr><th scope=row>3</th><td>NA</td><td>NA</td><td>NA</td><td>164</td><td>NA</td><td>NA</td></tr>\n",
       "\t<tr><th scope=row>4</th><td>NA</td><td>NA</td><td>NA</td><td>166</td><td>NA</td><td>NA</td></tr>\n",
       "\t<tr><th scope=row>5</th><td>NA</td><td>NA</td><td>NA</td><td>131</td><td>NA</td><td>NA</td></tr>\n",
       "\t<tr><th scope=row>6</th><td>0.17</td><td>NA</td><td>1</td><td>101</td><td>1</td><td>NA</td></tr>\n",
       "</tbody>\n",
       "</table>\n"
      ],
      "text/latex": [
       "\\begin{tabular}{r|llllll}\n",
       "  & age & menarche & sex & igf1 & tanner & testvol\\\\\n",
       "\\hline\n",
       "\t1 & NA & NA & NA & 90 & NA & NA\\\\\n",
       "\t2 & NA & NA & NA & 88 & NA & NA\\\\\n",
       "\t3 & NA & NA & NA & 164 & NA & NA\\\\\n",
       "\t4 & NA & NA & NA & 166 & NA & NA\\\\\n",
       "\t5 & NA & NA & NA & 131 & NA & NA\\\\\n",
       "\t6 & 0.17 & NA & 1 & 101 & 1 & NA\\\\\n",
       "\\end{tabular}\n"
      ],
      "text/plain": [
       "   age menarche sex igf1 tanner testvol\n",
       "1   NA       NA  NA   90     NA      NA\n",
       "2   NA       NA  NA   88     NA      NA\n",
       "3   NA       NA  NA  164     NA      NA\n",
       "4   NA       NA  NA  166     NA      NA\n",
       "5   NA       NA  NA  131     NA      NA\n",
       "6 0.17       NA   1  101      1      NA"
      ]
     },
     "execution_count": 10,
     "metadata": {},
     "output_type": "execute_result"
    },
    {
     "data": {
      "text/plain": [
       "\n",
       "\tPearson's Chi-squared test\n",
       "\n",
       "data:  tanner and sex\n",
       "X-squared = 28.867, df = 4, p-value = 8.318e-06\n"
      ]
     },
     "execution_count": 10,
     "metadata": {},
     "output_type": "execute_result"
    }
   ],
   "source": [
    "library(ISwR)\n",
    "attach(juul)\n",
    "summary( juul )\n",
    "head ( juul )\n",
    "chisq.test(tanner,sex)"
   ]
  },
  {
   "cell_type": "code",
   "execution_count": null,
   "metadata": {
    "collapsed": true
   },
   "outputs": [],
   "source": []
  }
 ],
 "metadata": {
  "kernelspec": {
   "display_name": "R",
   "language": "R",
   "name": "ir"
  },
  "language_info": {
   "codemirror_mode": "r",
   "file_extension": ".r",
   "mimetype": "text/x-r-source",
   "name": "R",
   "pygments_lexer": "r",
   "version": "3.1.3"
  }
 },
 "nbformat": 4,
 "nbformat_minor": 0
}
