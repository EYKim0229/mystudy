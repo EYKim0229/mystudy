{
 "cells": [
  {
   "cell_type": "markdown",
   "metadata": {},
   "source": [
    "# 데이터마이닝- 중간 과제 01\n",
    "\n",
    "### 학    번 : 201685-010100\n",
    "###  성    명 : 지 용 기\n",
    "###  연 락 처 : 010-9828-0332, braveji@hanmail.net\n",
    "---"
   ]
  },
  {
   "cell_type": "markdown",
   "metadata": {},
   "source": [
    "## 4강 연습문제"
   ]
  },
  {
   "cell_type": "markdown",
   "metadata": {},
   "source": [
    "### 4-1 아래의 거래 자료에 대하여 답하라.\n",
    "\n",
    "\n",
    "|   거래    |     품목                                                                                      | \n",
    "| ---------|----------------------------------------------\n",
    "|     1    | 소주, 맥주, 와인\n",
    "|     2    | 소주, 콜라, 와인\n",
    "|     3    | 소주, 오렌지주스, 콜라\n",
    "|     4    | 콜라, 맥주, 와인\n",
    "|     5    | 소주, 콜라, 맥주\n",
    "|     6    | 오렌지주스, 와인"
   ]
  },
  {
   "cell_type": "markdown",
   "metadata": {},
   "source": [
    "#### 1) 연관규칙 \"와인->오렌지주스\"에 대한 지지율을 구하라.\n",
    "\n",
    "- 지지율( support )는 두 품목의 동시 구매가 얼마나 자주 일어나는가? 이며,\n",
    "- 지지율, P( A ∩ B )  = (품목A와 B) / (  전체 거래수  )\n",
    "- 전체 거래수 = 6\n",
    "- 품목 A와 품목 B의 거래수 = 1\n",
    "- 지지율 =  1 / 6 = 0.16"
   ]
  },
  {
   "cell_type": "code",
   "execution_count": 4,
   "metadata": {
    "collapsed": false
   },
   "outputs": [
    {
     "data": {
      "text/plain": [
       "0.16666666666666666"
      ]
     },
     "execution_count": 4,
     "metadata": {},
     "output_type": "execute_result"
    }
   ],
   "source": [
    "1.0 / 6.0"
   ]
  },
  {
   "cell_type": "markdown",
   "metadata": {},
   "source": [
    "#### 2) 연관규칙 \"와인->오렌지주스\"에 대한 신뢰도을 구하라.\n",
    "\n",
    "- 신뢰도( Confidence )는 품목A가 구매되었을때 품목 B가 추가로 구매될 확률 \n",
    "- P( B | A )  =  P( A ∩ B )  / P( A )\n",
    "- P( 와인 ) =  와인 거래수  / 전체 거래수 = 4/5 \n",
    "- P( 와인 ∩ 오렌지주스 ) = 1/6 \n",
    "- P( 오렌지주스 | 와인 ) = (1/6) / ( 4/5 ) = 0.208"
   ]
  },
  {
   "cell_type": "code",
   "execution_count": 5,
   "metadata": {
    "collapsed": false
   },
   "outputs": [
    {
     "data": {
      "text/plain": [
       "0.20833333333333331"
      ]
     },
     "execution_count": 5,
     "metadata": {},
     "output_type": "execute_result"
    }
   ],
   "source": [
    "(1.0/6.0) / ( 4.0/5.0 )"
   ]
  },
  {
   "cell_type": "markdown",
   "metadata": {},
   "source": [
    "#### 3) 연관규칙 \"와인->오렌지주스\"에 대한 향상도을 구하라.\n",
    "\n",
    "- 향상도( Lift )는 A -> B의 신뢰도를 독립 가정하에서의 신뢰도인 B를 포함한 거래비율로 나눈 것 \n",
    "- L( A -> B ) = P ( B | A ) / P ( B ) =  P( A  ∩ B ) / P(A)P(B)  \n",
    "  = ( 품목A, B를 동시에 포함한 거래수 X 전체거래수 )  / ( 품목A 포함 거래수  X 품목B 포함 거래수 ) \n",
    "- L( 와인 -> 오렌지주스 ) = ( 1.0 * 6.0 ) / ( 4.0 * 2.0 ) = 0.75"
   ]
  },
  {
   "cell_type": "code",
   "execution_count": 6,
   "metadata": {
    "collapsed": false
   },
   "outputs": [
    {
     "data": {
      "text/plain": [
       "0.75"
      ]
     },
     "execution_count": 6,
     "metadata": {},
     "output_type": "execute_result"
    }
   ],
   "source": [
    "( 1.0 * 6.0 ) / ( 4.0 * 2.0 ) "
   ]
  },
  {
   "cell_type": "markdown",
   "metadata": {},
   "source": [
    "#### 4) 와인과 오랜지주스의 상관관계는 어떻다고 할 수 있는가?\n",
    "\n",
    "- L( A -> B )값이 1보다 작으므로 음의 연관관계가 있다고 할 수 있음.\n",
    "- 와인을 싸면 오렌지주스를 사지 않음"
   ]
  },
  {
   "cell_type": "markdown",
   "metadata": {},
   "source": [
    "#### 5) 연관규칙 \"와인->오렌지주스\"를 알고 있다면, 연관규칙을 모를 때보다 효율이 얼마나 증가하는가?\n",
    "\n",
    "- 와인과 오렌지주스를 떨어뜨리므로 효율을 25% 증가시킬 수 있음"
   ]
  },
  {
   "cell_type": "markdown",
   "metadata": {},
   "source": [
    "### 4-2 최근 일주일 동안 어느 도시에서 발생한 교통사고에 대해서 당시의 날씨, 운전자의 음주여부, 신호위반, 안전벨트 착용여부, 사고의 중대성 등을 조사한 데이터가 다음과 같다. \n",
    "\n",
    "![](01_01.jpg)"
   ]
  },
  {
   "cell_type": "markdown",
   "metadata": {},
   "source": [
    "#### 1) 나이를 20대, 30대, 40대로 구분한 후 데이터집합을 이항데이터로 변환하라."
   ]
  },
  {
   "cell_type": "markdown",
   "metadata": {},
   "source": [
    "```\n",
    "20,좋음,음주,과속,착용,증상\n",
    "30,흐림,정상,없음,비착용,경상\n",
    "40,비,정상,신호위반,착용,경상\n",
    "30,좋음,정상,정상,착용,경상\n",
    "20,안개,음주,신호위반,비착용,증상\n",
    "30,좋음,정상,과속,착용,경상\n",
    "40,비,정상,정상,착용,경상\n",
    "50,좋음,정상,정상,비착용,경상\n",
    "20,안개,음주,신호위반,착용,중상\n",
    "20,좋음,정상,과속,착용,중상\n",
    "30,좋음,음주,과속,착용,중상\n",
    "20,비,정상,신호위반,착용,중상\n",
    "```"
   ]
  },
  {
   "cell_type": "markdown",
   "metadata": {},
   "source": [
    "#### 2)  최소지지도 기준을 30%로 하였을때, 연관규칙을 찾아라."
   ]
  },
  {
   "cell_type": "code",
   "execution_count": 1,
   "metadata": {
    "collapsed": false
   },
   "outputs": [
    {
     "name": "stdout",
     "output_type": "stream",
     "text": [
      "package 'arules' successfully unpacked and MD5 sums checked\n",
      "\n",
      "The downloaded binary packages are in\n",
      "\tC:\\Users\\Y.G JI\\AppData\\Local\\Temp\\RtmpovCYFX\\downloaded_packages\n"
     ]
    }
   ],
   "source": [
    "install.packages('arules',  repos=\"http://cran.nexr.com/\"  )"
   ]
  },
  {
   "cell_type": "code",
   "execution_count": 6,
   "metadata": {
    "collapsed": false
   },
   "outputs": [
    {
     "name": "stderr",
     "output_type": "stream",
     "text": [
      "Loading required package: Matrix\n",
      "\n",
      "Attaching package: 'arules'\n",
      "\n",
      "The following objects are masked from 'package:base':\n",
      "\n",
      "    abbreviate, write\n",
      "\n"
     ]
    }
   ],
   "source": [
    "library(arules)"
   ]
  },
  {
   "cell_type": "code",
   "execution_count": 11,
   "metadata": {
    "collapsed": false
   },
   "outputs": [
    {
     "name": "stderr",
     "output_type": "stream",
     "text": [
      "Warning message:\n",
      "In asMethod(object): removing duplicated items in transactions"
     ]
    },
    {
     "data": {
      "text/html": [
       "<table>\n",
       "<thead><tr><th></th><th scope=col>items</th></tr></thead>\n",
       "<tbody>\n",
       "\t<tr><th scope=row>1</th><td>{20,과속,음주,좋음,증상,착용}</td></tr>\n",
       "\t<tr><th scope=row>2</th><td>{30,비착용,경상,없음,정상,흐림}</td></tr>\n",
       "\t<tr><th scope=row>3</th><td>{40,경상,비,정상,신호위반,착용}</td></tr>\n",
       "\t<tr><th scope=row>4</th><td>{30,경상,정상,좋음,착용}</td></tr>\n",
       "\t<tr><th scope=row>5</th><td>{20,비착용,증상,신호위반,안개,음주}</td></tr>\n",
       "\t<tr><th scope=row>6</th><td>{30,경상,과속,정상,좋음,착용}</td></tr>\n",
       "\t<tr><th scope=row>7</th><td>{40,경상,비,정상,정상,착용}</td></tr>\n",
       "\t<tr><th scope=row>8</th><td>{50,비착용,경상,정상,좋음}</td></tr>\n",
       "\t<tr><th scope=row>9</th><td>{20,신호위반,안개,음주,중상,착용}</td></tr>\n",
       "\t<tr><th scope=row>10</th><td>{20,과속,정상,좋음,중상,착용}</td></tr>\n",
       "\t<tr><th scope=row>11</th><td>{30,과속,음주,좋음,중상,착용}</td></tr>\n",
       "\t<tr><th scope=row>12</th><td>{20,비,정상,신호위반,중상,착용}</td></tr>\n",
       "</tbody>\n",
       "</table>\n"
      ],
      "text/latex": [
       "\\begin{tabular}{r|l}\n",
       "  & items\\\\\n",
       "\\hline\n",
       "\t1 & {20,과속,음주,좋음,증상,착용}\\\\\n",
       "\t2 & {30,비착용,경상,없음,정상,흐림}\\\\\n",
       "\t3 & {40,경상,비,정상,신호위반,착용}\\\\\n",
       "\t4 & {30,경상,정상,좋음,착용}\\\\\n",
       "\t5 & {20,비착용,증상,신호위반,안개,음주}\\\\\n",
       "\t6 & {30,경상,과속,정상,좋음,착용}\\\\\n",
       "\t7 & {40,경상,비,정상,정상,착용}\\\\\n",
       "\t8 & {50,비착용,경상,정상,좋음}\\\\\n",
       "\t9 & {20,신호위반,안개,음주,중상,착용}\\\\\n",
       "\t10 & {20,과속,정상,좋음,중상,착용}\\\\\n",
       "\t11 & {30,과속,음주,좋음,중상,착용}\\\\\n",
       "\t12 & {20,비,정상,신호위반,중상,착용}\\\\\n",
       "\\end{tabular}\n"
      ],
      "text/plain": [
       "                                 items\n",
       "1        {20,과속,음주,좋음,증상,착용}\n",
       "2      {30,비착용,경상,없음,정상,흐림}\n",
       "3      {40,경상,비,정상,신호위반,착용}\n",
       "4             {30,경상,정상,좋음,착용}\n",
       "5  {20,비착용,증상,신호위반,안개,음주}\n",
       "6        {30,경상,과속,정상,좋음,착용}\n",
       "7          {40,경상,비,정상,정상,착용}\n",
       "8           {50,비착용,경상,정상,좋음}\n",
       "9    {20,신호위반,안개,음주,중상,착용}\n",
       "10       {20,과속,정상,좋음,중상,착용}\n",
       "11       {30,과속,음주,좋음,중상,착용}\n",
       "12     {20,비,정상,신호위반,중상,착용}"
      ]
     },
     "execution_count": 11,
     "metadata": {},
     "output_type": "execute_result"
    }
   ],
   "source": [
    "tr01 <- read.transactions('trans01.txt', format='basket', sep=',')\n",
    "as( tr01, 'data.frame')"
   ]
  },
  {
   "cell_type": "code",
   "execution_count": 13,
   "metadata": {
    "collapsed": false
   },
   "outputs": [
    {
     "name": "stdout",
     "output_type": "stream",
     "text": [
      "Apriori\n",
      "\n",
      "Parameter specification:\n",
      " confidence minval smax arem  aval originalSupport support minlen maxlen target\n",
      "        0.8    0.1    1 none FALSE            TRUE     0.3      1     10  rules\n",
      "   ext\n",
      " FALSE\n",
      "\n",
      "Algorithmic control:\n",
      " filter tree heap memopt load sort verbose\n",
      "    0.1 TRUE TRUE  FALSE TRUE    2    TRUE\n",
      "\n",
      "Absolute minimum support count: 3 \n",
      "\n",
      "set item appearances ...[0 item(s)] done [0.00s].\n",
      "set transactions ...[19 item(s), 12 transaction(s)] done [0.00s].\n",
      "sorting and recoding items ... [10 item(s)] done [0.00s].\n",
      "creating transaction tree ... done [0.00s].\n",
      "checking subsets of size 1 2 3 done [0.00s].\n",
      "writing ... [9 rule(s)] done [0.00s].\n",
      "creating S4 object  ... done [0.00s].\n",
      "  lhs            rhs    support   confidence lift    \n",
      "1 {경상}      => {착용} 0.3333333 1.0000000  1.333333\n",
      "2 {중상}      => {착용} 0.3333333 1.0000000  1.333333\n",
      "3 {과속}      => {좋음} 0.3333333 1.0000000  2.000000\n",
      "4 {과속}      => {착용} 0.3333333 1.0000000  1.333333\n",
      "5 {20}        => {착용} 0.3333333 0.8000000  1.066667\n",
      "6 {좋음}      => {착용} 0.4166667 0.8333333  1.111111\n",
      "7 {과속,좋음} => {착용} 0.3333333 1.0000000  1.333333\n",
      "8 {과속,착용} => {좋음} 0.3333333 1.0000000  2.000000\n",
      "9 {좋음,착용} => {과속} 0.3333333 0.8000000  2.400000\n"
     ]
    }
   ],
   "source": [
    "rules <- apriori(tr01, parameter=list(supp=0.3))\n",
    "inspect(rules)"
   ]
  },
  {
   "cell_type": "markdown",
   "metadata": {},
   "source": [
    "- **{과속} => {좋음} 관계는 양의 상관으로 과속을 할때는 날씨가 좋을때임.**\n",
    "- **{과속,착용} => {좋음} 관계는 양의 상관으로  안전벨트를 착용 과속하는 경우는 날씨가 좋을때임.**\n",
    "- **{좋음,착용} => {과속} 관계는 강한 양의 상관으로 날씨가 좋고 안전벨트를 착용할때 과속을 자주하는 것으로 나타냄.**"
   ]
  },
  {
   "cell_type": "markdown",
   "metadata": {},
   "source": [
    "#### 3) 나이를 \"30세 미만\"과 \"30세 이상\", 날씨를 \"좋음\", 과 안좋음(흐림, 비, 안개)으로 교통법규위반을 \"없음\"과 \"있음\"(과속, 신호위반)으로 하는 이항데이터로 변환하라."
   ]
  },
  {
   "cell_type": "markdown",
   "metadata": {},
   "source": [
    "```\n",
    "30세 미만,좋음,음주,있음,착용,증상\n",
    "30세 이상,안좋음,정상,없음,비착용,경상\n",
    "30세 이상,안좋음,정상,있음,착용,경상\n",
    "30세 이상,좋음,정상,없음,착용,경상\n",
    "30세 미만,안좋음,음주,있음,비착용,증상\n",
    "30세 이상,좋음,정상,있음,착용,경상\n",
    "30세 이상,안좋음,정상,없음,착용,경상\n",
    "30세 이상,좋음,정상,없음,비착용,경상\n",
    "30세 미만,안좋음,음주,있음,착용,중상\n",
    "30세 미만,좋음,정상,있음,착용,중상\n",
    "30세 이상,좋음,음주,있음,착용,중상\n",
    "30세 미만,안좋음,정상,있음,착용,중상\n",
    "```"
   ]
  },
  {
   "cell_type": "markdown",
   "metadata": {},
   "source": [
    "#### 4)   3)의 이항데이터에 대해 최소지지도 기준을 30%로 하였을때, 연관규칙을 찾아라."
   ]
  },
  {
   "cell_type": "code",
   "execution_count": 16,
   "metadata": {
    "collapsed": false
   },
   "outputs": [
    {
     "data": {
      "text/html": [
       "<table>\n",
       "<thead><tr><th></th><th scope=col>items</th></tr></thead>\n",
       "<tbody>\n",
       "\t<tr><th scope=row>1</th><td>{30세 미만,음주,있음,좋음,증상,착용}</td></tr>\n",
       "\t<tr><th scope=row>2</th><td>{30세 이상,비착용,경상,안좋음,정상,없음}</td></tr>\n",
       "\t<tr><th scope=row>3</th><td>{30세 이상,경상,안좋음,정상,있음,착용}</td></tr>\n",
       "\t<tr><th scope=row>4</th><td>{30세 이상,경상,없음,정상,좋음,착용}</td></tr>\n",
       "\t<tr><th scope=row>5</th><td>{30세 미만,비착용,증상,안좋음,음주,있음}</td></tr>\n",
       "\t<tr><th scope=row>6</th><td>{30세 이상,경상,있음,정상,좋음,착용}</td></tr>\n",
       "\t<tr><th scope=row>7</th><td>{30세 이상,경상,안좋음,정상,없음,착용}</td></tr>\n",
       "\t<tr><th scope=row>8</th><td>{30세 이상,비착용,경상,없음,정상,좋음}</td></tr>\n",
       "\t<tr><th scope=row>9</th><td>{30세 미만,안좋음,음주,있음,중상,착용}</td></tr>\n",
       "\t<tr><th scope=row>10</th><td>{30세 미만,있음,정상,좋음,중상,착용}</td></tr>\n",
       "\t<tr><th scope=row>11</th><td>{30세 이상,음주,있음,좋음,중상,착용}</td></tr>\n",
       "\t<tr><th scope=row>12</th><td>{30세 미만,안좋음,정상,있음,중상,착용}</td></tr>\n",
       "</tbody>\n",
       "</table>\n"
      ],
      "text/latex": [
       "\\begin{tabular}{r|l}\n",
       "  & items\\\\\n",
       "\\hline\n",
       "\t1 & {30세 미만,음주,있음,좋음,증상,착용}\\\\\n",
       "\t2 & {30세 이상,비착용,경상,안좋음,정상,없음}\\\\\n",
       "\t3 & {30세 이상,경상,안좋음,정상,있음,착용}\\\\\n",
       "\t4 & {30세 이상,경상,없음,정상,좋음,착용}\\\\\n",
       "\t5 & {30세 미만,비착용,증상,안좋음,음주,있음}\\\\\n",
       "\t6 & {30세 이상,경상,있음,정상,좋음,착용}\\\\\n",
       "\t7 & {30세 이상,경상,안좋음,정상,없음,착용}\\\\\n",
       "\t8 & {30세 이상,비착용,경상,없음,정상,좋음}\\\\\n",
       "\t9 & {30세 미만,안좋음,음주,있음,중상,착용}\\\\\n",
       "\t10 & {30세 미만,있음,정상,좋음,중상,착용}\\\\\n",
       "\t11 & {30세 이상,음주,있음,좋음,중상,착용}\\\\\n",
       "\t12 & {30세 미만,안좋음,정상,있음,중상,착용}\\\\\n",
       "\\end{tabular}\n"
      ],
      "text/plain": [
       "                                      items\n",
       "1      {30세 미만,음주,있음,좋음,증상,착용}\n",
       "2  {30세 이상,비착용,경상,안좋음,정상,없음}\n",
       "3    {30세 이상,경상,안좋음,정상,있음,착용}\n",
       "4      {30세 이상,경상,없음,정상,좋음,착용}\n",
       "5  {30세 미만,비착용,증상,안좋음,음주,있음}\n",
       "6      {30세 이상,경상,있음,정상,좋음,착용}\n",
       "7    {30세 이상,경상,안좋음,정상,없음,착용}\n",
       "8    {30세 이상,비착용,경상,없음,정상,좋음}\n",
       "9    {30세 미만,안좋음,음주,있음,중상,착용}\n",
       "10     {30세 미만,있음,정상,좋음,중상,착용}\n",
       "11     {30세 이상,음주,있음,좋음,중상,착용}\n",
       "12   {30세 미만,안좋음,정상,있음,중상,착용}"
      ]
     },
     "execution_count": 16,
     "metadata": {},
     "output_type": "execute_result"
    }
   ],
   "source": [
    "tr02 <- read.transactions('trans02.txt', format='basket', sep=',')\n",
    "as( tr02, 'data.frame')"
   ]
  },
  {
   "cell_type": "code",
   "execution_count": 17,
   "metadata": {
    "collapsed": false
   },
   "outputs": [
    {
     "name": "stdout",
     "output_type": "stream",
     "text": [
      "Apriori\n",
      "\n",
      "Parameter specification:\n",
      " confidence minval smax arem  aval originalSupport support minlen maxlen target\n",
      "        0.8    0.1    1 none FALSE            TRUE     0.3      1     10  rules\n",
      "   ext\n",
      " FALSE\n",
      "\n",
      "Algorithmic control:\n",
      " filter tree heap memopt load sort verbose\n",
      "    0.1 TRUE TRUE  FALSE TRUE    2    TRUE\n",
      "\n",
      "Absolute minimum support count: 3 \n",
      "\n",
      "set item appearances ...[0 item(s)] done [0.00s].\n",
      "set transactions ...[15 item(s), 12 transaction(s)] done [0.00s].\n",
      "sorting and recoding items ... [10 item(s)] done [0.00s].\n",
      "creating transaction tree ... done [0.00s].\n",
      "checking subsets of size 1 2 3 done [0.00s].\n",
      "writing ... [19 rule(s)] done [0.00s].\n",
      "creating S4 object  ... done [0.00s].\n",
      "   lhs                 rhs         support   confidence lift    \n",
      "1  {없음}           => {30세 이상} 0.3333333 1.0000000  1.714286\n",
      "2  {경상}           => {30세 이상} 0.3333333 1.0000000  1.714286\n",
      "3  {경상}           => {착용}      0.3333333 1.0000000  1.333333\n",
      "4  {중상}           => {있음}      0.3333333 1.0000000  1.500000\n",
      "5  {중상}           => {착용}      0.3333333 1.0000000  1.333333\n",
      "6  {정상}           => {좋음}      0.3333333 1.0000000  2.000000\n",
      "7  {30세 미만}      => {있음}      0.4166667 1.0000000  1.500000\n",
      "8  {30세 미만}      => {착용}      0.3333333 0.8000000  1.066667\n",
      "9  {좋음}           => {착용}      0.4166667 0.8333333  1.111111\n",
      "10 {있음}           => {착용}      0.5833333 0.8750000  1.166667\n",
      "11 {30세 이상,경상} => {착용}      0.3333333 1.0000000  1.333333\n",
      "12 {경상,착용}      => {30세 이상} 0.3333333 1.0000000  1.714286\n",
      "13 {30세 이상,착용} => {경상}      0.3333333 0.8000000  2.400000\n",
      "14 {있음,중상}      => {착용}      0.3333333 1.0000000  1.333333\n",
      "15 {중상,착용}      => {있음}      0.3333333 1.0000000  1.500000\n",
      "16 {30세 미만,있음} => {착용}      0.3333333 0.8000000  1.066667\n",
      "17 {30세 미만,착용} => {있음}      0.3333333 1.0000000  1.500000\n",
      "18 {있음,좋음}      => {착용}      0.3333333 1.0000000  1.333333\n",
      "19 {좋음,착용}      => {있음}      0.3333333 0.8000000  1.200000\n"
     ]
    }
   ],
   "source": [
    "rules <- apriori(tr02, parameter=list(supp=0.3))\n",
    "inspect(rules)"
   ]
  },
  {
   "cell_type": "markdown",
   "metadata": {},
   "source": [
    "- **{중상} => {있음} 양의 관계로 법규위반했을때는 중상을 50% 증가함.**\n",
    "- **{정상} => {좋음} 양의 관계로 날씨가 좋을때 음주운전을 하지 않는것이 100% 증가함**\n",
    "- **{30세 미만} => {있음} 양의 관계로 30세 미만은 법규위반이 50% 증가함.**\n",
    "- **{30세 이상,착용} => {경상} 양의 관계로 30세 이상은 안전벨트를 착용해서 중상보다 경상을 140% 증가함.**"
   ]
  },
  {
   "cell_type": "markdown",
   "metadata": {},
   "source": [
    "#### 5)  2)와 4)의 결과를 비교하라."
   ]
  },
  {
   "cell_type": "markdown",
   "metadata": {},
   "source": [
    "- ** 2)의 결과는 지지도가 30%이상은 결과가 9개이고, 4)의 결과는 지지도가 30%이상이 19개로 더 많은 상관관계를 찾을 수 있음 **"
   ]
  }
 ],
 "metadata": {
  "kernelspec": {
   "display_name": "R",
   "language": "R",
   "name": "ir"
  },
  "language_info": {
   "codemirror_mode": "r",
   "file_extension": ".r",
   "mimetype": "text/x-r-source",
   "name": "R",
   "pygments_lexer": "r",
   "version": "3.3.1"
  }
 },
 "nbformat": 4,
 "nbformat_minor": 0
}
