{
 "cells": [
  {
   "cell_type": "markdown",
   "metadata": {},
   "source": [
    "# 데이터마이닝- 중간 과제 04\n",
    "\n",
    "### 학    번 : 201685-010100\n",
    "###  성    명 : 지 용 기\n",
    "###  연 락 처 : 010-9828-0332, braveji@hanmail.net\n",
    "---"
   ]
  },
  {
   "cell_type": "markdown",
   "metadata": {},
   "source": [
    "## 7강 연습문제"
   ]
  },
  {
   "cell_type": "markdown",
   "metadata": {},
   "source": [
    "### 7-1  한 백화점의 어느 상품매장을 방문하는 20명을 조사해보니 구매하는 사람(G1)이 10명이고, 구매하지 않는 사람이 (G2)이 10명이었다. 이들 20명의 성별, 차 보유여부, 집 보유여부, 구매여부를 분석하여보니 아래와 같다. 베이즈 분류모형을 구하고, 이 상품매장을 방문한 여자고객이 중형차를 보유하고, 또 집을 소유하였다면 상품을 구매할 사람인지 아닌지 분류하라. "
   ]
  },
  {
   "cell_type": "code",
   "execution_count": 2,
   "metadata": {
    "collapsed": false
   },
   "outputs": [
    {
     "data": {
      "text/html": [
       "<table>\n",
       "<thead><tr><th></th><th scope=col>no</th><th scope=col>sex</th><th scope=col>car</th><th scope=col>house</th><th scope=col>purchase</th></tr></thead>\n",
       "<tbody>\n",
       "\t<tr><th scope=row>1</th><td>1</td><td>남</td><td>중형</td><td>아님</td><td>구매</td></tr>\n",
       "\t<tr><th scope=row>2</th><td>2</td><td>여</td><td>중형</td><td>아님</td><td>비구매</td></tr>\n",
       "\t<tr><th scope=row>3</th><td>3</td><td>여</td><td>대형</td><td>보유</td><td>구매</td></tr>\n",
       "\t<tr><th scope=row>4</th><td>4</td><td>여</td><td>대형</td><td>보유</td><td>구매</td></tr>\n",
       "\t<tr><th scope=row>5</th><td>5</td><td>여</td><td>중형</td><td>아님</td><td>비구매</td></tr>\n",
       "\t<tr><th scope=row>6</th><td>6</td><td>여</td><td>중형</td><td>보유</td><td>구매</td></tr>\n",
       "\t<tr><th scope=row>7</th><td>7</td><td>여</td><td>대형</td><td>보유</td><td>구매</td></tr>\n",
       "\t<tr><th scope=row>8</th><td>8</td><td>남</td><td>중형</td><td>아님</td><td>비구매</td></tr>\n",
       "\t<tr><th scope=row>9</th><td>9</td><td>여</td><td>대형</td><td>보유</td><td>비구매</td></tr>\n",
       "\t<tr><th scope=row>10</th><td>10</td><td>남</td><td>대형</td><td>아님</td><td>구매</td></tr>\n",
       "\t<tr><th scope=row>11</th><td>11</td><td>여</td><td>중형</td><td>보유</td><td>구매</td></tr>\n",
       "\t<tr><th scope=row>12</th><td>12</td><td>여</td><td>중형</td><td>보유</td><td>비구매</td></tr>\n",
       "\t<tr><th scope=row>13</th><td>13</td><td>남</td><td>중형</td><td>아님</td><td>비구매</td></tr>\n",
       "\t<tr><th scope=row>14</th><td>14</td><td>남</td><td>대형</td><td>보유</td><td>구매</td></tr>\n",
       "\t<tr><th scope=row>15</th><td>15</td><td>여</td><td>중형</td><td>아님</td><td>구매</td></tr>\n",
       "\t<tr><th scope=row>16</th><td>16</td><td>여</td><td>중형</td><td>보유</td><td>비구매</td></tr>\n",
       "\t<tr><th scope=row>17</th><td>17</td><td>여</td><td>중형</td><td>아님</td><td>비구매</td></tr>\n",
       "\t<tr><th scope=row>18</th><td>18</td><td>남</td><td>대형</td><td>보유</td><td>비구매</td></tr>\n",
       "\t<tr><th scope=row>19</th><td>19</td><td>남</td><td>대형</td><td>보유</td><td>구매</td></tr>\n",
       "\t<tr><th scope=row>20</th><td>20</td><td>남</td><td>중형</td><td>보유</td><td>비구매</td></tr>\n",
       "</tbody>\n",
       "</table>\n"
      ],
      "text/latex": [
       "\\begin{tabular}{r|lllll}\n",
       "  & no & sex & car & house & purchase\\\\\n",
       "\\hline\n",
       "\t1 & 1 & 남 & 중형 & 아님 & 구매\\\\\n",
       "\t2 & 2 & 여 & 중형 & 아님 & 비구매\\\\\n",
       "\t3 & 3 & 여 & 대형 & 보유 & 구매\\\\\n",
       "\t4 & 4 & 여 & 대형 & 보유 & 구매\\\\\n",
       "\t5 & 5 & 여 & 중형 & 아님 & 비구매\\\\\n",
       "\t6 & 6 & 여 & 중형 & 보유 & 구매\\\\\n",
       "\t7 & 7 & 여 & 대형 & 보유 & 구매\\\\\n",
       "\t8 & 8 & 남 & 중형 & 아님 & 비구매\\\\\n",
       "\t9 & 9 & 여 & 대형 & 보유 & 비구매\\\\\n",
       "\t10 & 10 & 남 & 대형 & 아님 & 구매\\\\\n",
       "\t11 & 11 & 여 & 중형 & 보유 & 구매\\\\\n",
       "\t12 & 12 & 여 & 중형 & 보유 & 비구매\\\\\n",
       "\t13 & 13 & 남 & 중형 & 아님 & 비구매\\\\\n",
       "\t14 & 14 & 남 & 대형 & 보유 & 구매\\\\\n",
       "\t15 & 15 & 여 & 중형 & 아님 & 구매\\\\\n",
       "\t16 & 16 & 여 & 중형 & 보유 & 비구매\\\\\n",
       "\t17 & 17 & 여 & 중형 & 아님 & 비구매\\\\\n",
       "\t18 & 18 & 남 & 대형 & 보유 & 비구매\\\\\n",
       "\t19 & 19 & 남 & 대형 & 보유 & 구매\\\\\n",
       "\t20 & 20 & 남 & 중형 & 보유 & 비구매\\\\\n",
       "\\end{tabular}\n"
      ],
      "text/plain": [
       "   no sex  car house purchase\n",
       "1   1  남 중형  아님     구매\n",
       "2   2  여 중형  아님   비구매\n",
       "3   3  여 대형  보유     구매\n",
       "4   4  여 대형  보유     구매\n",
       "5   5  여 중형  아님   비구매\n",
       "6   6  여 중형  보유     구매\n",
       "7   7  여 대형  보유     구매\n",
       "8   8  남 중형  아님   비구매\n",
       "9   9  여 대형  보유   비구매\n",
       "10 10  남 대형  아님     구매\n",
       "11 11  여 중형  보유     구매\n",
       "12 12  여 중형  보유   비구매\n",
       "13 13  남 중형  아님   비구매\n",
       "14 14  남 대형  보유     구매\n",
       "15 15  여 중형  아님     구매\n",
       "16 16  여 중형  보유   비구매\n",
       "17 17  여 중형  아님   비구매\n",
       "18 18  남 대형  보유   비구매\n",
       "19 19  남 대형  보유     구매\n",
       "20 20  남 중형  보유   비구매"
      ]
     },
     "execution_count": 2,
     "metadata": {},
     "output_type": "execute_result"
    },
    {
     "data": {
      "text/plain": [
       "       no        sex       car      house      purchase \n",
       " Min.   : 1.00   남: 8   대형: 8   보유:12   구매  :10  \n",
       " 1st Qu.: 5.75   여:12   중형:12   아님: 8   비구매:10  \n",
       " Median :10.50                                          \n",
       " Mean   :10.50                                          \n",
       " 3rd Qu.:15.25                                          \n",
       " Max.   :20.00                                          "
      ]
     },
     "execution_count": 2,
     "metadata": {},
     "output_type": "execute_result"
    }
   ],
   "source": [
    "store_sales <- read.csv('07_01.csv', head=T, col.names=c('no', 'sex', 'car', 'house', 'purchase'))\n",
    "store_sales\n",
    "summary( store_sales )"
   ]
  },
  {
   "cell_type": "code",
   "execution_count": 3,
   "metadata": {
    "collapsed": true
   },
   "outputs": [],
   "source": [
    "library(MASS)"
   ]
  },
  {
   "cell_type": "code",
   "execution_count": 4,
   "metadata": {
    "collapsed": true
   },
   "outputs": [],
   "source": [
    "store_sales.train <- store_sales[ 1:20 , c(2, 3, 4) ]\n",
    "store_sales.test <- store_sales[ 1:20 , c(2, 3, 4) ]\n",
    "store_sales.group <- store_sales[ 1:20 , 5 ]"
   ]
  },
  {
   "cell_type": "markdown",
   "metadata": {},
   "source": [
    "- 선형 베이즈 모형으로 구매와 비구매집단을 분류"
   ]
  },
  {
   "cell_type": "code",
   "execution_count": 5,
   "metadata": {
    "collapsed": false
   },
   "outputs": [
    {
     "data": {
      "text/plain": [
       "Call:\n",
       "lda(store_sales.group ~ sex + car + house, data = store_sales.train)\n",
       "\n",
       "Prior probabilities of groups:\n",
       "  구매 비구매 \n",
       "   0.5    0.5 \n",
       "\n",
       "Group means:\n",
       "       sex여 car중형 house아님\n",
       "구매     0.6     0.4       0.3\n",
       "비구매   0.6     0.8       0.5\n",
       "\n",
       "Coefficients of linear discriminants:\n",
       "                    LD1\n",
       "sex여     -3.595975e-01\n",
       "car중형    2.157585e+00\n",
       "house아님  3.330669e-16"
      ]
     },
     "execution_count": 5,
     "metadata": {},
     "output_type": "execute_result"
    }
   ],
   "source": [
    "store_sales.train.lda = lda( store_sales.group ~ sex + car + house , data=store_sales.train )\n",
    "store_sales.train.lda"
   ]
  },
  {
   "cell_type": "code",
   "execution_count": 6,
   "metadata": {
    "collapsed": false
   },
   "outputs": [
    {
     "data": {
      "text/plain": [
       "        store_sales.group\n",
       "         구매 비구매\n",
       "  구매      6      2\n",
       "  비구매    4      8"
      ]
     },
     "execution_count": 6,
     "metadata": {},
     "output_type": "execute_result"
    }
   ],
   "source": [
    "ldapred <- predict( store_sales.train.lda , store_sales.test )\n",
    "table( ldapred$class, store_sales.group )"
   ]
  },
  {
   "cell_type": "markdown",
   "metadata": {},
   "source": [
    "- 구매집단은 6/10의 정분율, 비구매집단은 8/10의 정분율을 보여줌."
   ]
  },
  {
   "cell_type": "markdown",
   "metadata": {
    "collapsed": true
   },
   "source": [
    "- 여자고객이 중형차를 보유하고, 또 집을 소유하였다면 상품을 구매할 사람인지 아닌지 분류하라\n",
    "    - 비구매로 구분됨."
   ]
  },
  {
   "cell_type": "code",
   "execution_count": 9,
   "metadata": {
    "collapsed": false
   },
   "outputs": [
    {
     "data": {
      "text/html": [
       "<table>\n",
       "<thead><tr><th></th><th scope=col>sex</th><th scope=col>car</th><th scope=col>house</th></tr></thead>\n",
       "<tbody>\n",
       "\t<tr><th scope=row>6</th><td>여</td><td>중형</td><td>보유</td></tr>\n",
       "</tbody>\n",
       "</table>\n"
      ],
      "text/latex": [
       "\\begin{tabular}{r|lll}\n",
       "  & sex & car & house\\\\\n",
       "\\hline\n",
       "\t6 & 여 & 중형 & 보유\\\\\n",
       "\\end{tabular}\n"
      ],
      "text/plain": [
       "  sex  car house\n",
       "6  여 중형  보유"
      ]
     },
     "execution_count": 9,
     "metadata": {},
     "output_type": "execute_result"
    },
    {
     "data": {
      "text/html": [
       "<dl>\n",
       "\t<dt>$class</dt>\n",
       "\t\t<dd>비구매</dd>\n",
       "\t<dt>$posterior</dt>\n",
       "\t\t<dd><table>\n",
       "<thead><tr><th></th><th scope=col>구매</th><th scope=col>비구매</th></tr></thead>\n",
       "<tbody>\n",
       "\t<tr><th scope=row>6</th><td>0.3496246</td><td>0.6503754</td></tr>\n",
       "</tbody>\n",
       "</table>\n",
       "</dd>\n",
       "\t<dt>$x</dt>\n",
       "\t\t<dd><table>\n",
       "<thead><tr><th></th><th scope=col>LD1</th></tr></thead>\n",
       "<tbody>\n",
       "\t<tr><th scope=row>6</th><td>0.719195</td></tr>\n",
       "</tbody>\n",
       "</table>\n",
       "</dd>\n",
       "</dl>\n"
      ],
      "text/latex": [
       "\\begin{description}\n",
       "\\item[\\$class] 비구매\n",
       "\\item[\\$posterior] \\begin{tabular}{r|ll}\n",
       "  & 구매 & 비구매\\\\\n",
       "\\hline\n",
       "\t6 & 0.3496246 & 0.6503754\\\\\n",
       "\\end{tabular}\n",
       "\n",
       "\\item[\\$x] \\begin{tabular}{r|l}\n",
       "  & LD1\\\\\n",
       "\\hline\n",
       "\t6 & 0.719195\\\\\n",
       "\\end{tabular}\n",
       "\n",
       "\\end{description}\n"
      ],
      "text/markdown": [
       "$class\n",
       ":   비구매\n",
       "$posterior\n",
       ":   1. 0.349624616378506\n",
       "2. 0.650375383621494\n",
       "\n",
       "\n",
       "\n",
       "$x\n",
       ":   0.719194952228076\n",
       "\n",
       "\n"
      ],
      "text/plain": [
       "$class\n",
       "[1] 비구매\n",
       "Levels: 구매 비구매\n",
       "\n",
       "$posterior\n",
       "       구매    비구매\n",
       "6 0.3496246 0.6503754\n",
       "\n",
       "$x\n",
       "       LD1\n",
       "6 0.719195\n"
      ]
     },
     "execution_count": 9,
     "metadata": {},
     "output_type": "execute_result"
    }
   ],
   "source": [
    "new_data <- store_sales.test[ 6,  ]\n",
    "new_data \n",
    "\n",
    "result <- predict( store_sales.train.lda , new_data  )\n",
    "result"
   ]
  },
  {
   "cell_type": "markdown",
   "metadata": {},
   "source": [
    "### 7-2 문제 1의 데이터를 이용하여 로지스틱 회귀모형을 구하라. 이 상품매장을 방문한 여자고객이 중형차를 보유하고, 또 집을 소유하였다면 상품을 구매할 사람인지 아닌지 분류하라."
   ]
  },
  {
   "cell_type": "code",
   "execution_count": 10,
   "metadata": {
    "collapsed": false
   },
   "outputs": [
    {
     "data": {
      "text/plain": [
       "\n",
       "Call:\n",
       "glm(formula = store_sales.group ~ sex + car + house, family = binomial, \n",
       "    data = store_sales.train)\n",
       "\n",
       "Deviance Residuals: \n",
       "     Min        1Q    Median        3Q       Max  \n",
       "-1.58963  -0.81514   0.05754   0.94255   1.74720  \n",
       "\n",
       "Coefficients:\n",
       "              Estimate Std. Error z value Pr(>|z|)\n",
       "(Intercept) -9.312e-01  9.876e-01  -0.943    0.346\n",
       "sex여       -3.501e-01  1.074e+00  -0.326    0.744\n",
       "car중형      1.862e+00  1.198e+00   1.555    0.120\n",
       "house아님   -1.905e-16  1.144e+00   0.000    1.000\n",
       "\n",
       "(Dispersion parameter for binomial family taken to be 1)\n",
       "\n",
       "    Null deviance: 27.726  on 19  degrees of freedom\n",
       "Residual deviance: 24.158  on 16  degrees of freedom\n",
       "AIC: 32.158\n",
       "\n",
       "Number of Fisher Scoring iterations: 4\n"
      ]
     },
     "execution_count": 10,
     "metadata": {},
     "output_type": "execute_result"
    }
   ],
   "source": [
    "store_sales.train.glm <- glm(store_sales.group ~ sex + car + house , family = binomial, data=store_sales.train )\n",
    "summary(store_sales.train.glm )"
   ]
  },
  {
   "cell_type": "markdown",
   "metadata": {},
   "source": [
    "- 여자고객이 중형차를 보유하고, 또 집을 소유하였다면 상품을 구매할 사람여부 구분 \n",
    "    - 구매자가 될 확률이 0.58 이므로, 구매자로 구분함."
   ]
  },
  {
   "cell_type": "code",
   "execution_count": 14,
   "metadata": {
    "collapsed": false
   },
   "outputs": [
    {
     "data": {
      "text/html": [
       "<table>\n",
       "<thead><tr><th></th><th scope=col>sex</th><th scope=col>car</th><th scope=col>house</th></tr></thead>\n",
       "<tbody>\n",
       "\t<tr><th scope=row>6</th><td>여</td><td>중형</td><td>보유</td></tr>\n",
       "</tbody>\n",
       "</table>\n"
      ],
      "text/latex": [
       "\\begin{tabular}{r|lll}\n",
       "  & sex & car & house\\\\\n",
       "\\hline\n",
       "\t6 & 여 & 중형 & 보유\\\\\n",
       "\\end{tabular}\n"
      ],
      "text/plain": [
       "  sex  car house\n",
       "6  여 중형  보유"
      ]
     },
     "execution_count": 14,
     "metadata": {},
     "output_type": "execute_result"
    },
    {
     "data": {
      "text/html": [
       "<strong>6:</strong> 0.581169729033031"
      ],
      "text/latex": [
       "\\textbf{6:} 0.581169729033031"
      ],
      "text/markdown": [
       "**6:** 0.581169729033031"
      ],
      "text/plain": [
       "        6 \n",
       "0.5811697 "
      ]
     },
     "execution_count": 14,
     "metadata": {},
     "output_type": "execute_result"
    }
   ],
   "source": [
    "new_data \n",
    "store_sales.train.glm.pred <- predict(store_sales.train.glm, new_data  )\n",
    "store_sales.train.glm.pred "
   ]
  },
  {
   "cell_type": "code",
   "execution_count": null,
   "metadata": {
    "collapsed": true
   },
   "outputs": [],
   "source": []
  }
 ],
 "metadata": {
  "kernelspec": {
   "display_name": "R",
   "language": "R",
   "name": "ir"
  },
  "language_info": {
   "codemirror_mode": "r",
   "file_extension": ".r",
   "mimetype": "text/x-r-source",
   "name": "R",
   "pygments_lexer": "r",
   "version": "3.3.1"
  }
 },
 "nbformat": 4,
 "nbformat_minor": 0
}
