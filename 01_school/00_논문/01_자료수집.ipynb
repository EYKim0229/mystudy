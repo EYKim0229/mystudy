{
 "cells": [
  {
   "cell_type": "markdown",
   "metadata": {},
   "source": [
    "# TCGA 사이트\n",
    "\n",
    "https://cancergenome.nih.gov/    "
   ]
  },
  {
   "cell_type": "markdown",
   "metadata": {},
   "source": [
    "## Project별 데이터 현황 \n",
    "\n",
    "https://gdc-portal.nci.nih.gov/projects/t\n",
    "\n",
    "\n",
    "![](01_자료수집_01.jpg)\n",
    "\n",
    "\n",
    "- Seq와 Exp 데이터 수가 100개 이하인  ARGET-OS, TCGA-KICH, TCGA-ACC, TCGA-MESO, TCGA-UVM, TARGET-RT, TCGA-DLBC, TCGA-UCS, TCGA-CHOL, TARGET-CCSK 프로젝트이며,\n",
    "- Seq와 Exp 데이터 수가 0개인 TARGET-OS, TARGET-CCSK가 있음."
   ]
  },
  {
   "cell_type": "markdown",
   "metadata": {},
   "source": [
    "## TCGA 데이터 파일 구조 \n",
    "\n",
    "- https://gdc-portal.nci.nih.gov/search/s?facetTab=cases  에서 Manifest 파일 다운로드와  Files 탭의 JSON 포맷으로 Export table을 함.\n",
    "- gdc_manifest.2017-03-13T05-24-49.083790_ALL.json\n",
    "- gdc_manifest.2017-03-13T05-24-49.083790_ALL.tsv"
   ]
  },
  {
   "cell_type": "code",
   "execution_count": 1,
   "metadata": {
    "collapsed": true
   },
   "outputs": [],
   "source": [
    "gdc_manifest <- read.csv(\"gdc_manifest.2017-03-13T05-24-49.083790_ALL.tsv\", sep=\"\\t\")"
   ]
  },
  {
   "cell_type": "code",
   "execution_count": 7,
   "metadata": {
    "collapsed": false
   },
   "outputs": [
    {
     "data": {
      "text/html": [
       "<table>\n",
       "<thead><tr><th></th><th scope=col>id</th><th scope=col>filename</th><th scope=col>md5</th><th scope=col>size</th><th scope=col>state</th></tr></thead>\n",
       "<tbody>\n",
       "\t<tr><th scope=row>1</th><td>8bfeb962-e2b3-463a-9fbb-f5c6296f3ec2</td><td>8bfeb962-e2b3-463a-9fbb-f5c6296f3ec2.vep.reheader.vcf.gz</td><td>ace85792006140a9b4895976ecba725e</td><td>378676</td><td>submitted</td></tr>\n",
       "</tbody>\n",
       "</table>\n"
      ],
      "text/latex": [
       "\\begin{tabular}{r|lllll}\n",
       "  & id & filename & md5 & size & state\\\\\n",
       "\\hline\n",
       "\t1 & 8bfeb962-e2b3-463a-9fbb-f5c6296f3ec2 & 8bfeb962-e2b3-463a-9fbb-f5c6296f3ec2.vep.reheader.vcf.gz & ace85792006140a9b4895976ecba725e & 378676 & submitted\\\\\n",
       "\\end{tabular}\n"
      ],
      "text/plain": [
       "                                    id\n",
       "1 8bfeb962-e2b3-463a-9fbb-f5c6296f3ec2\n",
       "                                                  filename\n",
       "1 8bfeb962-e2b3-463a-9fbb-f5c6296f3ec2.vep.reheader.vcf.gz\n",
       "                               md5   size     state\n",
       "1 ace85792006140a9b4895976ecba725e 378676 submitted"
      ]
     },
     "execution_count": 7,
     "metadata": {},
     "output_type": "execute_result"
    },
    {
     "data": {
      "text/plain": [
       "                                    id        \n",
       " 0000047f-772f-4241-980d-1f667686fe60:     1  \n",
       " 00005051-36c7-4850-9e2c-243be54077ea:     1  \n",
       " 00006c36-08ae-4f93-a580-1b798d153d7c:     1  \n",
       " 00007ccc-269b-4cd0-a0b1-6e5d700a8e5f:     1  \n",
       " 00008523-edd6-456e-81aa-d1e4aee3ecf9:     1  \n",
       " 0000bb29-0e74-4b06-9114-308d489f3ea6:     1  \n",
       " (Other)                             :274815  \n",
       "                        filename                                    md5        \n",
       " isoforms.quantification.txt: 11488   00003ef5075ad992c45187773c6fdac2:     1  \n",
       " mirnas.quantification.txt  : 11488   0000bf2dba764eca3f3a6d2395cf1e59:     1  \n",
       " 131120.bam                 :    20   0000d0d067a34113bcc509e602ffadd2:     1  \n",
       " 131121.bam                 :    18   00012f5a51f6c50318d86637ccf09ad9:     1  \n",
       " 131027.bam                 :    17   00017a088f77fbae422569b5510f1fa2:     1  \n",
       " 125807.bam                 :    16   0001e044aae9ce17bc8bd2be7a22e4c0:     1  \n",
       " (Other)                    :251774   (Other)                         :274815  \n",
       "      size                 state       \n",
       " Min.   :1.120e+03   live     : 22524  \n",
       " 1st Qu.:5.185e+04   submitted:252297  \n",
       " Median :2.540e+05                     \n",
       " Mean   :1.712e+09                     \n",
       " 3rd Qu.:1.448e+06                     \n",
       " Max.   :1.110e+11                     \n",
       "                                       "
      ]
     },
     "execution_count": 7,
     "metadata": {},
     "output_type": "execute_result"
    }
   ],
   "source": [
    "head(gdc_manifest , n=1)\n",
    "summary(gdc_manifest)"
   ]
  },
  {
   "cell_type": "code",
   "execution_count": 10,
   "metadata": {
    "collapsed": false
   },
   "outputs": [
    {
     "data": {
      "text/html": [
       "427.984665270206"
      ],
      "text/latex": [
       "427.984665270206"
      ],
      "text/markdown": [
       "427.984665270206"
      ],
      "text/plain": [
       "[1] 427.9847"
      ]
     },
     "execution_count": 10,
     "metadata": {},
     "output_type": "execute_result"
    }
   ],
   "source": [
    "sum( gdc_manifest$size  ) / 1024 / 1024 / 1024 /  1024"
   ]
  },
  {
   "cell_type": "markdown",
   "metadata": {},
   "source": [
    "## TCGA 데이터 파일을 DB에 저장하기 \n",
    "\n",
    "MYSQL 스키마 구조 \n",
    "\n",
    "```\n",
    "use mysql;\n",
    "\n",
    "CREATE DATABASE tcga_gdc DEFAULT character set utf8 ;\n",
    "\n",
    "GRANT ALL privileges ON tcga_gdc.* TO gdc@localhost  IDENTIFIED BY 'gdcPW!@#';\n",
    "GRANT ALL privileges ON tcga_gdc.* TO gdc@'%'  IDENTIFIED BY 'gdcPW!@#';\n",
    "flush privileges;\n",
    "\n",
    "use tcga_gdc;\n",
    "\n",
    "\n",
    "DROP TABLE IF EXISTS gdc_files CASCADE ;\n",
    "CREATE TABLE IF NOT EXISTS gdc_files (\n",
    "  id           VARCHAR(40)  PRIMARY KEY,\n",
    "  filename     VARCHAR(128),\n",
    "  md5          VARCHAR(40),\n",
    "  size         BIGINT ,\n",
    "  state        VARCHAR(10)\n",
    ");\n",
    "CREATE INDEX idx_gdc_files_filename ON gdc_files(filename); \n",
    "\n",
    "\n",
    "DROP TABLE IF EXISTS gdc_manifest CASCADE ;\n",
    "CREATE TABLE IF NOT EXISTS gdc_manifest (\n",
    "  seq_id        INT NOT NULL AUTO_INCREMENT,\n",
    "  file_name     VARCHAR(128),\n",
    "  project_id    VARCHAR(40),\n",
    "  case_id       VARCHAR(40),\n",
    "  data_format   VARCHAR(10),\n",
    "  access        VARCHAR(10),\n",
    "  data_category VARCHAR(40),\n",
    "  file_size     BIGINT,\n",
    "  PRIMARY KEY ( seq_id )\n",
    ");\n",
    "CREATE INDEX idx_gdc_manifest_file_name     ON gdc_manifest(file_name); \n",
    "CREATE INDEX idx_gdc_manifest_project_id    ON gdc_manifest(project_id); \n",
    "CREATE INDEX idx_gdc_manifest_case_id       ON gdc_manifest(case_id); \n",
    "CREATE INDEX idx_gdc_manifest_data_format   ON gdc_manifest(data_format); \n",
    "CREATE INDEX idx_gdc_manifest_data_category ON gdc_manifest(data_category); \n",
    "```"
   ]
  },
  {
   "cell_type": "markdown",
   "metadata": {},
   "source": [
    "- https://dev.mysql.com/downloads/connector/python/?os=31 에서  mysql-connector-python-2.1.5-1.el7.x86_64.rpm 다운로드\n",
    "\n",
    "sudo yum install -y mysql-connector-python-2.1.5-1.el7.x86_64.rpm\n"
   ]
  },
  {
   "cell_type": "code",
   "execution_count": null,
   "metadata": {
    "collapsed": true
   },
   "outputs": [],
   "source": [
    "#  mysql_python.py\n",
    "\n",
    "import mysql.connector\n",
    "from mysql.connector import MySQLConnection, Error\n",
    "\n",
    "def connect():\n",
    "    \"\"\" Connect to MySQL database \"\"\"\n",
    "    try:\n",
    "        conn = mysql.connector.connect(host='localhost',database='tcga_gdc',user='gdc',password='gdcPW!@#')\n",
    "        if conn.is_connected():\n",
    "            print('Connected to MySQL database')\n",
    "\n",
    "    except Error as e:\n",
    "        print(e)\n",
    "\n",
    "    return conn\n",
    "\n",
    "\n",
    "def insert_gdc_files(file_infos):\n",
    "    query = \"INSERT INTO gdc_files(id, filename, md5, size, state) VALUES( %s , %s ,%s , %s , %s ) \"\n",
    "    try:\n",
    "        conn =  connect()\n",
    "\n",
    "        cursor = conn.cursor()\n",
    "        cursor.executemany(query, file_infos)\n",
    "\n",
    "        conn.commit()\n",
    "    except Error as e:\n",
    "        print('Error:', e)\n",
    "\n",
    "    finally:\n",
    "        cursor.close()\n",
    "        conn.close()\n",
    "\n",
    "def insert_gdc_manifest(manifest):\n",
    "    query = \"INSERT INTO gdc_manifest(file_name, project_id, case_id, data_format, access, data_category, file_size) \" \\\n",
    "            \"VALUES(%s,%s,%s,%s,%s,%s,%s)\"\n",
    "\n",
    "    try:\n",
    "        conn = connect()\n",
    "\n",
    "        cursor = conn.cursor()\n",
    "        cursor.executemany(query, manifest )\n",
    "\n",
    "        conn.commit()\n",
    "    except Error as e:\n",
    "        print('Error:', e)\n",
    "\n",
    "    finally:\n",
    "        cursor.close()\n",
    "        conn.close()"
   ]
  },
  {
   "cell_type": "code",
   "execution_count": null,
   "metadata": {
    "collapsed": true
   },
   "outputs": [],
   "source": [
    "#  insert_gdc_files.py \n",
    "from  mysql_python import insert_gdc_files\n",
    "\n",
    "FETCH_SIZE = 100\n",
    "\n",
    "with open('gdc_manifest.2017-03-13T05-24-49.083790_ALL.tsv','r') as gdc :\n",
    "    cnt = 0\n",
    "    head_skip = True\n",
    "    in_data = []\n",
    "\n",
    "    for line in gdc:\n",
    "        cnt += 1\n",
    "        if( head_skip ) :\n",
    "            head_skip = False\n",
    "            continue;\n",
    "\n",
    "        #print( line )\n",
    "        rows = line.strip().split('\\t')\n",
    "        in_data.append( (rows[0],rows[1],rows[2],int(rows[3]),rows[4])  )\n",
    "\n",
    "        if( cnt % FETCH_SIZE == 0) :\n",
    "            insert_gdc_files( in_data )\n",
    "            in_data = []\n",
    "\n",
    "\n",
    "    insert_gdc_files( in_data )\n"
   ]
  },
  {
   "cell_type": "code",
   "execution_count": null,
   "metadata": {
    "collapsed": true
   },
   "outputs": [],
   "source": [
    "#  insert_gdc_manifest.py\n",
    "from  mysql_python import insert_gdc_manifest\n",
    "import json\n",
    "\n",
    "FETCH_SIZE = 100\n",
    "with open('gdc_manifest.2017-03-13T05-24-49.083790_ALL.json') as data_file:\n",
    "    data = json.load(data_file)\n",
    "\n",
    "cnt = 0\n",
    "in_data = []\n",
    "for obj  in data :\n",
    "    cnt += 1\n",
    "    in_data.append( (obj['file_name'], obj['cases'][0]['project']['project_id'], obj['cases'][0]['case_id'],\n",
    "                     obj['data_format'], obj['access'], obj['data_category'], obj['file_size'])  )\n",
    "    if( cnt % FETCH_SIZE == 0) :\n",
    "        insert_gdc_manifest( in_data )\n",
    "        print( \"insert_gdc_manifest() size=\", cnt  )\n",
    "        in_data = []\n",
    "\n",
    "insert_gdc_manifest( in_data )"
   ]
  },
  {
   "cell_type": "markdown",
   "metadata": {},
   "source": [
    "## mRNA-Seq 데이터 파일만 가져오기\n",
    "\n",
    "- https://docs.gdc.cancer.gov/Data/PDF/Data_UG.pdf\n",
    "    \n",
    "![](01_자료수집_02.jpg)\n",
    "\n",
    "![](01_자료수집_03.jpg)\n",
    "\n",
    "- 최종 정제된 파일인 UQ-FPKM 임을 알 수 있고, 이 데이터만들 추출하는 SQL문\n",
    "\n",
    "```\n",
    "SELECT f.id, f.filename, m.project_id \n",
    "FROM gdc_files f INNER JOIN  gdc_manifest  m\n",
    "WHERE \n",
    "    f.filename = m.file_name AND \n",
    "    f.size = m.file_size AND\n",
    "    m.file_name <> 'mirnas.quantification.txt' AND\n",
    "    m.file_name <> 'isoforms.quantification.txt' AND\n",
    "    m.file_name like '%FPKM-UQ.txt.gz' AND\n",
    "    m.access = 'open' AND\n",
    "    m.data_category = 'Transcriptome Profiling' AND\n",
    "    m.project_id =  'TCGA-CHOL'      \n",
    "ORDER BY m.project_id , f.filename \n",
    "\n",
    "```"
   ]
  },
  {
   "cell_type": "code",
   "execution_count": null,
   "metadata": {
    "collapsed": true
   },
   "outputs": [],
   "source": [
    "# download_gdc.py\n",
    "import subprocess\n",
    "import shlex\n",
    "import os\n",
    "from  mysql_python import query\n",
    "\n",
    "sql =  \"\"\"\n",
    "SELECT f.id, f.filename, m.project_id\n",
    "FROM gdc_files f INNER JOIN  gdc_manifest  m\n",
    "WHERE\n",
    "    f.filename = m.file_name AND\n",
    "    f.size = m.file_size AND\n",
    "    m.file_name <> 'mirnas.quantification.txt' AND\n",
    "    m.file_name <> 'isoforms.quantification.txt' AND\n",
    "    m.file_name like '%FPKM-UQ.txt.gz' AND\n",
    "    m.access = 'open' AND\n",
    "    m.data_category = 'Transcriptome Profiling' AND\n",
    "    m.project_id =  'TCGA-CHOL'\n",
    "ORDER BY m.project_id , f.filename\n",
    "\"\"\"\n",
    "\n",
    "rows  = query( sql )\n",
    "\n",
    "cnt = 0\n",
    "pre_project_id = \"\"\n",
    "\n",
    "for row in  rows :\n",
    "    cnt += 1\n",
    "    if cnt > 0  :\n",
    "        cmd = \"curl --remote-name --remote-header-name 'https://gdc-api.nci.nih.gov/data/%s' \"  %( row['id']  )\n",
    "        print( cmd )\n",
    "        process = subprocess.Popen(cmd, shell=True, stdout=subprocess.PIPE, stderr=subprocess.PIPE)\n",
    "        stdout, stderr = process.communicate()\n",
    "\n",
    "        project_id = row['project_id']\n",
    "        file_name = row['filename']\n",
    "\n",
    "        if pre_project_id != project_id :\n",
    "            cmd = \"hdfs dfs -mkdir -p  /data/tcga/rna-seq/%s\" %( project_id )\n",
    "            process = subprocess.Popen(cmd, shell=True, stdout=subprocess.PIPE, stderr=subprocess.PIPE)\n",
    "            stdout, stderr = process.communicate()\n",
    "            pre_project_id = project_id\n",
    "\n",
    "\n",
    "        if os.path.exists(file_name):\n",
    "            if file_name.find(\".gz\") != -1 :\n",
    "                cmd = \"gzip -d %s\" % (file_name)\n",
    "                process = subprocess.Popen(cmd, shell=True, stdout=subprocess.PIPE, stderr=subprocess.PIPE)\n",
    "                stdout, stderr = process.communicate()\n",
    "                file_name = file_name.replace(\".gz\" , \"\" )\n",
    "\n",
    "            cmd = \"hdfs dfs -put  %s  /data/tcga/rna-seq/%s\" %( file_name, project_id )\n",
    "            process = subprocess.Popen(cmd, shell=True, stdout=subprocess.PIPE, stderr=subprocess.PIPE)\n",
    "            stdout, stderr = process.communicate()\n",
    "            os.remove( file_name )\n",
    "            if cnt % 20 == 0 :\n",
    "                print( \"download cnt=\", cnt  )\n"
   ]
  },
  {
   "cell_type": "code",
   "execution_count": null,
   "metadata": {
    "collapsed": true
   },
   "outputs": [],
   "source": []
  }
 ],
 "metadata": {
  "kernelspec": {
   "display_name": "Python 2",
   "language": "python",
   "name": "python2"
  },
  "language_info": {
   "codemirror_mode": {
    "name": "ipython",
    "version": 2
   },
   "file_extension": ".py",
   "mimetype": "text/x-python",
   "name": "python",
   "nbconvert_exporter": "python",
   "pygments_lexer": "ipython2",
   "version": "2.7.11"
  }
 },
 "nbformat": 4,
 "nbformat_minor": 0
}
