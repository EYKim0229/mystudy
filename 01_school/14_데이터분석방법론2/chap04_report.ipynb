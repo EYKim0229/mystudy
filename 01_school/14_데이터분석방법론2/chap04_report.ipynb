{
 "cells": [
  {
   "cell_type": "markdown",
   "metadata": {},
   "source": [
    "# 데이터분석방법론2 - 제4강 과제\n",
    "\n",
    "### 학    번 : 201685-010100\n",
    "###  성    명 : 지 용 기\n",
    "###  연 락 처 : 010-9828-0332, braveji@hanmail.net\n",
    "---"
   ]
  },
  {
   "cell_type": "markdown",
   "metadata": {},
   "source": [
    "### 컴퓨터 칩의 실리콘 기판을 제조하는데 사용되는 두 고정 과정의 결합율을 분석하기 위해서 실험을 하였다. 10개의 기판에 대해 처리 A를 적용하였을 때에 기판에서 관측된 결합 수는 8, 7, 6, 6, 4, 3, 7, 2,3, 4 이었다. 10개의 기판에 대한 처리 B를 적용하였을 때에는 결합수가 9, 9, 8, 14, 8, 13, 11, 5, 7, 6 이었다. 결합 수를 각각 평균을 갖는 서로 독립인 포아송 확률변수라고 간주하자."
   ]
  },
  {
   "cell_type": "markdown",
   "metadata": {},
   "source": [
    "#### (1) \\\\(  \\boldsymbol{\\beta} =  log \\mu_B  -  log \\mu_A  =  log (  \\mu_B  / \\mu_A )  \\\\) 이고,  \\\\(  e^\\beta = \\mu_B  / \\mu_A   \\\\) 임을 보여라."
   ]
  },
  {
   "cell_type": "markdown",
   "metadata": {},
   "source": [
    "> 실리콘 기판 공정 데이터는 아래와 같고, \n",
    "\n",
    "> A  :  8, 7, 6, 6, 4, 3, 7, 2,3, 4   ( X = 0 )\n",
    "\n",
    "> B  :  9, 9, 8, 14, 8, 13, 11, 5, 7, 6 ( X = 1 )\n",
    "\n",
    "> \\\\(  log \\mu = \\alpha + \\beta X   \\\\)  로 선형 모형을 만들었을때,  A는 x=0, B는 x=1로 표현함.\n",
    "\n",
    "> A의  \\\\(  log( \\mu_A ) = \\alpha  \\\\)  이고  ----  (1)식 \n",
    "\n",
    "> B의   \\\\(  log( \\mu_B ) = \\alpha + \\beta   \\\\)  ---- (2)식\n",
    "\n",
    "> (2)식에 (1)을 대입하고  \\\\(  \\beta \\\\)  좌변에 나머지를 우변으로 이항하면 문제가 같은 식이 나옴."
   ]
  },
  {
   "cell_type": "markdown",
   "metadata": {},
   "source": [
    "#### (2) 모형을 적합하여 추정값을 구하고 ,그 값에 대해여 해석하라."
   ]
  },
  {
   "cell_type": "code",
   "execution_count": 5,
   "metadata": {
    "collapsed": false
   },
   "outputs": [
    {
     "data": {
      "text/plain": [
       "\n",
       "Call:\n",
       "glm(formula = b ~ a, family = poisson(link = log))\n",
       "\n",
       "Deviance Residuals: \n",
       "    Min       1Q   Median       3Q      Max  \n",
       "-0.8493  -0.6219  -0.3364   0.1852   1.5138  \n",
       "\n",
       "Coefficients:\n",
       "            Estimate Std. Error z value Pr(>|z|)    \n",
       "(Intercept)  1.81975    0.30616   5.944 2.79e-09 ***\n",
       "a            0.07345    0.05446   1.349    0.177    \n",
       "---\n",
       "Signif. codes:  0 '***' 0.001 '**' 0.01 '*' 0.05 '.' 0.1 ' ' 1\n",
       "\n",
       "(Dispersion parameter for poisson family taken to be 1)\n",
       "\n",
       "    Null deviance: 8.3160  on 9  degrees of freedom\n",
       "Residual deviance: 6.4842  on 8  degrees of freedom\n",
       "AIC: 50.569\n",
       "\n",
       "Number of Fisher Scoring iterations: 4\n"
      ]
     },
     "execution_count": 5,
     "metadata": {},
     "output_type": "execute_result"
    }
   ],
   "source": [
    "a <- c(  8, 7, 6, 6, 3, 4, 7, 2,3, 4 )\n",
    "b <- c( 9, 9, 8, 14, 8, 13, 11, 5, 7, 6 )\n",
    "model <- glm(b ~ a,family=poisson(link=log))\n",
    "summary( model  )"
   ]
  }
 ],
 "metadata": {
  "kernelspec": {
   "display_name": "R",
   "language": "R",
   "name": "ir"
  },
  "language_info": {
   "codemirror_mode": "r",
   "file_extension": ".r",
   "mimetype": "text/x-r-source",
   "name": "R",
   "pygments_lexer": "r",
   "version": "3.3.1"
  }
 },
 "nbformat": 4,
 "nbformat_minor": 0
}
