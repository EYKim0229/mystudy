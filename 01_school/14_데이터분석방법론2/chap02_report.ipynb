{
 "cells": [
  {
   "cell_type": "markdown",
   "metadata": {},
   "source": [
    "# 데이터분석방법론2 - 제2강 과제\n",
    "\n",
    "### 학    번 : 201685-010100\n",
    "###  성    명 : 지 용 기\n",
    "###  연 락 처 : 010-9828-0332, braveji@hanmail.net\n",
    "---"
   ]
  },
  {
   "cell_type": "markdown",
   "metadata": {},
   "source": [
    "## 2.22 <표>는 정신병을 앓고 있는 환자들의 진단 결과와 그 환자들에게 약을 처방했는지에 따라 분류된 자료이다.\n",
    "\n",
    "![](chap02_01.jpg)"
   ]
  },
  {
   "cell_type": "markdown",
   "metadata": {},
   "source": [
    "### a. 독립성검정을 위한 P-값을 구하고 그 결과를 해석하라."
   ]
  },
  {
   "cell_type": "markdown",
   "metadata": {},
   "source": [
    "- 기대값을 계산"
   ]
  },
  {
   "cell_type": "markdown",
   "metadata": {},
   "source": [
    "<talbe>\n",
    "<tr>\n",
    "    <td rowspan=\"2\">진단결과</td>\n",
    "    <td colspan=\"3\">약 처방 여부</td>\n",
    "</tr>\n",
    "<tr>\n",
    "    <td>예</td>\n",
    "    <td>아니오</td>\n",
    "    <td>합계</td>\n",
    "<tr>\n",
    "<tr>\n",
    "    <td width=\"100\">신경쇠약</td>\n",
    "    <td width=\"100\">105 <br/>(74.5) </td>\n",
    "    <td width=\"100\">8 <br/>(38.4) </td>\n",
    "    <td width=\"100\">113</td>\n",
    "<tr>\n",
    "<tr>\n",
    "    <td>정서장애</td>\n",
    "    <td>12 <br/>(9.2) </td>\n",
    "    <td>2 <br/>(4.7) </td>\n",
    "    <td>14</td>\n",
    "<tr>\n",
    "<tr>\n",
    "    <td>노이로제</td>\n",
    "    <td>18 <br/>(24.3) </td>\n",
    "    <td>19 <br/>(12.6) </td>\n",
    "    <td>37</td>\n",
    "<tr>\n",
    "<tr>\n",
    "    <td>인격장애</td>\n",
    "    <td>47 <br/>(65.2) </td>\n",
    "    <td>52 <br/>(33.7) </td>\n",
    "    <td>99</td>\n",
    "<tr>\n",
    "<tr>\n",
    "    <td>특이증상</td>\n",
    "    <td>0 <br/>(8.6) </td>\n",
    "    <td>13 <br/>(4.4) </td>\n",
    "    <td>13</td>\n",
    "<tr>\n",
    "<tr>\n",
    "    <td>합계</td>\n",
    "    <td>182</td>\n",
    "    <td>94</td>\n",
    "    <td>276</td>\n",
    "<tr>\n",
    "</talbe>"
   ]
  },
  {
   "cell_type": "markdown",
   "metadata": {},
   "source": [
    "- \\\\( X^2 \\\\) 계산"
   ]
  },
  {
   "cell_type": "markdown",
   "metadata": {},
   "source": [
    "<talbe>\n",
    "<tr>\n",
    "    <td rowspan=\"2\">진단결과</td>\n",
    "    <td colspan=\"2\">약 처방 여부</td>\n",
    "</tr>\n",
    "<tr>\n",
    "    <td>예</td>\n",
    "    <td>아니오</td>\n",
    "<tr>\n",
    "<tr>\n",
    "    <td width=\"100\">신경쇠약</td>\n",
    "    <td width=\"200\"> (105 - 74.5)^2  / 74.5 = 12.5  </td>\n",
    "    <td width=\"200\"> (8 - 38.4)^2 / 38.4 = 24.07 </td>\n",
    "<tr>\n",
    "<tr>\n",
    "    <td>정서장애</td>\n",
    "    <td> (12 - 9.2 )^2 / 9.2 = 0.8 </td>\n",
    "    <td> (2 - 4.7 )^2 / 4.7 = 1.5 </td>\n",
    "<tr>\n",
    "<tr>\n",
    "    <td>노이로제</td>\n",
    "    <td> (18 - 24.3 )^2 / 24.3 = 1.6 </td>\n",
    "    <td> (19 - 12.6 )^2 / 12.6 = 3.2 </td>\n",
    "<tr>\n",
    "<tr>\n",
    "    <td>인격장애</td>\n",
    "    <td> (47 - 65.2 )^2 / 65.2 = 5.0 </td>\n",
    "    <td> (52 - 33.7 ) / 33.7 = 9.9 </td>\n",
    "<tr>\n",
    "<tr>\n",
    "    <td>특이증상</td>\n",
    "    <td> (0 - 8.6 )^2 / 8.6 = 8.6</td>\n",
    "    <td> (13 - 4.4 )^2 / 4.4 = 16.8 </td>\n",
    "<tr>\n",
    "<tr>\n",
    "    <td>합계</td>\n",
    "    <td>28.5</td>\n",
    "    <td>55.47</td>\n",
    "    <td>83.87</td>\n",
    "<tr>\n",
    "</talbe>"
   ]
  },
  {
   "cell_type": "markdown",
   "metadata": {},
   "source": [
    "- 자유도(df) : ( I - 1 ) ( J - 1 ) = (5 - 1 ) ( 2 - 1 ) = 4\n",
    "- 카이제곱 : 83.87\n",
    "- 유의확률 : 0.000000 \n",
    "- **해석 : 정신병 진단결과 따라 약 처방 여부에 상당히 유의한 차이가 있음을 알 수 있음.**"
   ]
  },
  {
   "cell_type": "code",
   "execution_count": 46,
   "metadata": {
    "collapsed": false
   },
   "outputs": [
    {
     "data": {
      "text/html": [
       "0"
      ],
      "text/latex": [
       "0"
      ],
      "text/markdown": [
       "0"
      ],
      "text/plain": [
       "[1] 0"
      ]
     },
     "execution_count": 46,
     "metadata": {},
     "output_type": "execute_result"
    }
   ],
   "source": [
    "1 - pchisq(q=83.87, df=4, lower.tail = TRUE)"
   ]
  },
  {
   "cell_type": "markdown",
   "metadata": {},
   "source": [
    "R을 통해서 카이제곱 검정이 제대로 되었는지 확인함."
   ]
  },
  {
   "cell_type": "code",
   "execution_count": 51,
   "metadata": {
    "collapsed": false
   },
   "outputs": [
    {
     "name": "stderr",
     "output_type": "stream",
     "text": [
      "Warning message:\n",
      "In chisq.test(data_matrix): Chi-squared approximation may be incorrect"
     ]
    },
    {
     "data": {
      "text/plain": [
       "\n",
       "\tPearson's Chi-squared test\n",
       "\n",
       "data:  data_matrix\n",
       "X-squared = 84.188, df = 4, p-value < 2.2e-16\n"
      ]
     },
     "execution_count": 51,
     "metadata": {},
     "output_type": "execute_result"
    },
    {
     "data": {
      "text/html": [
       "<table>\n",
       "<thead><tr><th></th><th scope=col>Yes</th><th scope=col>No</th></tr></thead>\n",
       "<tbody>\n",
       "\t<tr><th scope=row>Class_1</th><td>12.47229</td><td>24.14847</td></tr>\n",
       "\t<tr><th scope=row>Class_2</th><td>0.8300002</td><td>1.6070217</td></tr>\n",
       "\t<tr><th scope=row>Class_3</th><td>1.678028</td><td>3.248948</td></tr>\n",
       "\t<tr><th scope=row>Class_4</th><td>5.120105</td><td>9.913394</td></tr>\n",
       "\t<tr><th scope=row>Class_5</th><td> 8.572464</td><td>16.597749</td></tr>\n",
       "</tbody>\n",
       "</table>\n"
      ],
      "text/latex": [
       "\\begin{tabular}{r|ll}\n",
       "  & Yes & No\\\\\n",
       "\\hline\n",
       "\tClass_1 & 12.47229 & 24.14847\\\\\n",
       "\tClass_2 & 0.8300002 & 1.6070217\\\\\n",
       "\tClass_3 & 1.678028 & 3.248948\\\\\n",
       "\tClass_4 & 5.120105 & 9.913394\\\\\n",
       "\tClass_5 &  8.572464 & 16.597749\\\\\n",
       "\\end{tabular}\n"
      ],
      "text/markdown": [
       "1. 12.4722871715946\n",
       "2. 0.830000227515756\n",
       "3. 1.67802800411496\n",
       "4. 5.12010453314801\n",
       "5. 8.57246376811594\n",
       "6. 24.1484709067044\n",
       "7. 1.60702171710497\n",
       "8. 3.2489478377545\n",
       "9. 9.91339388332913\n",
       "10. 16.5977489978415\n",
       "\n",
       "\n"
      ],
      "text/plain": [
       "         Prescription\n",
       "result           Yes        No\n",
       "  Class_1 12.4722872 24.148471\n",
       "  Class_2  0.8300002  1.607022\n",
       "  Class_3  1.6780280  3.248948\n",
       "  Class_4  5.1201045  9.913394\n",
       "  Class_5  8.5724638 16.597749"
      ]
     },
     "execution_count": 51,
     "metadata": {},
     "output_type": "execute_result"
    },
    {
     "data": {
      "text/html": [
       "<table>\n",
       "<thead><tr><th></th><th scope=col>Yes</th><th scope=col>No</th></tr></thead>\n",
       "<tbody>\n",
       "\t<tr><th scope=row>Class_1</th><td> 7.874526</td><td>-7.874526</td></tr>\n",
       "\t<tr><th scope=row>Class_2</th><td> 1.602262</td><td>-1.602262</td></tr>\n",
       "\t<tr><th scope=row>Class_3</th><td>-2.385315</td><td> 2.385315</td></tr>\n",
       "\t<tr><th scope=row>Class_4</th><td>-4.841701</td><td> 4.841701</td></tr>\n",
       "\t<tr><th scope=row>Class_5</th><td>-5.139491</td><td> 5.139491</td></tr>\n",
       "</tbody>\n",
       "</table>\n"
      ],
      "text/latex": [
       "\\begin{tabular}{r|ll}\n",
       "  & Yes & No\\\\\n",
       "\\hline\n",
       "\tClass_1 &  7.874526 & -7.874526\\\\\n",
       "\tClass_2 &  1.602262 & -1.602262\\\\\n",
       "\tClass_3 & -2.385315 &  2.385315\\\\\n",
       "\tClass_4 & -4.841701 &  4.841701\\\\\n",
       "\tClass_5 & -5.139491 &  5.139491\\\\\n",
       "\\end{tabular}\n"
      ],
      "text/markdown": [
       "1. 7.87452568621671\n",
       "2. 1.60226230414369\n",
       "3. -2.38531537203858\n",
       "4. -4.84170066478588\n",
       "5. -5.13949100296887\n",
       "6. -7.87452568621671\n",
       "7. -1.60226230414369\n",
       "8. 2.38531537203858\n",
       "9. 4.84170066478588\n",
       "10. 5.13949100296887\n",
       "\n",
       "\n"
      ],
      "text/plain": [
       "         Prescription\n",
       "result          Yes        No\n",
       "  Class_1  7.874526 -7.874526\n",
       "  Class_2  1.602262 -1.602262\n",
       "  Class_3 -2.385315  2.385315\n",
       "  Class_4 -4.841701  4.841701\n",
       "  Class_5 -5.139491  5.139491"
      ]
     },
     "execution_count": 51,
     "metadata": {},
     "output_type": "execute_result"
    }
   ],
   "source": [
    "raw_data <- c(105, 8, 12, 2, 18, 19, 47, 52, 0, 13 )\n",
    "data_matrix <- matrix(raw_data, byrow=TRUE, nrow=5)\n",
    "dimnames(data_matrix) <- \n",
    "    list(\"result\" = c(\"Class_1\", \"Class_2\", \"Class_3\", \"Class_4\", \"Class_5\"), \n",
    "          \"Prescription\" = c(\"Yes\", \"No\"))\n",
    "\n",
    "chisq.test_output <- chisq.test(data_matrix)\n",
    "chisq.test_output\n",
    "\n",
    "(chisq.test_output$observed  - chisq.test_output$expected ) ^2 / chisq.test_output$expected \n",
    "\n",
    "chisq.test_output$stdres"
   ]
  },
  {
   "cell_type": "markdown",
   "metadata": {},
   "source": [
    "#### b. 표준화잔차를 계산하고 그 결과를 해석하라."
   ]
  },
  {
   "cell_type": "markdown",
   "metadata": {},
   "source": [
    "<talbe>\n",
    "<tr>\n",
    "    <td rowspan=\"2\">진단결과</td>\n",
    "    <td colspan=\"3\">약 처방 여부</td>\n",
    "</tr>\n",
    "<tr>\n",
    "    <td>예</td>\n",
    "    <td>아니오</td>\n",
    "    <td> p_i+ </td>\n",
    "<tr>\n",
    "<tr>\n",
    "    <td width=\"100\">신경쇠약</td>\n",
    "    <td width=\"200\">(105 - 74.5) / sqrt( 74.5 * ( 1-0.66) * (1-0.41) ) = 7.89  </td>\n",
    "    <td width=\"200\">(8 - 38.4) / sqrt(38.4 * (1-0.34) * (1-0.41) ) = -7.86 </td>\n",
    "    <td width=\"200\">113 / 276 = 0.41</td>\n",
    "<tr>\n",
    "<tr>\n",
    "    <td>정서장애</td>\n",
    "    <td>(12 - 9.2) / sqrt(9.2 * (1-0.66) * (1-0.05) ) = 1.62 </td>\n",
    "    <td>(2 - 4.7) / sqrt(4.7 * (1-0.34) * (1-0.05) ) = -1.57 </td>\n",
    "    <td>14 / 276 = 0.05 </td>\n",
    "<tr>\n",
    "<tr>\n",
    "    <td>노이로제</td>\n",
    "    <td>(18 - 24.3) / sqrt(24.3 * (1-0.66) * (1-0.13) ) = -2.35 </td>\n",
    "    <td>(19 - 12.6) / sqrt(12.6 * (1-0.34) * (1-0.13) ) = 2.38 </td>\n",
    "    <td>37 / 276 = 0.13 </td>\n",
    "<tr>\n",
    "<tr>\n",
    "    <td>인격장애</td>\n",
    "    <td>(47 - 65.2) / sqrt(65.2 * (1-0.66 ) * (1-0.35 ) ) = -4.79  </td>\n",
    "    <td>(52 - 33.7) / sqrt(33.7 * (1-0.34 ) * (1-0.35 ) ) = 4.81  </td>\n",
    "    <td>99 / 276 = 0.35 </td>\n",
    "<tr>\n",
    "<tr>\n",
    "    <td>특이증상</td>\n",
    "    <td>(0 - 8.6) / sqrt(8.6 * (1-0.66 ) * (1-0.05 ) ) = -5.16  </td>\n",
    "    <td>(13 - 4.4) / sqrt(4.4 * (1-0.34 ) * (1-0.05 ) ) = 5.18 </td>\n",
    "    <td>13 / 276 = 0.05 </td>\n",
    "<tr>\n",
    "<tr>\n",
    "    <td> p_+j </td>\n",
    "    <td>182 / 276 = 0.66</td>\n",
    "    <td>94 / 276 = 0.34</td>\n",
    "    <td>276 / 276 = 1</td>\n",
    "<tr>\n",
    "</talbe>"
   ]
  },
  {
   "cell_type": "markdown",
   "metadata": {},
   "source": [
    "- **해석 : 표준화잔차값이 신경쇠약 > 특이증상 > 인격장애 에 따른 약처방 여부에 영향을 준 것으로 판단할 수 있음.**"
   ]
  },
  {
   "cell_type": "markdown",
   "metadata": {},
   "source": [
    "### c. 진단 결과 간의 차이와 유사성을 나타내기 위해 카이제곱을 세 부분으로 분할하고자 한다. 카이제곱을 (i) 처음 두 행을 비교하기 위한 통계량, (ii) 세 번째와 네 번째 행을 비교하기 위한 통계량, (iii) 마지막 행을 처음 두 행을 합한 행과 비교하고 또 세 번째와 네 번째 행을 합한 행과 비교하기 위한 두 통계량을 구하라."
   ]
  },
  {
   "cell_type": "markdown",
   "metadata": {},
   "source": [
    "- (i) 처음 두 행을 비교하기 위한 통계량"
   ]
  },
  {
   "cell_type": "markdown",
   "metadata": {},
   "source": [
    "<talbe>\n",
    "<tr>\n",
    "    <td rowspan=\"2\">진단결과</td>\n",
    "    <td colspan=\"3\">약 처방 여부</td>\n",
    "</tr>\n",
    "<tr>\n",
    "    <td>예</td>\n",
    "    <td>아니오</td>\n",
    "    <td>합계</td>\n",
    "<tr>\n",
    "<tr>\n",
    "    <td width=\"100\">신경쇠약</td>\n",
    "    <td width=\"200\">105 <br/>(104.1) <br/> ( 105-104.1 )^2 / 104 = 0.007 </td>\n",
    "    <td width=\"200\">8 <br/>(8.9) <br/> ( 8-8.9 )^2 / 8.9 = 0.091 </td>\n",
    "    <td width=\"100\">113</td>\n",
    "<tr>\n",
    "<tr>\n",
    "    <td>정서장애</td>\n",
    "    <td>12 <br/>(12.9) <br/> ( 12-12.9 )^2 / 12.9 = 0.063 </td>\n",
    "    <td>2 <br/>(1.1) <br/> ( 2-1.1 )^2 / 1.1 = 0.74 </td>\n",
    "    <td>14</td>\n",
    "<tr>\n",
    "<tr>\n",
    "    <td>합계</td>\n",
    "    <td>117 </td>\n",
    "    <td>10 </td>\n",
    "    <td>127</td>\n",
    "<tr>\n",
    "</talbe>"
   ]
  },
  {
   "cell_type": "markdown",
   "metadata": {},
   "source": [
    "- 자유도(df) : ( I - 1 ) ( J - 1 ) = (2 - 1 ) ( 2 - 1 ) = 1\n",
    "- 카이제곱 : 0.901\n",
    "- 유의확률 : 0.34\n",
    "- **해석 : 산경쇠약과 정서장애에 따라 약 처방 여부가 다르다는 증거가 있음**"
   ]
  },
  {
   "cell_type": "code",
   "execution_count": 66,
   "metadata": {
    "collapsed": false
   },
   "outputs": [
    {
     "data": {
      "text/html": [
       "0.342513715866133"
      ],
      "text/latex": [
       "0.342513715866133"
      ],
      "text/markdown": [
       "0.342513715866133"
      ],
      "text/plain": [
       "[1] 0.3425137"
      ]
     },
     "execution_count": 66,
     "metadata": {},
     "output_type": "execute_result"
    }
   ],
   "source": [
    "1 - pchisq(q=0.901, df=1, lower.tail = TRUE)"
   ]
  },
  {
   "cell_type": "markdown",
   "metadata": {},
   "source": [
    "- (ii) 세 번째와 네 번째 행을 비교하기 위한 통계량"
   ]
  },
  {
   "cell_type": "markdown",
   "metadata": {},
   "source": [
    "<talbe>\n",
    "<tr>\n",
    "    <td rowspan=\"2\">진단결과</td>\n",
    "    <td colspan=\"3\">약 처방 여부</td>\n",
    "</tr>\n",
    "<tr>\n",
    "    <td>예</td>\n",
    "    <td>아니오</td>\n",
    "    <td>합계</td>\n",
    "<tr>\n",
    "<tr>\n",
    "    <td width=\"100\">노이로제</td>\n",
    "    <td width=\"200\">18 <br/>(17.6) <br/> (18-17.6)^2 / 17.6 = 0.009 </td>\n",
    "    <td width=\"200\">19 <br/>(19.3) <br/> (19-19.3)^2 / 19.3 = 0.0047 </td>\n",
    "    <td width=\"100\">37</td>\n",
    "<tr>\n",
    "<tr>\n",
    "    <td>인격장애</td>\n",
    "    <td>47 <br/>(47.3) <br/> (47-47.3)^2 / 47.3 = 0.0012 </td>\n",
    "    <td>52 <br/>(51.7) <br/> (52-51.7)^2 / 51.7 = 0.0017 </td>\n",
    "    <td>99</td>\n",
    "<tr>\n",
    "<tr>\n",
    "    <td>합계</td>\n",
    "    <td>65</td>\n",
    "    <td>71</td>\n",
    "    <td>136</td>\n",
    "<tr>\n",
    "</talbe>"
   ]
  },
  {
   "cell_type": "markdown",
   "metadata": {},
   "source": [
    "- 자유도(df) : ( I - 1 ) ( J - 1 ) = (2 - 1 ) ( 2 - 1 ) = 1\n",
    "- 카이제곱 : 0.0166\n",
    "- 유의확률 : 0.89\n",
    "- **해석 : 노이로제와 인격장애에 따라 약 처방 여부가 다르다는 증거가 없음.**"
   ]
  },
  {
   "cell_type": "code",
   "execution_count": 71,
   "metadata": {
    "collapsed": false
   },
   "outputs": [
    {
     "data": {
      "text/html": [
       "0.897483472649535"
      ],
      "text/latex": [
       "0.897483472649535"
      ],
      "text/markdown": [
       "0.897483472649535"
      ],
      "text/plain": [
       "[1] 0.8974835"
      ]
     },
     "execution_count": 71,
     "metadata": {},
     "output_type": "execute_result"
    }
   ],
   "source": [
    "1 - pchisq(q=0.0166, df=1, lower.tail = TRUE)"
   ]
  },
  {
   "cell_type": "markdown",
   "metadata": {},
   "source": [
    "- (iii) 마지막 행을 처음 두 행을 합한 행과 비교"
   ]
  },
  {
   "cell_type": "markdown",
   "metadata": {},
   "source": [
    "<talbe>\n",
    "<tr>\n",
    "    <td rowspan=\"2\">진단결과</td>\n",
    "    <td colspan=\"3\">약 처방 여부</td>\n",
    "</tr>\n",
    "<tr>\n",
    "    <td>예</td>\n",
    "    <td>아니오</td>\n",
    "    <td>합계</td>\n",
    "<tr>\n",
    "<tr>\n",
    "    <td width=\"100\">신경쇠약/정서장애</td>\n",
    "    <td width=\"200\">117 <br/>(106.1) <br/> (117-106.1)^2 / 106.1 = 1.12 </td>\n",
    "    <td width=\"200\">10 <br/>(20.9) <br/> (10-20.9)^2 / 20.9 = 5.68 </td>\n",
    "    <td width=\"100\">127</td>\n",
    "<tr>\n",
    "<tr>\n",
    "    <td>특이증상</td>\n",
    "    <td>0 <br/>(10.87) <br/> (0-10.87)^2 / 10.87 = 10.87  </td>\n",
    "    <td>13 <br/>(2.1) <br/> (13-2.1)^2 / 2.1 = 56.58 </td>\n",
    "    <td>13</td>\n",
    "<tr>\n",
    "<tr>\n",
    "    <td>합계</td>\n",
    "    <td>117</td>\n",
    "    <td>23</td>\n",
    "    <td>140</td>\n",
    "<tr>\n",
    "</talbe>"
   ]
  },
  {
   "cell_type": "markdown",
   "metadata": {},
   "source": [
    "- 자유도(df) : ( I - 1 ) ( J - 1 ) = (2 - 1 ) ( 2 - 1 ) = 1\n",
    "- 카이제곱 : 74.25\n",
    "- 유의확률 : 0.0\n",
    "- **해석 : 신경쇠약/정서장애와 특이증상에 따라 약 처방 여부가 다르다고 강력한 증거가 있음.**"
   ]
  },
  {
   "cell_type": "code",
   "execution_count": 77,
   "metadata": {
    "collapsed": false
   },
   "outputs": [
    {
     "data": {
      "text/html": [
       "0"
      ],
      "text/latex": [
       "0"
      ],
      "text/markdown": [
       "0"
      ],
      "text/plain": [
       "[1] 0"
      ]
     },
     "execution_count": 77,
     "metadata": {},
     "output_type": "execute_result"
    }
   ],
   "source": [
    "1 - pchisq(q=74.25, df=1, lower.tail = TRUE)"
   ]
  },
  {
   "cell_type": "markdown",
   "metadata": {},
   "source": [
    "- 세 번째와 네 번째 행을 합한 행과 비교하기 위한 두 통계량"
   ]
  },
  {
   "cell_type": "markdown",
   "metadata": {},
   "source": [
    "<talbe>\n",
    "<tr>\n",
    "    <td rowspan=\"2\">진단결과</td>\n",
    "    <td colspan=\"3\">약 처방 여부</td>\n",
    "</tr>\n",
    "<tr>\n",
    "    <td>예</td>\n",
    "    <td>아니오</td>\n",
    "    <td>합계</td>\n",
    "<tr>\n",
    "<tr>\n",
    "    <td width=\"100\">노이로제/인격장애</td>\n",
    "    <td width=\"200\">65 <br/>(59.3) <br/> (65-59.3)^2 / 59.3 = 0.548 </td>\n",
    "    <td width=\"200\">71 <br/>(76.7) <br/> (71-76.7)^2 / 76.7 = 0.424 </td>\n",
    "    <td width=\"100\">136</td>\n",
    "<tr>\n",
    "<tr>\n",
    "    <td>특이증상</td>\n",
    "    <td>0 <br/>(5.7) <br/> (0-5.7)^2 / 5.7 = 5.7 </td>\n",
    "    <td>13 <br/>(7.4) <br/> (13-7.4)^2 / 7.4 = 4.24 </td>\n",
    "    <td>13</td>\n",
    "<tr>\n",
    "<tr>\n",
    "    <td>합계</td>\n",
    "    <td>65</td>\n",
    "    <td>84</td>\n",
    "    <td>149</td>\n",
    "<tr>\n",
    "</talbe>"
   ]
  },
  {
   "cell_type": "markdown",
   "metadata": {},
   "source": [
    "- 자유도(df) : ( I - 1 ) ( J - 1 ) = (2 - 1 ) ( 2 - 1 ) = 1\n",
    "- 카이제곱 : 10.912\n",
    "- 유의확률 : 0.00096\n",
    "- **해석 : 노이로제/인격장애와 특이증상에 따라 약 처방 여부가 다르다고 강력한 증거가 있음.**"
   ]
  },
  {
   "cell_type": "code",
   "execution_count": 82,
   "metadata": {
    "collapsed": false
   },
   "outputs": [
    {
     "data": {
      "text/html": [
       "0.000955433173482012"
      ],
      "text/latex": [
       "0.000955433173482012"
      ],
      "text/markdown": [
       "0.000955433173482012"
      ],
      "text/plain": [
       "[1] 0.0009554332"
      ]
     },
     "execution_count": 82,
     "metadata": {},
     "output_type": "execute_result"
    }
   ],
   "source": [
    "1 - pchisq(q=10.912, df=1, lower.tail = TRUE)"
   ]
  },
  {
   "cell_type": "markdown",
   "metadata": {},
   "source": [
    "## 2.27 고등학교 학생들을 대상으로 교육에 대한 열망에 관하여 연구하였다. 열망의 정도를 고등학교 중퇴, 고등학교 졸업, 대학 중퇴, 대학 졸업의 4등급으로 구분하여 측정하였다. 부모의 수입이 적은 학생들의 각 등급별 도수는 (9, 44, 13, 10)였고, 부모 수입이 중간 정도인 경우는 (11, 52, 23, 22)이고, 부모의 수입이 많은 경우에는 (9, 41, 12, 27) 였다."
   ]
  },
  {
   "cell_type": "markdown",
   "metadata": {},
   "source": [
    "### a.   \\\\( X^2,  G^2 \\\\) 를 사용해서 교육에 대한 열망과 부모의 수입 간의 독립성검정을 하라. 결과를 해석하고 이 자료에 대하여 이러한 검정통계량이 갖고 있는 단점을 지적해보아라."
   ]
  },
  {
   "cell_type": "markdown",
   "metadata": {
    "collapsed": false
   },
   "source": [
    " \\\\( X^2 \\\\) 통계량\n",
    " \n",
    "- 자유도(df) : ( I - 1 ) ( J - 1 ) = (3 - 1 ) ( 4 - 1 ) = 6\n",
    "- 카이제곱 : 8.882\n",
    "- 유의확률 : 0.180"
   ]
  },
  {
   "cell_type": "code",
   "execution_count": 14,
   "metadata": {
    "collapsed": false
   },
   "outputs": [
    {
     "data": {
      "text/html": [
       "0.180323874086368"
      ],
      "text/latex": [
       "0.180323874086368"
      ],
      "text/markdown": [
       "0.180323874086368"
      ],
      "text/plain": [
       "[1] 0.1803239"
      ]
     },
     "execution_count": 14,
     "metadata": {},
     "output_type": "execute_result"
    }
   ],
   "source": [
    "1 - pchisq(q=8.882, df=6, lower.tail = TRUE)"
   ]
  },
  {
   "cell_type": "markdown",
   "metadata": {},
   "source": [
    "<talbe>\n",
    "<tr>\n",
    "    <td rowspan=\"2\">부모의 수입</td>\n",
    "    <td colspan=\"5\">교육에 대한 열망</td>\n",
    "</tr>\n",
    "<tr>\n",
    "    <td>고 중퇴</td>\n",
    "    <td>고 졸업</td>\n",
    "    <td>대학 중퇴</td>\n",
    "    <td>대학 졸업</td>\n",
    "    <td>합계</td>\n",
    "</tr>\n",
    "<tr>\n",
    "    <td width=\"100\">적음</td>\n",
    "    <td width=\"200\">9 <br/>(8.07) <br/> (9-8.07)^2 / 8.07 = 0.11</td>\n",
    "    <td width=\"200\">44 <br/>(38.1) <br/> (44-38.1)^2 / 38.1 = 0.914</td>\n",
    "    <td width=\"200\">13 <br/>(13.4) <br/> (13-13.4)^2 / 13.4 = 0.012</td>\n",
    "    <td width=\"200\">10 <br/>(16.4) <br/> (10-16.4)^2 / 16.4 = 2.498</td>\n",
    "    <td width=\"100\">76</td>\n",
    "</tr>\n",
    "<tr>\n",
    "    <td>중간</td>\n",
    "    <td>11 <br/>(11.5) <br/> (11-11.5)^2 / 11.5 = 0.022 </td>\n",
    "    <td>52 <br/>(54.2) <br/> (52-54.2)^2 / 54.2 = 0.089 </td>\n",
    "    <td>23 <br/>(19.0) <br/> (23-19.0)^2 / 19.0 = 0.842 </td>\n",
    "    <td>22 <br/>(23.3) <br/> (22-23.3)^2 / 23.3 = 0.073 </td>\n",
    "    <td>108</td>\n",
    "</tr>\n",
    "<tr>\n",
    "    <td>많음</td>\n",
    "    <td>9  <br/>(9.5) <br/> (9-9.5)^2 / 9.5 = 0.026 </td>\n",
    "    <td>41 <br/>(44.7) <br/> (41-44.7)^2 / 44.7 = 0.306 </td>\n",
    "    <td>12 <br/>(15.6) <br/> (12-15.6)^2 / 15.6 = 0.831 </td>\n",
    "    <td>27 <br/>(19.2) <br/> (27-19.2)^2 / 19.2 = 3.169 </td>\n",
    "    <td>89</td>\n",
    "</tr>\n",
    "<tr>\n",
    "    <td>합계</td>\n",
    "    <td>29</td>\n",
    "    <td>137</td>\n",
    "    <td>48</td>\n",
    "    <td>59</td>\n",
    "    <td>273</td>\n",
    "</tr>\n",
    "</talbe>"
   ]
  },
  {
   "cell_type": "markdown",
   "metadata": {},
   "source": [
    " \\\\(  G^2 \\\\) 통계량\n",
    " \n",
    "  \n",
    "- 자유도(df) : ( I - 1 ) ( J - 1 ) = (3 - 1 ) ( 4 - 1 ) = 6\n",
    "- \\\\(  G^2 \\\\) : 16.6746\n",
    "- 유의확률 : 0.0105"
   ]
  },
  {
   "cell_type": "code",
   "execution_count": 27,
   "metadata": {
    "collapsed": false
   },
   "outputs": [
    {
     "data": {
      "text/html": [
       "0.0105565542330017"
      ],
      "text/latex": [
       "0.0105565542330017"
      ],
      "text/markdown": [
       "0.0105565542330017"
      ],
      "text/plain": [
       "[1] 0.01055655"
      ]
     },
     "execution_count": 27,
     "metadata": {},
     "output_type": "execute_result"
    }
   ],
   "source": [
    "1 - pchisq(q=16.6746, df=6, lower.tail = TRUE)"
   ]
  },
  {
   "cell_type": "markdown",
   "metadata": {},
   "source": [
    "<talbe>\n",
    "<tr>\n",
    "    <td rowspan=\"2\">부모의 수입</td>\n",
    "    <td colspan=\"5\">교육에 대한 열망</td>\n",
    "</tr>\n",
    "<tr>\n",
    "    <td>고 중퇴</td>\n",
    "    <td>고 졸업</td>\n",
    "    <td>대학 중퇴</td>\n",
    "    <td>대학 졸업</td>\n",
    "    <td>합계</td>\n",
    "</tr>\n",
    "<tr>\n",
    "    <td width=\"100\">적음</td>\n",
    "    <td width=\"200\">9 <br/>(8.07) <br/> 9 * log(9 / 8.07) = 0.981</td>\n",
    "    <td width=\"200\">44 <br/>(38.1) <br/> 44 * log(44 / 38.1) = 6.335</td>\n",
    "    <td width=\"200\">13 <br/>(13.4) <br/> 13 * log(13 / 13.4) = -0.394</td>\n",
    "    <td width=\"200\">10 <br/>(16.4) <br/> 10 * log(10 / 16.4) = -4.947</td>\n",
    "    <td width=\"100\">76</td>\n",
    "</tr>\n",
    "<tr>\n",
    "    <td>중간</td>\n",
    "    <td>11 <br/>(11.5) <br/> 11 * log(11 / 11.5) = -0.489 </td>\n",
    "    <td>52 <br/>(54.2) <br/> 52 * log(52 / 54.2) = -2.156 </td>\n",
    "    <td>23 <br/>(19.0) <br/> 23 * log(23 / 19.0) = 4.3943 </td>\n",
    "    <td>22 <br/>(23.3) <br/> 22 * log(22 / 23.3) = -1.263 </td>\n",
    "    <td>108</td>\n",
    "</tr>\n",
    "<tr>\n",
    "    <td>많음</td>\n",
    "    <td>9  <br/>(9.5) <br/> 9 * log(9 / 9.5) = -0.487 </td>\n",
    "    <td>41 <br/>(44.7) <br/> 41 * log(41 / 44.7) = 0.306 </td>\n",
    "    <td>12 <br/>(15.6) <br/> 12 * log(12 / 15.6) = -3.148 </td>\n",
    "    <td>27 <br/>(19.2) <br/> 27 * log(27 / 19.2) = 9.205 </td>\n",
    "    <td>89</td>\n",
    "</tr>\n",
    "<tr>\n",
    "    <td>합계</td>\n",
    "    <td>29</td>\n",
    "    <td>137</td>\n",
    "    <td>48</td>\n",
    "    <td>59</td>\n",
    "    <td>273</td>\n",
    "</tr>\n",
    "</talbe>"
   ]
  },
  {
   "cell_type": "markdown",
   "metadata": {},
   "source": [
    "- **해석 **\n",
    "    - **\\\\( X^2 \\\\) 통계량으로는 부모의 수입이 교육 열망과 관련이 없다라고 나오지만, \\\\(G^2 \\\\) 통계량으로는 부모의 수입이 교육 열망과 관련이 유의미하다라고 나오고 있음. **\n",
    "    - **표본크기가 상대적으로 적어서 \\\\( X^2 와 G^2 \\\\) 통계량아 다르게 나오고 있음.**"
   ]
  },
  {
   "cell_type": "markdown",
   "metadata": {},
   "source": [
    "### b. 표준화잔차를 계산하라. 어떤 연관 형태가 있는가?"
   ]
  },
  {
   "cell_type": "markdown",
   "metadata": {
    "collapsed": true
   },
   "source": [
    "<talbe>\n",
    "<tr>\n",
    "    <td rowspan=\"2\">부모의 수입</td>\n",
    "    <td colspan=\"5\">교육에 대한 열망</td>\n",
    "</tr>\n",
    "<tr>\n",
    "    <td>고 중퇴</td>\n",
    "    <td>고 졸업</td>\n",
    "    <td>대학 중퇴</td>\n",
    "    <td>대학 졸업</td>\n",
    "    <td>p_i+</td> \n",
    "</tr>\n",
    "<tr>\n",
    "    <td width=\"100\">적음</td>\n",
    "    <td width=\"200\">9 <br/>(8.07) <br/> (9 - 8.07) / sqrt( 8.07 * ( 1-0.106) * (1-0.2781) ) = 0.408 </td>\n",
    "    <td width=\"200\">44 <br/>(38.1) <br/> (44 - 38.1) / sqrt( 38.1 * ( 1-0.502) * (1-0.2781) ) = 1.594 </td>\n",
    "    <td width=\"200\">13 <br/>(13.4) <br/> (13 - 13.4) / sqrt( 13.4 * ( 1-0.0147) * (1-0.2781) ) = -0.139 </td>\n",
    "    <td width=\"200\">10 <br/>(16.4) <br/> (10 - 16.4) / sqrt( 16.4 * ( 1-0.216) * (1-0.2781) ) = -2.100 </td>\n",
    "    <td width=\"100\">76/273 = 0.278 </td>\n",
    "</tr>\n",
    "<tr>\n",
    "    <td>중간</td>\n",
    "    <td>11 <br/>(11.5) <br/> (11 - 11.5) / sqrt( 11.5 * ( 1-0.106) * (1- 0.396) ) = -0.200 </td>\n",
    "    <td>52 <br/>(54.2) <br/> (52 - 54.2) / sqrt( 54.2 * ( 1-0.502) * (1- 0.396) ) = -0.545  </td>\n",
    "    <td>23 <br/>(19.0) <br/> (23 - 19.0) / sqrt( 19.0 * ( 1-0.0147) * (1- 0.396) ) = 1.190 </td>\n",
    "    <td>22 <br/>(23.3) <br/> (22 - 23.3) / sqrt( 23.3 * ( 1-0.216) * (1- 0.396) ) = -0.391 </td>\n",
    "    <td>108/273 = 0.396</td>\n",
    "</tr>\n",
    "<tr>\n",
    "    <td>많음</td>\n",
    "    <td>9  <br/>(9.5) <br/> (9 - 9.5) / sqrt( 9.5 * ( 1-0.106) * (1-0.326) ) = -0.209 </td>\n",
    "    <td>41 <br/>(44.7) <br/> (41 - 44.7) / sqrt( 44.7 * ( 1-0.502) * (1-0.326) ) = -0.955 </td>\n",
    "    <td>12 <br/>(15.6) <br/> (12 - 15.6) / sqrt( 15.6 * ( 1-0.0147) * (1-0.326) ) = -1.118 </td>\n",
    "    <td>27 <br/>(19.2) <br/> (27 - 19.2) / sqrt( 19.2 * ( 1-0.216) * (1-0.326) ) = 2.449 </td>\n",
    "    <td>89/273 = 0.326</td>\n",
    "</tr>\n",
    "<tr>\n",
    "    <td> p_+j </td>\n",
    "    <td>29/273 = 0.106</td>\n",
    "    <td>137/273 = 0.502</td>\n",
    "    <td>4/273 = 0.0147</td>\n",
    "    <td>59/273 = 0.216</td>\n",
    "    <td>273/273 = 1 </td>\n",
    "</tr>\n",
    "</talbe>"
   ]
  },
  {
   "cell_type": "markdown",
   "metadata": {},
   "source": [
    "- **해석**\n",
    "    - **부모의 수입이 많은 경우의 대학졸업이 잔차가 커서 부모의 수입이 많으면 대학졸업을 하고 싶어하는 경향이 있닥 해석할 수 있음.**\n",
    "    - **나머지 경우에는 잔차가 작기 때문에 유의미한 결론을 내릴 수 없음.**"
   ]
  },
  {
   "cell_type": "markdown",
   "metadata": {},
   "source": [
    "### c. 검정력이 더 뛰어난 다른 검정을 한 후에 그 결과를 해석하라."
   ]
  },
  {
   "cell_type": "markdown",
   "metadata": {
    "collapsed": true
   },
   "source": [
    "<talbe>\n",
    "<tr>\n",
    "    <td rowspan=\"2\">부모의 수입</td>\n",
    "    <td colspan=\"5\">교육에 대한 열망</td>\n",
    "</tr>\n",
    "<tr>\n",
    "    <td>고 중퇴(1)</td>\n",
    "    <td>고 졸업(2)</td>\n",
    "    <td>대학 중퇴(3)</td>\n",
    "    <td>대학 졸업(4)</td>\n",
    "    <td>합계</td>\n",
    "</tr>\n",
    "<tr>\n",
    "    <td width=\"100\">적음(1)</td>\n",
    "    <td width=\"100\">9</td>\n",
    "    <td width=\"100\">44</td>\n",
    "    <td width=\"100\">13</td>\n",
    "    <td width=\"100\">10</td>\n",
    "    <td width=\"100\">76</td>\n",
    "</tr>\n",
    "<tr>\n",
    "    <td>중간(2)</td>\n",
    "    <td>11</td>\n",
    "    <td>52</td>\n",
    "    <td>23</td>\n",
    "    <td>22</td>\n",
    "    <td>108</td>\n",
    "</tr>\n",
    "<tr>\n",
    "    <td>많음(3)</td>\n",
    "    <td>9</td>\n",
    "    <td>41</td>\n",
    "    <td>12</td>\n",
    "    <td>27</td>\n",
    "    <td>89</td>\n",
    "</tr>\n",
    "<tr>\n",
    "    <td>합계</td>\n",
    "    <td>29</td>\n",
    "    <td>137</td>\n",
    "    <td>48</td>\n",
    "    <td>59</td>\n",
    "    <td>273</td>\n",
    "</tr>\n",
    "</talbe>"
   ]
  },
  {
   "cell_type": "markdown",
   "metadata": {},
   "source": [
    "- 순서형 자료의 독립성 검정\n",
    "- 행점수 : 부모의 수입 적음 (1), 부모의 수입 중간 (2), 부모의 수입 많음 (3) \n",
    "- 열점수 : 고 중퇴( 1 ), 고 졸업( 2 ), 대학 중퇴( 3 ), 대학 졸업( 4 )\n",
    "\n",
    "\n",
    "\n",
    "\\\\(  \\displaystyle\\sum_{ij} u_i v_j n(ij)  \\\\) = \n",
    "1 * 1 * 9 + \n",
    "1 * 2 * 44 + \n",
    "1 * 3 * 13 + \n",
    "1 * 4 * 10 +\n",
    "2 * 1 * 11 + \n",
    "2 * 2 * 52 + \n",
    "2 * 3 * 23 + \n",
    "2 * 4 * 22 + \n",
    "3 * 1 * 9  + \n",
    "3 * 2 * 41 + \n",
    "3 * 3 * 12 +\n",
    "3 * 4 * 27 = 1425\n",
    "\n",
    "\\\\(  \\displaystyle\\sum_{i} u_i n(i+)  \\\\) = \n",
    "1 * 76 + \n",
    "2 * 108 + \n",
    "3 * 89 = 559\n",
    "\n",
    "\\\\(  \\displaystyle\\sum_{j} v_j n(+j)  \\\\) = \n",
    "1 * 29 +\n",
    "2 * 137 +\n",
    "3 * 48 + \n",
    "4 * 59 = 683\n",
    "\n",
    "\\\\(  \\displaystyle\\sum_{i} u_i^2 n(i+)  \\\\) = \n",
    "1 ^ 2 * 76 + \n",
    "2 ^ 2 * 108 +\n",
    "3 ^ 2 * 89 = 1309\n",
    "\n",
    "\\\\(  ( \\displaystyle\\sum_{i} u_i n(i+) ) ^2  / n  \\\\)  = (\n",
    "1 * 76 + \n",
    "2 * 108 +\n",
    "3 * 89\n",
    ") ^2  / 273 = 1144.6\n",
    "\n",
    "\n",
    "\\\\(  \\displaystyle\\sum_{j} v_j^2 n(+j)  \\\\) = \n",
    "1 ^ 2 * 29 + \n",
    "2 ^ 2 * 137 +\n",
    "3 ^ 2 * 48 +\n",
    "4 ^ 2 * 59 = 1953\n",
    "\n",
    "\\\\(  ( \\displaystyle\\sum_{j} v_j n(+j) ) ^2  / n  \\\\)  = (\n",
    "1 * 29 + \n",
    "2 * 137 +\n",
    "3 * 48 +\n",
    "4 * 59\n",
    ") ^2  / 273 = 1708.8\n",
    "\n",
    "\n",
    "r  =  ( 1425 - 559 * 683 / 273 ) / sqrt( abs(1309 - 1144.6 ) * abs( 1953 - 1708.8 )  ) = 0.132\n",
    "\n",
    "**\\\\( M^2   =  ( n - 1 )r^2  \\\\) = ( 273 - 1 ) *  0.132 ^ 2 = 4.739328 **\n",
    "\n",
    "유의확률 : 0.029\n",
    "\n",
    "- 해석 \n",
    "    - ** 순서형 자료의 독립성 검정을 통해서 부모의 수입과 자식의 교육에 대한 열망에 대한 관련성이 있다라고 증거가 있음. ** "
   ]
  },
  {
   "cell_type": "code",
   "execution_count": null,
   "metadata": {
    "collapsed": true
   },
   "outputs": [],
   "source": []
  },
  {
   "cell_type": "code",
   "execution_count": 67,
   "metadata": {
    "collapsed": false
   },
   "outputs": [
    {
     "data": {
      "text/html": [
       "0.0294805845767919"
      ],
      "text/latex": [
       "0.0294805845767919"
      ],
      "text/markdown": [
       "0.0294805845767919"
      ],
      "text/plain": [
       "[1] 0.02948058"
      ]
     },
     "execution_count": 67,
     "metadata": {},
     "output_type": "execute_result"
    }
   ],
   "source": [
    "1 - pchisq(q=4.739328 , df=1, lower.tail = TRUE)"
   ]
  },
  {
   "cell_type": "code",
   "execution_count": null,
   "metadata": {
    "collapsed": true
   },
   "outputs": [],
   "source": []
  }
 ],
 "metadata": {
  "kernelspec": {
   "display_name": "R",
   "language": "R",
   "name": "ir"
  },
  "language_info": {
   "codemirror_mode": "r",
   "file_extension": ".r",
   "mimetype": "text/x-r-source",
   "name": "R",
   "pygments_lexer": "r",
   "version": "3.3.1"
  }
 },
 "nbformat": 4,
 "nbformat_minor": 0
}
