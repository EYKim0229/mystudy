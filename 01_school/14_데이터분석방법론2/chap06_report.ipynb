{
 "cells": [
  {
   "cell_type": "markdown",
   "metadata": {},
   "source": [
    "# 데이터분석방법론2 - 제6강 과제\n",
    "\n",
    "### 학    번 : 201685-010100\n",
    "###  성    명 : 지 용 기\n",
    "###  연 락 처 : 010-9828-0332, braveji@hanmail.net\n",
    "---"
   ]
  },
  {
   "cell_type": "markdown",
   "metadata": {},
   "source": [
    "## 문제 5.1> 참게 자료에 대해(http://www.stat.ufl.edu/~aa/intro-cda/appendix.html), 무게와 너비를 예측변수로 하는 모형을 적합하라."
   ]
  },
  {
   "cell_type": "code",
   "execution_count": 5,
   "metadata": {
    "collapsed": false
   },
   "outputs": [
    {
     "name": "stderr",
     "output_type": "stream",
     "text": [
      "\n",
      "Attaching package: 'dplyr'\n",
      "\n",
      "The following object is masked from 'package:stats':\n",
      "\n",
      "    filter\n",
      "\n",
      "The following objects are masked from 'package:base':\n",
      "\n",
      "    intersect, setdiff, setequal, union\n",
      "\n"
     ]
    }
   ],
   "source": [
    "library(dplyr)"
   ]
  },
  {
   "cell_type": "code",
   "execution_count": 7,
   "metadata": {
    "collapsed": false
   },
   "outputs": [
    {
     "data": {
      "text/html": [
       "<table>\n",
       "<thead><tr><th></th><th scope=col>color</th><th scope=col>spine</th><th scope=col>width</th><th scope=col>satell</th><th scope=col>weight</th></tr></thead>\n",
       "<tbody>\n",
       "\t<tr><th scope=row>1</th><td>3</td><td>3</td><td>28.3</td><td>8</td><td>3050</td></tr>\n",
       "\t<tr><th scope=row>2</th><td>4</td><td>3</td><td>22.5</td><td>0</td><td>1550</td></tr>\n",
       "\t<tr><th scope=row>3</th><td>2</td><td>1</td><td>26</td><td>9</td><td>2300</td></tr>\n",
       "\t<tr><th scope=row>4</th><td>4</td><td>3</td><td>24.8</td><td>0</td><td>2100</td></tr>\n",
       "\t<tr><th scope=row>5</th><td>4</td><td>3</td><td>26</td><td>4</td><td>2600</td></tr>\n",
       "\t<tr><th scope=row>6</th><td>3</td><td>3</td><td>23.8</td><td>0</td><td>2100</td></tr>\n",
       "</tbody>\n",
       "</table>\n"
      ],
      "text/latex": [
       "\\begin{tabular}{r|lllll}\n",
       "  & color & spine & width & satell & weight\\\\\n",
       "\\hline\n",
       "\t1 & 3 & 3 & 28.3 & 8 & 3050\\\\\n",
       "\t2 & 4 & 3 & 22.5 & 0 & 1550\\\\\n",
       "\t3 & 2 & 1 & 26 & 9 & 2300\\\\\n",
       "\t4 & 4 & 3 & 24.8 & 0 & 2100\\\\\n",
       "\t5 & 4 & 3 & 26 & 4 & 2600\\\\\n",
       "\t6 & 3 & 3 & 23.8 & 0 & 2100\\\\\n",
       "\\end{tabular}\n"
      ],
      "text/plain": [
       "  color spine width satell weight\n",
       "1     3     3  28.3      8   3050\n",
       "2     4     3  22.5      0   1550\n",
       "3     2     1  26.0      9   2300\n",
       "4     4     3  24.8      0   2100\n",
       "5     4     3  26.0      4   2600\n",
       "6     3     3  23.8      0   2100"
      ]
     },
     "execution_count": 7,
     "metadata": {},
     "output_type": "execute_result"
    },
    {
     "data": {
      "text/plain": [
       "     color           spine           width          satell           weight    \n",
       " Min.   :2.000   Min.   :1.000   Min.   :21.0   Min.   : 0.000   Min.   :1200  \n",
       " 1st Qu.:3.000   1st Qu.:2.000   1st Qu.:24.9   1st Qu.: 0.000   1st Qu.:2000  \n",
       " Median :3.000   Median :3.000   Median :26.1   Median : 2.000   Median :2350  \n",
       " Mean   :3.439   Mean   :2.486   Mean   :26.3   Mean   : 2.919   Mean   :2437  \n",
       " 3rd Qu.:4.000   3rd Qu.:3.000   3rd Qu.:27.7   3rd Qu.: 5.000   3rd Qu.:2850  \n",
       " Max.   :5.000   Max.   :3.000   Max.   :33.5   Max.   :15.000   Max.   :5200  "
      ]
     },
     "execution_count": 7,
     "metadata": {},
     "output_type": "execute_result"
    }
   ],
   "source": [
    "crab <- read.csv('chap06_report_01.csv', head=T)\n",
    "head(crab)\n",
    "summary(crab)"
   ]
  },
  {
   "cell_type": "code",
   "execution_count": 12,
   "metadata": {
    "collapsed": false
   },
   "outputs": [
    {
     "data": {
      "text/plain": [
       "\n",
       "Call:\n",
       "glm(formula = has_satell ~ color + spine + width + weight, family = binomial(link = \"logit\"), \n",
       "    data = crab_add)\n",
       "\n",
       "Deviance Residuals: \n",
       "    Min       1Q   Median       3Q      Max  \n",
       "-2.1928  -0.9465   0.4919   0.8682   1.9892  \n",
       "\n",
       "Coefficients:\n",
       "              Estimate Std. Error z value Pr(>|z|)  \n",
       "(Intercept) -7.0078436  3.8034845  -1.842   0.0654 .\n",
       "color       -0.5915286  0.2417241  -2.447   0.0144 *\n",
       "spine        0.2716837  0.2410407   1.127   0.2597  \n",
       "width        0.2732525  0.1893304   1.443   0.1489  \n",
       "weight       0.0007949  0.0006917   1.149   0.2505  \n",
       "---\n",
       "Signif. codes:  0 '***' 0.001 '**' 0.01 '*' 0.05 '.' 0.1 ' ' 1\n",
       "\n",
       "(Dispersion parameter for binomial family taken to be 1)\n",
       "\n",
       "    Null deviance: 225.76  on 172  degrees of freedom\n",
       "Residual deviance: 186.66  on 168  degrees of freedom\n",
       "AIC: 196.66\n",
       "\n",
       "Number of Fisher Scoring iterations: 4\n"
      ]
     },
     "execution_count": 12,
     "metadata": {},
     "output_type": "execute_result"
    }
   ],
   "source": [
    "crab_add <- mutate( crab , has_satell =  ifelse( satell > 0 , 1 , 0)  )\n",
    "crab_add.glm <- glm( has_satell ~ color + spine + width + weight  , binomial(link=\"logit\"),   data=crab_add )\n",
    "summary( crab_add.glm  )"
   ]
  },
  {
   "cell_type": "markdown",
   "metadata": {},
   "source": [
    "### a. 예측식을 구하고 효과를 해석하라. "
   ]
  },
  {
   "cell_type": "markdown",
   "metadata": {},
   "source": [
    "- logit[ P( Y = 1) ] = -7.0078436 + -0.5915286 core +  0.2716837 spine  + 0.2732525  width  + 0.0007949 weight  으로 예측식이 나왔지만, Wald 검정방법으로는 유의한 변수는 color 뿐임.\n",
    "- 그래서, logit[ P( Y = 1) ] = -7.0078436 + -0.5915286 core 임.\n",
    "- color가 한 단위 증가할수록  e ^ ( -0.5915286  ) =  0.553 만큼 오즈비가 내려감."
   ]
  },
  {
   "cell_type": "code",
   "execution_count": 16,
   "metadata": {
    "collapsed": false
   },
   "outputs": [
    {
     "data": {
      "text/html": [
       "0.553480587342746"
      ],
      "text/latex": [
       "0.553480587342746"
      ],
      "text/markdown": [
       "0.553480587342746"
      ],
      "text/plain": [
       "[1] 0.5534806"
      ]
     },
     "execution_count": 16,
     "metadata": {},
     "output_type": "execute_result"
    }
   ],
   "source": [
    "exp( -0.5915286  ) "
   ]
  },
  {
   "cell_type": "markdown",
   "metadata": {},
   "source": [
    "### b. 어떤 예측변수도 반응변수에 영향을 주지 않는다는 가설에 대한 가능도비 검정을 실시하고 결과를 해석하라. "
   ]
  },
  {
   "cell_type": "code",
   "execution_count": 18,
   "metadata": {
    "collapsed": false
   },
   "outputs": [
    {
     "data": {
      "text/html": [
       "<table>\n",
       "<thead><tr><th></th><th scope=col>Df</th><th scope=col>Deviance</th><th scope=col>Resid. Df</th><th scope=col>Resid. Dev</th><th scope=col>Pr(>Chi)</th></tr></thead>\n",
       "<tbody>\n",
       "\t<tr><th scope=row>NULL</th><td>NA</td><td>NA</td><td>172</td><td>225.7585</td><td>NA</td></tr>\n",
       "\t<tr><th scope=row>color</th><td>1</td><td>12.46065</td><td>171</td><td>213.2979</td><td>0.0004156143</td></tr>\n",
       "\t<tr><th scope=row>spine</th><td>1</td><td>1.045974</td><td>170</td><td>212.2519</td><td>0.3064362</td></tr>\n",
       "\t<tr><th scope=row>width</th><td>1</td><td>24.23604</td><td>169</td><td>188.0159</td><td>8.52226e-07</td></tr>\n",
       "\t<tr><th scope=row>weight</th><td>1</td><td>1.355241</td><td>168</td><td>186.6606</td><td>0.244364</td></tr>\n",
       "</tbody>\n",
       "</table>\n"
      ],
      "text/latex": [
       "\\begin{tabular}{r|lllll}\n",
       "  & Df & Deviance & Resid. Df & Resid. Dev & Pr(>Chi)\\\\\n",
       "\\hline\n",
       "\tNULL & NA & NA & 172 & 225.7585 & NA\\\\\n",
       "\tcolor & 1 & 12.46065 & 171 & 213.2979 & 0.0004156143\\\\\n",
       "\tspine & 1 & 1.045974 & 170 & 212.2519 & 0.3064362\\\\\n",
       "\twidth & 1 & 24.23604 & 169 & 188.0159 & 8.52226e-07\\\\\n",
       "\tweight & 1 & 1.355241 & 168 & 186.6606 & 0.244364\\\\\n",
       "\\end{tabular}\n"
      ],
      "text/plain": [
       "Analysis of Deviance Table\n",
       "\n",
       "Model: binomial, link: logit\n",
       "\n",
       "Response: has_satell\n",
       "\n",
       "Terms added sequentially (first to last)\n",
       "\n",
       "\n",
       "       Df Deviance Resid. Df Resid. Dev  Pr(>Chi)    \n",
       "NULL                     172     225.76              \n",
       "color   1  12.4607       171     213.30 0.0004156 ***\n",
       "spine   1   1.0460       170     212.25 0.3064362    \n",
       "width   1  24.2360       169     188.02 8.522e-07 ***\n",
       "weight  1   1.3552       168     186.66 0.2443640    \n",
       "---\n",
       "Signif. codes:  0 '***' 0.001 '**' 0.01 '*' 0.05 '.' 0.1 ' ' 1"
      ]
     },
     "execution_count": 18,
     "metadata": {},
     "output_type": "execute_result"
    }
   ],
   "source": [
    "crab_add.glm.anova <- anova( crab_add.glm,  test=\"Chisq\")\n",
    "crab_add.glm.anova"
   ]
  },
  {
   "cell_type": "markdown",
   "metadata": {},
   "source": [
    "- 가능도비 검정에서는 color와 width 변수가 유의미하고 spine과  weight 는 유의미하지 않음."
   ]
  },
  {
   "cell_type": "markdown",
   "metadata": {},
   "source": [
    "### c. 각 변수의 부분효과에 대해 각각 가능도비 검정을 실시하라. 왜 (b)의 검정방법에서는 매우 유의하게 나오지만 각각의 검정에서는 그렇지 않은가?"
   ]
  },
  {
   "cell_type": "code",
   "execution_count": 19,
   "metadata": {
    "collapsed": false
   },
   "outputs": [
    {
     "data": {
      "text/html": [
       "<table>\n",
       "<thead><tr><th></th><th scope=col>Df</th><th scope=col>Deviance</th><th scope=col>Resid. Df</th><th scope=col>Resid. Dev</th><th scope=col>Pr(>Chi)</th></tr></thead>\n",
       "<tbody>\n",
       "\t<tr><th scope=row>NULL</th><td>NA</td><td>NA</td><td>172</td><td>225.7585</td><td>NA</td></tr>\n",
       "\t<tr><th scope=row>color</th><td>1</td><td>12.46065</td><td>171</td><td>213.2979</td><td>0.0004156143</td></tr>\n",
       "</tbody>\n",
       "</table>\n"
      ],
      "text/latex": [
       "\\begin{tabular}{r|lllll}\n",
       "  & Df & Deviance & Resid. Df & Resid. Dev & Pr(>Chi)\\\\\n",
       "\\hline\n",
       "\tNULL & NA & NA & 172 & 225.7585 & NA\\\\\n",
       "\tcolor & 1 & 12.46065 & 171 & 213.2979 & 0.0004156143\\\\\n",
       "\\end{tabular}\n"
      ],
      "text/plain": [
       "Analysis of Deviance Table\n",
       "\n",
       "Model: binomial, link: logit\n",
       "\n",
       "Response: has_satell\n",
       "\n",
       "Terms added sequentially (first to last)\n",
       "\n",
       "\n",
       "      Df Deviance Resid. Df Resid. Dev  Pr(>Chi)    \n",
       "NULL                    172     225.76              \n",
       "color  1   12.461       171     213.30 0.0004156 ***\n",
       "---\n",
       "Signif. codes:  0 '***' 0.001 '**' 0.01 '*' 0.05 '.' 0.1 ' ' 1"
      ]
     },
     "execution_count": 19,
     "metadata": {},
     "output_type": "execute_result"
    }
   ],
   "source": [
    "crab_add.glm_color  <- glm( has_satell ~ color , binomial(link=\"logit\"),   data=crab_add )\n",
    "crab_add.glm_color.anova <- anova( crab_add.glm_color,  test=\"Chisq\")\n",
    "crab_add.glm_color.anova"
   ]
  },
  {
   "cell_type": "code",
   "execution_count": 20,
   "metadata": {
    "collapsed": false
   },
   "outputs": [
    {
     "data": {
      "text/html": [
       "<table>\n",
       "<thead><tr><th></th><th scope=col>Df</th><th scope=col>Deviance</th><th scope=col>Resid. Df</th><th scope=col>Resid. Dev</th><th scope=col>Pr(>Chi)</th></tr></thead>\n",
       "<tbody>\n",
       "\t<tr><th scope=row>NULL</th><td>NA</td><td>NA</td><td>172</td><td>225.7585</td><td>NA</td></tr>\n",
       "\t<tr><th scope=row>spine</th><td>1</td><td>0.134229</td><td>171</td><td>225.6243</td><td>0.714087</td></tr>\n",
       "</tbody>\n",
       "</table>\n"
      ],
      "text/latex": [
       "\\begin{tabular}{r|lllll}\n",
       "  & Df & Deviance & Resid. Df & Resid. Dev & Pr(>Chi)\\\\\n",
       "\\hline\n",
       "\tNULL & NA & NA & 172 & 225.7585 & NA\\\\\n",
       "\tspine & 1 & 0.134229 & 171 & 225.6243 & 0.714087\\\\\n",
       "\\end{tabular}\n"
      ],
      "text/plain": [
       "Analysis of Deviance Table\n",
       "\n",
       "Model: binomial, link: logit\n",
       "\n",
       "Response: has_satell\n",
       "\n",
       "Terms added sequentially (first to last)\n",
       "\n",
       "\n",
       "      Df Deviance Resid. Df Resid. Dev Pr(>Chi)\n",
       "NULL                    172     225.76         \n",
       "spine  1  0.13423       171     225.62   0.7141"
      ]
     },
     "execution_count": 20,
     "metadata": {},
     "output_type": "execute_result"
    }
   ],
   "source": [
    "crab_add.glm_spine  <- glm( has_satell ~ spine , binomial(link=\"logit\"),   data=crab_add )\n",
    "crab_add.glm_spine.anova <- anova( crab_add.glm_spine,  test=\"Chisq\")\n",
    "crab_add.glm_spine.anova"
   ]
  },
  {
   "cell_type": "code",
   "execution_count": 21,
   "metadata": {
    "collapsed": false
   },
   "outputs": [
    {
     "data": {
      "text/html": [
       "<table>\n",
       "<thead><tr><th></th><th scope=col>Df</th><th scope=col>Deviance</th><th scope=col>Resid. Df</th><th scope=col>Resid. Dev</th><th scope=col>Pr(>Chi)</th></tr></thead>\n",
       "<tbody>\n",
       "\t<tr><th scope=row>NULL</th><td>NA</td><td>NA</td><td>172</td><td>225.7585</td><td>NA</td></tr>\n",
       "\t<tr><th scope=row>width</th><td>1</td><td>31.30586</td><td>171</td><td>194.4527</td><td>2.204134e-08</td></tr>\n",
       "</tbody>\n",
       "</table>\n"
      ],
      "text/latex": [
       "\\begin{tabular}{r|lllll}\n",
       "  & Df & Deviance & Resid. Df & Resid. Dev & Pr(>Chi)\\\\\n",
       "\\hline\n",
       "\tNULL & NA & NA & 172 & 225.7585 & NA\\\\\n",
       "\twidth & 1 & 31.30586 & 171 & 194.4527 & 2.204134e-08\\\\\n",
       "\\end{tabular}\n"
      ],
      "text/plain": [
       "Analysis of Deviance Table\n",
       "\n",
       "Model: binomial, link: logit\n",
       "\n",
       "Response: has_satell\n",
       "\n",
       "Terms added sequentially (first to last)\n",
       "\n",
       "\n",
       "      Df Deviance Resid. Df Resid. Dev  Pr(>Chi)    \n",
       "NULL                    172     225.76              \n",
       "width  1   31.306       171     194.45 2.204e-08 ***\n",
       "---\n",
       "Signif. codes:  0 '***' 0.001 '**' 0.01 '*' 0.05 '.' 0.1 ' ' 1"
      ]
     },
     "execution_count": 21,
     "metadata": {},
     "output_type": "execute_result"
    }
   ],
   "source": [
    "crab_add.glm_width  <- glm( has_satell ~ width , binomial(link=\"logit\"),   data=crab_add )\n",
    "crab_add.glm_width.anova <- anova( crab_add.glm_width,  test=\"Chisq\")\n",
    "crab_add.glm_width.anova"
   ]
  },
  {
   "cell_type": "code",
   "execution_count": 22,
   "metadata": {
    "collapsed": false
   },
   "outputs": [
    {
     "data": {
      "text/html": [
       "<table>\n",
       "<thead><tr><th></th><th scope=col>Df</th><th scope=col>Deviance</th><th scope=col>Resid. Df</th><th scope=col>Resid. Dev</th><th scope=col>Pr(>Chi)</th></tr></thead>\n",
       "<tbody>\n",
       "\t<tr><th scope=row>NULL</th><td>NA</td><td>NA</td><td>172</td><td>225.7585</td><td>NA</td></tr>\n",
       "\t<tr><th scope=row>weight</th><td>1</td><td>30.02137</td><td>171</td><td>195.7371</td><td>4.273103e-08</td></tr>\n",
       "</tbody>\n",
       "</table>\n"
      ],
      "text/latex": [
       "\\begin{tabular}{r|lllll}\n",
       "  & Df & Deviance & Resid. Df & Resid. Dev & Pr(>Chi)\\\\\n",
       "\\hline\n",
       "\tNULL & NA & NA & 172 & 225.7585 & NA\\\\\n",
       "\tweight & 1 & 30.02137 & 171 & 195.7371 & 4.273103e-08\\\\\n",
       "\\end{tabular}\n"
      ],
      "text/plain": [
       "Analysis of Deviance Table\n",
       "\n",
       "Model: binomial, link: logit\n",
       "\n",
       "Response: has_satell\n",
       "\n",
       "Terms added sequentially (first to last)\n",
       "\n",
       "\n",
       "       Df Deviance Resid. Df Resid. Dev  Pr(>Chi)    \n",
       "NULL                     172     225.76              \n",
       "weight  1   30.021       171     195.74 4.273e-08 ***\n",
       "---\n",
       "Signif. codes:  0 '***' 0.001 '**' 0.01 '*' 0.05 '.' 0.1 ' ' 1"
      ]
     },
     "execution_count": 22,
     "metadata": {},
     "output_type": "execute_result"
    }
   ],
   "source": [
    "crab_add.glm_weight  <- glm( has_satell ~ weight , binomial(link=\"logit\"),   data=crab_add )\n",
    "crab_add.glm_weight.anova <- anova( crab_add.glm_weight,  test=\"Chisq\")\n",
    "crab_add.glm_weight.anova"
   ]
  },
  {
   "cell_type": "markdown",
   "metadata": {},
   "source": [
    "-  spine 데이터만 빼고는 모두 유의미하게 나옴.\n",
    "- 전체로 했을때와 부분변수로만 했을때와 차이가 있는 것은 변수들간의 교호작용 효과와 변수들간의 다중공분산성이 있기 때문임."
   ]
  },
  {
   "cell_type": "markdown",
   "metadata": {},
   "source": [
    "## 문제 5.3> 참게 자료에서 너비(W), 색깔(C)과 등뼈상태(S)를 예측변수로 사용한 가장 복잡한 모형을 가지고 후진제거법을 적용해보자. C*S*W는 세 예측변수 각각에 대한 주효과와 세 개 의 이차 교호작용과 하나의 삼차 교호작용을 포함하는 모형이다. <표 5.9>는 이 모형과 여러 가지의 간단한 모형들에 대한 적합 결과를 보여준다."
   ]
  },
  {
   "cell_type": "markdown",
   "metadata": {},
   "source": [
    "### a. 이 모형과 삼차 교호작용만을 제거한 모형을 비교하는 가능도비 검정을 시행하라. 삼차 교호작용항은 이 모형에서 제거될 수 있는가?"
   ]
  },
  {
   "cell_type": "code",
   "execution_count": null,
   "metadata": {
    "collapsed": true
   },
   "outputs": [],
   "source": []
  },
  {
   "cell_type": "markdown",
   "metadata": {},
   "source": [
    "### b. 다음 단계에서 만약 하나의 항을 더 제거해야 한다면 모형 C*S+C*W을 선택해야 되는 이유를 설명하라"
   ]
  },
  {
   "cell_type": "code",
   "execution_count": null,
   "metadata": {
    "collapsed": true
   },
   "outputs": [],
   "source": []
  },
  {
   "cell_type": "markdown",
   "metadata": {},
   "source": [
    "### c. 이 단계에서 이 모형과 S+C*W을 비교한 결과 이탈도는 8.0 (df=6 (P-값=0.24))이다. W+C*S와 비교한 결과 이탈도는 3.9 (df=3 (P-값=0.27))이다. 어떤 항을 제거해야 하는가?"
   ]
  },
  {
   "cell_type": "code",
   "execution_count": null,
   "metadata": {
    "collapsed": true
   },
   "outputs": [],
   "source": []
  },
  {
   "cell_type": "markdown",
   "metadata": {},
   "source": [
    "### d. 마지막으로 앞에서 선택한 모형을 주효과 모형 C+S+W와 비교하라. 주효과 모형으로 축소시킬 수 있는가?"
   ]
  },
  {
   "cell_type": "markdown",
   "metadata": {},
   "source": []
  },
  {
   "cell_type": "markdown",
   "metadata": {},
   "source": [
    "### e. 표에 있는 모형들 중에서 어떤 모형이 AIC의 기준에서 가장 적절한가?"
   ]
  },
  {
   "cell_type": "code",
   "execution_count": null,
   "metadata": {
    "collapsed": true
   },
   "outputs": [],
   "source": []
  }
 ],
 "metadata": {
  "kernelspec": {
   "display_name": "R",
   "language": "R",
   "name": "ir"
  },
  "language_info": {
   "codemirror_mode": "r",
   "file_extension": ".r",
   "mimetype": "text/x-r-source",
   "name": "R",
   "pygments_lexer": "r",
   "version": "3.3.1"
  }
 },
 "nbformat": 4,
 "nbformat_minor": 0
}
