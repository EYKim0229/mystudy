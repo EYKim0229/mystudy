{
 "cells": [
  {
   "cell_type": "markdown",
   "metadata": {},
   "source": [
    "# 데이터분석방법론2 - 제5강 과제\n",
    "\n",
    "### 학    번 : 201685-010100\n",
    "###  성    명 : 지 용 기\n",
    "###  연 락 처 : 010-9828-0332, braveji@hanmail.net\n",
    "---"
   ]
  },
  {
   "cell_type": "markdown",
   "metadata": {},
   "source": [
    "![](chap05_01.jpg)"
   ]
  },
  {
   "cell_type": "markdown",
   "metadata": {},
   "source": [
    "### a.로지스틱 회귀모형을 이용하여 열 문제가 발생할 확률에 대한 기온의 효과를 적합하고 적합 결과를 해석하라."
   ]
  },
  {
   "cell_type": "code",
   "execution_count": 6,
   "metadata": {
    "collapsed": false
   },
   "outputs": [
    {
     "data": {
      "text/html": [
       "<table>\n",
       "<thead><tr><th></th><th scope=col>temp</th><th scope=col>td</th></tr></thead>\n",
       "<tbody>\n",
       "\t<tr><th scope=row>1</th><td>66</td><td>0</td></tr>\n",
       "\t<tr><th scope=row>2</th><td>70</td><td>1</td></tr>\n",
       "\t<tr><th scope=row>3</th><td>69</td><td>0</td></tr>\n",
       "\t<tr><th scope=row>4</th><td>68</td><td>0</td></tr>\n",
       "\t<tr><th scope=row>5</th><td>67</td><td>0</td></tr>\n",
       "\t<tr><th scope=row>6</th><td>72</td><td>0</td></tr>\n",
       "</tbody>\n",
       "</table>\n"
      ],
      "text/latex": [
       "\\begin{tabular}{r|ll}\n",
       "  & temp & td\\\\\n",
       "\\hline\n",
       "\t1 & 66 & 0\\\\\n",
       "\t2 & 70 & 1\\\\\n",
       "\t3 & 69 & 0\\\\\n",
       "\t4 & 68 & 0\\\\\n",
       "\t5 & 67 & 0\\\\\n",
       "\t6 & 72 & 0\\\\\n",
       "\\end{tabular}\n"
      ],
      "text/plain": [
       "  temp td\n",
       "1   66  0\n",
       "2   70  1\n",
       "3   69  0\n",
       "4   68  0\n",
       "5   67  0\n",
       "6   72  0"
      ]
     },
     "execution_count": 6,
     "metadata": {},
     "output_type": "execute_result"
    },
    {
     "data": {
      "text/plain": [
       "      temp       td    \n",
       " Min.   :53.00   0:16  \n",
       " 1st Qu.:67.00   1: 7  \n",
       " Median :70.00         \n",
       " Mean   :69.57         \n",
       " 3rd Qu.:75.00         \n",
       " Max.   :81.00         "
      ]
     },
     "execution_count": 6,
     "metadata": {},
     "output_type": "execute_result"
    }
   ],
   "source": [
    "temp <- c( 66, 70, 69, 68, 67, 72, 73, 70,\n",
    "          57, 63, 70, 78, 67, 53, 67, 75,\n",
    "          70, 81, 76, 79, 75, 76, 58 )\n",
    "td <- factor( c( 0, 1, 0, 0, 0, 0, 0, 0,\n",
    "                 1, 1, 1, 0, 0, 1, 0, 0,\n",
    "                 0, 0, 0, 0, 1, 0, 1 ), levels=c(0, 1) )\n",
    "\n",
    "space_accident <- data.frame(temp, td )\n",
    "head( space_accident )\n",
    "summary( space_accident )"
   ]
  },
  {
   "cell_type": "code",
   "execution_count": 7,
   "metadata": {
    "collapsed": false
   },
   "outputs": [
    {
     "data": {
      "text/plain": [
       "\n",
       "Call:\n",
       "glm(formula = td ~ temp, family = binomial(link = \"logit\"), data = space_accident)\n",
       "\n",
       "Deviance Residuals: \n",
       "    Min       1Q   Median       3Q      Max  \n",
       "-1.0611  -0.7613  -0.3783   0.4524   2.2175  \n",
       "\n",
       "Coefficients:\n",
       "            Estimate Std. Error z value Pr(>|z|)  \n",
       "(Intercept)  15.0429     7.3786   2.039   0.0415 *\n",
       "temp         -0.2322     0.1082  -2.145   0.0320 *\n",
       "---\n",
       "Signif. codes:  0 '***' 0.001 '**' 0.01 '*' 0.05 '.' 0.1 ' ' 1\n",
       "\n",
       "(Dispersion parameter for binomial family taken to be 1)\n",
       "\n",
       "    Null deviance: 28.267  on 22  degrees of freedom\n",
       "Residual deviance: 20.315  on 21  degrees of freedom\n",
       "AIC: 24.315\n",
       "\n",
       "Number of Fisher Scoring iterations: 5\n"
      ]
     },
     "execution_count": 7,
     "metadata": {},
     "output_type": "execute_result"
    }
   ],
   "source": [
    "space_accident.glm <- glm( td ~ temp  , binomial(link=\"logit\"),   data=space_accident )\n",
    "summary( space_accident.glm )"
   ]
  },
  {
   "cell_type": "markdown",
   "metadata": {},
   "source": [
    "### 해석\n",
    "\n",
    "- ** \\\\( logit[ \\pi(x) ]  = 15.0429  -0.2322x \\\\)  라는 모형으로 적합되어 있으며, \n",
    "\\\\( \\alpha 와 \\beta \\\\)  의 유의수준이 0.05보다 작으므로 모형은 유의미함.  ** \n",
    "- ** e ^ ( 0.232 ) = 1.26137197799817 이므로 온도가 한 단위 떨어지면, 1.26만큼 사고 확율이 증가함. **"
   ]
  },
  {
   "cell_type": "code",
   "execution_count": 8,
   "metadata": {
    "collapsed": false
   },
   "outputs": [
    {
     "data": {
      "text/html": [
       "1.26137197799817"
      ],
      "text/latex": [
       "1.26137197799817"
      ],
      "text/markdown": [
       "1.26137197799817"
      ],
      "text/plain": [
       "[1] 1.261372"
      ]
     },
     "execution_count": 8,
     "metadata": {},
     "output_type": "execute_result"
    }
   ],
   "source": [
    " exp( 0.2322 )"
   ]
  },
  {
   "cell_type": "markdown",
   "metadata": {},
   "source": [
    "### b. 챌린저호 비행시의 기온이 31℉에서 열문제가 발생할 확률을 예측하라."
   ]
  },
  {
   "cell_type": "markdown",
   "metadata": {},
   "source": [
    "- **  \\\\( logit[ \\pi( 31 ) ]  = 15.0429 - 0.2322 * 31 \\\\)  **\n",
    "- **  \\\\( log[ \\pi( 31 ) / ( 1 - \\pi( 31 ) ) ]  = 15.0429 - 0.2322 * 31 \\\\)  **\n",
    "- **  \\\\(  \\pi( 31 ) / ( 1 - \\pi( 31 ) )   =  e ^ ( 15.0429 - 0.2322 * 31 )  \\\\)  **\n",
    "\n",
    "- **  \\\\(  \\pi( 31 ) =  e ^ ( 15.0429 - 0.2322 * 31 )  \\\\)  **\n",
    "    - **  \\\\(      /         ( 1 +  e ^ ( 15.0429 - 0.2322 * 31 ) ) \\\\)  **\n",
    "- ** 이므로 0.9996 %  **"
   ]
  },
  {
   "cell_type": "code",
   "execution_count": 9,
   "metadata": {
    "collapsed": false
   },
   "outputs": [
    {
     "data": {
      "text/html": [
       "0.999608330327805"
      ],
      "text/latex": [
       "0.999608330327805"
      ],
      "text/markdown": [
       "0.999608330327805"
      ],
      "text/plain": [
       "[1] 0.9996083"
      ]
     },
     "execution_count": 9,
     "metadata": {},
     "output_type": "execute_result"
    }
   ],
   "source": [
    "exp( 15.0429 - 0.2322 * 31  ) / ( 1 + exp( 15.0429 - 0.2322 * 31  ) ) "
   ]
  },
  {
   "cell_type": "markdown",
   "metadata": {},
   "source": [
    "### c. 기온이 몇 도일 때에 예측확률이 0.50이 되는가? 구한 기온값에서 기온이 1도 증가함에 따라 나타나는 예측확률의 변화를 나타내는 선형근사식을 구하라."
   ]
  },
  {
   "cell_type": "markdown",
   "metadata": {},
   "source": [
    "- ** \\\\(  x =  - \\alpha / \\beta  \\\\) ** 이므로\n",
    "- ** \\\\(  -15.0429  / -0.2322  =    \\\\) 64.7842377260982   ** "
   ]
  },
  {
   "cell_type": "code",
   "execution_count": 10,
   "metadata": {
    "collapsed": false
   },
   "outputs": [
    {
     "data": {
      "text/html": [
       "64.7842377260982"
      ],
      "text/latex": [
       "64.7842377260982"
      ],
      "text/markdown": [
       "64.7842377260982"
      ],
      "text/plain": [
       "[1] 64.78424"
      ]
     },
     "execution_count": 10,
     "metadata": {},
     "output_type": "execute_result"
    }
   ],
   "source": [
    "-15.0429  / -0.2322"
   ]
  },
  {
   "cell_type": "markdown",
   "metadata": {},
   "source": [
    "- ** 예측확률 0.5 이후에 기온 1도 증가함에 따라서 1.26 만큼 사고 확율이 증가하므로 **\n",
    "- ** \\\\(  \\pi( x ) =  0.5 + 0.0126 x  \\\\)  **"
   ]
  },
  {
   "cell_type": "markdown",
   "metadata": {},
   "source": [
    "### d. 열문제가 발생할 오즈에 대한 기온의 효과를 해석하라"
   ]
  },
  {
   "cell_type": "markdown",
   "metadata": {},
   "source": [
    "- ** x + 1 에서의 오즈는 X에서의 오즈의 \\\\(  e^\\beta \\\\) 를 곱한것과 같으므로 **\n",
    "- ** 기온 한단위가 증가할때마다  \\\\(  e^( -0.2322 ) \\\\) ** = 0.79278 만큼 오즈가 증가함."
   ]
  },
  {
   "cell_type": "code",
   "execution_count": 11,
   "metadata": {
    "collapsed": false
   },
   "outputs": [
    {
     "data": {
      "text/html": [
       "0.792787549939888"
      ],
      "text/latex": [
       "0.792787549939888"
      ],
      "text/markdown": [
       "0.792787549939888"
      ],
      "text/plain": [
       "[1] 0.7927875"
      ]
     },
     "execution_count": 11,
     "metadata": {},
     "output_type": "execute_result"
    }
   ],
   "source": [
    "exp( -0.2322 ) "
   ]
  },
  {
   "cell_type": "markdown",
   "metadata": {},
   "source": [
    "### e. (i) 왈드 검정과 (ii) 가능도비 검정을 이용하여 기온의 효과에 대한 가설검정을 하라"
   ]
  },
  {
   "cell_type": "markdown",
   "metadata": {},
   "source": [
    "- 왈드 검정 신뢰 구간 \n",
    "- 0.95% 신뢰구간에 0을 포함하지 않으므로  \\\\( \\beta  \\\\) 값은 유효함."
   ]
  },
  {
   "cell_type": "code",
   "execution_count": 12,
   "metadata": {
    "collapsed": false
   },
   "outputs": [
    {
     "data": {
      "text/html": [
       "<table>\n",
       "<thead><tr><th></th><th scope=col>2.5 %</th><th scope=col>97.5 %</th></tr></thead>\n",
       "<tbody>\n",
       "\t<tr><th scope=row>(Intercept)</th><td> 0.5810523</td><td>29.5047510</td></tr>\n",
       "\t<tr><th scope=row>temp</th><td>-0.44430225</td><td>-0.02002324</td></tr>\n",
       "</tbody>\n",
       "</table>\n"
      ],
      "text/latex": [
       "\\begin{tabular}{r|ll}\n",
       "  & 2.5 % & 97.5 %\\\\\n",
       "\\hline\n",
       "\t(Intercept) &  0.5810523 & 29.5047510\\\\\n",
       "\ttemp & -0.44430225 & -0.02002324\\\\\n",
       "\\end{tabular}\n"
      ],
      "text/markdown": [
       "1. 0.581052334147078\n",
       "2. -0.444302247949398\n",
       "3. 29.5047509612311\n",
       "4. -0.0200232404874026\n",
       "\n",
       "\n"
      ],
      "text/plain": [
       "                 2.5 %      97.5 %\n",
       "(Intercept)  0.5810523 29.50475096\n",
       "temp        -0.4443022 -0.02002324"
      ]
     },
     "execution_count": 12,
     "metadata": {},
     "output_type": "execute_result"
    }
   ],
   "source": [
    "confint.default(  space_accident.glm, level = 0.95 )"
   ]
  },
  {
   "cell_type": "markdown",
   "metadata": {},
   "source": [
    "- 가능도비 검정 신뢰 구간 \n",
    "- 0.95% 신뢰구간에 0을 포함하지 않으므로  \\\\( \\beta  \\\\) 값은 유효함."
   ]
  },
  {
   "cell_type": "code",
   "execution_count": 13,
   "metadata": {
    "collapsed": false
   },
   "outputs": [
    {
     "name": "stderr",
     "output_type": "stream",
     "text": [
      "Waiting for profiling to be done...\n"
     ]
    },
    {
     "data": {
      "text/html": [
       "<table>\n",
       "<thead><tr><th></th><th scope=col>2.5 %</th><th scope=col>97.5 %</th></tr></thead>\n",
       "<tbody>\n",
       "\t<tr><th scope=row>(Intercept)</th><td> 3.330585</td><td>34.342151</td></tr>\n",
       "\t<tr><th scope=row>temp</th><td>-0.51547175</td><td>-0.06082076</td></tr>\n",
       "</tbody>\n",
       "</table>\n"
      ],
      "text/latex": [
       "\\begin{tabular}{r|ll}\n",
       "  & 2.5 % & 97.5 %\\\\\n",
       "\\hline\n",
       "\t(Intercept) &  3.330585 & 34.342151\\\\\n",
       "\ttemp & -0.51547175 & -0.06082076\\\\\n",
       "\\end{tabular}\n"
      ],
      "text/markdown": [
       "1. 3.33058477421918\n",
       "2. -0.515471752829293\n",
       "3. 34.3421513322543\n",
       "4. -0.0608207616162704\n",
       "\n",
       "\n"
      ],
      "text/plain": [
       "                 2.5 %      97.5 %\n",
       "(Intercept)  3.3305848 34.34215133\n",
       "temp        -0.5154718 -0.06082076"
      ]
     },
     "execution_count": 13,
     "metadata": {},
     "output_type": "execute_result"
    }
   ],
   "source": [
    "confint(  space_accident.glm, level = 0.95 )"
   ]
  },
  {
   "cell_type": "code",
   "execution_count": null,
   "metadata": {
    "collapsed": true
   },
   "outputs": [],
   "source": []
  }
 ],
 "metadata": {
  "kernelspec": {
   "display_name": "R",
   "language": "R",
   "name": "ir"
  },
  "language_info": {
   "codemirror_mode": "r",
   "file_extension": ".r",
   "mimetype": "text/x-r-source",
   "name": "R",
   "pygments_lexer": "r",
   "version": "3.3.1"
  }
 },
 "nbformat": 4,
 "nbformat_minor": 0
}
