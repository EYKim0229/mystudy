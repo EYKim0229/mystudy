{
 "cells": [
  {
   "cell_type": "markdown",
   "metadata": {},
   "source": [
    "# 03장 The Geospatial Technology Landscape"
   ]
  },
  {
   "cell_type": "markdown",
   "metadata": {
    "collapsed": true
   },
   "source": [
    "Geospatial libraries들은 아래 4가지 카테고리에 한 가지 이상에 포함됨.\n",
    "\n",
    "- Data access\n",
    "- Computational geometry (including data reprojection)\n",
    "- Visualization\n",
    "- Metadata tools"
   ]
  },
  {
   "cell_type": "markdown",
   "metadata": {},
   "source": [
    "아래 그림은 핵심적인 geospatial software libraries와 packages들과 이들의 관계를 보여줌.\n",
    "\n",
    "- GDAL, OGR, GEOS, and PROJ.4는 오픈소스 진영과 상용소프트웨어에서 geospatial analysis community의 핵심임. \n",
    "- C or C++ 로 작성됨.  GeoTools와 JTS 형태로 자바에 중요한 기능함.\n",
    "- 많은 Geospatial 관련 패키지는 Canada나 Canadian developers 기여를 했으면, Canada 정부가 national pride로 많은 지원을 함.\n",
    "![](chap03_01.jpg)"
   ]
  },
  {
   "cell_type": "markdown",
   "metadata": {},
   "source": [
    "## 01. Data access\n",
    "\n",
    "- Geospatial datasets는 large, complex, and varied 임.\n",
    "- Data access관련 libraries는 효율적으로 memory 관리가 필요.\n",
    "    - 복잡한 geospatial process은 몇시간 또는 몇일이 걸릴 수 있고 메모로 오류가 발생하면, 전체 프로젝트나 작업이 지연이 발생할 수 있음. "
   ]
  },
  {
   "cell_type": "markdown",
   "metadata": {},
   "source": [
    "### GDAL\n",
    "\n",
    "- Geospatial Data Abstraction Library (GDAL)은 geospatial industry에서 가장 무거운 작업을 수행함.\n",
    "- 오픈소스이건 상용이건 대부분의 packages들은 GDAL을 사용함.\n",
    "- 다양한 동작을 하는 command-line tools을 포함\n",
    "- Raster data types의 다양한 데이터 포맷에 대해서 단일한 데이터 접근할 수 있는 라이브러리\n",
    "- 데이터를 쓰고 읽기를 위한 공통 API를 제공함.\n",
    "\n",
    "\n",
    "![](chap03_02.jpg)\n",
    "\n",
    "The GDAL homepage can be found at http://www.gdal.org/."
   ]
  },
  {
   "cell_type": "markdown",
   "metadata": {},
   "source": [
    "### OGR\n",
    "\n",
    "- OGR은  vector data를 처리하는 GDAL의 자매 라이브러리임.\n",
    "- 70개 이상의 vector data formats을 지원.\n",
    "- GDAL/OGR package는 X11/MIT open source license 임.\n",
    "- OGR의 제공하는 기능\n",
    "    - Uniform vector data and modeling abstraction\n",
    "    - Vector data re-projection\n",
    "    - Vector data format conversion\n",
    "    - Attribute data filtering\n",
    "    - Basic geometry filtering including clipping and point-in-polygon testing\n",
    "    \n",
    "    \n",
    "OGR architecture\n",
    "![](chap03_03.jpg)"
   ]
  },
  {
   "cell_type": "markdown",
   "metadata": {},
   "source": [
    "## 02. Computational geometry ( 공간계산 ??? )\n",
    "\n",
    "- Computational geometry은 vector data에 대한 처리임.\n",
    "- vector data 처리는 일반적인 graphics libraries에도 있지만, computer screen의 좌표는 항상 양수이고, geospatial의 좌표는 음수도 포함되기 때문에 분리됨."
   ]
  },
  {
   "cell_type": "markdown",
   "metadata": {},
   "source": [
    "### The PROJ.4 projection library\n",
    "\n",
    "- U.S. Geological Survey (USGS)의 분석가인 Jerry Evenden이 1990중반에 만듬.\n",
    "- PROJ.4는 수천개의 좌표계들 간의 엄청난 데이터 변환을 수행함.\n",
    "- 다른 library는 PROJ.4 만큼 기능을 제공하지 못함.\n",
    "\n",
    "\n",
    "For more information on PROJ.4 visit https://github.com/OSGeo/proj.4/wiki."
   ]
  },
  {
   "cell_type": "markdown",
   "metadata": {},
   "source": [
    "### CGAL\n",
    "\n",
    "- The Computational Geometry Algorithms Library (CGAL)는 1990년대 후반에 발표되었고, 견고하고 잘 설립된 open source computational geometry library임.\n",
    "- 신뢰할만한 geometry processing algorithms을 제공\n",
    "- polygon을 정확히 수축과 확대가 필요한 polygon straight skeleton(다각형 직선 골격 ???? )에 필요함.\n",
    "- Straight skeleton algorithm은 복잡하고 중요함.\n",
    "    - polygon 수축할때, 인접하지 않은 edges들이 충돌하고 연결된 edge들이 줄어들 수 있음.\n",
    "    \n",
    "![](chap03_04.jpg)\n",
    "    \n",
    "CGAL can be found online at http://www.cgal.org/.    "
   ]
  },
  {
   "cell_type": "markdown",
   "metadata": {},
   "source": [
    "### JTS\n",
    "\n",
    "- The Java Topology Suite (JTS)는 Java로 작성된 geospatial computational geometry library 임.\n",
    "- JTS는 JTS Test Builder 불러지는 훌륭한 test program을 포함함. \n",
    "\n",
    "![](chap03_05.jpg)"
   ]
  },
  {
   "cell_type": "markdown",
   "metadata": {},
   "source": [
    "## GEOS\n",
    "\n",
    "- GEOS( Geometry Engine – Open Source )은 JTS library의 C++ 버전임.\n",
    "- JTS보다 geospatial analysis에서 더 많은 기능를 제공함.\n",
    "    - C++버전으로 많은 플랫폼에서 컴파일됨.\n",
    "    - Python과 같은 다양한 스크립트 언어와 결합될 수 있음.\n",
    "    \n",
    "    \n",
    "- GEOS가 제공하는 기능\n",
    "    - OGC Simple Features\n",
    "    - Geospatial predicate functions\n",
    "    - Intersects\n",
    "    - Touches\n",
    "    - Disjoint\n",
    "    -  ... \n",
    "    - Polygon assembly\n",
    "    - Polygon validation\n",
    "    - Area\n",
    "    - Length\n",
    "    - Spatial indexing\n",
    "    - OGC well-known text (WKT) and well-known binary (WKB) input/output\n",
    "    - C and C++ API\n",
    "    - Thread safety\n",
    "    \n",
    "GEOS can be found online at https://trac.osgeo.org/geos/."
   ]
  },
  {
   "cell_type": "markdown",
   "metadata": {},
   "source": [
    "### PostGIS\n",
    "\n",
    "- 가장 일반적인 사용되는 Spatial database임.\n",
    "- 관계형 데이터베이스인 PostgreSQL을 기반임.\n",
    "- SQL을 위한 OGC Simple Features Specification 의 구현체 \n",
    "- 일반적인 SQL문을 지원할 뿐만 아니라, SQL문으로 geometry 쿼리도 가능함.\n",
    "```\n",
    "SELECT ST_Buffer(the_geom, 14500)\n",
    "FROM usa_states\n",
    "WHERE state = 'Florida'\n",
    "```\n",
    "\n",
    "![](chap03_06.jpg)\n",
    "\n",
    "\n",
    "PostGIS의 특징\n",
    "- Geospatial geometry types\n",
    "- Spatial functions for deriving new geometries (for example, buffers and intersects)\n",
    "- Spatial measurements including perimeter, length, and area\n",
    "- Spatial indexing using an R-Tree algorithm\n",
    "- A basic geospatial raster data type\n",
    "- Topology data types\n",
    "- US Geocoder based on TIGER census data\n",
    "- A new JSONB data type which allows indexing and querying of JSON and GeoJSON"
   ]
  },
  {
   "cell_type": "markdown",
   "metadata": {},
   "source": [
    "### Other spatially-enabled databases\n",
    "\n",
    "![](chap03_07.jpg)\n",
    "\n",
    "- Oracle spatial and graph\n",
    "- ArcSDE : Spatial Data Engine\n",
    "- Microsoft SQL Server\n",
    "- MySQL\n",
    "- SpatiaLite"
   ]
  },
  {
   "cell_type": "markdown",
   "metadata": {},
   "source": [
    "### Routing\n",
    "\n",
    "- Travelling salesman problem (TSP) 라고 불리어짐\n",
    "- routing algorithm은 네트워크 데이터셋에서는 간단하지만, 공간데이터셋은 vector-based와 raster data 임.\n",
    "- Esri's Network Analyst와 open source pgRouting engine for PostGIS에서 제공함."
   ]
  },
  {
   "cell_type": "markdown",
   "metadata": {},
   "source": [
    "## 03. Desktop tools (including visualization)\n",
    "\n",
    "- 공간분석은 결과를 화면에 보여지는 기능이 필수임.\n",
    "- 공간 visualization tools의 2가지 분류 \n",
    "    - geospatial viewers : 가볍고 데이터 로드가 빠름.\n",
    "    - geospatial analysis software : 더 많은 자원( 메모리, CPU)사용, 데이터 로드가 느림."
   ]
  },
  {
   "cell_type": "markdown",
   "metadata": {
    "collapsed": true
   },
   "source": [
    "### Quantum GIS\n",
    "\n",
    "- QGIS라고 더 잘 알려짐. open source geographic information system 이고, geospatial analysis software 임\n",
    "- GUI은 Qt library 사용해서 C++ 작성되어있고 잘 디자인되고 사용하기 쉬움.\n",
    "- 전체적인 성능은 좋고, 다른 시스템에 비해서 더 좋음.\n",
    "- Python과 통합되어 console로 명령어 입력 가능.\n",
    "\n",
    "![](chap03_08.jpg)"
   ]
  },
  {
   "cell_type": "markdown",
   "metadata": {},
   "source": [
    "### OpenEV\n",
    "\n",
    "- open source geospatial viewer\n",
    "- GDAL과 Python을 사용해서 만들어짐. Python console 제공.\n",
    "\n",
    "![](chap03_09.jpg)"
   ]
  },
  {
   "cell_type": "markdown",
   "metadata": {},
   "source": [
    "### GRASS GIS\n",
    "\n",
    "- 1982년에 미육군의 개발자가 개발함. UNIX systems 동작\n",
    "- Python과 통합되어 command-line tool과 라이브러리를 제공함.\n",
    "\n",
    "![](chap03_10.jpg)"
   ]
  },
  {
   "cell_type": "markdown",
   "metadata": {},
   "source": [
    "### uDig\n",
    "\n",
    "- Java-based GIS viewer\n",
    "- 자바의 통합관리도구( IDE )인 이클립스에서 실행됨.\n",
    "\n",
    "![](chap03_11.jpg)\n",
    "![](chap03_12.jpg)"
   ]
  },
  {
   "cell_type": "markdown",
   "metadata": {},
   "source": [
    "### gvSIG\n",
    "- 자바 기반의 다른 데스트탑 GIS\n",
    "- The official homepage for gvSIG is available at http://www.gvsig.org/web/.\n",
    "\n",
    "### OpenJUMP\n",
    "- open source Java-based Desktop GIS\n",
    "- JUMP stands for Java Unified Mapping Platform\n",
    "- You can find out more about OpenJUMP on the official web page at http://www.openjump.org/.\n",
    "\n",
    "### Google Earth\n",
    "\n",
    "### NASA World Wind\n",
    "\n",
    "### ArcGIS\n",
    "- 상용 도구\n",
    "\n",
    "![](chap03_13.jpg)"
   ]
  },
  {
   "cell_type": "markdown",
   "metadata": {},
   "source": [
    "## 04.Metadata management\n",
    "\n",
    "- Data without metadata isn't data 라고 하고 그만큼 공간데이터셋에서는 메타데이터없는는 활용과 이해를 할 수 없음\n",
    "\n",
    "### GeoNetwork\n",
    "\n",
    "- geospatial data를 관리하는 open source, Java-based catalog server임.\n",
    "- metadata editor, search engine, interactive web map viewer을 제공\n",
    "- You can find out more about GeoNetwork at http://geonetwork-opensource.org/.\n",
    "\n",
    "![](chap03_14.jpg)"
   ]
  },
  {
   "cell_type": "markdown",
   "metadata": {
    "collapsed": true
   },
   "source": [
    "### CatMDEdit\n",
    "\n",
    "- Java-based metadata editor\n",
    "- XML과 Resource Description Framework(RDF)을 사용해서 metadata records을 상호변환함.\n",
    "- visualization of geospatial data과 gvSIG과 통합됨.\n",
    "\n",
    "The CatMDEdit website is located at http://catmdedit.sourceforge.net/."
   ]
  }
 ],
 "metadata": {
  "kernelspec": {
   "display_name": "Python 2",
   "language": "python",
   "name": "python2"
  },
  "language_info": {
   "codemirror_mode": {
    "name": "ipython",
    "version": 2
   },
   "file_extension": ".py",
   "mimetype": "text/x-python",
   "name": "python",
   "nbconvert_exporter": "python",
   "pygments_lexer": "ipython2",
   "version": "2.7.11"
  }
 },
 "nbformat": 4,
 "nbformat_minor": 0
}
