{
 "cells": [
  {
   "cell_type": "markdown",
   "metadata": {},
   "source": [
    "# Chapter 4: Geospatial Python Toolbox"
   ]
  },
  {
   "cell_type": "markdown",
   "metadata": {},
   "source": [
    "## 01.  Installing third-party Python modules\n",
    "\n",
    "python에서 표준라이브러리와에 추가적인 라이브러리는 아래와 같은 명령어로 설치할 수 있음\n",
    "\n",
    "```\n",
    "easy_install <package name>\n",
    "\n",
    "pip install <package name>\n",
    "```\n",
    "\n",
    "추가적인 라이브러리를 설치하면, python의 site-packages 디렉토리에 설치되고, sys module을 확인할 수 있음."
   ]
  },
  {
   "cell_type": "code",
   "execution_count": 2,
   "metadata": {
    "collapsed": false
   },
   "outputs": [
    {
     "data": {
      "text/plain": [
       "'C:\\\\Users\\\\Y.G JI\\\\.ipython'"
      ]
     },
     "execution_count": 2,
     "metadata": {},
     "output_type": "execute_result"
    }
   ],
   "source": [
    "import sys\n",
    "sys.path[-1]    # -1은 리스트의 마지막 요소를 나타냄"
   ]
  },
  {
   "cell_type": "code",
   "execution_count": 4,
   "metadata": {
    "collapsed": false
   },
   "outputs": [
    {
     "data": {
      "text/plain": [
       "['',\n",
       " 'C:\\\\Anaconda2\\\\python27.zip',\n",
       " 'C:\\\\Anaconda2\\\\DLLs',\n",
       " 'C:\\\\Anaconda2\\\\lib',\n",
       " 'C:\\\\Anaconda2\\\\lib\\\\plat-win',\n",
       " 'C:\\\\Anaconda2\\\\lib\\\\lib-tk',\n",
       " 'C:\\\\Anaconda2',\n",
       " 'c:\\\\anaconda2\\\\lib\\\\site-packages\\\\sphinx-1.3.5-py2.7.egg',\n",
       " 'c:\\\\anaconda2\\\\lib\\\\site-packages\\\\setuptools-20.3-py2.7.egg',\n",
       " 'C:\\\\Anaconda2\\\\lib\\\\site-packages',\n",
       " 'C:\\\\Anaconda2\\\\lib\\\\site-packages\\\\win32',\n",
       " 'C:\\\\Anaconda2\\\\lib\\\\site-packages\\\\win32\\\\lib',\n",
       " 'C:\\\\Anaconda2\\\\lib\\\\site-packages\\\\Pythonwin',\n",
       " 'C:\\\\Anaconda2\\\\lib\\\\site-packages\\\\IPython\\\\extensions',\n",
       " 'C:\\\\Users\\\\Y.G JI\\\\.ipython']"
      ]
     },
     "execution_count": 4,
     "metadata": {},
     "output_type": "execute_result"
    }
   ],
   "source": [
    "sys.path    # 이와 같이 전체 리스트를 볼수 있음."
   ]
  },
  {
   "cell_type": "markdown",
   "metadata": {},
   "source": [
    "### Installing GDAL\n",
    "\n",
    "- Geospatial Data Abstraction Library (GDAL)은 이 책의 예제에서 많이 다루는 핵심이고 GDAL library에서 필요하는 추가적인 리소스 때문에 설치가 복잡함.\n",
    "\n",
    "#### Windows에서 설치\n",
    "\n",
    "http://www.lfd.uci.edu/~gohlke/pythonlibs/#gdal 사이트에서 python 버전과 시스템환경( 32bit/64bit )에 맞는 배포버전을 다운로드함."
   ]
  },
  {
   "cell_type": "code",
   "execution_count": 7,
   "metadata": {
    "collapsed": false
   },
   "outputs": [
    {
     "name": "stdout",
     "output_type": "stream",
     "text": [
      "2.7.11 |Anaconda 4.0.0 (64-bit)| (default, Feb 16 2016, 09:58:36) [MSC v.1500 64 bit (AMD64)]\n"
     ]
    }
   ],
   "source": [
    "import sys\n",
    "print (sys.version)"
   ]
  },
  {
   "cell_type": "code",
   "execution_count": 10,
   "metadata": {
    "collapsed": false
   },
   "outputs": [
    {
     "name": "stdout",
     "output_type": "stream",
     "text": [
      " D 드라이브의 볼륨에는 이름이 없습니다.\n",
      " 볼륨 일련 번호: 9495-1634\n",
      "\n",
      " D:\\Work_Git\\mystudy\\02_study\\05_psypoli\\python 디렉터리\n",
      "\n",
      "2016-08-06  오전 10:18        14,149,845 GDAL-2.0.3-cp27-cp27m-win_amd64.whl\n",
      "               1개 파일          14,149,845 바이트\n",
      "               0개 디렉터리  70,579,879,936 바이트 남음\n"
     ]
    }
   ],
   "source": [
    "! dir GDAL*"
   ]
  },
  {
   "cell_type": "code",
   "execution_count": 12,
   "metadata": {
    "collapsed": false
   },
   "outputs": [
    {
     "name": "stdout",
     "output_type": "stream",
     "text": [
      "Processing d:\\work_git\\mystudy\\02_study\\05_psypoli\\python\\gdal-2.0.3-cp27-cp27m-win_amd64.whl\n",
      "Installing collected packages: GDAL\n",
      "Successfully installed GDAL-2.0.3\n"
     ]
    },
    {
     "name": "stderr",
     "output_type": "stream",
     "text": [
      "You are using pip version 8.1.1, however version 8.1.2 is available.\n",
      "You should consider upgrading via the 'python -m pip install --upgrade pip' command.\n"
     ]
    }
   ],
   "source": [
    " ! pip install GDAL-2.0.3-cp27-cp27m-win_amd64.whl"
   ]
  },
  {
   "cell_type": "markdown",
   "metadata": {},
   "source": [
    "GDAL 설치 확인"
   ]
  },
  {
   "cell_type": "code",
   "execution_count": 14,
   "metadata": {
    "collapsed": false
   },
   "outputs": [
    {
     "data": {
      "text/plain": [
       "'2.0.3'"
      ]
     },
     "execution_count": 14,
     "metadata": {},
     "output_type": "execute_result"
    }
   ],
   "source": [
    "from osgeo import gdal\n",
    "gdal.__version__      # 책에서는 1.11.3 버전"
   ]
  },
  {
   "cell_type": "markdown",
   "metadata": {},
   "source": [
    "#### Linux 에서 설치\n",
    "\n",
    "```\n",
    "sudo apt-get install gdal-bin\n",
    "sudo apt-get install python-gdal\n",
    "\n",
    "from osgeo import gdal\n",
    "from osgeo import ogr\n",
    "```\n",
    "\n",
    "#### Mac OS X 에서 설치\n",
    "\n",
    "- Homebrew 또는 MacPorts 을 사용해서 설치\n",
    "- C로 되어 있는 scientific과 geospatial libraries가 먼저 설치가 필요함."
   ]
  },
  {
   "cell_type": "markdown",
   "metadata": {},
   "source": [
    "## 02. Python networking libraries for acquiring data\n",
    "\n",
    "- 방대한 공간데이터가 인터넷에서 공유되어 있으며, Python을 공간분석을 위한 데이터 수집을 자동화 할 수 있음.\n",
    "- 데이터는 URL 또는 FTP에서 받아오고, 받아진 데이터는 ZIP으로 자주 압축되었음."
   ]
  },
  {
   "cell_type": "markdown",
   "metadata": {},
   "source": [
    "### The Python urllib module\n",
    "\n",
    "- urllib 패키지는 URL주소의 file들을 간단하게 접근할 수 있음.\n",
    "\n",
    "ZIP파일 받기"
   ]
  },
  {
   "cell_type": "code",
   "execution_count": null,
   "metadata": {
    "collapsed": true
   },
   "outputs": [],
   "source": [
    "# Python3에서 동작함.\n",
    "import urllib.request\n",
    "import urllib.parse\n",
    "import urllib.error\n",
    "\n",
    "url = \"https://github.com/GeospatialPython/Learn/raw/master/hancock.zip\"\n",
    "fileName = \"hancock.zip\"\n",
    "urllib.request.urlretrieve(url, fileName)"
   ]
  },
  {
   "cell_type": "code",
   "execution_count": 19,
   "metadata": {
    "collapsed": true
   },
   "outputs": [],
   "source": [
    "# Python2에서 동작함.\n",
    "import urllib\n",
    "import urllib2\n",
    "import requests\n",
    "\n",
    "url = \"https://github.com/GeospatialPython/Learn/raw/master/hancock.zip\"\n",
    "fileName = \"hancock.zip\"\n",
    "f = urllib2.urlopen(url)\n",
    "with open(fileName, \"wb\") as code:\n",
    "    code.write(f.read())"
   ]
  },
  {
   "cell_type": "code",
   "execution_count": 20,
   "metadata": {
    "collapsed": false
   },
   "outputs": [
    {
     "name": "stdout",
     "output_type": "stream",
     "text": [
      " D 드라이브의 볼륨에는 이름이 없습니다.\n",
      " 볼륨 일련 번호: 9495-1634\n",
      "\n",
      " D:\\Work_Git\\mystudy\\02_study\\05_psypoli\\python 디렉터리\n",
      "\n",
      "2016-08-06  오전 10:53            17,341 hancock.zip\n",
      "               1개 파일              17,341 바이트\n",
      "               0개 디렉터리  70,579,851,264 바이트 남음\n"
     ]
    }
   ],
   "source": [
    "! dir hancock.zip"
   ]
  },
  {
   "cell_type": "markdown",
   "metadata": {},
   "source": [
    "Comma-Separated Values (CSV) file 받기\n",
    "\n",
    "- United States Geological Survey (USGS)의 지진데이터를 받아오자."
   ]
  },
  {
   "cell_type": "code",
   "execution_count": 21,
   "metadata": {
    "collapsed": false
   },
   "outputs": [
    {
     "data": {
      "text/plain": [
       "'time,latitude,longitude,depth,mag,magType,nst,gap,dmin,rms,net,id,updated,place,type,horizontalError,depthError,magError,magNst,status,locationSource,magSource\\n'"
      ]
     },
     "execution_count": 21,
     "metadata": {},
     "output_type": "execute_result"
    }
   ],
   "source": [
    "# pyhon2\n",
    "url = \"http://earthquake.usgs.gov/earthquakes/feed/v1.0/summary/all_hour.csv\"\n",
    "earthquakes = urllib2.urlopen(url)\n",
    "\n",
    "earthquakes.readline()"
   ]
  },
  {
   "cell_type": "code",
   "execution_count": 22,
   "metadata": {
    "collapsed": false
   },
   "outputs": [
    {
     "data": {
      "text/plain": [
       "'2016-08-06T01:36:19.090Z,38.8236656,-122.8071671,2.7,0.53,md,8,120,0.01821,0.02,nc,nc72671080,2016-08-06T01:38:02.216Z,\"6km NW of The Geysers, California\",earthquake,0.5,1.47,0.02,2,automatic,nc,nc\\n'"
      ]
     },
     "execution_count": 22,
     "metadata": {},
     "output_type": "execute_result"
    }
   ],
   "source": [
    "earthquakes.readline()"
   ]
  },
  {
   "cell_type": "code",
   "execution_count": 23,
   "metadata": {
    "collapsed": false
   },
   "outputs": [
    {
     "name": "stdout",
     "output_type": "stream",
     "text": [
      "2016-08-06T01:24:38.000Z,64.1258,-153.6348,5,1.1,ml,,,,0.35,ak,ak13832440,2016-08-06T01:54:11.742Z,\"Central Alaska\",earthquake,0.4,0.3,,,automatic,ak,ak\n",
      "\n",
      "2016-08-06T01:21:57.560Z,35.3411667,-117.9121667,6.75,1.28,ml,18,87,0.09143,0.16,ci,ci37436207,2016-08-06T01:25:37.364Z,\"25km NNE of California City, CA\",earthquake,0.32,0.87,0.214,22,automatic,ci,ci\n",
      "\n",
      "2016-08-06T01:11:09.320Z,-29.1811,60.9584,10,4.7,mb,,67,9.268,0.66,us,us10006bs1,2016-08-06T01:39:49.930Z,\"Southwest Indian Ridge\",earthquake,12.4,1.9,0.117,22,reviewed,us,us\n",
      "\n",
      "2016-08-06T00:59:34.280Z,38.7971649,-122.8085022,6.51,0.89,md,5,192,0.01492,0.06,nc,nc72671065,2016-08-06T01:01:18.713Z,\"5km WNW of The Geysers, California\",earthquake,3.91,4.16,0.34,2,automatic,nc,nc\n",
      "\n"
     ]
    }
   ],
   "source": [
    "for record in earthquakes: print(record)"
   ]
  },
  {
   "cell_type": "markdown",
   "metadata": {},
   "source": [
    "### FTP\n",
    "\n",
    "U.S. National Oceanic and Atmospheric Administration (NOAA)에서 Deep-ocean Assessment and Reporting of Tsunamis (DART, 심해평가와 스나미 보고서) 데이터를 FTP로 제공함."
   ]
  },
  {
   "cell_type": "code",
   "execution_count": 29,
   "metadata": {
    "collapsed": false
   },
   "outputs": [
    {
     "data": {
      "text/plain": [
       "'230 Login successful.'"
      ]
     },
     "execution_count": 29,
     "metadata": {},
     "output_type": "execute_result"
    }
   ],
   "source": [
    "import ftplib\n",
    "server = \"ftp.ngdc.noaa.gov\"\n",
    "dir = \"hazards/DART/20070815_peru\"\n",
    "fileName = \"21415_from_20070727_08_55_15_tides.txt\"\n",
    "ftp = ftplib.FTP(server)\n",
    "ftp.login()"
   ]
  },
  {
   "cell_type": "code",
   "execution_count": 30,
   "metadata": {
    "collapsed": false
   },
   "outputs": [
    {
     "data": {
      "text/plain": [
       "'226 Transfer complete.'"
      ]
     },
     "execution_count": 30,
     "metadata": {},
     "output_type": "execute_result"
    }
   ],
   "source": [
    "ftp.cwd(dir)\n",
    "out = open(fileName, \"wb\")\n",
    "ftp.retrbinary(\"RETR \" + fileName, out.write)\n",
    "out.close()"
   ]
  },
  {
   "cell_type": "code",
   "execution_count": 31,
   "metadata": {
    "collapsed": false
   },
   "outputs": [
    {
     "name": "stdout",
     "output_type": "stream",
     "text": [
      " LAT,   LON      50.1663    171.8360\n",
      "\n"
     ]
    }
   ],
   "source": [
    "dart = open(fileName)\n",
    "for line in dart:\n",
    "    if \"LAT,\" in line:\n",
    "        print(line)\n",
    "        break"
   ]
  },
  {
   "cell_type": "code",
   "execution_count": null,
   "metadata": {
    "collapsed": true
   },
   "outputs": [],
   "source": [
    "# python3 \n",
    "dart = urllib.request.urlopen(\"ftp://\" + server + \"/\" + dir + \"/\" + fileName)\n",
    "for line in dart:\n",
    "    line = str(line, encoding=\"utf8\")\n",
    "    if \"LAT,\" in line:\n",
    "        print(line)"
   ]
  },
  {
   "cell_type": "markdown",
   "metadata": {},
   "source": [
    "### ZIP and TAR files\n",
    "\n",
    "위에서 다운받은 hancock.zip 안에는 hancock.shp, hancock.shx,  hancock.dbf 파일들이 있고 이것을 python으로 풀어보자."
   ]
  },
  {
   "cell_type": "code",
   "execution_count": 33,
   "metadata": {
    "collapsed": true
   },
   "outputs": [],
   "source": [
    "import zipfile\n",
    "zip = open(\"hancock.zip\", \"rb\")\n",
    "zipShape = zipfile.ZipFile(zip)\n",
    "for fileName in zipShape.namelist():\n",
    "    out = open(fileName, \"wb\")\n",
    "    out.write(zipShape.read(fileName))\n",
    "    out.close()"
   ]
  },
  {
   "cell_type": "code",
   "execution_count": 34,
   "metadata": {
    "collapsed": false
   },
   "outputs": [
    {
     "name": "stdout",
     "output_type": "stream",
     "text": [
      " D 드라이브의 볼륨에는 이름이 없습니다.\n",
      " 볼륨 일련 번호: 9495-1634\n",
      "\n",
      " D:\\Work_Git\\mystudy\\02_study\\05_psypoli\\python 디렉터리\n",
      "\n",
      "2016-08-06  오전 11:10             1,994 hancock.dbf\n",
      "2016-08-06  오전 11:10            22,172 hancock.shp\n",
      "2016-08-06  오전 11:10               108 hancock.shx\n",
      "2016-08-06  오전 10:53            17,341 hancock.zip\n",
      "               4개 파일              41,615 바이트\n",
      "               0개 디렉터리  70,579,802,112 바이트 남음\n"
     ]
    }
   ],
   "source": [
    "! dir hancock*"
   ]
  },
  {
   "cell_type": "code",
   "execution_count": 35,
   "metadata": {
    "collapsed": true
   },
   "outputs": [],
   "source": [
    "# TAR\n",
    "# 위에서 압축을 푼 파일들을 tar로 묶어보고 풀어보자.\n",
    "import tarfile\n",
    "tar = tarfile.open(\"hancock.tar.gz\", \"w:gz\")\n",
    "tar.add(\"hancock.shp\")\n",
    "tar.add(\"hancock.shx\")\n",
    "tar.add(\"hancock.dbf\")\n",
    "tar.close()"
   ]
  },
  {
   "cell_type": "code",
   "execution_count": 36,
   "metadata": {
    "collapsed": false
   },
   "outputs": [
    {
     "name": "stdout",
     "output_type": "stream",
     "text": [
      " D 드라이브의 볼륨에는 이름이 없습니다.\n",
      " 볼륨 일련 번호: 9495-1634\n",
      "\n",
      " D:\\Work_Git\\mystudy\\02_study\\05_psypoli\\python 디렉터리\n",
      "\n",
      "2016-08-06  오전 11:15            17,298 hancock.tar.gz\n",
      "               1개 파일              17,298 바이트\n",
      "               0개 디렉터리  70,579,781,632 바이트 남음\n"
     ]
    }
   ],
   "source": [
    "! dir hancock.tar.gz"
   ]
  },
  {
   "cell_type": "code",
   "execution_count": 37,
   "metadata": {
    "collapsed": true
   },
   "outputs": [],
   "source": [
    "tar = tarfile.open(\"hancock.tar.gz\", \"r:gz\")\n",
    "tar.extractall()\n",
    "tar.close()"
   ]
  },
  {
   "cell_type": "markdown",
   "metadata": {},
   "source": [
    "지금까지 배운것을 종합해서 URL에 있는 zip파일을 받아서 메모리상으로만 압축을 풀고, bounding box coordinates 만을 읽어오는 소스임."
   ]
  },
  {
   "cell_type": "code",
   "execution_count": null,
   "metadata": {
    "collapsed": true
   },
   "outputs": [],
   "source": [
    "# python3 \n",
    "import urllib.request\n",
    "import urllib.parse\n",
    "import urllib.error\n",
    "\n",
    "import zipfile\n",
    "import io\n",
    "import struct\n",
    "url =\"https://github.com/GeospatialPython/Learn/raw/master/hancock.zip\"\n",
    "cloudshape = urllib.request.urlopen(url)\n",
    "memoryshape = io.BytesIO(cloudshape.read())\n",
    "zipshape = zipfile.ZipFile(memoryshape)\n",
    "cloudshp = zipshape.read(\"hancock.shp\")\n",
    "# Access Python string as an array\n",
    "struct.unpack(\"<dddd\", cloudshp[36:68])"
   ]
  },
  {
   "cell_type": "markdown",
   "metadata": {},
   "source": [
    "## 03. Python markup and tag-based parsers\n",
    "\n",
    "- KML 또는 GML은 일반적인 XML포맷이지만, well-known text (WKT)은 확장 marker와 square brackets ([]) 을 사용함.\n",
    "- Python에서 XML 데이터를 다루는 것을 배워보자."
   ]
  },
  {
   "cell_type": "markdown",
   "metadata": {},
   "source": [
    "#### The minidom module\n",
    "\n",
    "- minidom 패지키는 매우 오래되고 아주 단순한 xml 파서로 python 내장 xml tool임.\n",
    "- 20 MB보다 적은 xml 문서를 다루는데 적합\n",
    "- Google's KML 파일을 샘플예제로 다루어보자.\n",
    "- https://raw.githubusercontent.com/GeospatialPython/Learn/master/time-stamp-point.kml"
   ]
  },
  {
   "cell_type": "code",
   "execution_count": 38,
   "metadata": {
    "collapsed": false
   },
   "outputs": [
    {
     "data": {
      "text/plain": [
       "361"
      ]
     },
     "execution_count": 38,
     "metadata": {},
     "output_type": "execute_result"
    }
   ],
   "source": [
    "from xml.dom import minidom\n",
    "kml = minidom.parse(\"time-stamp-point.kml\")\n",
    "Placemarks = kml.getElementsByTagName(\"Placemark\")\n",
    "len(Placemarks)"
   ]
  },
  {
   "cell_type": "code",
   "execution_count": 39,
   "metadata": {
    "collapsed": false
   },
   "outputs": [
    {
     "data": {
      "text/plain": [
       "<DOM Element: Placemark at 0x2c94188>"
      ]
     },
     "execution_count": 39,
     "metadata": {},
     "output_type": "execute_result"
    }
   ],
   "source": [
    "Placemarks[0]"
   ]
  },
  {
   "cell_type": "code",
   "execution_count": 40,
   "metadata": {
    "collapsed": false
   },
   "outputs": [
    {
     "data": {
      "text/plain": [
       "u'<Placemark>\\n      <TimeStamp>\\n        <when>2007-01-14T21:05:02Z</when>\\n      </TimeStamp>\\n      <styleUrl>#paddle-a</styleUrl>\\n      <Point>\\n        <coordinates>-122.536226,37.86047,0</coordinates>\\n      </Point>\\n    </Placemark>'"
      ]
     },
     "execution_count": 40,
     "metadata": {},
     "output_type": "execute_result"
    }
   ],
   "source": [
    "Placemarks[0].toxml()"
   ]
  },
  {
   "cell_type": "code",
   "execution_count": 41,
   "metadata": {
    "collapsed": false
   },
   "outputs": [
    {
     "data": {
      "text/plain": [
       "u'<Placemark>\\n\\t\\n      \\n\\t<TimeStamp>\\n\\t\\t\\n        \\n\\t\\t<when>2007-01-14T21:05:02Z</when>\\n\\t\\t\\n      \\n\\t</TimeStamp>\\n\\t\\n      \\n\\t<styleUrl>#paddle-a</styleUrl>\\n\\t\\n      \\n\\t<Point>\\n\\t\\t\\n        \\n\\t\\t<coordinates>-122.536226,37.86047,0</coordinates>\\n\\t\\t\\n      \\n\\t</Point>\\n\\t\\n    \\n</Placemark>\\n'"
      ]
     },
     "execution_count": 41,
     "metadata": {},
     "output_type": "execute_result"
    }
   ],
   "source": [
    "Placemarks[0].toprettyxml()"
   ]
  },
  {
   "cell_type": "markdown",
   "metadata": {},
   "source": [
    "Placemark 태그안에 있는 좌표데이터를 읽어오기"
   ]
  },
  {
   "cell_type": "code",
   "execution_count": 42,
   "metadata": {
    "collapsed": false
   },
   "outputs": [
    {
     "data": {
      "text/plain": [
       "u'-122.536226,37.86047,0'"
      ]
     },
     "execution_count": 42,
     "metadata": {},
     "output_type": "execute_result"
    }
   ],
   "source": [
    "coordinates = Placemarks[0].getElementsByTagName(\"coordinates\")\n",
    "point = coordinates[0].firstChild.data\n",
    "point"
   ]
  },
  {
   "cell_type": "markdown",
   "metadata": {},
   "source": [
    "point에는 문자열로 값이 들어가 있으면 이것을 float 형으로 변환하자"
   ]
  },
  {
   "cell_type": "code",
   "execution_count": 45,
   "metadata": {
    "collapsed": false
   },
   "outputs": [
    {
     "data": {
      "text/plain": [
       "u'-122.536226'"
      ]
     },
     "execution_count": 45,
     "metadata": {},
     "output_type": "execute_result"
    }
   ],
   "source": [
    "x,y,z = point.split(\",\")\n",
    "x"
   ]
  },
  {
   "cell_type": "code",
   "execution_count": 46,
   "metadata": {
    "collapsed": false
   },
   "outputs": [
    {
     "data": {
      "text/plain": [
       "u'37.86047'"
      ]
     },
     "execution_count": 46,
     "metadata": {},
     "output_type": "execute_result"
    }
   ],
   "source": [
    "y"
   ]
  },
  {
   "cell_type": "code",
   "execution_count": 44,
   "metadata": {
    "collapsed": false
   },
   "outputs": [
    {
     "data": {
      "text/plain": [
       "0.0"
      ]
     },
     "execution_count": 44,
     "metadata": {},
     "output_type": "execute_result"
    }
   ],
   "source": [
    "z"
   ]
  },
  {
   "cell_type": "code",
   "execution_count": 47,
   "metadata": {
    "collapsed": false
   },
   "outputs": [
    {
     "data": {
      "text/plain": [
       "(-122.536226, 37.86047, 0.0)"
      ]
     },
     "execution_count": 47,
     "metadata": {},
     "output_type": "execute_result"
    }
   ],
   "source": [
    "x = float(x)\n",
    "y = float(y)\n",
    "z = float(z)\n",
    "x,y,z"
   ]
  },
  {
   "cell_type": "code",
   "execution_count": 48,
   "metadata": {
    "collapsed": false
   },
   "outputs": [
    {
     "data": {
      "text/plain": [
       "(-122.536226, 37.86047, 0.0)"
      ]
     },
     "execution_count": 48,
     "metadata": {},
     "output_type": "execute_result"
    }
   ],
   "source": [
    "# 위의 코드를 하나의 단계로 처리할 수 있음.\n",
    "x,y,z = [float(c) for c in point.split(\",\")]\n",
    "x,y,z"
   ]
  },
  {
   "cell_type": "markdown",
   "metadata": {},
   "source": [
    "#### ElementTree\n",
    "\n",
    "Python 2.5부터는 ElementTree 라는 더욱 효율적인 XML 파서가 추가되었고, cElementTree라는 C 언어 버전도 있음."
   ]
  },
  {
   "cell_type": "code",
   "execution_count": 5,
   "metadata": {
    "collapsed": false
   },
   "outputs": [],
   "source": [
    "try:\n",
    "    import xml.etree.cElementTree as ET\n",
    "except ImportError:\n",
    "    import xml.etree.ElementTree as ET"
   ]
  },
  {
   "cell_type": "markdown",
   "metadata": {},
   "source": [
    "KML namespace라고 정의한 문서에서 먼저 Placemark element을 찾고, 그안에 포함된 coordinates 태크를 찾음."
   ]
  },
  {
   "cell_type": "code",
   "execution_count": 53,
   "metadata": {
    "collapsed": false
   },
   "outputs": [
    {
     "data": {
      "text/plain": [
       "'-122.536226,37.86047,0'"
      ]
     },
     "execution_count": 53,
     "metadata": {},
     "output_type": "execute_result"
    }
   ],
   "source": [
    "tree = ET.ElementTree(file=\"time-stamp-point.kml\")\n",
    "ns = \"{http://www.opengis.net/kml/2.2}\"\n",
    "placemark = tree.find(\".//%sPlacemark\" % ns)\n",
    "coordinates = placemark.find(\"./{}Point/{}coordinates\".format(ns, ns))\n",
    "coordinates.text"
   ]
  },
  {
   "cell_type": "markdown",
   "metadata": {},
   "source": [
    "#### Building XML"
   ]
  },
  {
   "cell_type": "code",
   "execution_count": 57,
   "metadata": {
    "collapsed": false
   },
   "outputs": [],
   "source": [
    "xml = \"<?xml version=\\\"1.0\\\" encoding=\\\"utf-8\\\"?>\"\n",
    "xml += \"<kml xmlns=\\\"http://www.opengis.net/kml/2.2\\\">\"\n",
    "xml += \" <Placemark>\"\n",
    "xml += \" <name>Office</name>\"\n",
    "xml += \" <description>Office Building</description>\"\n",
    "xml += \" <Point>\"\n",
    "xml += \" <coordinates>\"\n",
    "xml += \" -122.087461,37.422069\"\n",
    "xml += \" </coordinates>\"\n",
    "xml += \" </Point>\"\n",
    "xml += \" </Placemark>\"\n",
    "xml += \"</kml>\""
   ]
  },
  {
   "cell_type": "code",
   "execution_count": 58,
   "metadata": {
    "collapsed": true
   },
   "outputs": [],
   "source": [
    "root = ET.Element(\"kml\")\n",
    "root.attrib[\"xmlns\"] = \"http://www.opengis.net/kml/2.2\"\n",
    "placemark = ET.SubElement(root, \"Placemark\")\n",
    "office = ET.SubElement(placemark, \"name\")\n",
    "office.text = \"Office\"\n",
    "point = ET.SubElement(placemark, \"Point\")\n",
    "coordinates = ET.SubElement(point, \"coordinates\")\n",
    "coordinates.text = \"-122.087461,37.422069, 37.422069\"\n",
    "tree = ET.ElementTree(root)\n",
    "tree.write(\"placemark2.kml\", xml_declaration=True,encoding='utf-8',method=\"xml\")"
   ]
  },
  {
   "cell_type": "markdown",
   "metadata": {},
   "source": [
    "#### BeautifulSoup\n",
    "\n",
    "- 깨진 XML도 다룰 수 있게 디자인 HTML 파서\n",
    "- 설치 방법\n",
    "\n",
    "```\n",
    "easy_install beautifulsoup4\n",
    "\n",
    "pip install beautifulsoup4\n",
    "```"
   ]
  },
  {
   "cell_type": "code",
   "execution_count": null,
   "metadata": {
    "collapsed": true
   },
   "outputs": [],
   "source": [
    "! conda install -c anaconda beautifulsoup4=4.4.1 -y"
   ]
  },
  {
   "cell_type": "code",
   "execution_count": 2,
   "metadata": {
    "collapsed": true
   },
   "outputs": [],
   "source": [
    "from bs4 import BeautifulSoup"
   ]
  },
  {
   "cell_type": "markdown",
   "metadata": {},
   "source": [
    "GPS Exchange Format (GPX)의 스마트폰 어플의 tracking file 을 사용하고 이 데이터는 2,347 라인에 </trkseg> 태크 대신에 </trk>로 되어 있음.\n",
    "\n",
    "- https://raw.githubusercontent.com/GeospatialPython/Learn/master/broken_data.gpx"
   ]
  },
  {
   "cell_type": "code",
   "execution_count": null,
   "metadata": {
    "collapsed": true
   },
   "outputs": [],
   "source": [
    "gpx = minidom.parse(\"broken_data.gpx\")"
   ]
  },
  {
   "cell_type": "code",
   "execution_count": 6,
   "metadata": {
    "collapsed": false
   },
   "outputs": [
    {
     "ename": "ParseError",
     "evalue": "mismatched tag: line 2346, column 2",
     "output_type": "error",
     "traceback": [
      "\u001b[1;36m  File \u001b[1;32m\"<string>\"\u001b[1;36m, line \u001b[1;32munknown\u001b[0m\n\u001b[1;31mParseError\u001b[0m\u001b[1;31m:\u001b[0m mismatched tag: line 2346, column 2\n"
     ]
    }
   ],
   "source": [
    "ET.ElementTree(file=\"broken_data.gpx\")"
   ]
  },
  {
   "cell_type": "code",
   "execution_count": 8,
   "metadata": {
    "collapsed": false
   },
   "outputs": [
    {
     "data": {
      "text/plain": [
       "<trkpt lat=\"30.307267000\" lon=\"-89.332444000\"><ele>10.7</ele><time>2013-05-16T04:39:46Z</time></trkpt>"
      ]
     },
     "execution_count": 8,
     "metadata": {},
     "output_type": "execute_result"
    }
   ],
   "source": [
    "from bs4 import BeautifulSoup\n",
    "gpx = open(\"broken_data.gpx\")\n",
    "soup = BeautifulSoup(gpx.read(), features=\"xml\")\n",
    "soup.trkpt"
   ]
  },
  {
   "cell_type": "code",
   "execution_count": 10,
   "metadata": {
    "collapsed": false
   },
   "outputs": [
    {
     "data": {
      "text/plain": [
       "2321"
      ]
     },
     "execution_count": 10,
     "metadata": {},
     "output_type": "execute_result"
    }
   ],
   "source": [
    "tracks = soup.findAll(\"trkpt\")\n",
    "len(tracks)"
   ]
  },
  {
   "cell_type": "code",
   "execution_count": 11,
   "metadata": {
    "collapsed": true
   },
   "outputs": [],
   "source": [
    "fixed = open(\"fixed_data.gpx\", \"w\")\n",
    "fixed.write(soup.prettify())\n",
    "fixed.close()"
   ]
  },
  {
   "cell_type": "markdown",
   "metadata": {},
   "source": [
    "### Well-known text (WKT)\n",
    "\n",
    "- 공간 좌표 시스템을 표현하기 위한 텍스트 기반의 포맷\n",
    "- SQL을 위한 OGC Simple Features로 개발됨.\n",
    "```\n",
    "POLYGON((0 0,4 0,4 4,0 4,0 0),(1 1, 2 1, 2 2, 1 2,1 1))\n",
    "```\n",
    "\n",
    "- pip로는 GEOS library가 없다라고 해서 설치가 바로 되지 않음. "
   ]
  },
  {
   "cell_type": "code",
   "execution_count": null,
   "metadata": {
    "collapsed": true
   },
   "outputs": [],
   "source": [
    "! conda install -c scitools shapely=1.5.13 -y"
   ]
  },
  {
   "cell_type": "code",
   "execution_count": 16,
   "metadata": {
    "collapsed": false
   },
   "outputs": [
    {
     "data": {
      "text/plain": [
       "15.0"
      ]
     },
     "execution_count": 16,
     "metadata": {},
     "output_type": "execute_result"
    }
   ],
   "source": [
    "import shapely.wkt\n",
    "wktPoly = \"POLYGON((0 0,4 0,4 4,0 4,0 0),(1 1, 2 1, 2 2, 1 2, 1 1))\"\n",
    "poly = shapely.wkt.loads(wktPoly)\n",
    "poly.area"
   ]
  },
  {
   "cell_type": "code",
   "execution_count": 17,
   "metadata": {
    "collapsed": false
   },
   "outputs": [
    {
     "data": {
      "text/plain": [
       "'POLYGON ((0 0, 4 0, 4 4, 0 4, 0 0), (1 1, 2 1, 2 2, 1 2, 1 1))'"
      ]
     },
     "execution_count": 17,
     "metadata": {},
     "output_type": "execute_result"
    }
   ],
   "source": [
    "poly.wkt"
   ]
  },
  {
   "cell_type": "code",
   "execution_count": 19,
   "metadata": {
    "collapsed": false
   },
   "outputs": [
    {
     "data": {
      "text/plain": [
       "'POLYGON ((-99.904679362176353 51.698147686745074,-75.010398603076666 46.56036851832075,-75.010398603076666 46.56036851832075,-75.010398603076666 46.56036851832075,-76.975736557742451 23.246272688996914,-76.975736557742451 23.246272688996914,-76.975736557742451 23.246272688996914,-114.31715769639194 26.220870210283724,-114.31715769639194 26.220870210283724,-99.904679362176353 51.698147686745074))'"
      ]
     },
     "execution_count": 19,
     "metadata": {},
     "output_type": "execute_result"
    }
   ],
   "source": [
    "from osgeo import ogr\n",
    "shape = ogr.Open(\"polygon/polygon.shp\")\n",
    "layer = shape.GetLayer()\n",
    "feature = layer.GetNextFeature()\n",
    "geom = feature.GetGeometryRef()\n",
    "wkt = geom.ExportToWkt()\n",
    "wkt"
   ]
  },
  {
   "cell_type": "markdown",
   "metadata": {},
   "source": [
    "## 04. Python JSON libraries\n",
    "\n",
    "JavaScript Object Notation (JSON)은 단순한 문법과 XML비해서 파일 용량이 적음"
   ]
  },
  {
   "cell_type": "code",
   "execution_count": 23,
   "metadata": {
    "collapsed": true
   },
   "outputs": [],
   "source": [
    "jsdata = \"\"\"{\n",
    "    \"type\": \"Feature\",\n",
    "    \"id\": \"OpenLayers.Feature.Vector_314\",\n",
    "    \"properties\": {},\n",
    "    \"geometry\": {\n",
    "        \"type\": \"Point\",\n",
    "        \"coordinates\": [\n",
    "            97.03125,\n",
    "            39.7265625\n",
    "        ]\n",
    "    },\n",
    "    \"crs\": {\n",
    "        \"type\": \"name\",\n",
    "        \"properties\": {\n",
    "            \"name\": \"urn:ogc:def:crs:OGC:1.3:CRS84\"\n",
    "        }\n",
    "    }\n",
    "}\"\"\""
   ]
  },
  {
   "cell_type": "markdown",
   "metadata": {},
   "source": [
    "### The json module\n",
    "\n",
    "- python의 eval()함수로 json 포맷을 파싱함"
   ]
  },
  {
   "cell_type": "code",
   "execution_count": 22,
   "metadata": {
    "collapsed": false
   },
   "outputs": [
    {
     "data": {
      "text/plain": [
       "{'coordinates': [97.03125, 39.7265625], 'type': 'Point'}"
      ]
     },
     "execution_count": 22,
     "metadata": {},
     "output_type": "execute_result"
    }
   ],
   "source": [
    "point = eval(jsdata)\n",
    "point[\"geometry\"]"
   ]
  },
  {
   "cell_type": "markdown",
   "metadata": {},
   "source": [
    "- eval()함수는 보안상 취약점이 있어서 사용하지 않는것이 좋음."
   ]
  },
  {
   "cell_type": "code",
   "execution_count": 24,
   "metadata": {
    "collapsed": false
   },
   "outputs": [
    {
     "data": {
      "text/plain": [
       "{u'crs': {u'properties': {u'name': u'urn:ogc:def:crs:OGC:1.3:CRS84'},\n",
       "  u'type': u'name'},\n",
       " u'geometry': {u'coordinates': [97.03125, 39.7265625], u'type': u'Point'},\n",
       " u'id': u'OpenLayers.Feature.Vector_314',\n",
       " u'properties': {},\n",
       " u'type': u'Feature'}"
      ]
     },
     "execution_count": 24,
     "metadata": {},
     "output_type": "execute_result"
    }
   ],
   "source": [
    "import json\n",
    "json.loads(jsdata)"
   ]
  },
  {
   "cell_type": "code",
   "execution_count": 25,
   "metadata": {
    "collapsed": false
   },
   "outputs": [
    {
     "data": {
      "text/plain": [
       "'{\"geometry\": {\"type\": \"Point\", \"coordinates\": [97.03125, 39.7265625]}, \"crs\": {\"type\": \"name\", \"properties\": {\"name\": \"urn:ogc:def:crs:OGC:1.3:CRS84\"}}, \"type\": \"Feature\", \"id\": \"OpenLayers.Feature.Vector_314\", \"properties\": {}}'"
      ]
     },
     "execution_count": 25,
     "metadata": {},
     "output_type": "execute_result"
    }
   ],
   "source": [
    "pydata = json.loads(jsdata)\n",
    "json.dumps(pydata)"
   ]
  },
  {
   "cell_type": "markdown",
   "metadata": {},
   "source": [
    "### The geojson module\n",
    "\n",
    "- geojson 모듈은 GeoJSON 형식에 맞게 데이터를 다룰 수 있음."
   ]
  },
  {
   "cell_type": "code",
   "execution_count": 27,
   "metadata": {
    "collapsed": false
   },
   "outputs": [
    {
     "name": "stdout",
     "output_type": "stream",
     "text": [
      "Collecting geojson\n",
      "  Downloading geojson-1.3.3-py2.py3-none-any.whl\n",
      "Requirement already satisfied (use --upgrade to upgrade): setuptools in c:\\anaconda2\\lib\\site-packages\\setuptools-20.3-py2.7.egg (from geojson)\n",
      "Installing collected packages: geojson\n",
      "Successfully installed geojson-1.3.3\n"
     ]
    },
    {
     "name": "stderr",
     "output_type": "stream",
     "text": [
      "You are using pip version 8.1.1, however version 8.1.2 is available.\n",
      "You should consider upgrading via the 'python -m pip install --upgrade pip' command.\n"
     ]
    }
   ],
   "source": [
    "! pip install geojson"
   ]
  },
  {
   "cell_type": "code",
   "execution_count": 28,
   "metadata": {
    "collapsed": false
   },
   "outputs": [
    {
     "data": {
      "text/plain": [
       "'{\"type\": \"Point\", \"coordinates\": [-92, 37]}'"
      ]
     },
     "execution_count": 28,
     "metadata": {},
     "output_type": "execute_result"
    }
   ],
   "source": [
    "import geojson\n",
    "p = geojson.Point([-92, 37])\n",
    "geojs = geojson.dumps(p)\n",
    "geojs"
   ]
  },
  {
   "cell_type": "markdown",
   "metadata": {},
   "source": [
    "GeoJSON을 사용하면 데이터의 상호 변환이 용이함."
   ]
  },
  {
   "cell_type": "code",
   "execution_count": 29,
   "metadata": {
    "collapsed": false
   },
   "outputs": [
    {
     "data": {
      "text/plain": [
       "'POINT (-92 37)'"
      ]
     },
     "execution_count": 29,
     "metadata": {},
     "output_type": "execute_result"
    }
   ],
   "source": [
    "from shapely.geometry import asShape\n",
    "point = asShape(p)\n",
    "point.wkt"
   ]
  },
  {
   "cell_type": "code",
   "execution_count": null,
   "metadata": {
    "collapsed": true
   },
   "outputs": [],
   "source": []
  }
 ],
 "metadata": {
  "kernelspec": {
   "display_name": "Python 2",
   "language": "python",
   "name": "python2"
  },
  "language_info": {
   "codemirror_mode": {
    "name": "ipython",
    "version": 2
   },
   "file_extension": ".py",
   "mimetype": "text/x-python",
   "name": "python",
   "nbconvert_exporter": "python",
   "pygments_lexer": "ipython2",
   "version": "2.7.11"
  }
 },
 "nbformat": 4,
 "nbformat_minor": 0
}
