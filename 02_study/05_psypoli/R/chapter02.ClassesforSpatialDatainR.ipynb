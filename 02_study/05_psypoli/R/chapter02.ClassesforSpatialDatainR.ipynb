{
 "cells": [
  {
   "cell_type": "markdown",
   "metadata": {},
   "source": [
    "# 02. Classes for Spatial Data in R\n",
    "\n",
    "데이터셋 받는 곳 : http://www.asdar-book.org "
   ]
  },
  {
   "cell_type": "markdown",
   "metadata": {},
   "source": [
    "## 2.3 Spatial Objects"
   ]
  },
  {
   "cell_type": "code",
   "execution_count": 1,
   "metadata": {
    "collapsed": false
   },
   "outputs": [
    {
     "name": "stdout",
     "output_type": "stream",
     "text": [
      "package 'sp' successfully unpacked and MD5 sums checked\n",
      "\n",
      "The downloaded binary packages are in\n",
      "\tC:\\Users\\Y.G JI\\AppData\\Local\\Temp\\RtmpKGoWDZ\\downloaded_packages\n"
     ]
    }
   ],
   "source": [
    "# 설치는 한번만\n",
    "#install.packages(\"sp\",  repos=\"http://cran.nexr.com/\"  ) "
   ]
  },
  {
   "cell_type": "code",
   "execution_count": 1,
   "metadata": {
    "collapsed": false
   },
   "outputs": [],
   "source": [
    "library(sp)"
   ]
  },
  {
   "cell_type": "markdown",
   "metadata": {},
   "source": [
    "- R에서 사용하는 공간관련 객체들"
   ]
  },
  {
   "cell_type": "code",
   "execution_count": 2,
   "metadata": {
    "collapsed": false
   },
   "outputs": [
    {
     "data": {
      "text/plain": [
       "Class \"Spatial\" [package \"sp\"]\n",
       "\n",
       "Slots:\n",
       "                              \n",
       "Name:         bbox proj4string\n",
       "Class:      matrix         CRS\n",
       "\n",
       "Known Subclasses: \n",
       "Class \"SpatialPoints\", directly\n",
       "Class \"SpatialMultiPoints\", directly\n",
       "Class \"SpatialGrid\", directly\n",
       "Class \"SpatialLines\", directly\n",
       "Class \"SpatialPolygons\", directly\n",
       "Class \"SpatialPointsDataFrame\", by class \"SpatialPoints\", distance 2\n",
       "Class \"SpatialPixels\", by class \"SpatialPoints\", distance 2\n",
       "Class \"SpatialMultiPointsDataFrame\", by class \"SpatialMultiPoints\", distance 2\n",
       "Class \"SpatialGridDataFrame\", by class \"SpatialGrid\", distance 2\n",
       "Class \"SpatialLinesDataFrame\", by class \"SpatialLines\", distance 2\n",
       "Class \"SpatialPixelsDataFrame\", by class \"SpatialPoints\", distance 3\n",
       "Class \"SpatialPolygonsDataFrame\", by class \"SpatialPolygons\", distance 2"
      ]
     },
     "execution_count": 2,
     "metadata": {},
     "output_type": "execute_result"
    }
   ],
   "source": [
    "getClass(\"Spatial\")"
   ]
  },
  {
   "cell_type": "markdown",
   "metadata": {},
   "source": [
    "- CRS( coordinate reference system ) 클래스는 좌표참조시스템임.\n",
    "- 위경도 좌표일때는 +proj=longlat 문자열를 사용함."
   ]
  },
  {
   "cell_type": "code",
   "execution_count": 10,
   "metadata": {
    "collapsed": false
   },
   "outputs": [
    {
     "data": {
      "text/plain": [
       "Class \"CRS\" [package \"sp\"]\n",
       "\n",
       "Slots:\n",
       "                \n",
       "Name:   projargs\n",
       "Class: character"
      ]
     },
     "execution_count": 10,
     "metadata": {},
     "output_type": "execute_result"
    }
   ],
   "source": [
    "getClass(\"CRS\")"
   ]
  },
  {
   "cell_type": "markdown",
   "metadata": {},
   "source": [
    "- bounding box matrix와 빈 CRS로 Spatial 객체를 만들어보자."
   ]
  },
  {
   "cell_type": "code",
   "execution_count": 11,
   "metadata": {
    "collapsed": false
   },
   "outputs": [
    {
     "data": {
      "text/html": [
       "<table>\n",
       "<thead><tr><th scope=col>min</th><th scope=col>max</th></tr></thead>\n",
       "<tbody>\n",
       "\t<tr><td>0</td><td>1</td></tr>\n",
       "\t<tr><td>0</td><td>1</td></tr>\n",
       "</tbody>\n",
       "</table>\n"
      ],
      "text/latex": [
       "\\begin{tabular}{ll}\n",
       " min & max\\\\\n",
       "\\hline\n",
       "\t 0 & 1\\\\\n",
       "\t 0 & 1\\\\\n",
       "\\end{tabular}\n"
      ],
      "text/markdown": [
       "1. 0\n",
       "2. 0\n",
       "3. 1\n",
       "4. 1\n",
       "\n",
       "\n"
      ],
      "text/plain": [
       "     min max\n",
       "[1,]   0   1\n",
       "[2,]   0   1"
      ]
     },
     "execution_count": 11,
     "metadata": {},
     "output_type": "execute_result"
    }
   ],
   "source": [
    "m <- matrix( c(0, 0, 1, 1), ncol=2, dimnames=list(NULL, c(\"min\", \"max\")) )\n",
    "m"
   ]
  },
  {
   "cell_type": "code",
   "execution_count": 12,
   "metadata": {
    "collapsed": false
   },
   "outputs": [
    {
     "data": {
      "text/plain": [
       "CRS arguments: NA "
      ]
     },
     "execution_count": 12,
     "metadata": {},
     "output_type": "execute_result"
    }
   ],
   "source": [
    "crs <- CRS( projargs=as.character(NA) )\n",
    "crs"
   ]
  },
  {
   "cell_type": "code",
   "execution_count": 13,
   "metadata": {
    "collapsed": false
   },
   "outputs": [
    {
     "data": {
      "text/plain": [
       "An object of class \"Spatial\"\n",
       "Slot \"bbox\":\n",
       "     min max\n",
       "[1,]   0   1\n",
       "[2,]   0   1\n",
       "\n",
       "Slot \"proj4string\":\n",
       "CRS arguments: NA \n"
      ]
     },
     "execution_count": 13,
     "metadata": {},
     "output_type": "execute_result"
    }
   ],
   "source": [
    "S <- Spatial(bbox=m, proj4string=crs)\n",
    "S"
   ]
  },
  {
   "cell_type": "markdown",
   "metadata": {},
   "source": [
    "- 아래와 같이 좀더 세련된 방법\n",
    "- 좌표에 대한 유효성을 체크"
   ]
  },
  {
   "cell_type": "code",
   "execution_count": 17,
   "metadata": {
    "collapsed": false
   },
   "outputs": [
    {
     "data": {
      "text/plain": [
       "An object of class \"Spatial\"\n",
       "Slot \"bbox\":\n",
       "     min max\n",
       "[1,] 350 370\n",
       "[2,]  85  95\n",
       "\n",
       "Slot \"proj4string\":\n",
       "CRS arguments: +proj=longlat +ellps=WGS84 \n"
      ]
     },
     "execution_count": 17,
     "metadata": {},
     "output_type": "execute_result"
    }
   ],
   "source": [
    "Spatial(matrix(c(350, 85, 370, 95), \n",
    "        ncol = 2, \n",
    "        dimnames = list(NULL, c(\"min\", \"max\"))), \n",
    "        proj4string = CRS(\"+proj=longlat\"))"
   ]
  },
  {
   "cell_type": "markdown",
   "metadata": {},
   "source": [
    "## 2.4 SpatialPoints"
   ]
  },
  {
   "cell_type": "markdown",
   "metadata": {},
   "source": [
    "- SpatialPoints는 2차원 좌표에서의 하나의 점을 표현\n",
    "- 주로 위경도 좌표를 표현\n",
    "\n",
    "- 위경도 데이터를 읽어서 SpatialPoints 객체를 생성해보자."
   ]
  },
  {
   "cell_type": "code",
   "execution_count": null,
   "metadata": {
    "collapsed": true
   },
   "outputs": [],
   "source": [
    "http://www.asdar-book.org/datasets/CRAN051001a.txt"
   ]
  },
  {
   "cell_type": "code",
   "execution_count": 19,
   "metadata": {
    "collapsed": false
   },
   "outputs": [
    {
     "data": {
      "text/html": [
       "<table>\n",
       "<thead><tr><th></th><th scope=col>place</th><th scope=col>north</th><th scope=col>east</th><th scope=col>loc</th><th scope=col>long</th><th scope=col>lat</th></tr></thead>\n",
       "<tbody>\n",
       "\t<tr><th scope=row>1</th><td>Brisbane</td><td>27d28'S</td><td>153d02'E</td><td>Australia</td><td>153.0333</td><td>-27.46667</td></tr>\n",
       "\t<tr><th scope=row>2</th><td>Melbourne</td><td>37d49'S</td><td>144d58'E</td><td>Australia</td><td>144.9667</td><td>-37.81667</td></tr>\n",
       "\t<tr><th scope=row>3</th><td>Wien</td><td>48d13'N</td><td>16d20'E</td><td>Austria</td><td>16.33333</td><td>48.21667</td></tr>\n",
       "\t<tr><th scope=row>4</th><td>Curitiba</td><td>25d25'S</td><td>49d16'W</td><td>Brazil</td><td>-49.26667</td><td>-25.41667</td></tr>\n",
       "\t<tr><th scope=row>5</th><td>Vi<e7>oza</td><td>20d45'S</td><td>42d52'W</td><td>Brazil</td><td>-42.86667</td><td>-20.75</td></tr>\n",
       "\t<tr><th scope=row>6</th><td>Rio de Janeiro</td><td>22d54'S</td><td>43d12'W</td><td>Brazil</td><td>-43.2</td><td>-22.9</td></tr>\n",
       "</tbody>\n",
       "</table>\n"
      ],
      "text/latex": [
       "\\begin{tabular}{r|llllll}\n",
       "  & place & north & east & loc & long & lat\\\\\n",
       "\\hline\n",
       "\t1 & Brisbane & 27d28'S & 153d02'E & Australia & 153.0333 & -27.46667\\\\\n",
       "\t2 & Melbourne & 37d49'S & 144d58'E & Australia & 144.9667 & -37.81667\\\\\n",
       "\t3 & Wien & 48d13'N & 16d20'E & Austria & 16.33333 & 48.21667\\\\\n",
       "\t4 & Curitiba & 25d25'S & 49d16'W & Brazil & -49.26667 & -25.41667\\\\\n",
       "\t5 & Vi攼㸷oza & 20d45'S & 42d52'W & Brazil & -42.86667 & -20.75\\\\\n",
       "\t6 & Rio de Janeiro & 22d54'S & 43d12'W & Brazil & -43.2 & -22.9\\\\\n",
       "\\end{tabular}\n"
      ],
      "text/plain": [
       "           place   north     east       loc      long       lat\n",
       "1       Brisbane 27d28'S 153d02'E Australia 153.03333 -27.46667\n",
       "2      Melbourne 37d49'S 144d58'E Australia 144.96667 -37.81667\n",
       "3           Wien 48d13'N  16d20'E   Austria  16.33333  48.21667\n",
       "4       Curitiba 25d25'S  49d16'W    Brazil -49.26667 -25.41667\n",
       "5      Vi\\xe7oza 20d45'S  42d52'W    Brazil -42.86667 -20.75000\n",
       "6 Rio de Janeiro 22d54'S  43d12'W    Brazil -43.20000 -22.90000"
      ]
     },
     "execution_count": 19,
     "metadata": {},
     "output_type": "execute_result"
    }
   ],
   "source": [
    "CRAN_df <- read.table(\"http://www.asdar-book.org/datasets/CRAN051001a.txt\", header = TRUE)\n",
    "head( CRAN_df )"
   ]
  },
  {
   "cell_type": "code",
   "execution_count": 20,
   "metadata": {
    "collapsed": false
   },
   "outputs": [
    {
     "data": {
      "text/html": [
       "\"matrix\""
      ],
      "text/latex": [
       "\"matrix\""
      ],
      "text/markdown": [
       "\"matrix\""
      ],
      "text/plain": [
       "[1] \"matrix\""
      ]
     },
     "execution_count": 20,
     "metadata": {},
     "output_type": "execute_result"
    },
    {
     "data": {
      "text/html": [
       "<table>\n",
       "<tbody>\n",
       "\t<tr><td>153.03333</td><td>-27.46667</td></tr>\n",
       "\t<tr><td>144.96667</td><td>-37.81667</td></tr>\n",
       "\t<tr><td>16.33333</td><td>48.21667</td></tr>\n",
       "\t<tr><td>-49.26667</td><td>-25.41667</td></tr>\n",
       "\t<tr><td>-42.86667</td><td>-20.75000</td></tr>\n",
       "\t<tr><td>-43.2</td><td>-22.9</td></tr>\n",
       "</tbody>\n",
       "</table>\n"
      ],
      "text/latex": [
       "\\begin{tabular}{ll}\n",
       "\t 153.03333 & -27.46667\\\\\n",
       "\t 144.96667 & -37.81667\\\\\n",
       "\t 16.33333 & 48.21667\\\\\n",
       "\t -49.26667 & -25.41667\\\\\n",
       "\t -42.86667 & -20.75000\\\\\n",
       "\t -43.2 & -22.9\\\\\n",
       "\\end{tabular}\n"
      ],
      "text/markdown": [
       "1. 153.033333333333\n",
       "2. 144.966666666667\n",
       "3. 16.3333333333333\n",
       "4. -49.2666666666667\n",
       "5. -42.8666666666667\n",
       "6. -43.2\n",
       "7. -27.4666666666667\n",
       "8. -37.8166666666667\n",
       "9. 48.2166666666667\n",
       "10. -25.4166666666667\n",
       "11. -20.75\n",
       "12. -22.9\n",
       "\n",
       "\n"
      ],
      "text/plain": [
       "          [,1]      [,2]\n",
       "[1,] 153.03333 -27.46667\n",
       "[2,] 144.96667 -37.81667\n",
       "[3,]  16.33333  48.21667\n",
       "[4,] -49.26667 -25.41667\n",
       "[5,] -42.86667 -20.75000\n",
       "[6,] -43.20000 -22.90000"
      ]
     },
     "execution_count": 20,
     "metadata": {},
     "output_type": "execute_result"
    },
    {
     "data": {
      "text/html": [
       "<ol class=list-inline>\n",
       "\t<li>\"1\"</li>\n",
       "\t<li>\"2\"</li>\n",
       "\t<li>\"3\"</li>\n",
       "\t<li>\"4\"</li>\n",
       "\t<li>\"5\"</li>\n",
       "\t<li>\"6\"</li>\n",
       "\t<li>\"7\"</li>\n",
       "\t<li>\"8\"</li>\n",
       "\t<li>\"9\"</li>\n",
       "\t<li>\"10\"</li>\n",
       "\t<li>\"11\"</li>\n",
       "\t<li>\"12\"</li>\n",
       "\t<li>\"13\"</li>\n",
       "\t<li>\"14\"</li>\n",
       "\t<li>\"15\"</li>\n",
       "\t<li>\"16\"</li>\n",
       "\t<li>\"17\"</li>\n",
       "\t<li>\"18\"</li>\n",
       "\t<li>\"19\"</li>\n",
       "\t<li>\"20\"</li>\n",
       "\t<li>\"21\"</li>\n",
       "\t<li>\"22\"</li>\n",
       "\t<li>\"23\"</li>\n",
       "\t<li>\"24\"</li>\n",
       "\t<li>\"25\"</li>\n",
       "\t<li>\"26\"</li>\n",
       "\t<li>\"27\"</li>\n",
       "\t<li>\"28\"</li>\n",
       "\t<li>\"29\"</li>\n",
       "\t<li>\"30\"</li>\n",
       "\t<li>\"31\"</li>\n",
       "\t<li>\"32\"</li>\n",
       "\t<li>\"33\"</li>\n",
       "\t<li>\"34\"</li>\n",
       "\t<li>\"35\"</li>\n",
       "\t<li>\"36\"</li>\n",
       "\t<li>\"37\"</li>\n",
       "\t<li>\"38\"</li>\n",
       "\t<li>\"39\"</li>\n",
       "\t<li>\"40\"</li>\n",
       "\t<li>\"41\"</li>\n",
       "\t<li>\"42\"</li>\n",
       "\t<li>\"43\"</li>\n",
       "\t<li>\"44\"</li>\n",
       "\t<li>\"45\"</li>\n",
       "\t<li>\"46\"</li>\n",
       "\t<li>\"47\"</li>\n",
       "\t<li>\"48\"</li>\n",
       "\t<li>\"49\"</li>\n",
       "\t<li>\"50\"</li>\n",
       "\t<li>\"51\"</li>\n",
       "\t<li>\"52\"</li>\n",
       "\t<li>\"53\"</li>\n",
       "\t<li>\"54\"</li>\n",
       "</ol>\n"
      ],
      "text/latex": [
       "\\begin{enumerate*}\n",
       "\\item \"1\"\n",
       "\\item \"2\"\n",
       "\\item \"3\"\n",
       "\\item \"4\"\n",
       "\\item \"5\"\n",
       "\\item \"6\"\n",
       "\\item \"7\"\n",
       "\\item \"8\"\n",
       "\\item \"9\"\n",
       "\\item \"10\"\n",
       "\\item \"11\"\n",
       "\\item \"12\"\n",
       "\\item \"13\"\n",
       "\\item \"14\"\n",
       "\\item \"15\"\n",
       "\\item \"16\"\n",
       "\\item \"17\"\n",
       "\\item \"18\"\n",
       "\\item \"19\"\n",
       "\\item \"20\"\n",
       "\\item \"21\"\n",
       "\\item \"22\"\n",
       "\\item \"23\"\n",
       "\\item \"24\"\n",
       "\\item \"25\"\n",
       "\\item \"26\"\n",
       "\\item \"27\"\n",
       "\\item \"28\"\n",
       "\\item \"29\"\n",
       "\\item \"30\"\n",
       "\\item \"31\"\n",
       "\\item \"32\"\n",
       "\\item \"33\"\n",
       "\\item \"34\"\n",
       "\\item \"35\"\n",
       "\\item \"36\"\n",
       "\\item \"37\"\n",
       "\\item \"38\"\n",
       "\\item \"39\"\n",
       "\\item \"40\"\n",
       "\\item \"41\"\n",
       "\\item \"42\"\n",
       "\\item \"43\"\n",
       "\\item \"44\"\n",
       "\\item \"45\"\n",
       "\\item \"46\"\n",
       "\\item \"47\"\n",
       "\\item \"48\"\n",
       "\\item \"49\"\n",
       "\\item \"50\"\n",
       "\\item \"51\"\n",
       "\\item \"52\"\n",
       "\\item \"53\"\n",
       "\\item \"54\"\n",
       "\\end{enumerate*}\n"
      ],
      "text/markdown": [
       "1. \"1\"\n",
       "2. \"2\"\n",
       "3. \"3\"\n",
       "4. \"4\"\n",
       "5. \"5\"\n",
       "6. \"6\"\n",
       "7. \"7\"\n",
       "8. \"8\"\n",
       "9. \"9\"\n",
       "10. \"10\"\n",
       "11. \"11\"\n",
       "12. \"12\"\n",
       "13. \"13\"\n",
       "14. \"14\"\n",
       "15. \"15\"\n",
       "16. \"16\"\n",
       "17. \"17\"\n",
       "18. \"18\"\n",
       "19. \"19\"\n",
       "20. \"20\"\n",
       "21. \"21\"\n",
       "22. \"22\"\n",
       "23. \"23\"\n",
       "24. \"24\"\n",
       "25. \"25\"\n",
       "26. \"26\"\n",
       "27. \"27\"\n",
       "28. \"28\"\n",
       "29. \"29\"\n",
       "30. \"30\"\n",
       "31. \"31\"\n",
       "32. \"32\"\n",
       "33. \"33\"\n",
       "34. \"34\"\n",
       "35. \"35\"\n",
       "36. \"36\"\n",
       "37. \"37\"\n",
       "38. \"38\"\n",
       "39. \"39\"\n",
       "40. \"40\"\n",
       "41. \"41\"\n",
       "42. \"42\"\n",
       "43. \"43\"\n",
       "44. \"44\"\n",
       "45. \"45\"\n",
       "46. \"46\"\n",
       "47. \"47\"\n",
       "48. \"48\"\n",
       "49. \"49\"\n",
       "50. \"50\"\n",
       "51. \"51\"\n",
       "52. \"52\"\n",
       "53. \"53\"\n",
       "54. \"54\"\n",
       "\n",
       "\n"
      ],
      "text/plain": [
       " [1] \"1\"  \"2\"  \"3\"  \"4\"  \"5\"  \"6\"  \"7\"  \"8\"  \"9\"  \"10\" \"11\" \"12\" \"13\" \"14\" \"15\"\n",
       "[16] \"16\" \"17\" \"18\" \"19\" \"20\" \"21\" \"22\" \"23\" \"24\" \"25\" \"26\" \"27\" \"28\" \"29\" \"30\"\n",
       "[31] \"31\" \"32\" \"33\" \"34\" \"35\" \"36\" \"37\" \"38\" \"39\" \"40\" \"41\" \"42\" \"43\" \"44\" \"45\"\n",
       "[46] \"46\" \"47\" \"48\" \"49\" \"50\" \"51\" \"52\" \"53\" \"54\""
      ]
     },
     "execution_count": 20,
     "metadata": {},
     "output_type": "execute_result"
    },
    {
     "name": "stdout",
     "output_type": "stream",
     "text": [
      " num [1:54, 1:2] 153 145 16.3 -49.3 -42.9 ...\n",
      " - attr(*, \"dimnames\")=List of 2\n",
      "  ..$ : chr [1:54] \"1\" \"2\" \"3\" \"4\" ...\n",
      "  ..$ : NULL\n"
     ]
    }
   ],
   "source": [
    "CRAN_mat <- cbind(CRAN_df$long, CRAN_df$lat)\n",
    "class( CRAN_mat )\n",
    "head( CRAN_mat )\n",
    "row.names(CRAN_mat) <- 1:nrow(CRAN_mat)\n",
    "row.names(CRAN_mat)\n",
    "str(CRAN_mat)"
   ]
  },
  {
   "cell_type": "code",
   "execution_count": 10,
   "metadata": {
    "collapsed": false
   },
   "outputs": [
    {
     "data": {
      "text/plain": [
       "Class \"SpatialPoints\" [package \"sp\"]\n",
       "\n",
       "Slots:\n",
       "                                          \n",
       "Name:       coords        bbox proj4string\n",
       "Class:      matrix      matrix         CRS\n",
       "\n",
       "Extends: \"Spatial\"\n",
       "\n",
       "Known Subclasses: \n",
       "Class \"SpatialPointsDataFrame\", directly\n",
       "Class \"SpatialPixels\", directly\n",
       "Class \"SpatialPixelsDataFrame\", by class \"SpatialPixels\", distance 2"
      ]
     },
     "execution_count": 10,
     "metadata": {},
     "output_type": "execute_result"
    }
   ],
   "source": [
    "getClass(\"SpatialPoints\")"
   ]
  },
  {
   "cell_type": "code",
   "execution_count": 11,
   "metadata": {
    "collapsed": false
   },
   "outputs": [
    {
     "data": {
      "text/plain": [
       "Object of class SpatialPoints\n",
       "Coordinates:\n",
       "                 min      max\n",
       "coords.x1 -122.95000 153.0333\n",
       "coords.x2  -37.81667  57.0500\n",
       "Is projected: FALSE \n",
       "proj4string : [+proj=longlat +ellps=WGS84]\n",
       "Number of points: 54"
      ]
     },
     "execution_count": 11,
     "metadata": {},
     "output_type": "execute_result"
    }
   ],
   "source": [
    "llCRS <- CRS(\"+proj=longlat +ellps=WGS84\")\n",
    "CRAN_sp <- SpatialPoints(CRAN_mat, proj4string = llCRS)\n",
    "summary(CRAN_sp)"
   ]
  },
  {
   "cell_type": "markdown",
   "metadata": {},
   "source": [
    "### 2.4.1 Methods"
   ]
  },
  {
   "cell_type": "code",
   "execution_count": 12,
   "metadata": {
    "collapsed": false
   },
   "outputs": [
    {
     "data": {
      "text/html": [
       "<table>\n",
       "<thead><tr><th></th><th scope=col>min</th><th scope=col>max</th></tr></thead>\n",
       "<tbody>\n",
       "\t<tr><th scope=row>coords.x1</th><td>-122.9500</td><td> 153.0333</td></tr>\n",
       "\t<tr><th scope=row>coords.x2</th><td>-37.81667</td><td> 57.05000</td></tr>\n",
       "</tbody>\n",
       "</table>\n"
      ],
      "text/latex": [
       "\\begin{tabular}{r|ll}\n",
       "  & min & max\\\\\n",
       "\\hline\n",
       "\tcoords.x1 & -122.9500 &  153.0333\\\\\n",
       "\tcoords.x2 & -37.81667 &  57.05000\\\\\n",
       "\\end{tabular}\n"
      ],
      "text/markdown": [
       "1. -122.95\n",
       "2. -37.8166666666667\n",
       "3. 153.033333333333\n",
       "4. 57.05\n",
       "\n",
       "\n"
      ],
      "text/plain": [
       "                 min      max\n",
       "coords.x1 -122.95000 153.0333\n",
       "coords.x2  -37.81667  57.0500"
      ]
     },
     "execution_count": 12,
     "metadata": {},
     "output_type": "execute_result"
    }
   ],
   "source": [
    "bbox(CRAN_sp)"
   ]
  },
  {
   "cell_type": "code",
   "execution_count": 13,
   "metadata": {
    "collapsed": false
   },
   "outputs": [
    {
     "data": {
      "text/html": [
       "\"+proj=longlat +ellps=WGS84\""
      ],
      "text/latex": [
       "\"+proj=longlat +ellps=WGS84\""
      ],
      "text/markdown": [
       "\"+proj=longlat +ellps=WGS84\""
      ],
      "text/plain": [
       "[1] \"+proj=longlat +ellps=WGS84\""
      ]
     },
     "execution_count": 13,
     "metadata": {},
     "output_type": "execute_result"
    }
   ],
   "source": [
    "proj4string(CRAN_sp)"
   ]
  },
  {
   "cell_type": "code",
   "execution_count": 14,
   "metadata": {
    "collapsed": false
   },
   "outputs": [
    {
     "data": {
      "text/html": [
       "\"NA\""
      ],
      "text/latex": [
       "\"NA\""
      ],
      "text/markdown": [
       "\"NA\""
      ],
      "text/plain": [
       "[1] NA"
      ]
     },
     "execution_count": 14,
     "metadata": {},
     "output_type": "execute_result"
    }
   ],
   "source": [
    "proj4string(CRAN_sp) <- CRS(as.character(NA))\n",
    "proj4string(CRAN_sp)"
   ]
  },
  {
   "cell_type": "code",
   "execution_count": 15,
   "metadata": {
    "collapsed": false
   },
   "outputs": [
    {
     "data": {
      "text/html": [
       "\"+proj=longlat +ellps=WGS84\""
      ],
      "text/latex": [
       "\"+proj=longlat +ellps=WGS84\""
      ],
      "text/markdown": [
       "\"+proj=longlat +ellps=WGS84\""
      ],
      "text/plain": [
       "[1] \"+proj=longlat +ellps=WGS84\""
      ]
     },
     "execution_count": 15,
     "metadata": {},
     "output_type": "execute_result"
    }
   ],
   "source": [
    "proj4string(CRAN_sp) <- llCRS\n",
    "proj4string(CRAN_sp)"
   ]
  },
  {
   "cell_type": "code",
   "execution_count": 16,
   "metadata": {
    "collapsed": false
   },
   "outputs": [
    {
     "data": {
      "text/html": [
       "<ol class=list-inline>\n",
       "\t<li>4</li>\n",
       "\t<li>5</li>\n",
       "\t<li>6</li>\n",
       "\t<li>7</li>\n",
       "\t<li>8</li>\n",
       "</ol>\n"
      ],
      "text/latex": [
       "\\begin{enumerate*}\n",
       "\\item 4\n",
       "\\item 5\n",
       "\\item 6\n",
       "\\item 7\n",
       "\\item 8\n",
       "\\end{enumerate*}\n"
      ],
      "text/markdown": [
       "1. 4\n",
       "2. 5\n",
       "3. 6\n",
       "4. 7\n",
       "5. 8\n",
       "\n",
       "\n"
      ],
      "text/plain": [
       "[1] 4 5 6 7 8"
      ]
     },
     "execution_count": 16,
     "metadata": {},
     "output_type": "execute_result"
    }
   ],
   "source": [
    "brazil <- which(CRAN_df$loc == \"Brazil\")\n",
    "brazil"
   ]
  },
  {
   "cell_type": "code",
   "execution_count": 17,
   "metadata": {
    "collapsed": false
   },
   "outputs": [
    {
     "data": {
      "text/html": [
       "<table>\n",
       "<thead><tr><th></th><th scope=col>coords.x1</th><th scope=col>coords.x2</th></tr></thead>\n",
       "<tbody>\n",
       "\t<tr><th scope=row>4</th><td>-49.26667</td><td>-25.41667</td></tr>\n",
       "\t<tr><th scope=row>5</th><td>-42.86667</td><td>-20.75000</td></tr>\n",
       "\t<tr><th scope=row>6</th><td>-43.2</td><td>-22.9</td></tr>\n",
       "\t<tr><th scope=row>7</th><td>-47.63333</td><td>-22.71667</td></tr>\n",
       "\t<tr><th scope=row>8</th><td>-46.63333</td><td>-23.53333</td></tr>\n",
       "</tbody>\n",
       "</table>\n"
      ],
      "text/latex": [
       "\\begin{tabular}{r|ll}\n",
       "  & coords.x1 & coords.x2\\\\\n",
       "\\hline\n",
       "\t4 & -49.26667 & -25.41667\\\\\n",
       "\t5 & -42.86667 & -20.75000\\\\\n",
       "\t6 & -43.2 & -22.9\\\\\n",
       "\t7 & -47.63333 & -22.71667\\\\\n",
       "\t8 & -46.63333 & -23.53333\\\\\n",
       "\\end{tabular}\n"
      ],
      "text/markdown": [
       "1. -49.2666666666667\n",
       "2. -42.8666666666667\n",
       "3. -43.2\n",
       "4. -47.6333333333333\n",
       "5. -46.6333333333333\n",
       "6. -25.4166666666667\n",
       "7. -20.75\n",
       "8. -22.9\n",
       "9. -22.7166666666667\n",
       "10. -23.5333333333333\n",
       "\n",
       "\n"
      ],
      "text/plain": [
       "  coords.x1 coords.x2\n",
       "4 -49.26667 -25.41667\n",
       "5 -42.86667 -20.75000\n",
       "6 -43.20000 -22.90000\n",
       "7 -47.63333 -22.71667\n",
       "8 -46.63333 -23.53333"
      ]
     },
     "execution_count": 17,
     "metadata": {},
     "output_type": "execute_result"
    }
   ],
   "source": [
    "coordinates(CRAN_sp)[brazil, ]"
   ]
  },
  {
   "cell_type": "code",
   "execution_count": 18,
   "metadata": {
    "collapsed": false
   },
   "outputs": [
    {
     "data": {
      "text/plain": [
       "Object of class SpatialPoints\n",
       "Coordinates:\n",
       "                min       max\n",
       "coords.x1 -49.26667 -42.86667\n",
       "coords.x2 -25.41667 -20.75000\n",
       "Is projected: FALSE \n",
       "proj4string : [+proj=longlat +ellps=WGS84]\n",
       "Number of points: 5"
      ]
     },
     "execution_count": 18,
     "metadata": {},
     "output_type": "execute_result"
    }
   ],
   "source": [
    "summary(CRAN_sp[brazil, ])"
   ]
  },
  {
   "cell_type": "code",
   "execution_count": 19,
   "metadata": {
    "collapsed": false
   },
   "outputs": [
    {
     "data": {
      "text/plain": [
       "Object of class SpatialPoints\n",
       "Coordinates:\n",
       "              min    max\n",
       "coords.x1 -122.95 140.10\n",
       "coords.x2   24.15  57.05\n",
       "Is projected: FALSE \n",
       "proj4string : [+proj=longlat +ellps=WGS84]\n",
       "Number of points: 45"
      ]
     },
     "execution_count": 19,
     "metadata": {},
     "output_type": "execute_result"
    }
   ],
   "source": [
    "south_of_equator <- which(coordinates(CRAN_sp)[, 2] < 0)\n",
    "summary ( CRAN_sp[-south_of_equator, ]  )"
   ]
  },
  {
   "cell_type": "markdown",
   "metadata": {},
   "source": [
    "### 2.4.2 Data Frames for Spatial Point Data"
   ]
  },
  {
   "cell_type": "markdown",
   "metadata": {},
   "source": [
    "- 공간상의 좌표에 해당 좌표에 맞는 데이터를 연결이 필요함.\n",
    "- SpatialPoints객체와 data.frame 객체와 통합된 SpatialPointsDataFrame 객체를 만들수 있음."
   ]
  },
  {
   "cell_type": "code",
   "execution_count": 20,
   "metadata": {
    "collapsed": false
   },
   "outputs": [
    {
     "name": "stdout",
     "output_type": "stream",
     "text": [
      " chr [1:54] \"1\" \"2\" \"3\" \"4\" \"5\" \"6\" \"7\" \"8\" \"9\" \"10\" ...\n"
     ]
    }
   ],
   "source": [
    "str(row.names(CRAN_df))"
   ]
  },
  {
   "cell_type": "code",
   "execution_count": 21,
   "metadata": {
    "collapsed": false
   },
   "outputs": [
    {
     "data": {
      "text/plain": [
       "             coordinates    place   north    east    loc      long       lat\n",
       "4 (-49.26667, -25.41667) Curitiba 25d25'S 49d16'W Brazil -49.26667 -25.41667"
      ]
     },
     "execution_count": 21,
     "metadata": {},
     "output_type": "execute_result"
    }
   ],
   "source": [
    "CRAN_spdf1 <- SpatialPointsDataFrame(\n",
    "    CRAN_mat, \n",
    "    CRAN_df,\n",
    "    proj4string = llCRS, \n",
    "    match.ID = TRUE)\n",
    "CRAN_spdf1[4, ]"
   ]
  },
  {
   "cell_type": "code",
   "execution_count": 22,
   "metadata": {
    "collapsed": false
   },
   "outputs": [
    {
     "data": {
      "text/plain": [
       "             coordinates    place   north    east    loc      long       lat\n",
       "4 (-49.26667, -25.41667) Curitiba 25d25'S 49d16'W Brazil -49.26667 -25.41667"
      ]
     },
     "execution_count": 22,
     "metadata": {},
     "output_type": "execute_result"
    }
   ],
   "source": [
    "CRAN_spdf1[4, ]"
   ]
  },
  {
   "cell_type": "markdown",
   "metadata": {},
   "source": [
    "- SpatialPointsDataFrame객체에서 data.frame과 같은 방법도 가능하고, standard S언어 클래스를 참고하는 방법도 가능."
   ]
  },
  {
   "cell_type": "code",
   "execution_count": 23,
   "metadata": {
    "collapsed": false
   },
   "outputs": [
    {
     "name": "stdout",
     "output_type": "stream",
     "text": [
      " Factor w/ 30 levels \"Australia\",\"Austria\",..: 1 1 2 3 3 3 3 3 4 19 ...\n",
      " Factor w/ 30 levels \"Australia\",\"Austria\",..: 1 1 2 3 3 3 3 3 4 19 ...\n"
     ]
    }
   ],
   "source": [
    "str(CRAN_spdf1$loc)\n",
    "str(CRAN_spdf1[[\"loc\"]])"
   ]
  },
  {
   "cell_type": "markdown",
   "metadata": {},
   "source": [
    "- 데이터의 순서가 다르더라도,  row id로 재정렬됨."
   ]
  },
  {
   "cell_type": "code",
   "execution_count": 24,
   "metadata": {
    "collapsed": false
   },
   "outputs": [
    {
     "data": {
      "text/html": [
       "<ol class=list-inline>\n",
       "\t<li>53</li>\n",
       "\t<li>4</li>\n",
       "\t<li>46</li>\n",
       "\t<li>10</li>\n",
       "\t<li>7</li>\n",
       "\t<li>5</li>\n",
       "\t<li>50</li>\n",
       "\t<li>24</li>\n",
       "\t<li>25</li>\n",
       "\t<li>27</li>\n",
       "\t<li>47</li>\n",
       "\t<li>3</li>\n",
       "\t<li>20</li>\n",
       "\t<li>41</li>\n",
       "\t<li>49</li>\n",
       "\t<li>9</li>\n",
       "\t<li>19</li>\n",
       "\t<li>16</li>\n",
       "\t<li>42</li>\n",
       "\t<li>21</li>\n",
       "\t<li>39</li>\n",
       "\t<li>17</li>\n",
       "\t<li>26</li>\n",
       "\t<li>52</li>\n",
       "\t<li>35</li>\n",
       "\t<li>12</li>\n",
       "\t<li>15</li>\n",
       "\t<li>48</li>\n",
       "\t<li>51</li>\n",
       "\t<li>23</li>\n",
       "\t<li>1</li>\n",
       "\t<li>13</li>\n",
       "\t<li>30</li>\n",
       "\t<li>54</li>\n",
       "\t<li>31</li>\n",
       "\t<li>43</li>\n",
       "\t<li>29</li>\n",
       "\t<li>34</li>\n",
       "\t<li>45</li>\n",
       "\t<li>18</li>\n",
       "\t<li>32</li>\n",
       "\t<li>37</li>\n",
       "\t<li>14</li>\n",
       "\t<li>11</li>\n",
       "\t<li>28</li>\n",
       "\t<li>44</li>\n",
       "\t<li>6</li>\n",
       "\t<li>40</li>\n",
       "\t<li>22</li>\n",
       "\t<li>36</li>\n",
       "\t<li>38</li>\n",
       "\t<li>33</li>\n",
       "\t<li>2</li>\n",
       "\t<li>8</li>\n",
       "</ol>\n"
      ],
      "text/latex": [
       "\\begin{enumerate*}\n",
       "\\item 53\n",
       "\\item 4\n",
       "\\item 46\n",
       "\\item 10\n",
       "\\item 7\n",
       "\\item 5\n",
       "\\item 50\n",
       "\\item 24\n",
       "\\item 25\n",
       "\\item 27\n",
       "\\item 47\n",
       "\\item 3\n",
       "\\item 20\n",
       "\\item 41\n",
       "\\item 49\n",
       "\\item 9\n",
       "\\item 19\n",
       "\\item 16\n",
       "\\item 42\n",
       "\\item 21\n",
       "\\item 39\n",
       "\\item 17\n",
       "\\item 26\n",
       "\\item 52\n",
       "\\item 35\n",
       "\\item 12\n",
       "\\item 15\n",
       "\\item 48\n",
       "\\item 51\n",
       "\\item 23\n",
       "\\item 1\n",
       "\\item 13\n",
       "\\item 30\n",
       "\\item 54\n",
       "\\item 31\n",
       "\\item 43\n",
       "\\item 29\n",
       "\\item 34\n",
       "\\item 45\n",
       "\\item 18\n",
       "\\item 32\n",
       "\\item 37\n",
       "\\item 14\n",
       "\\item 11\n",
       "\\item 28\n",
       "\\item 44\n",
       "\\item 6\n",
       "\\item 40\n",
       "\\item 22\n",
       "\\item 36\n",
       "\\item 38\n",
       "\\item 33\n",
       "\\item 2\n",
       "\\item 8\n",
       "\\end{enumerate*}\n"
      ],
      "text/markdown": [
       "1. 53\n",
       "2. 4\n",
       "3. 46\n",
       "4. 10\n",
       "5. 7\n",
       "6. 5\n",
       "7. 50\n",
       "8. 24\n",
       "9. 25\n",
       "10. 27\n",
       "11. 47\n",
       "12. 3\n",
       "13. 20\n",
       "14. 41\n",
       "15. 49\n",
       "16. 9\n",
       "17. 19\n",
       "18. 16\n",
       "19. 42\n",
       "20. 21\n",
       "21. 39\n",
       "22. 17\n",
       "23. 26\n",
       "24. 52\n",
       "25. 35\n",
       "26. 12\n",
       "27. 15\n",
       "28. 48\n",
       "29. 51\n",
       "30. 23\n",
       "31. 1\n",
       "32. 13\n",
       "33. 30\n",
       "34. 54\n",
       "35. 31\n",
       "36. 43\n",
       "37. 29\n",
       "38. 34\n",
       "39. 45\n",
       "40. 18\n",
       "41. 32\n",
       "42. 37\n",
       "43. 14\n",
       "44. 11\n",
       "45. 28\n",
       "46. 44\n",
       "47. 6\n",
       "48. 40\n",
       "49. 22\n",
       "50. 36\n",
       "51. 38\n",
       "52. 33\n",
       "53. 2\n",
       "54. 8\n",
       "\n",
       "\n"
      ],
      "text/plain": [
       " [1] 53  4 46 10  7  5 50 24 25 27 47  3 20 41 49  9 19 16 42 21 39 17 26 52 35\n",
       "[26] 12 15 48 51 23  1 13 30 54 31 43 29 34 45 18 32 37 14 11 28 44  6 40 22 36\n",
       "[51] 38 33  2  8"
      ]
     },
     "execution_count": 24,
     "metadata": {},
     "output_type": "execute_result"
    },
    {
     "data": {
      "text/html": [
       "TRUE"
      ],
      "text/latex": [
       "TRUE"
      ],
      "text/markdown": [
       "TRUE"
      ],
      "text/plain": [
       "[1] TRUE"
      ]
     },
     "execution_count": 24,
     "metadata": {},
     "output_type": "execute_result"
    }
   ],
   "source": [
    "s <- sample(nrow(CRAN_df))\n",
    "s\n",
    "CRAN_spdf2 <- SpatialPointsDataFrame(\n",
    "    CRAN_mat, \n",
    "    CRAN_df[s, ], \n",
    "    proj4string = llCRS, \n",
    "    match.ID = TRUE)\n",
    "all.equal(CRAN_spdf2, CRAN_spdf1)"
   ]
  },
  {
   "cell_type": "code",
   "execution_count": 21,
   "metadata": {
    "collapsed": false
   },
   "outputs": [
    {
     "data": {
      "text/plain": [
       "             coordinates    place   north    east    loc      long       lat\n",
       "4 (-49.26667, -25.41667) Curitiba 25d25'S 49d16'W Brazil -49.26667 -25.41667"
      ]
     },
     "execution_count": 21,
     "metadata": {},
     "output_type": "execute_result"
    }
   ],
   "source": [
    "CRAN_spdf2[4, ]"
   ]
  },
  {
   "cell_type": "markdown",
   "metadata": {},
   "source": [
    "- ID값이 매칭되지 않으면 에러를 발생함."
   ]
  },
  {
   "cell_type": "code",
   "execution_count": 22,
   "metadata": {
    "collapsed": false
   },
   "outputs": [
    {
     "data": {
      "text/html": [
       "<ol class=list-inline>\n",
       "\t<li>\"of\"</li>\n",
       "\t<li>\"bf\"</li>\n",
       "\t<li>\"tb\"</li>\n",
       "\t<li>\"eh\"</li>\n",
       "\t<li>\"uu\"</li>\n",
       "\t<li>\"gx\"</li>\n",
       "\t<li>\"pk\"</li>\n",
       "\t<li>\"rh\"</li>\n",
       "\t<li>\"xs\"</li>\n",
       "\t<li>\"tc\"</li>\n",
       "\t<li>\"yf\"</li>\n",
       "\t<li>\"la\"</li>\n",
       "\t<li>\"ah\"</li>\n",
       "\t<li>\"wt\"</li>\n",
       "\t<li>\"vu\"</li>\n",
       "\t<li>\"vh\"</li>\n",
       "\t<li>\"rv\"</li>\n",
       "\t<li>\"cg\"</li>\n",
       "\t<li>\"sz\"</li>\n",
       "\t<li>\"ky\"</li>\n",
       "\t<li>\"ia\"</li>\n",
       "\t<li>\"mo\"</li>\n",
       "\t<li>\"wk\"</li>\n",
       "\t<li>\"uj\"</li>\n",
       "\t<li>\"zb\"</li>\n",
       "\t<li>\"yk\"</li>\n",
       "\t<li>\"vk\"</li>\n",
       "\t<li>\"lo\"</li>\n",
       "\t<li>\"ll\"</li>\n",
       "\t<li>\"bc\"</li>\n",
       "\t<li>\"jj\"</li>\n",
       "\t<li>\"mh\"</li>\n",
       "\t<li>\"uc\"</li>\n",
       "\t<li>\"ur\"</li>\n",
       "\t<li>\"hv\"</li>\n",
       "\t<li>\"ow\"</li>\n",
       "\t<li>\"dj\"</li>\n",
       "\t<li>\"wg\"</li>\n",
       "\t<li>\"ob\"</li>\n",
       "\t<li>\"jp\"</li>\n",
       "\t<li>\"zg\"</li>\n",
       "\t<li>\"ex\"</li>\n",
       "\t<li>\"pf\"</li>\n",
       "\t<li>\"tk\"</li>\n",
       "\t<li>\"xo\"</li>\n",
       "\t<li>\"wh\"</li>\n",
       "\t<li>\"so\"</li>\n",
       "\t<li>\"lt\"</li>\n",
       "\t<li>\"ss\"</li>\n",
       "\t<li>\"mu\"</li>\n",
       "\t<li>\"oq\"</li>\n",
       "\t<li>\"fp\"</li>\n",
       "\t<li>\"ct\"</li>\n",
       "\t<li>\"ot\"</li>\n",
       "</ol>\n"
      ],
      "text/latex": [
       "\\begin{enumerate*}\n",
       "\\item \"of\"\n",
       "\\item \"bf\"\n",
       "\\item \"tb\"\n",
       "\\item \"eh\"\n",
       "\\item \"uu\"\n",
       "\\item \"gx\"\n",
       "\\item \"pk\"\n",
       "\\item \"rh\"\n",
       "\\item \"xs\"\n",
       "\\item \"tc\"\n",
       "\\item \"yf\"\n",
       "\\item \"la\"\n",
       "\\item \"ah\"\n",
       "\\item \"wt\"\n",
       "\\item \"vu\"\n",
       "\\item \"vh\"\n",
       "\\item \"rv\"\n",
       "\\item \"cg\"\n",
       "\\item \"sz\"\n",
       "\\item \"ky\"\n",
       "\\item \"ia\"\n",
       "\\item \"mo\"\n",
       "\\item \"wk\"\n",
       "\\item \"uj\"\n",
       "\\item \"zb\"\n",
       "\\item \"yk\"\n",
       "\\item \"vk\"\n",
       "\\item \"lo\"\n",
       "\\item \"ll\"\n",
       "\\item \"bc\"\n",
       "\\item \"jj\"\n",
       "\\item \"mh\"\n",
       "\\item \"uc\"\n",
       "\\item \"ur\"\n",
       "\\item \"hv\"\n",
       "\\item \"ow\"\n",
       "\\item \"dj\"\n",
       "\\item \"wg\"\n",
       "\\item \"ob\"\n",
       "\\item \"jp\"\n",
       "\\item \"zg\"\n",
       "\\item \"ex\"\n",
       "\\item \"pf\"\n",
       "\\item \"tk\"\n",
       "\\item \"xo\"\n",
       "\\item \"wh\"\n",
       "\\item \"so\"\n",
       "\\item \"lt\"\n",
       "\\item \"ss\"\n",
       "\\item \"mu\"\n",
       "\\item \"oq\"\n",
       "\\item \"fp\"\n",
       "\\item \"ct\"\n",
       "\\item \"ot\"\n",
       "\\end{enumerate*}\n"
      ],
      "text/markdown": [
       "1. \"of\"\n",
       "2. \"bf\"\n",
       "3. \"tb\"\n",
       "4. \"eh\"\n",
       "5. \"uu\"\n",
       "6. \"gx\"\n",
       "7. \"pk\"\n",
       "8. \"rh\"\n",
       "9. \"xs\"\n",
       "10. \"tc\"\n",
       "11. \"yf\"\n",
       "12. \"la\"\n",
       "13. \"ah\"\n",
       "14. \"wt\"\n",
       "15. \"vu\"\n",
       "16. \"vh\"\n",
       "17. \"rv\"\n",
       "18. \"cg\"\n",
       "19. \"sz\"\n",
       "20. \"ky\"\n",
       "21. \"ia\"\n",
       "22. \"mo\"\n",
       "23. \"wk\"\n",
       "24. \"uj\"\n",
       "25. \"zb\"\n",
       "26. \"yk\"\n",
       "27. \"vk\"\n",
       "28. \"lo\"\n",
       "29. \"ll\"\n",
       "30. \"bc\"\n",
       "31. \"jj\"\n",
       "32. \"mh\"\n",
       "33. \"uc\"\n",
       "34. \"ur\"\n",
       "35. \"hv\"\n",
       "36. \"ow\"\n",
       "37. \"dj\"\n",
       "38. \"wg\"\n",
       "39. \"ob\"\n",
       "40. \"jp\"\n",
       "41. \"zg\"\n",
       "42. \"ex\"\n",
       "43. \"pf\"\n",
       "44. \"tk\"\n",
       "45. \"xo\"\n",
       "46. \"wh\"\n",
       "47. \"so\"\n",
       "48. \"lt\"\n",
       "49. \"ss\"\n",
       "50. \"mu\"\n",
       "51. \"oq\"\n",
       "52. \"fp\"\n",
       "53. \"ct\"\n",
       "54. \"ot\"\n",
       "\n",
       "\n"
      ],
      "text/plain": [
       " [1] \"of\" \"bf\" \"tb\" \"eh\" \"uu\" \"gx\" \"pk\" \"rh\" \"xs\" \"tc\" \"yf\" \"la\" \"ah\" \"wt\" \"vu\"\n",
       "[16] \"vh\" \"rv\" \"cg\" \"sz\" \"ky\" \"ia\" \"mo\" \"wk\" \"uj\" \"zb\" \"yk\" \"vk\" \"lo\" \"ll\" \"bc\"\n",
       "[31] \"jj\" \"mh\" \"uc\" \"ur\" \"hv\" \"ow\" \"dj\" \"wg\" \"ob\" \"jp\" \"zg\" \"ex\" \"pf\" \"tk\" \"xo\"\n",
       "[46] \"wh\" \"so\" \"lt\" \"ss\" \"mu\" \"oq\" \"fp\" \"ct\" \"ot\""
      ]
     },
     "execution_count": 22,
     "metadata": {},
     "output_type": "execute_result"
    },
    {
     "ename": "ERROR",
     "evalue": "Error in SpatialPointsDataFrame(CRAN_mat, CRAN_df1, proj4string = llCRS, : row.names of data and coords do not match\n",
     "output_type": "error",
     "traceback": [
      "Error in SpatialPointsDataFrame(CRAN_mat, CRAN_df1, proj4string = llCRS, : row.names of data and coords do not match\n"
     ]
    }
   ],
   "source": [
    "CRAN_df1 <- CRAN_df\n",
    "row.names(CRAN_df1) <- sample(c(outer(letters, letters,  paste, sep = \"\")), nrow(CRAN_df1))\n",
    "row.names(CRAN_df1)\n",
    "\n",
    "CRAN_spdf3 <- SpatialPointsDataFrame(\n",
    "    CRAN_mat, \n",
    "    CRAN_df1, \n",
    "    proj4string = llCRS, \n",
    "    match.ID = TRUE)"
   ]
  },
  {
   "cell_type": "markdown",
   "metadata": {},
   "source": [
    "- SpatialPointsDataFrame 클래스 구조는 아래와 같음\n",
    "    - SpatialPoints 클래스를 확장함.\n",
    "    - data 변수는 data.frame 값을 가지고 있음."
   ]
  },
  {
   "cell_type": "markdown",
   "metadata": {},
   "source": [
    "![](chapter02_01.png)"
   ]
  },
  {
   "cell_type": "code",
   "execution_count": 3,
   "metadata": {
    "collapsed": false
   },
   "outputs": [
    {
     "data": {
      "text/plain": [
       "Class \"SpatialPointsDataFrame\" [package \"sp\"]\n",
       "\n",
       "Slots:\n",
       "                                                                  \n",
       "Name:         data  coords.nrs      coords        bbox proj4string\n",
       "Class:  data.frame     numeric      matrix      matrix         CRS\n",
       "\n",
       "Extends: \n",
       "Class \"SpatialPoints\", directly\n",
       "Class \"Spatial\", by class \"SpatialPoints\", distance 2\n",
       "\n",
       "Known Subclasses: \n",
       "Class \"SpatialPixelsDataFrame\", directly, with explicit coerce"
      ]
     },
     "execution_count": 3,
     "metadata": {},
     "output_type": "execute_result"
    }
   ],
   "source": [
    "getClass(\"SpatialPointsDataFrame\")"
   ]
  },
  {
   "cell_type": "markdown",
   "metadata": {},
   "source": [
    "- Spatial*DataFrame 클래스는 data.frame 같이 동작하도록 설계됨.\n",
    "- names()함수와 model.frame()함수를 지원"
   ]
  },
  {
   "cell_type": "code",
   "execution_count": 24,
   "metadata": {
    "collapsed": false
   },
   "outputs": [
    {
     "data": {
      "text/html": [
       "<ol class=list-inline>\n",
       "\t<li>\"place\"</li>\n",
       "\t<li>\"north\"</li>\n",
       "\t<li>\"east\"</li>\n",
       "\t<li>\"loc\"</li>\n",
       "\t<li>\"long\"</li>\n",
       "\t<li>\"lat\"</li>\n",
       "</ol>\n"
      ],
      "text/latex": [
       "\\begin{enumerate*}\n",
       "\\item \"place\"\n",
       "\\item \"north\"\n",
       "\\item \"east\"\n",
       "\\item \"loc\"\n",
       "\\item \"long\"\n",
       "\\item \"lat\"\n",
       "\\end{enumerate*}\n"
      ],
      "text/markdown": [
       "1. \"place\"\n",
       "2. \"north\"\n",
       "3. \"east\"\n",
       "4. \"loc\"\n",
       "5. \"long\"\n",
       "6. \"lat\"\n",
       "\n",
       "\n"
      ],
      "text/plain": [
       "[1] \"place\" \"north\" \"east\"  \"loc\"   \"long\"  \"lat\"  "
      ]
     },
     "execution_count": 24,
     "metadata": {},
     "output_type": "execute_result"
    }
   ],
   "source": [
    "names( CRAN_spdf1 )"
   ]
  },
  {
   "cell_type": "code",
   "execution_count": 26,
   "metadata": {
    "collapsed": false
   },
   "outputs": [
    {
     "name": "stdout",
     "output_type": "stream",
     "text": [
      "'data.frame':\t54 obs. of  2 variables:\n",
      " $ lat : num  -27.5 -37.8 48.2 -25.4 -20.8 ...\n",
      " $ long: num  153 145 16.3 -49.3 -42.9 ...\n"
     ]
    }
   ],
   "source": [
    "str(model.frame(lat ~ long, data = CRAN_spdf1), give.attr = FALSE)"
   ]
  },
  {
   "cell_type": "markdown",
   "metadata": {},
   "source": [
    "- SpatialPointsDataFrame()함수에 첫번째 인자로 SpatialPoints 객체로 사용해서 생성할 수 있음"
   ]
  },
  {
   "cell_type": "code",
   "execution_count": 27,
   "metadata": {
    "collapsed": false
   },
   "outputs": [
    {
     "data": {
      "text/html": [
       "TRUE"
      ],
      "text/latex": [
       "TRUE"
      ],
      "text/markdown": [
       "TRUE"
      ],
      "text/plain": [
       "[1] TRUE"
      ]
     },
     "execution_count": 27,
     "metadata": {},
     "output_type": "execute_result"
    }
   ],
   "source": [
    "CRAN_spdf4 <- SpatialPointsDataFrame(CRAN_sp, CRAN_df)\n",
    "all.equal(CRAN_spdf4, CRAN_spdf2)"
   ]
  },
  {
   "cell_type": "markdown",
   "metadata": {},
   "source": [
    "- 멕시코에서 일본까지 태평량을 횡단한 바다거북의 추적한 데이터셋으로 부터 SpatialPointsDataFrame 객체를 만들어보자"
   ]
  },
  {
   "cell_type": "code",
   "execution_count": 21,
   "metadata": {
    "collapsed": false
   },
   "outputs": [
    {
     "data": {
      "text/plain": [
       "       id              lat             lon                         obs_date  \n",
       " Min.   :  1.00   Min.   :21.57   Min.   :-179.88   01/02/1997 04:16:53:  1  \n",
       " 1st Qu.: 99.25   1st Qu.:24.36   1st Qu.:-147.38   01/02/1997 05:56:25:  1  \n",
       " Median :197.50   Median :25.64   Median :-119.64   01/04/1997 17:41:54:  1  \n",
       " Mean   :197.50   Mean   :27.21   Mean   : -21.52   01/05/1997 17:20:07:  1  \n",
       " 3rd Qu.:295.75   3rd Qu.:27.41   3rd Qu.: 153.66   01/06/1997 04:31:13:  1  \n",
       " Max.   :394.00   Max.   :39.84   Max.   : 179.93   01/06/1997 06:12:56:  1  \n",
       "                                                    (Other)            :388  "
      ]
     },
     "execution_count": 21,
     "metadata": {},
     "output_type": "execute_result"
    }
   ],
   "source": [
    "turtle_df <- read.csv(\"seamap105_mod.csv\")\n",
    "summary(turtle_df)"
   ]
  },
  {
   "cell_type": "markdown",
   "metadata": {},
   "source": [
    "- 시간 순서대로 데이터를 정렬시킴"
   ]
  },
  {
   "cell_type": "code",
   "execution_count": 29,
   "metadata": {
    "collapsed": false
   },
   "outputs": [],
   "source": [
    "timestamp <- as.POSIXlt(\n",
    "    strptime(as.character(turtle_df$obs_date),  \"%m/%d/%Y %H:%M:%S\"), \"GMT\"\n",
    "    )\n",
    "turtle_df1 <- data.frame(turtle_df, timestamp = timestamp)\n",
    "turtle_df1$lon <- ifelse(turtle_df1$lon < 0, turtle_df1$lon + 360, turtle_df1$lon)\n",
    "turtle_sp <- turtle_df1[order(turtle_df1$timestamp), ]\n",
    "coordinates(turtle_sp) <- c(\"lon\", \"lat\")\n",
    "proj4string(turtle_sp) <- CRS(\"+proj=longlat +ellps=WGS84\")"
   ]
  },
  {
   "cell_type": "markdown",
   "metadata": {},
   "source": [
    "- 이 데이터셋을 가지고 바다거북의 이동 경로를 그릴 수 있음.\n",
    "![](chapter02_02.png)"
   ]
  },
  {
   "cell_type": "markdown",
   "metadata": {},
   "source": [
    "## 2.5 SpatialLines"
   ]
  },
  {
   "cell_type": "markdown",
   "metadata": {},
   "source": [
    "- SpatialLines클래스는 Lines 객체의 리스트와 projection 정보를 구성함."
   ]
  },
  {
   "cell_type": "code",
   "execution_count": 30,
   "metadata": {
    "collapsed": false
   },
   "outputs": [
    {
     "data": {
      "text/plain": [
       "Class \"SpatialLines\" [package \"sp\"]\n",
       "\n",
       "Slots:\n",
       "                                          \n",
       "Name:        lines        bbox proj4string\n",
       "Class:        list      matrix         CRS\n",
       "\n",
       "Extends: \"Spatial\"\n",
       "\n",
       "Known Subclasses: \"SpatialLinesDataFrame\""
      ]
     },
     "execution_count": 30,
     "metadata": {},
     "output_type": "execute_result"
    }
   ],
   "source": [
    "getClass(\"SpatialLines\")"
   ]
  },
  {
   "cell_type": "markdown",
   "metadata": {},
   "source": [
    "- map패키지로부터 데이터를 불러와서, 이 데이터를 maptools 의 map2SpatialLines()함수를 사용해서 SpatialLines로 변환함."
   ]
  },
  {
   "cell_type": "code",
   "execution_count": null,
   "metadata": {
    "collapsed": true
   },
   "outputs": [],
   "source": [
    "# 설치는 한번만\n",
    "install.packages(\"maptools\",  repos=\"http://cran.nexr.com/\"  ) "
   ]
  },
  {
   "cell_type": "code",
   "execution_count": 22,
   "metadata": {
    "collapsed": false
   },
   "outputs": [
    {
     "name": "stderr",
     "output_type": "stream",
     "text": [
      "Checking rgeos availability: FALSE\n",
      " \tNote: when rgeos is not available, polygon geometry \tcomputations in maptools depend on gpclib,\n",
      " \twhich has a restricted licence. It is disabled by default;\n",
      " \tto enable gpclib, type gpclibPermit()\n"
     ]
    }
   ],
   "source": [
    "library(maps)\n",
    "library(maptools)"
   ]
  },
  {
   "cell_type": "code",
   "execution_count": 23,
   "metadata": {
    "collapsed": false
   },
   "outputs": [
    {
     "name": "stderr",
     "output_type": "stream",
     "text": [
      "Warning message:\n",
      "In map2SpatialLines(japan, proj4string = p4s): map2SpatialLines: 19 zero-length Lines object(s) omitted"
     ]
    },
    {
     "name": "stdout",
     "output_type": "stream",
     "text": [
      "Formal class 'SpatialLines' [package \"sp\"] with 3 slots\n",
      "  ..@ lines      :List of 32\n",
      "  ..@ bbox       : num [1:2, 1:2] 123.7 24.3 145.7 45.5\n",
      "  .. ..- attr(*, \"dimnames\")=List of 2\n",
      "  ..@ proj4string:Formal class 'CRS' [package \"sp\"] with 1 slot\n"
     ]
    }
   ],
   "source": [
    "japan <- map(\"world\", \"japan\", plot = FALSE)\n",
    "p4s <- CRS(\"+proj=longlat +ellps=WGS84\")\n",
    "SLjapan <- map2SpatialLines(japan, proj4string = p4s)\n",
    "str(SLjapan, max.level = 2)"
   ]
  },
  {
   "cell_type": "markdown",
   "metadata": {},
   "source": [
    "- SpatialLines 와  SpatialPolygons 객체는 매우 비슷한 구조임.\n",
    "![](chapter02_03.png)"
   ]
  },
  {
   "cell_type": "markdown",
   "metadata": {},
   "source": [
    "## 2.6 SpatialPolygons\n",
    "\n",
    "- 시작point와 마지막 point가 동일한 point들의 sequence"
   ]
  },
  {
   "cell_type": "markdown",
   "metadata": {},
   "source": [
    "- SpatialPolygons클래스안에는 polygon들의 순서 정보를 갖는 plotOrder 가 있음. \n",
    "- 가장 큰 영역부터 작은 영역으로 정렬됨."
   ]
  },
  {
   "cell_type": "code",
   "execution_count": 11,
   "metadata": {
    "collapsed": false
   },
   "outputs": [
    {
     "data": {
      "text/plain": [
       "Class \"SpatialPolygons\" [package \"sp\"]\n",
       "\n",
       "Slots:\n",
       "                                                      \n",
       "Name:     polygons   plotOrder        bbox proj4string\n",
       "Class:        list     integer      matrix         CRS\n",
       "\n",
       "Extends: \"Spatial\"\n",
       "\n",
       "Known Subclasses: \n",
       "Class \"SpatialPolygonsDataFrame\", directly, with explicit coerce"
      ]
     },
     "execution_count": 11,
     "metadata": {},
     "output_type": "execute_result"
    }
   ],
   "source": [
    "getClass(\"SpatialPolygons\")"
   ]
  },
  {
   "cell_type": "markdown",
   "metadata": {},
   "source": [
    "- Auckland shoreline 데이터셋의 Line만을 선택해서 SpatialPolygons 객체를 만듬.\n",
    "http://www.asdar-book.org/datasets/auckland_mapgen.dat"
   ]
  },
  {
   "cell_type": "code",
   "execution_count": 24,
   "metadata": {
    "collapsed": false
   },
   "outputs": [
    {
     "data": {
      "text/plain": [
       "Object of class SpatialLines\n",
       "Coordinates:\n",
       "    min   max\n",
       "x 174.2 175.3\n",
       "y -37.5 -36.5\n",
       "Is projected: FALSE \n",
       "proj4string : [+proj=longlat +ellps=WGS84]"
      ]
     },
     "execution_count": 24,
     "metadata": {},
     "output_type": "execute_result"
    }
   ],
   "source": [
    "llCRS <- CRS(\"+proj=longlat +ellps=WGS84\")\n",
    "auck_shore <- MapGen2SL(\"auckland_mapgen.dat\", llCRS)\n",
    "summary(auck_shore)"
   ]
  },
  {
   "cell_type": "code",
   "execution_count": 25,
   "metadata": {
    "collapsed": false
   },
   "outputs": [
    {
     "data": {
      "text/plain": [
       "\n",
       " 1 \n",
       "80 "
      ]
     },
     "execution_count": 25,
     "metadata": {},
     "output_type": "execute_result"
    }
   ],
   "source": [
    "lns <- slot(auck_shore, \"lines\")\n",
    "table(sapply(lns, function(x) length(slot(x, \"Lines\"))))"
   ]
  },
  {
   "cell_type": "code",
   "execution_count": 26,
   "metadata": {
    "collapsed": false
   },
   "outputs": [
    {
     "data": {
      "text/plain": [
       "islands_auck\n",
       "FALSE  TRUE \n",
       "   16    64 "
      ]
     },
     "execution_count": 26,
     "metadata": {},
     "output_type": "execute_result"
    }
   ],
   "source": [
    "islands_auck <- sapply(lns, function(x) {\n",
    "   crds <- slot(slot(x, \"Lines\")[[1]], \"coords\")\n",
    "   identical(crds[1, ], crds[nrow(crds), ])\n",
    "})\n",
    "table(islands_auck)"
   ]
  },
  {
   "cell_type": "code",
   "execution_count": 27,
   "metadata": {
    "collapsed": false
   },
   "outputs": [
    {
     "data": {
      "text/plain": [
       "Object of class SpatialPolygons\n",
       "Coordinates:\n",
       "        min       max\n",
       "x 174.30297 175.22791\n",
       "y -37.43877 -36.50033\n",
       "Is projected: FALSE \n",
       "proj4string : [+proj=longlat +ellps=WGS84]"
      ]
     },
     "execution_count": 27,
     "metadata": {},
     "output_type": "execute_result"
    }
   ],
   "source": [
    "islands_sl <- auck_shore[islands_auck]\n",
    "list_of_Lines <- slot(islands_sl, \"lines\")\n",
    "islands_sp <- SpatialPolygons(lapply(list_of_Lines, function(x) {\n",
    "  Polygons(list(Polygon(slot(slot(x, \"Lines\")[[1]],\n",
    "  \"coords\"))), ID = slot(x, \"ID\"))\n",
    "}), proj4string = CRS(\"+proj=longlat +ellps=WGS84\"))\n",
    "summary(islands_sp)"
   ]
  },
  {
   "cell_type": "markdown",
   "metadata": {},
   "source": [
    "- 아래 코드로도 확인되듯이 넓은 지역순으로 정렬이 됨."
   ]
  },
  {
   "cell_type": "code",
   "execution_count": 15,
   "metadata": {
    "collapsed": false
   },
   "outputs": [
    {
     "data": {
      "text/html": [
       "<ol class=list-inline>\n",
       "\t<li>45</li>\n",
       "\t<li>54</li>\n",
       "\t<li>37</li>\n",
       "\t<li>28</li>\n",
       "\t<li>38</li>\n",
       "\t<li>27</li>\n",
       "\t<li>12</li>\n",
       "\t<li>11</li>\n",
       "\t<li>59</li>\n",
       "\t<li>53</li>\n",
       "\t<li>5</li>\n",
       "\t<li>25</li>\n",
       "\t<li>26</li>\n",
       "\t<li>46</li>\n",
       "\t<li>7</li>\n",
       "\t<li>55</li>\n",
       "\t<li>17</li>\n",
       "\t<li>34</li>\n",
       "\t<li>30</li>\n",
       "\t<li>16</li>\n",
       "\t<li>6</li>\n",
       "\t<li>43</li>\n",
       "\t<li>14</li>\n",
       "\t<li>40</li>\n",
       "\t<li>32</li>\n",
       "\t<li>19</li>\n",
       "\t<li>61</li>\n",
       "\t<li>42</li>\n",
       "\t<li>15</li>\n",
       "\t<li>50</li>\n",
       "\t<li>21</li>\n",
       "\t<li>18</li>\n",
       "\t<li>62</li>\n",
       "\t<li>23</li>\n",
       "\t<li>22</li>\n",
       "\t<li>29</li>\n",
       "\t<li>24</li>\n",
       "\t<li>44</li>\n",
       "\t<li>13</li>\n",
       "\t<li>2</li>\n",
       "\t<li>36</li>\n",
       "\t<li>9</li>\n",
       "\t<li>63</li>\n",
       "\t<li>58</li>\n",
       "\t<li>56</li>\n",
       "\t<li>64</li>\n",
       "\t<li>52</li>\n",
       "\t<li>39</li>\n",
       "\t<li>51</li>\n",
       "\t<li>1</li>\n",
       "\t<li>8</li>\n",
       "\t<li>3</li>\n",
       "\t<li>4</li>\n",
       "\t<li>20</li>\n",
       "\t<li>47</li>\n",
       "\t<li>35</li>\n",
       "\t<li>41</li>\n",
       "\t<li>48</li>\n",
       "\t<li>60</li>\n",
       "\t<li>31</li>\n",
       "\t<li>49</li>\n",
       "\t<li>57</li>\n",
       "\t<li>10</li>\n",
       "\t<li>33</li>\n",
       "</ol>\n"
      ],
      "text/latex": [
       "\\begin{enumerate*}\n",
       "\\item 45\n",
       "\\item 54\n",
       "\\item 37\n",
       "\\item 28\n",
       "\\item 38\n",
       "\\item 27\n",
       "\\item 12\n",
       "\\item 11\n",
       "\\item 59\n",
       "\\item 53\n",
       "\\item 5\n",
       "\\item 25\n",
       "\\item 26\n",
       "\\item 46\n",
       "\\item 7\n",
       "\\item 55\n",
       "\\item 17\n",
       "\\item 34\n",
       "\\item 30\n",
       "\\item 16\n",
       "\\item 6\n",
       "\\item 43\n",
       "\\item 14\n",
       "\\item 40\n",
       "\\item 32\n",
       "\\item 19\n",
       "\\item 61\n",
       "\\item 42\n",
       "\\item 15\n",
       "\\item 50\n",
       "\\item 21\n",
       "\\item 18\n",
       "\\item 62\n",
       "\\item 23\n",
       "\\item 22\n",
       "\\item 29\n",
       "\\item 24\n",
       "\\item 44\n",
       "\\item 13\n",
       "\\item 2\n",
       "\\item 36\n",
       "\\item 9\n",
       "\\item 63\n",
       "\\item 58\n",
       "\\item 56\n",
       "\\item 64\n",
       "\\item 52\n",
       "\\item 39\n",
       "\\item 51\n",
       "\\item 1\n",
       "\\item 8\n",
       "\\item 3\n",
       "\\item 4\n",
       "\\item 20\n",
       "\\item 47\n",
       "\\item 35\n",
       "\\item 41\n",
       "\\item 48\n",
       "\\item 60\n",
       "\\item 31\n",
       "\\item 49\n",
       "\\item 57\n",
       "\\item 10\n",
       "\\item 33\n",
       "\\end{enumerate*}\n"
      ],
      "text/markdown": [
       "1. 45\n",
       "2. 54\n",
       "3. 37\n",
       "4. 28\n",
       "5. 38\n",
       "6. 27\n",
       "7. 12\n",
       "8. 11\n",
       "9. 59\n",
       "10. 53\n",
       "11. 5\n",
       "12. 25\n",
       "13. 26\n",
       "14. 46\n",
       "15. 7\n",
       "16. 55\n",
       "17. 17\n",
       "18. 34\n",
       "19. 30\n",
       "20. 16\n",
       "21. 6\n",
       "22. 43\n",
       "23. 14\n",
       "24. 40\n",
       "25. 32\n",
       "26. 19\n",
       "27. 61\n",
       "28. 42\n",
       "29. 15\n",
       "30. 50\n",
       "31. 21\n",
       "32. 18\n",
       "33. 62\n",
       "34. 23\n",
       "35. 22\n",
       "36. 29\n",
       "37. 24\n",
       "38. 44\n",
       "39. 13\n",
       "40. 2\n",
       "41. 36\n",
       "42. 9\n",
       "43. 63\n",
       "44. 58\n",
       "45. 56\n",
       "46. 64\n",
       "47. 52\n",
       "48. 39\n",
       "49. 51\n",
       "50. 1\n",
       "51. 8\n",
       "52. 3\n",
       "53. 4\n",
       "54. 20\n",
       "55. 47\n",
       "56. 35\n",
       "57. 41\n",
       "58. 48\n",
       "59. 60\n",
       "60. 31\n",
       "61. 49\n",
       "62. 57\n",
       "63. 10\n",
       "64. 33\n",
       "\n",
       "\n"
      ],
      "text/plain": [
       " [1] 45 54 37 28 38 27 12 11 59 53  5 25 26 46  7 55 17 34 30 16  6 43 14 40 32\n",
       "[26] 19 61 42 15 50 21 18 62 23 22 29 24 44 13  2 36  9 63 58 56 64 52 39 51  1\n",
       "[51]  8  3  4 20 47 35 41 48 60 31 49 57 10 33"
      ]
     },
     "execution_count": 15,
     "metadata": {},
     "output_type": "execute_result"
    }
   ],
   "source": [
    "slot(islands_sp, \"plotOrder\")"
   ]
  },
  {
   "cell_type": "code",
   "execution_count": 16,
   "metadata": {
    "collapsed": false
   },
   "outputs": [
    {
     "data": {
      "text/html": [
       "<ol class=list-inline>\n",
       "\t<li>45</li>\n",
       "\t<li>54</li>\n",
       "\t<li>37</li>\n",
       "\t<li>28</li>\n",
       "\t<li>38</li>\n",
       "\t<li>27</li>\n",
       "\t<li>12</li>\n",
       "\t<li>11</li>\n",
       "\t<li>59</li>\n",
       "\t<li>53</li>\n",
       "\t<li>5</li>\n",
       "\t<li>25</li>\n",
       "\t<li>26</li>\n",
       "\t<li>46</li>\n",
       "\t<li>7</li>\n",
       "\t<li>55</li>\n",
       "\t<li>17</li>\n",
       "\t<li>34</li>\n",
       "\t<li>30</li>\n",
       "\t<li>16</li>\n",
       "\t<li>6</li>\n",
       "\t<li>43</li>\n",
       "\t<li>14</li>\n",
       "\t<li>40</li>\n",
       "\t<li>32</li>\n",
       "\t<li>19</li>\n",
       "\t<li>61</li>\n",
       "\t<li>42</li>\n",
       "\t<li>15</li>\n",
       "\t<li>50</li>\n",
       "\t<li>21</li>\n",
       "\t<li>18</li>\n",
       "\t<li>62</li>\n",
       "\t<li>23</li>\n",
       "\t<li>22</li>\n",
       "\t<li>29</li>\n",
       "\t<li>24</li>\n",
       "\t<li>44</li>\n",
       "\t<li>13</li>\n",
       "\t<li>2</li>\n",
       "\t<li>36</li>\n",
       "\t<li>9</li>\n",
       "\t<li>63</li>\n",
       "\t<li>58</li>\n",
       "\t<li>56</li>\n",
       "\t<li>64</li>\n",
       "\t<li>52</li>\n",
       "\t<li>39</li>\n",
       "\t<li>51</li>\n",
       "\t<li>1</li>\n",
       "\t<li>8</li>\n",
       "\t<li>3</li>\n",
       "\t<li>4</li>\n",
       "\t<li>20</li>\n",
       "\t<li>47</li>\n",
       "\t<li>35</li>\n",
       "\t<li>41</li>\n",
       "\t<li>48</li>\n",
       "\t<li>60</li>\n",
       "\t<li>31</li>\n",
       "\t<li>49</li>\n",
       "\t<li>57</li>\n",
       "\t<li>10</li>\n",
       "\t<li>33</li>\n",
       "</ol>\n"
      ],
      "text/latex": [
       "\\begin{enumerate*}\n",
       "\\item 45\n",
       "\\item 54\n",
       "\\item 37\n",
       "\\item 28\n",
       "\\item 38\n",
       "\\item 27\n",
       "\\item 12\n",
       "\\item 11\n",
       "\\item 59\n",
       "\\item 53\n",
       "\\item 5\n",
       "\\item 25\n",
       "\\item 26\n",
       "\\item 46\n",
       "\\item 7\n",
       "\\item 55\n",
       "\\item 17\n",
       "\\item 34\n",
       "\\item 30\n",
       "\\item 16\n",
       "\\item 6\n",
       "\\item 43\n",
       "\\item 14\n",
       "\\item 40\n",
       "\\item 32\n",
       "\\item 19\n",
       "\\item 61\n",
       "\\item 42\n",
       "\\item 15\n",
       "\\item 50\n",
       "\\item 21\n",
       "\\item 18\n",
       "\\item 62\n",
       "\\item 23\n",
       "\\item 22\n",
       "\\item 29\n",
       "\\item 24\n",
       "\\item 44\n",
       "\\item 13\n",
       "\\item 2\n",
       "\\item 36\n",
       "\\item 9\n",
       "\\item 63\n",
       "\\item 58\n",
       "\\item 56\n",
       "\\item 64\n",
       "\\item 52\n",
       "\\item 39\n",
       "\\item 51\n",
       "\\item 1\n",
       "\\item 8\n",
       "\\item 3\n",
       "\\item 4\n",
       "\\item 20\n",
       "\\item 47\n",
       "\\item 35\n",
       "\\item 41\n",
       "\\item 48\n",
       "\\item 60\n",
       "\\item 31\n",
       "\\item 49\n",
       "\\item 57\n",
       "\\item 10\n",
       "\\item 33\n",
       "\\end{enumerate*}\n"
      ],
      "text/markdown": [
       "1. 45\n",
       "2. 54\n",
       "3. 37\n",
       "4. 28\n",
       "5. 38\n",
       "6. 27\n",
       "7. 12\n",
       "8. 11\n",
       "9. 59\n",
       "10. 53\n",
       "11. 5\n",
       "12. 25\n",
       "13. 26\n",
       "14. 46\n",
       "15. 7\n",
       "16. 55\n",
       "17. 17\n",
       "18. 34\n",
       "19. 30\n",
       "20. 16\n",
       "21. 6\n",
       "22. 43\n",
       "23. 14\n",
       "24. 40\n",
       "25. 32\n",
       "26. 19\n",
       "27. 61\n",
       "28. 42\n",
       "29. 15\n",
       "30. 50\n",
       "31. 21\n",
       "32. 18\n",
       "33. 62\n",
       "34. 23\n",
       "35. 22\n",
       "36. 29\n",
       "37. 24\n",
       "38. 44\n",
       "39. 13\n",
       "40. 2\n",
       "41. 36\n",
       "42. 9\n",
       "43. 63\n",
       "44. 58\n",
       "45. 56\n",
       "46. 64\n",
       "47. 52\n",
       "48. 39\n",
       "49. 51\n",
       "50. 1\n",
       "51. 8\n",
       "52. 3\n",
       "53. 4\n",
       "54. 20\n",
       "55. 47\n",
       "56. 35\n",
       "57. 41\n",
       "58. 48\n",
       "59. 60\n",
       "60. 31\n",
       "61. 49\n",
       "62. 57\n",
       "63. 10\n",
       "64. 33\n",
       "\n",
       "\n"
      ],
      "text/plain": [
       " [1] 45 54 37 28 38 27 12 11 59 53  5 25 26 46  7 55 17 34 30 16  6 43 14 40 32\n",
       "[26] 19 61 42 15 50 21 18 62 23 22 29 24 44 13  2 36  9 63 58 56 64 52 39 51  1\n",
       "[51]  8  3  4 20 47 35 41 48 60 31 49 57 10 33"
      ]
     },
     "execution_count": 16,
     "metadata": {},
     "output_type": "execute_result"
    }
   ],
   "source": [
    "order(sapply(slot(islands_sp, \"polygons\"), function(x) slot(x,\n",
    " \"area\")), decreasing = TRUE)"
   ]
  },
  {
   "cell_type": "markdown",
   "metadata": {},
   "source": [
    "### 2.6.1 SpatialPolygonsDataFrame 객체"
   ]
  },
  {
   "cell_type": "markdown",
   "metadata": {},
   "source": [
    "- SpatialPolygonsDataFrame은 polygons의 지리표현 정보를 갖음.\n",
    "- 1999년 미국의 주별 SAT 점수 데이터셋으로 예제\n",
    "\n",
    "http://www.asdar-book.org/datasets/state.sat.data_mod.txt"
   ]
  },
  {
   "cell_type": "code",
   "execution_count": 5,
   "metadata": {
    "collapsed": false
   },
   "outputs": [
    {
     "name": "stderr",
     "output_type": "stream",
     "text": [
      "Loading required package: sp\n",
      "Checking rgeos availability: FALSE\n",
      " \tNote: when rgeos is not available, polygon geometry \tcomputations in maptools depend on gpclib,\n",
      " \twhich has a restricted licence. It is disabled by default;\n",
      " \tto enable gpclib, type gpclibPermit()\n"
     ]
    }
   ],
   "source": [
    "library(maps)\n",
    "library(maptools)"
   ]
  },
  {
   "cell_type": "code",
   "execution_count": 28,
   "metadata": {
    "collapsed": false
   },
   "outputs": [
    {
     "data": {
      "text/html": [
       "<ol class=list-inline>\n",
       "\t<li>\"x\"</li>\n",
       "\t<li>\"y\"</li>\n",
       "\t<li>\"range\"</li>\n",
       "\t<li>\"names\"</li>\n",
       "</ol>\n"
      ],
      "text/latex": [
       "\\begin{enumerate*}\n",
       "\\item \"x\"\n",
       "\\item \"y\"\n",
       "\\item \"range\"\n",
       "\\item \"names\"\n",
       "\\end{enumerate*}\n"
      ],
      "text/markdown": [
       "1. \"x\"\n",
       "2. \"y\"\n",
       "3. \"range\"\n",
       "4. \"names\"\n",
       "\n",
       "\n"
      ],
      "text/plain": [
       "[1] \"x\"     \"y\"     \"range\" \"names\""
      ]
     },
     "execution_count": 28,
     "metadata": {},
     "output_type": "execute_result"
    },
    {
     "data": {
      "text/html": [
       "<ol class=list-inline>\n",
       "\t<li>\"alabama\"</li>\n",
       "\t<li>\"arizona\"</li>\n",
       "\t<li>\"arkansas\"</li>\n",
       "\t<li>\"california\"</li>\n",
       "\t<li>\"colorado\"</li>\n",
       "\t<li>\"connecticut\"</li>\n",
       "</ol>\n"
      ],
      "text/latex": [
       "\\begin{enumerate*}\n",
       "\\item \"alabama\"\n",
       "\\item \"arizona\"\n",
       "\\item \"arkansas\"\n",
       "\\item \"california\"\n",
       "\\item \"colorado\"\n",
       "\\item \"connecticut\"\n",
       "\\end{enumerate*}\n"
      ],
      "text/markdown": [
       "1. \"alabama\"\n",
       "2. \"arizona\"\n",
       "3. \"arkansas\"\n",
       "4. \"california\"\n",
       "5. \"colorado\"\n",
       "6. \"connecticut\"\n",
       "\n",
       "\n"
      ],
      "text/plain": [
       "[1] \"alabama\"     \"arizona\"     \"arkansas\"    \"california\"  \"colorado\"   \n",
       "[6] \"connecticut\""
      ]
     },
     "execution_count": 28,
     "metadata": {},
     "output_type": "execute_result"
    }
   ],
   "source": [
    "state.map <- map(\"state\", plot = FALSE, fill = TRUE)\n",
    "names( state.map )\n",
    "head( state.map$names )"
   ]
  },
  {
   "cell_type": "code",
   "execution_count": 29,
   "metadata": {
    "collapsed": false
   },
   "outputs": [
    {
     "data": {
      "text/html": [
       "<ol class=list-inline>\n",
       "\t<li>\"alabama\"</li>\n",
       "\t<li>\"arizona\"</li>\n",
       "\t<li>\"arkansas\"</li>\n",
       "\t<li>\"california\"</li>\n",
       "\t<li>\"colorado\"</li>\n",
       "\t<li>\"connecticut\"</li>\n",
       "</ol>\n"
      ],
      "text/latex": [
       "\\begin{enumerate*}\n",
       "\\item \"alabama\"\n",
       "\\item \"arizona\"\n",
       "\\item \"arkansas\"\n",
       "\\item \"california\"\n",
       "\\item \"colorado\"\n",
       "\\item \"connecticut\"\n",
       "\\end{enumerate*}\n"
      ],
      "text/markdown": [
       "1. \"alabama\"\n",
       "2. \"arizona\"\n",
       "3. \"arkansas\"\n",
       "4. \"california\"\n",
       "5. \"colorado\"\n",
       "6. \"connecticut\"\n",
       "\n",
       "\n"
      ],
      "text/plain": [
       "[1] \"alabama\"     \"arizona\"     \"arkansas\"    \"california\"  \"colorado\"   \n",
       "[6] \"connecticut\""
      ]
     },
     "execution_count": 29,
     "metadata": {},
     "output_type": "execute_result"
    }
   ],
   "source": [
    "IDs <- sapply(strsplit(state.map$names, \":\"), function(x) x[1])\n",
    "head( IDs )"
   ]
  },
  {
   "cell_type": "code",
   "execution_count": 30,
   "metadata": {
    "collapsed": true
   },
   "outputs": [],
   "source": [
    "state.sp <- map2SpatialPolygons(state.map, IDs = IDs,\n",
    "   proj4string = CRS(\"+proj=longlat +ellps=WGS84\"))"
   ]
  },
  {
   "cell_type": "markdown",
   "metadata": {
    "collapsed": true
   },
   "source": [
    "- SpatialPolygons과 data.frame과 매치태그로 일치시킬 수 있음."
   ]
  },
  {
   "cell_type": "code",
   "execution_count": 31,
   "metadata": {
    "collapsed": false
   },
   "outputs": [
    {
     "name": "stdout",
     "output_type": "stream",
     "text": [
      "'data.frame':\t52 obs. of  4 variables:\n",
      " $ oname : Factor w/ 52 levels \"ala\",\"alaska\",..: 1 2 3 4 5 6 7 9 8 10 ...\n",
      " $ vscore: int  561 516 524 563 497 536 510 503 494 499 ...\n",
      " $ mscore: int  555 514 525 556 514 540 509 497 478 498 ...\n",
      " $ pc    : int  9 50 34 6 49 32 80 67 77 53 ...\n"
     ]
    },
    {
     "data": {
      "text/html": [
       "<table>\n",
       "<thead><tr><th></th><th scope=col>oname</th><th scope=col>vscore</th><th scope=col>mscore</th><th scope=col>pc</th></tr></thead>\n",
       "<tbody>\n",
       "\t<tr><th scope=row>alabama</th><td>ala</td><td>561</td><td>555</td><td>9</td></tr>\n",
       "\t<tr><th scope=row>alaska</th><td>alaska</td><td>516</td><td>514</td><td>50</td></tr>\n",
       "\t<tr><th scope=row>arizona</th><td>ariz</td><td>524</td><td>525</td><td>34</td></tr>\n",
       "\t<tr><th scope=row>arkansas</th><td>ark</td><td>563</td><td>556</td><td>6</td></tr>\n",
       "\t<tr><th scope=row>california</th><td>calif</td><td>497</td><td>514</td><td>49</td></tr>\n",
       "\t<tr><th scope=row>colorado</th><td>colo</td><td>536</td><td>540</td><td>32</td></tr>\n",
       "</tbody>\n",
       "</table>\n"
      ],
      "text/latex": [
       "\\begin{tabular}{r|llll}\n",
       "  & oname & vscore & mscore & pc\\\\\n",
       "\\hline\n",
       "\talabama & ala & 561 & 555 & 9\\\\\n",
       "\talaska & alaska & 516 & 514 & 50\\\\\n",
       "\tarizona & ariz & 524 & 525 & 34\\\\\n",
       "\tarkansas & ark & 563 & 556 & 6\\\\\n",
       "\tcalifornia & calif & 497 & 514 & 49\\\\\n",
       "\tcolorado & colo & 536 & 540 & 32\\\\\n",
       "\\end{tabular}\n"
      ],
      "text/plain": [
       "            oname vscore mscore pc\n",
       "alabama       ala    561    555  9\n",
       "alaska     alaska    516    514 50\n",
       "arizona      ariz    524    525 34\n",
       "arkansas      ark    563    556  6\n",
       "california  calif    497    514 49\n",
       "colorado     colo    536    540 32"
      ]
     },
     "execution_count": 31,
     "metadata": {},
     "output_type": "execute_result"
    }
   ],
   "source": [
    "sat <- read.table(\"state.sat.data_mod.txt\", row.names = 5, header = TRUE)\n",
    "str(sat)\n",
    "head(sat)"
   ]
  },
  {
   "cell_type": "code",
   "execution_count": 33,
   "metadata": {
    "collapsed": false
   },
   "outputs": [
    {
     "data": {
      "text/html": [
       "<ol class=list-inline>\n",
       "\t<li>\"alaska\"</li>\n",
       "\t<li>\"hawaii\"</li>\n",
       "\t<li>\"usa\"</li>\n",
       "</ol>\n"
      ],
      "text/latex": [
       "\\begin{enumerate*}\n",
       "\\item \"alaska\"\n",
       "\\item \"hawaii\"\n",
       "\\item \"usa\"\n",
       "\\end{enumerate*}\n"
      ],
      "text/markdown": [
       "1. \"alaska\"\n",
       "2. \"hawaii\"\n",
       "3. \"usa\"\n",
       "\n",
       "\n"
      ],
      "text/plain": [
       "[1] \"alaska\" \"hawaii\" \"usa\"   "
      ]
     },
     "execution_count": 33,
     "metadata": {},
     "output_type": "execute_result"
    }
   ],
   "source": [
    "id <- match(row.names(sat), \n",
    "            sapply(slot(state.sp, \"polygons\"), function(x) slot(x, \"ID\")))\n",
    "row.names(sat)[is.na(id)]"
   ]
  },
  {
   "cell_type": "markdown",
   "metadata": {},
   "source": [
    "- state.sp의 ID값과 sat의 row name으로 매치가 되지 않는것이 3개가 있고 나머지는 매칭됨"
   ]
  },
  {
   "cell_type": "code",
   "execution_count": 34,
   "metadata": {
    "collapsed": false
   },
   "outputs": [
    {
     "ename": "ERROR",
     "evalue": "Error in SpatialPolygonsDataFrame(state.sp, sat): Object length mismatch:\n     state.sp has 49 Polygons objects, but sat has 52 rows\n",
     "output_type": "error",
     "traceback": [
      "Error in SpatialPolygonsDataFrame(state.sp, sat): Object length mismatch:\n     state.sp has 49 Polygons objects, but sat has 52 rows\n"
     ]
    }
   ],
   "source": [
    "state.spdf <- SpatialPolygonsDataFrame(state.sp, sat)"
   ]
  },
  {
   "cell_type": "code",
   "execution_count": 35,
   "metadata": {
    "collapsed": false
   },
   "outputs": [
    {
     "name": "stdout",
     "output_type": "stream",
     "text": [
      "'data.frame':\t49 obs. of  4 variables:\n",
      " $ oname : Factor w/ 52 levels \"ala\",\"alaska\",..: 1 3 4 5 6 7 9 8 10 11 ...\n",
      " $ vscore: int  561 524 563 497 536 510 503 494 499 487 ...\n",
      " $ mscore: int  555 525 556 514 540 509 497 478 498 482 ...\n",
      " $ pc    : int  9 34 6 49 32 80 67 77 53 63 ...\n"
     ]
    }
   ],
   "source": [
    "sat_match <- sat[ is.na(id)==FALSE, ]\n",
    "state.spdf <- SpatialPolygonsDataFrame(state.sp, sat_match)\n",
    "str(slot(state.spdf, \"data\"))"
   ]
  },
  {
   "cell_type": "code",
   "execution_count": 36,
   "metadata": {
    "collapsed": false
   },
   "outputs": [
    {
     "name": "stdout",
     "output_type": "stream",
     "text": [
      "Formal class 'SpatialPolygonsDataFrame' [package \"sp\"] with 5 slots\n",
      "  ..@ data       :'data.frame':\t49 obs. of  4 variables:\n",
      "  ..@ polygons   :List of 49\n",
      "  ..@ plotOrder  : int [1:49] 42 25 4 30 27 2 5 49 36 22 ...\n",
      "  ..@ bbox       : num [1:2, 1:2] -124.7 25.1 -67 49.4\n",
      "  .. ..- attr(*, \"dimnames\")=List of 2\n",
      "  ..@ proj4string:Formal class 'CRS' [package \"sp\"] with 1 slot\n"
     ]
    }
   ],
   "source": [
    "str(state.spdf, max.level = 2)"
   ]
  },
  {
   "cell_type": "markdown",
   "metadata": {},
   "source": [
    "- data.frame안의 arizona 행이름을 Arizona로 변경해서 매칭시키면 에러가 발생함."
   ]
  },
  {
   "cell_type": "code",
   "execution_count": 34,
   "metadata": {
    "collapsed": false
   },
   "outputs": [
    {
     "ename": "ERROR",
     "evalue": "Error in SpatialPolygonsDataFrame(state.sp, sat): Object length mismatch:\n     state.sp has 49 Polygons objects, but sat has 52 rows\n",
     "output_type": "error",
     "traceback": [
      "Error in SpatialPolygonsDataFrame(state.sp, sat): Object length mismatch:\n     state.sp has 49 Polygons objects, but sat has 52 rows\n"
     ]
    }
   ],
   "source": [
    "rownames(sat)[3] <- \"Arizona\"\n",
    "SpatialPolygonsDataFrame(state.sp, sat)"
   ]
  },
  {
   "cell_type": "markdown",
   "metadata": {},
   "source": [
    "- SpatialPolygonsDataFrame에서 \"District of Columbia\" 지역을 빼보자."
   ]
  },
  {
   "cell_type": "code",
   "execution_count": 36,
   "metadata": {
    "collapsed": false
   },
   "outputs": [
    {
     "data": {
      "text/html": [
       "48"
      ],
      "text/latex": [
       "48"
      ],
      "text/markdown": [
       "48"
      ],
      "text/plain": [
       "[1] 48"
      ]
     },
     "execution_count": 36,
     "metadata": {},
     "output_type": "execute_result"
    }
   ],
   "source": [
    "DC <- \"district of columbia\"\n",
    "not_dc <- !(row.names(slot(state.spdf, \"data\")) == DC)\n",
    "state.spdf1 <- state.spdf[not_dc, ]\n",
    "length(slot(state.spdf1, \"polygons\"))"
   ]
  },
  {
   "cell_type": "code",
   "execution_count": 38,
   "metadata": {
    "collapsed": false
   },
   "outputs": [
    {
     "data": {
      "text/plain": [
       "Object of class SpatialPolygonsDataFrame\n",
       "Coordinates:\n",
       "         min       max\n",
       "x -124.68134 -67.00742\n",
       "y   25.12993  49.38323\n",
       "Is projected: FALSE \n",
       "proj4string : [+proj=longlat +ellps=WGS84]\n",
       "Data attributes:\n",
       "     oname        vscore          mscore            pc       \n",
       " ala    : 1   Min.   :479.0   Min.   :475.0   Min.   : 4.00  \n",
       " ariz   : 1   1st Qu.:506.2   1st Qu.:505.2   1st Qu.: 9.00  \n",
       " ark    : 1   Median :530.5   Median :532.0   Median :28.50  \n",
       " calif  : 1   Mean   :534.6   Mean   :534.9   Mean   :35.58  \n",
       " colo   : 1   3rd Qu.:563.0   3rd Qu.:558.5   3rd Qu.:63.50  \n",
       " conn   : 1   Max.   :594.0   Max.   :605.0   Max.   :80.00  \n",
       " (Other):42                                                  "
      ]
     },
     "execution_count": 38,
     "metadata": {},
     "output_type": "execute_result"
    }
   ],
   "source": [
    "summary(state.spdf1)"
   ]
  },
  {
   "cell_type": "markdown",
   "metadata": {},
   "source": [
    "### 2.6.2 Holes and Ring Direction"
   ]
  },
  {
   "cell_type": "markdown",
   "metadata": {},
   "source": [
    "- Hole은 호수 같은 영역을 나타냄, TRUE/FALSE 또는 land: 1, lake: 2, island in lake: 3\n",
    "- Ring Direction은 시계방향 또는 반시계뱡향으로 표시함.\n",
    "\n",
    "http://www.asdar-book.org/datasets.php?dataset=12"
   ]
  },
  {
   "cell_type": "code",
   "execution_count": 37,
   "metadata": {
    "collapsed": true
   },
   "outputs": [],
   "source": [
    "load(\"high.RData\")\n",
    "manitoulin_sp <- high$SP"
   ]
  },
  {
   "cell_type": "code",
   "execution_count": 38,
   "metadata": {
    "collapsed": false
   },
   "outputs": [
    {
     "data": {
      "text/html": [
       "1"
      ],
      "text/latex": [
       "1"
      ],
      "text/markdown": [
       "1"
      ],
      "text/plain": [
       "[1] 1"
      ]
     },
     "execution_count": 38,
     "metadata": {},
     "output_type": "execute_result"
    }
   ],
   "source": [
    "length(slot(manitoulin_sp, \"polygons\"))"
   ]
  },
  {
   "cell_type": "code",
   "execution_count": 39,
   "metadata": {
    "collapsed": false
   },
   "outputs": [
    {
     "data": {
      "text/html": [
       "<ol class=list-inline>\n",
       "\t<li>FALSE</li>\n",
       "\t<li>TRUE</li>\n",
       "\t<li>FALSE</li>\n",
       "\t<li>TRUE</li>\n",
       "\t<li>TRUE</li>\n",
       "\t<li>FALSE</li>\n",
       "\t<li>TRUE</li>\n",
       "\t<li>FALSE</li>\n",
       "\t<li>FALSE</li>\n",
       "\t<li>FALSE</li>\n",
       "\t<li>FALSE</li>\n",
       "\t<li>FALSE</li>\n",
       "\t<li>FALSE</li>\n",
       "\t<li>FALSE</li>\n",
       "\t<li>FALSE</li>\n",
       "\t<li>FALSE</li>\n",
       "\t<li>FALSE</li>\n",
       "\t<li>FALSE</li>\n",
       "\t<li>FALSE</li>\n",
       "</ol>\n"
      ],
      "text/latex": [
       "\\begin{enumerate*}\n",
       "\\item FALSE\n",
       "\\item TRUE\n",
       "\\item FALSE\n",
       "\\item TRUE\n",
       "\\item TRUE\n",
       "\\item FALSE\n",
       "\\item TRUE\n",
       "\\item FALSE\n",
       "\\item FALSE\n",
       "\\item FALSE\n",
       "\\item FALSE\n",
       "\\item FALSE\n",
       "\\item FALSE\n",
       "\\item FALSE\n",
       "\\item FALSE\n",
       "\\item FALSE\n",
       "\\item FALSE\n",
       "\\item FALSE\n",
       "\\item FALSE\n",
       "\\end{enumerate*}\n"
      ],
      "text/markdown": [
       "1. FALSE\n",
       "2. TRUE\n",
       "3. FALSE\n",
       "4. TRUE\n",
       "5. TRUE\n",
       "6. FALSE\n",
       "7. TRUE\n",
       "8. FALSE\n",
       "9. FALSE\n",
       "10. FALSE\n",
       "11. FALSE\n",
       "12. FALSE\n",
       "13. FALSE\n",
       "14. FALSE\n",
       "15. FALSE\n",
       "16. FALSE\n",
       "17. FALSE\n",
       "18. FALSE\n",
       "19. FALSE\n",
       "\n",
       "\n"
      ],
      "text/plain": [
       " [1] FALSE  TRUE FALSE  TRUE  TRUE FALSE  TRUE FALSE FALSE FALSE FALSE FALSE\n",
       "[13] FALSE FALSE FALSE FALSE FALSE FALSE FALSE"
      ]
     },
     "execution_count": 39,
     "metadata": {},
     "output_type": "execute_result"
    }
   ],
   "source": [
    "sapply(slot(slot(manitoulin_sp, \"polygons\")[[1]], \"Polygons\"),\n",
    "   function(x) slot(x, \"hole\"))"
   ]
  },
  {
   "cell_type": "code",
   "execution_count": 40,
   "metadata": {
    "collapsed": false
   },
   "outputs": [
    {
     "data": {
      "text/html": [
       "<ol class=list-inline>\n",
       "\t<li>1</li>\n",
       "\t<li>-1</li>\n",
       "\t<li>1</li>\n",
       "\t<li>-1</li>\n",
       "\t<li>-1</li>\n",
       "\t<li>1</li>\n",
       "\t<li>-1</li>\n",
       "\t<li>1</li>\n",
       "\t<li>1</li>\n",
       "\t<li>1</li>\n",
       "\t<li>1</li>\n",
       "\t<li>1</li>\n",
       "\t<li>1</li>\n",
       "\t<li>1</li>\n",
       "\t<li>1</li>\n",
       "\t<li>1</li>\n",
       "\t<li>1</li>\n",
       "\t<li>1</li>\n",
       "\t<li>1</li>\n",
       "</ol>\n"
      ],
      "text/latex": [
       "\\begin{enumerate*}\n",
       "\\item 1\n",
       "\\item -1\n",
       "\\item 1\n",
       "\\item -1\n",
       "\\item -1\n",
       "\\item 1\n",
       "\\item -1\n",
       "\\item 1\n",
       "\\item 1\n",
       "\\item 1\n",
       "\\item 1\n",
       "\\item 1\n",
       "\\item 1\n",
       "\\item 1\n",
       "\\item 1\n",
       "\\item 1\n",
       "\\item 1\n",
       "\\item 1\n",
       "\\item 1\n",
       "\\end{enumerate*}\n"
      ],
      "text/markdown": [
       "1. 1\n",
       "2. -1\n",
       "3. 1\n",
       "4. -1\n",
       "5. -1\n",
       "6. 1\n",
       "7. -1\n",
       "8. 1\n",
       "9. 1\n",
       "10. 1\n",
       "11. 1\n",
       "12. 1\n",
       "13. 1\n",
       "14. 1\n",
       "15. 1\n",
       "16. 1\n",
       "17. 1\n",
       "18. 1\n",
       "19. 1\n",
       "\n",
       "\n"
      ],
      "text/plain": [
       " [1]  1 -1  1 -1 -1  1 -1  1  1  1  1  1  1  1  1  1  1  1  1"
      ]
     },
     "execution_count": 40,
     "metadata": {},
     "output_type": "execute_result"
    }
   ],
   "source": [
    "sapply(slot(slot(manitoulin_sp, \"polygons\")[[1]], \"Polygons\"),\n",
    "    function(x) slot(x, \"ringDir\"))"
   ]
  },
  {
   "cell_type": "markdown",
   "metadata": {},
   "source": [
    "## 2.7 SpatialGrid and SpatialPixel Objects\n",
    "\n",
    "- Grid는 정보를 격자모양으로 표현함\n",
    "- 행과 열의 수로 Grid내의 하나의 cell resolution이 결정됨.\n",
    "- 전통적으로 remote sensing과 raster GIS에서 사용됨\n",
    "- 디지털 고도 모델(digital elevation models), 위성 이미지(satellite imagery), 보간 데이터(interpolated data), 화상 처리(image processing)에서 사용됨."
   ]
  },
  {
   "cell_type": "code",
   "execution_count": 41,
   "metadata": {
    "collapsed": false
   },
   "outputs": [
    {
     "data": {
      "text/plain": [
       "Class \"GridTopology\" [package \"sp\"]\n",
       "\n",
       "Slots:\n",
       "                                                            \n",
       "Name:  cellcentre.offset          cellsize         cells.dim\n",
       "Class:           numeric           numeric           integer"
      ]
     },
     "execution_count": 41,
     "metadata": {},
     "output_type": "execute_result"
    }
   ],
   "source": [
    "getClass(\"GridTopology\")"
   ]
  },
  {
   "cell_type": "markdown",
   "metadata": {},
   "source": [
    "Manitoulin Island vector 데이터셋의 bounding box로부터 GridTopology 객체를 만들어보자"
   ]
  },
  {
   "cell_type": "code",
   "execution_count": 42,
   "metadata": {
    "collapsed": false
   },
   "outputs": [
    {
     "data": {
      "text/html": [
       "<table>\n",
       "<thead><tr><th></th><th scope=col>min</th><th scope=col>max</th></tr></thead>\n",
       "<tbody>\n",
       "\t<tr><th scope=row>r1</th><td>277</td><td>278</td></tr>\n",
       "\t<tr><th scope=row>r2</th><td>45.7</td><td>46.2</td></tr>\n",
       "</tbody>\n",
       "</table>\n"
      ],
      "text/latex": [
       "\\begin{tabular}{r|ll}\n",
       "  & min & max\\\\\n",
       "\\hline\n",
       "\tr1 & 277 & 278\\\\\n",
       "\tr2 & 45.7 & 46.2\\\\\n",
       "\\end{tabular}\n"
      ],
      "text/markdown": [
       "1. 277\n",
       "2. 45.7\n",
       "3. 278\n",
       "4. 46.2\n",
       "\n",
       "\n"
      ],
      "text/plain": [
       "     min   max\n",
       "r1 277.0 278.0\n",
       "r2  45.7  46.2"
      ]
     },
     "execution_count": 42,
     "metadata": {},
     "output_type": "execute_result"
    }
   ],
   "source": [
    "bb <- bbox(manitoulin_sp)\n",
    "bb"
   ]
  },
  {
   "cell_type": "code",
   "execution_count": 43,
   "metadata": {
    "collapsed": false
   },
   "outputs": [
    {
     "data": {
      "text/html": [
       "<dl class=dl-horizontal>\n",
       "\t<dt>r1</dt>\n",
       "\t\t<dd>277.005</dd>\n",
       "\t<dt>r2</dt>\n",
       "\t\t<dd>45.705</dd>\n",
       "</dl>\n"
      ],
      "text/latex": [
       "\\begin{description*}\n",
       "\\item[r1] 277.005\n",
       "\\item[r2] 45.705\n",
       "\\end{description*}\n"
      ],
      "text/markdown": [
       "r1\n",
       ":   277.005r2\n",
       ":   45.705\n",
       "\n"
      ],
      "text/plain": [
       "     r1      r2 \n",
       "277.005  45.705 "
      ]
     },
     "execution_count": 43,
     "metadata": {},
     "output_type": "execute_result"
    }
   ],
   "source": [
    "cs <- c(0.01, 0.01)\n",
    "cc <- bb[, 1] + (cs/2)\n",
    "cc"
   ]
  },
  {
   "cell_type": "code",
   "execution_count": 44,
   "metadata": {
    "collapsed": false
   },
   "outputs": [
    {
     "data": {
      "text/html": [
       "<table>\n",
       "<thead><tr><th></th><th scope=col>r1</th><th scope=col>r2</th></tr></thead>\n",
       "<tbody>\n",
       "\t<tr><th scope=row>min</th><td>277.0</td><td> 45.7</td></tr>\n",
       "\t<tr><th scope=row>max</th><td>278.0</td><td> 46.2</td></tr>\n",
       "</tbody>\n",
       "</table>\n"
      ],
      "text/latex": [
       "\\begin{tabular}{r|ll}\n",
       "  & r1 & r2\\\\\n",
       "\\hline\n",
       "\tmin & 277.0 &  45.7\\\\\n",
       "\tmax & 278.0 &  46.2\\\\\n",
       "\\end{tabular}\n"
      ],
      "text/markdown": [
       "1. 277\n",
       "2. 278\n",
       "3. 45.7\n",
       "4. 46.2\n",
       "\n",
       "\n"
      ],
      "text/plain": [
       "     r1   r2\n",
       "min 277 45.7\n",
       "max 278 46.2"
      ]
     },
     "execution_count": 44,
     "metadata": {},
     "output_type": "execute_result"
    },
    {
     "data": {
      "text/html": [
       "<table>\n",
       "<thead><tr><th></th><th scope=col>r1</th><th scope=col>r2</th></tr></thead>\n",
       "<tbody>\n",
       "\t<tr><th scope=row>max</th><td>1.0</td><td>0.5</td></tr>\n",
       "</tbody>\n",
       "</table>\n"
      ],
      "text/latex": [
       "\\begin{tabular}{r|ll}\n",
       "  & r1 & r2\\\\\n",
       "\\hline\n",
       "\tmax & 1.0 & 0.5\\\\\n",
       "\\end{tabular}\n"
      ],
      "text/markdown": [
       "1. 1\n",
       "2. 0.5\n",
       "\n",
       "\n"
      ],
      "text/plain": [
       "    r1  r2\n",
       "max  1 0.5"
      ]
     },
     "execution_count": 44,
     "metadata": {},
     "output_type": "execute_result"
    },
    {
     "data": {
      "text/html": [
       "<table>\n",
       "<thead><tr><th></th><th scope=col>r1</th><th scope=col>r2</th></tr></thead>\n",
       "<tbody>\n",
       "\t<tr><th scope=row>max</th><td>100</td><td> 50</td></tr>\n",
       "</tbody>\n",
       "</table>\n"
      ],
      "text/latex": [
       "\\begin{tabular}{r|ll}\n",
       "  & r1 & r2\\\\\n",
       "\\hline\n",
       "\tmax & 100 &  50\\\\\n",
       "\\end{tabular}\n"
      ],
      "text/markdown": [
       "1. 100\n",
       "2. 50\n",
       "\n",
       "\n"
      ],
      "text/plain": [
       "     r1 r2\n",
       "max 100 50"
      ]
     },
     "execution_count": 44,
     "metadata": {},
     "output_type": "execute_result"
    }
   ],
   "source": [
    "t(bb)\n",
    "diff(t(bb))\n",
    "\n",
    "cd <- ceiling(diff(t(bb))/cs)\n",
    "cd"
   ]
  },
  {
   "cell_type": "markdown",
   "metadata": {},
   "source": [
    "r1은 0.01 만큼 나누면 100로 나누어짐, r2는 0.01만큼 나누면 50개로 나누어짐"
   ]
  },
  {
   "cell_type": "code",
   "execution_count": 45,
   "metadata": {
    "collapsed": false
   },
   "outputs": [
    {
     "data": {
      "text/plain": [
       "                       r1     r2\n",
       "cellcentre.offset 277.005 45.705\n",
       "cellsize            0.010  0.010\n",
       "cells.dim         100.000 50.000"
      ]
     },
     "execution_count": 45,
     "metadata": {},
     "output_type": "execute_result"
    }
   ],
   "source": [
    "manitoulin_grd <- GridTopology(\n",
    "    cellcentre.offset = cc, \n",
    "    cellsize = cs, \n",
    "    cells.dim = cd)\n",
    "manitoulin_grd"
   ]
  },
  {
   "cell_type": "markdown",
   "metadata": {},
   "source": [
    "- SpatialGrid객체는 GridTopology와 Spatial을 포함하고, grid.index 와 coords slot도 포함"
   ]
  },
  {
   "cell_type": "code",
   "execution_count": 56,
   "metadata": {
    "collapsed": false
   },
   "outputs": [
    {
     "data": {
      "text/plain": [
       "Class \"SpatialGrid\" [package \"sp\"]\n",
       "\n",
       "Slots:\n",
       "                                             \n",
       "Name:          grid         bbox  proj4string\n",
       "Class: GridTopology       matrix          CRS\n",
       "\n",
       "Extends: \"Spatial\"\n",
       "\n",
       "Known Subclasses: \"SpatialGridDataFrame\""
      ]
     },
     "execution_count": 56,
     "metadata": {},
     "output_type": "execute_result"
    }
   ],
   "source": [
    "getClass(\"SpatialGrid\")"
   ]
  },
  {
   "cell_type": "code",
   "execution_count": 58,
   "metadata": {
    "collapsed": false
   },
   "outputs": [
    {
     "data": {
      "text/plain": [
       "Object of class SpatialGrid\n",
       "Coordinates:\n",
       "     min   max\n",
       "r1 277.0 278.0\n",
       "r2  45.7  46.2\n",
       "Is projected: FALSE \n",
       "proj4string : [+proj=longlat +datum=WGS84]\n",
       "Grid attributes:\n",
       "   cellcentre.offset cellsize cells.dim\n",
       "r1           277.005     0.01       100\n",
       "r2            45.705     0.01        50"
      ]
     },
     "execution_count": 58,
     "metadata": {},
     "output_type": "execute_result"
    }
   ],
   "source": [
    "p4s <- CRS(proj4string(manitoulin_sp))\n",
    "manitoulin_SG <- SpatialGrid(manitoulin_grd, proj4string = p4s)\n",
    "summary(manitoulin_SG)"
   ]
  },
  {
   "cell_type": "markdown",
   "metadata": {},
   "source": [
    "- SpatialGridDataFrame은 SpatialGrid을 확장해서 data.frame 도 포함.\n",
    "\n",
    "![](chapter02_04.png)\n",
    "\n",
    "http://www.asdar-book.org/datasets.php?dataset=0\n",
    "\n",
    "예제는 생략"
   ]
  },
  {
   "cell_type": "code",
   "execution_count": 59,
   "metadata": {
    "collapsed": false
   },
   "outputs": [
    {
     "ename": "ERROR",
     "evalue": "Error in eval(expr, envir, enclos): 객체 'auck_el1'를 찾을 수 없습니다\n",
     "output_type": "error",
     "traceback": [
      "Error in eval(expr, envir, enclos): 객체 'auck_el1'를 찾을 수 없습니다\n"
     ]
    }
   ],
   "source": [
    "class(auck_el1)"
   ]
  }
 ],
 "metadata": {
  "kernelspec": {
   "display_name": "R",
   "language": "R",
   "name": "ir"
  },
  "language_info": {
   "codemirror_mode": "r",
   "file_extension": ".r",
   "mimetype": "text/x-r-source",
   "name": "R",
   "pygments_lexer": "r",
   "version": "3.1.3"
  }
 },
 "nbformat": 4,
 "nbformat_minor": 0
}
