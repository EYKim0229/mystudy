{
 "cells": [
  {
   "cell_type": "markdown",
   "metadata": {},
   "source": [
    "# 4장 Spatial Data Import and Export"
   ]
  },
  {
   "cell_type": "markdown",
   "metadata": {},
   "source": [
    "- Open Source Geospatial Foundation( OSGF )에서 오픈소스 모아짐.\n",
    "- 이런 오픈소스들은 Geospatial Data Abstraction Library( GDAL )과 PROJ.4을 많이 사용함.\n",
    "\n",
    "\n",
    "- 이장의 학습목표\n",
    "    - 건고하고 이식성이 좋은 방법으로 기본좌표계를 표현 방법을 고려함.\n",
    "    - 가장 대중적인 포맷을 사용해서 공간데이터를 R로 읽고 쓰는 방법을 보여줌.\n",
    "    - GRASS GIS와의 인터페이스를 자세히 다룸.\n",
    "    - visualisation을 위한 데이터 export을 함.\n",
    "  \n",
    "  \n",
    "- rgdal 패키지를 로딩하는 것으로부터 시작함.~~~"
   ]
  },
  {
   "cell_type": "code",
   "execution_count": 1,
   "metadata": {
    "collapsed": false
   },
   "outputs": [
    {
     "name": "stderr",
     "output_type": "stream",
     "text": [
      "Loading required package: sp\n",
      "rgdal: version: 1.1-8, (SVN revision 616)\n",
      " Geospatial Data Abstraction Library extensions to R successfully loaded\n",
      " Loaded GDAL runtime: GDAL 2.0.1, released 2015/09/15\n",
      " Path to GDAL shared files: C:/Anaconda2/R/library/rgdal/gdal\n",
      " GDAL does not use iconv for recoding strings.\n",
      " Loaded PROJ.4 runtime: Rel. 4.9.1, 04 March 2015, [PJ_VERSION: 491]\n",
      " Path to PROJ.4 shared files: C:/Anaconda2/R/library/rgdal/proj\n",
      " Linking to sp version: 1.2-3 \n"
     ]
    }
   ],
   "source": [
    "library(rgdal)"
   ]
  },
  {
   "cell_type": "markdown",
   "metadata": {},
   "source": [
    "## 4.1 Coordinate Reference Systems\n",
    "\n",
    "- 지구는 울퉁불퉁한 타원이고, 각각의 국가마다 기준과 측정 단위( km, feet )가 다르기 때문에 매우 다양함.\n",
    "- 북해분지( the North Sea basin )의 해안선이 호환되지 않고 불충분한 CRS로 정의되어서  European Petroleum Survey Group( EPSG )에서 1986년부터 geodetic parameter data set을 수집하기 시작함."
   ]
  },
  {
   "cell_type": "markdown",
   "metadata": {},
   "source": [
    "### 4.1.1 Using the EPSG List\n",
    "\n",
    "- EPSG list는 rgdal 패키지에 제공됨.\n",
    "- 대부분의 CRS 데이터는 이 책에서 사용하는 PROJ.4 style로 변환되어짐.\n",
    "- ED50( the European Datum 1950 )안의 차트좌표를 WGS84 datum안에서의 차트좌표로 변환이 필요함."
   ]
  },
  {
   "cell_type": "code",
   "execution_count": 2,
   "metadata": {
    "collapsed": false
   },
   "outputs": [
    {
     "data": {
      "text/html": [
       "<table>\n",
       "<thead><tr><th></th><th scope=col>code</th><th scope=col>note</th><th scope=col>prj4</th></tr></thead>\n",
       "<tbody>\n",
       "\t<tr><th scope=row>159</th><td>4230</td><td># ED50</td><td>+proj=longlat +ellps=intl +towgs84=-87,-98,-121,0,0,0,0 +no_defs</td></tr>\n",
       "</tbody>\n",
       "</table>\n"
      ],
      "text/latex": [
       "\\begin{tabular}{r|lll}\n",
       "  & code & note & prj4\\\\\n",
       "\\hline\n",
       "\t159 & 4230 & # ED50 & +proj=longlat +ellps=intl +towgs84=-87,-98,-121,0,0,0,0 +no_defs\\\\\n",
       "\\end{tabular}\n"
      ],
      "text/plain": [
       "    code   note\n",
       "159 4230 # ED50\n",
       "                                                                prj4\n",
       "159 +proj=longlat +ellps=intl +towgs84=-87,-98,-121,0,0,0,0 +no_defs"
      ]
     },
     "execution_count": 2,
     "metadata": {},
     "output_type": "execute_result"
    }
   ],
   "source": [
    "EPSG <- make_EPSG()\n",
    "EPSG[grep(\"^# ED50$\", EPSG$note), ]"
   ]
  },
  {
   "cell_type": "markdown",
   "metadata": {},
   "source": [
    "- EPSG code가 첫번째 컬럼에 있고,  PROJ.4 specification은 세번째 컬럼에 있음."
   ]
  },
  {
   "cell_type": "markdown",
   "metadata": {},
   "source": [
    "### 4.1.2 PROJ.4 CRS Specification\n",
    "\n",
    "- PROJ.4 library는 기준좌표계를 \"태그=값\" 형식으로 표현.\n",
    "- CRS class는 기존좌표에 대한 정보가 없으면( NA ) unknown CRS으로 인식하고 지리적인 좌표을 포함한 CRS는 longlat 문자열을 포함함.\n",
    "- 태그는 +로 시작하고 = 부호로 구분으로 태그와 값을 나눔."
   ]
  },
  {
   "cell_type": "code",
   "execution_count": 3,
   "metadata": {
    "collapsed": false
   },
   "outputs": [
    {
     "data": {
      "text/plain": [
       "CRS arguments:\n",
       " +init=epsg:4230 +proj=longlat +ellps=intl +towgs84=-87,-98,-121,0,0,0,0\n",
       "+no_defs "
      ]
     },
     "execution_count": 3,
     "metadata": {},
     "output_type": "execute_result"
    }
   ],
   "source": [
    "CRS(\"+init=epsg:4230\")"
   ]
  },
  {
   "cell_type": "markdown",
   "metadata": {},
   "source": [
    "- +proj 태그는 지리적인 좌표로 longlat( 위경도 )값을 갖고,  +ellps 태그는 International Ellipsoid of 1909을 나타내는 intl 라는 값을 갖음."
   ]
  },
  {
   "cell_type": "code",
   "execution_count": 4,
   "metadata": {
    "collapsed": false
   },
   "outputs": [
    {
     "data": {
      "text/plain": [
       "CRS arguments:\n",
       " +init=epsg:4230 +towgs84=-87,-96,-120,0,0,0,0 +proj=longlat +ellps=intl\n",
       "+no_defs "
      ]
     },
     "execution_count": 4,
     "metadata": {},
     "output_type": "execute_result"
    }
   ],
   "source": [
    "ED50 <- CRS(\"+init=epsg:4230 +towgs84=-87,-96,-120,0,0,0,0\")\n",
    "ED50"
   ]
  },
  {
   "cell_type": "markdown",
   "metadata": {},
   "source": [
    "- 자료변환은 3차원에서 다른 특별한 타원형(ellipsoids) 간에서 좌표가 이동됨."
   ]
  },
  {
   "cell_type": "markdown",
   "metadata": {},
   "source": [
    "### 4.1.3 Projection and Transformation\n",
    "\n"
   ]
  },
  {
   "cell_type": "code",
   "execution_count": 5,
   "metadata": {
    "collapsed": false
   },
   "outputs": [
    {
     "name": "stdout",
     "output_type": "stream",
     "text": [
      "4d30'55.294\"E 52d27'57.195\"N \n"
     ]
    }
   ],
   "source": [
    "IJ.east <- as(char2dms(\"4d31'00\\\"E\"), \"numeric\")\n",
    "IJ.north <- as(char2dms(\"52d28'00\\\"N\"), \"numeric\")\n",
    "IJ.ED50 <- SpatialPoints(cbind(x = IJ.east, y = IJ.north),  ED50)\n",
    "res <- spTransform(IJ.ED50, CRS(\"+proj=longlat +datum=WGS84\"))\n",
    "x <- as(dd2dms(coordinates(res)[1]), \"character\")\n",
    "y <- as(dd2dms(coordinates(res)[2], TRUE), \"character\")\n",
    "cat(x, y, \"\\n\")"
   ]
  },
  {
   "cell_type": "code",
   "execution_count": 7,
   "metadata": {
    "collapsed": false
   },
   "outputs": [
    {
     "data": {
      "text/html": [
       "124.099437256061"
      ],
      "text/latex": [
       "124.099437256061"
      ],
      "text/markdown": [
       "124.099437256061"
      ],
      "text/plain": [
       "[1] 124.0994"
      ]
     },
     "execution_count": 7,
     "metadata": {},
     "output_type": "execute_result"
    }
   ],
   "source": [
    "spDistsN1(coordinates(IJ.ED50), coordinates(res), longlat = TRUE) *  1000"
   ]
  },
  {
   "cell_type": "code",
   "execution_count": null,
   "metadata": {
    "collapsed": true
   },
   "outputs": [],
   "source": [
    "library(maptools)"
   ]
  },
  {
   "cell_type": "code",
   "execution_count": 9,
   "metadata": {
    "collapsed": false
   },
   "outputs": [
    {
     "data": {
      "text/html": [
       "<strong>x:</strong> -134.367445616882"
      ],
      "text/latex": [
       "\\textbf{x:} -134.367445616882"
      ],
      "text/markdown": [
       "**x:** -134.367445616882"
      ],
      "text/plain": [
       "        x \n",
       "-134.3674 "
      ]
     },
     "execution_count": 9,
     "metadata": {},
     "output_type": "execute_result"
    }
   ],
   "source": [
    "gzAzimuth(coordinates(IJ.ED50), coordinates(res))"
   ]
  },
  {
   "cell_type": "markdown",
   "metadata": {},
   "source": [
    "- 위의 코드에서 ED50 datum와 WGS84 datum 사이의 124m 이동됨.\n",
    "- spTransform()함수는 Spatial* 객체을 인자도 받아서, 타켓 CRS로 기준좌표계를 변환해서 리턴함.\n",
    "- spDistsN1()함수와 gzAzimuth()함수는 ED50와  WGS84에서 포인트간의 차이를 계산하는 함수임.\n",
    "- spDistsN1()함수는 두점 사이의 거리 측정\n",
    "- gzAzimuth()함수는 두점 사이의 sphere(구쳬)에서의 방위각(azimuths)을 측정"
   ]
  },
  {
   "cell_type": "code",
   "execution_count": 11,
   "metadata": {
    "collapsed": false
   },
   "outputs": [
    {
     "data": {
      "text/html": [
       "<table>\n",
       "<thead><tr><th></th><th scope=col>code</th><th scope=col>note</th></tr></thead>\n",
       "<tbody>\n",
       "\t<tr><th scope=row>639</th><td>2163</td><td># US National Atlas Equal Area</td></tr>\n",
       "\t<tr><th scope=row>2341</th><td>3978</td><td># NAD83 / Canada Atlas Lambert</td></tr>\n",
       "\t<tr><th scope=row>2342</th><td>3979</td><td># NAD83(CSRS) / Canada Atlas Lambert</td></tr>\n",
       "</tbody>\n",
       "</table>\n"
      ],
      "text/latex": [
       "\\begin{tabular}{r|ll}\n",
       "  & code & note\\\\\n",
       "\\hline\n",
       "\t639 & 2163 & # US National Atlas Equal Area\\\\\n",
       "\t2341 & 3978 & # NAD83 / Canada Atlas Lambert\\\\\n",
       "\t2342 & 3979 & # NAD83(CSRS) / Canada Atlas Lambert\\\\\n",
       "\\end{tabular}\n"
      ],
      "text/plain": [
       "     code                                 note\n",
       "639  2163       # US National Atlas Equal Area\n",
       "2341 3978       # NAD83 / Canada Atlas Lambert\n",
       "2342 3979 # NAD83(CSRS) / Canada Atlas Lambert"
      ]
     },
     "execution_count": 11,
     "metadata": {},
     "output_type": "execute_result"
    }
   ],
   "source": [
    "EPSG[grep(\"Atlas\", EPSG$note), 1:2]"
   ]
  },
  {
   "cell_type": "code",
   "execution_count": 14,
   "metadata": {
    "collapsed": false
   },
   "outputs": [
    {
     "data": {
      "text/plain": [
       "CRS arguments:\n",
       " +init=epsg:2163 +proj=laea +lat_0=45 +lon_0=-100 +x_0=0 +y_0=0\n",
       "+a=6370997 +b=6370997 +units=m +no_defs "
      ]
     },
     "execution_count": 14,
     "metadata": {},
     "output_type": "execute_result"
    }
   ],
   "source": [
    "CRS(\"+init=epsg:2163\")"
   ]
  },
  {
   "cell_type": "markdown",
   "metadata": {},
   "source": [
    "- US National Atlas는 특별한 CRS로 선택되어짐.\n",
    "- laea은 CRS in PROJ.4 로 표현하는 다른 값임."
   ]
  },
  {
   "cell_type": "code",
   "execution_count": 16,
   "metadata": {
    "collapsed": false
   },
   "outputs": [
    {
     "data": {
      "text/html": [
       "<table>\n",
       "<thead><tr><th></th><th scope=col>name</th><th scope=col>description</th></tr></thead>\n",
       "<tbody>\n",
       "\t<tr><th scope=row>53</th><td>laea</td><td>Lambert Azimuthal Equal Area</td></tr>\n",
       "</tbody>\n",
       "</table>\n"
      ],
      "text/latex": [
       "\\begin{tabular}{r|ll}\n",
       "  & name & description\\\\\n",
       "\\hline\n",
       "\t53 & laea & Lambert Azimuthal Equal Area\\\\\n",
       "\\end{tabular}\n"
      ],
      "text/plain": [
       "   name                  description\n",
       "53 laea Lambert Azimuthal Equal Area"
      ]
     },
     "execution_count": 16,
     "metadata": {},
     "output_type": "execute_result"
    }
   ],
   "source": [
    "proj <- projInfo(\"proj\")\n",
    "proj[proj$name == \"laea\", ]"
   ]
  },
  {
   "cell_type": "code",
   "execution_count": 18,
   "metadata": {
    "collapsed": false
   },
   "outputs": [
    {
     "data": {
      "text/html": [
       "<table>\n",
       "<thead><tr><th></th><th scope=col>name</th><th scope=col>major</th><th scope=col>ell</th><th scope=col>description</th></tr></thead>\n",
       "<tbody>\n",
       "\t<tr><th scope=row>43</th><td>sphere</td><td>a=6370997.0</td><td>b=6370997.0</td><td>Normal Sphere (r=6370997)</td></tr>\n",
       "</tbody>\n",
       "</table>\n"
      ],
      "text/latex": [
       "\\begin{tabular}{r|llll}\n",
       "  & name & major & ell & description\\\\\n",
       "\\hline\n",
       "\t43 & sphere & a=6370997.0 & b=6370997.0 & Normal Sphere (r=6370997)\\\\\n",
       "\\end{tabular}\n"
      ],
      "text/plain": [
       "     name       major         ell               description\n",
       "43 sphere a=6370997.0 b=6370997.0 Normal Sphere (r=6370997)"
      ]
     },
     "execution_count": 18,
     "metadata": {},
     "output_type": "execute_result"
    }
   ],
   "source": [
    "ellps <- projInfo(\"ellps\")\n",
    "ellps[grep(\"a=6370997\", ellps$major), ]"
   ]
  },
  {
   "cell_type": "markdown",
   "metadata": {},
   "source": [
    "- Lambert Azimuthal Equal Area projection은 100◦west and 45◦ north을 중심으로 복잡한 타원형보다는 구형을 사용함."
   ]
  },
  {
   "cell_type": "markdown",
   "metadata": {},
   "source": [
    "### 4.1.4 Degrees, Minutes, and Seconds\n",
    "\n",
    "- 위경도 좌표 는 degrees(도), minutes(분), decimal seconds (초)로 표현\n",
    "- char2dms()함수를 사용해서 위경도 좌표 문자열을 DMS 객체로 변환함."
   ]
  },
  {
   "cell_type": "code",
   "execution_count": 19,
   "metadata": {
    "collapsed": true
   },
   "outputs": [],
   "source": [
    "IJ.dms.E <- \"4d31'00\\\"E\"\n",
    "IJ.dms.N <- \"52d28'00\\\"N\""
   ]
  },
  {
   "cell_type": "code",
   "execution_count": 21,
   "metadata": {
    "collapsed": false
   },
   "outputs": [
    {
     "data": {
      "text/plain": [
       "[1] 4d31'E"
      ]
     },
     "execution_count": 21,
     "metadata": {},
     "output_type": "execute_result"
    }
   ],
   "source": [
    "IJ_east <- char2dms(IJ.dms.E)\n",
    "IJ_north <- char2dms(IJ.dms.N)\n",
    "IJ_east"
   ]
  },
  {
   "cell_type": "code",
   "execution_count": 23,
   "metadata": {
    "collapsed": false
   },
   "outputs": [
    {
     "data": {
      "text/plain": [
       "[1] 52d28'N"
      ]
     },
     "execution_count": 23,
     "metadata": {},
     "output_type": "execute_result"
    }
   ],
   "source": [
    "IJ_north"
   ]
  },
  {
   "cell_type": "code",
   "execution_count": 24,
   "metadata": {
    "collapsed": false
   },
   "outputs": [
    {
     "data": {
      "text/html": [
       "<dl class=dl-horizontal>\n",
       "\t<dt>WS</dt>\n",
       "\t\t<dd>\"logical\"</dd>\n",
       "\t<dt>deg</dt>\n",
       "\t\t<dd>\"numeric\"</dd>\n",
       "\t<dt>min</dt>\n",
       "\t\t<dd>\"numeric\"</dd>\n",
       "\t<dt>sec</dt>\n",
       "\t\t<dd>\"numeric\"</dd>\n",
       "\t<dt>NS</dt>\n",
       "\t\t<dd>\"logical\"</dd>\n",
       "</dl>\n"
      ],
      "text/latex": [
       "\\begin{description*}\n",
       "\\item[WS] \"logical\"\n",
       "\\item[deg] \"numeric\"\n",
       "\\item[min] \"numeric\"\n",
       "\\item[sec] \"numeric\"\n",
       "\\item[NS] \"logical\"\n",
       "\\end{description*}\n"
      ],
      "text/markdown": [
       "WS\n",
       ":   \"logical\"deg\n",
       ":   \"numeric\"min\n",
       ":   \"numeric\"sec\n",
       ":   \"numeric\"NS\n",
       ":   \"logical\"\n",
       "\n"
      ],
      "text/plain": [
       "       WS       deg       min       sec        NS \n",
       "\"logical\" \"numeric\" \"numeric\" \"numeric\" \"logical\" "
      ]
     },
     "execution_count": 24,
     "metadata": {},
     "output_type": "execute_result"
    }
   ],
   "source": [
    "getSlots(\"DMS\")"
   ]
  },
  {
   "cell_type": "markdown",
   "metadata": {},
   "source": [
    "- DMS class는 지리적인 좌표 표현을 저장함.\n",
    "- as() 함수를 사용해서 십진수 degrees(도)로 값을 변환함."
   ]
  },
  {
   "cell_type": "code",
   "execution_count": 25,
   "metadata": {
    "collapsed": false
   },
   "outputs": [
    {
     "data": {
      "text/html": [
       "<ol class=list-inline>\n",
       "\t<li>4.51666666666667</li>\n",
       "\t<li>52.4666666666667</li>\n",
       "</ol>\n"
      ],
      "text/latex": [
       "\\begin{enumerate*}\n",
       "\\item 4.51666666666667\n",
       "\\item 52.4666666666667\n",
       "\\end{enumerate*}\n"
      ],
      "text/markdown": [
       "1. 4.51666666666667\n",
       "2. 52.4666666666667\n",
       "\n",
       "\n"
      ],
      "text/plain": [
       "[1]  4.516667 52.466667"
      ]
     },
     "execution_count": 25,
     "metadata": {},
     "output_type": "execute_result"
    }
   ],
   "source": [
    "c(as(IJ_east, \"numeric\"), as(IJ_north, \"numeric\"))"
   ]
  },
  {
   "cell_type": "markdown",
   "metadata": {},
   "source": [
    "## 4.2 Vector File Formats"
   ]
  },
  {
   "cell_type": "markdown",
   "metadata": {},
   "source": [
    "- Spatial vector data는 점, 선, 다각형, sp class임.\n",
    "- Vector formats은 R 이외에서 import가 될 수 있는 포맷임.\n",
    "- sp vector classes은 경계선을 체크하지 않고 저장되는 각각의 다각형이라는 의미에서 단순함."
   ]
  },
  {
   "cell_type": "markdown",
   "metadata": {},
   "source": [
    "### 4.2.1 Using OGR Drivers in rgdal\n",
    "\n",
    "- rgdal패키지안의 Geospatial Data Abstraction Library의 OGR vector 함수를 사용해서 spatial vector data을 읽어보자.\n",
    "- OGR은 직접적으로 기준좌표계을 핸들링을 지원해서 규격화된 imported data을 읽어올 수 있음.\n",
    "- ogrDrivers()함수는 출력파일을 생성할 수 있는 driver가 무엇인지 리스트를 보여줌.\n",
    "- readOGR()함수는 data source name (dsn)와 layer (layer)를 최소한 2개의 인자가 필요. \n",
    "- http://ogr.maptools.org/ogr_formats.html에서 import되는 포맷을 볼수 있음.\n",
    "\n",
    "\n",
    "- Scottish lip cancer 데이터를 직접다운받음.\n",
    "- 3개의 파일은  데이터 수집시점에 스코틀랜드 지역 구분에 대한 정보임.\n",
    "- scotland.dat 파일은 원천 연구 데이터임."
   ]
  },
  {
   "cell_type": "markdown",
   "metadata": {},
   "source": [
    "ogrDrivers()"
   ]
  },
  {
   "cell_type": "code",
   "execution_count": 1,
   "metadata": {
    "collapsed": true
   },
   "outputs": [],
   "source": [
    "download.file(\"http://web1.sph.emory.edu/users/lwaller/book/ch9/scot.shp\", \"scot.shp\", mode=\"wb\")\n",
    "#download.file(\"http://www.sph.emory.edu/~lwaller/book/ch9/scot.shp\", \"scot.shp\", mode=\"wb\")\n",
    "download.file(\"http://web1.sph.emory.edu/users/lwaller/book/ch9/scot.dbf\", \"scot.dbf\", mode=\"wb\")\n",
    "download.file(\"http://web1.sph.emory.edu/users/lwaller/book/ch9/scot.shx\", \"scot.shx\", mode=\"wb\")\n",
    "download.file(\"http://web1.sph.emory.edu/users/lwaller/book/ch2/scotland.dat\", \"scotland.dat\", mode=\"w\")"
   ]
  },
  {
   "cell_type": "code",
   "execution_count": 7,
   "metadata": {
    "collapsed": false
   },
   "outputs": [
    {
     "name": "stdout",
     "output_type": "stream",
     "text": [
      "OGR data source with driver: ESRI Shapefile \n",
      "Source: \".\", layer: \"scot\"\n",
      "with 56 features\n",
      "It has 2 fields\n"
     ]
    },
    {
     "data": {
      "text/html": [
       "<ol class=list-inline>\n",
       "\t<li>12</li>\n",
       "\t<li>13</li>\n",
       "\t<li>19</li>\n",
       "\t<li>2</li>\n",
       "\t<li>17</li>\n",
       "\t<li>16</li>\n",
       "\t<li>21</li>\n",
       "\t<li>50</li>\n",
       "\t<li>15</li>\n",
       "\t<li>25</li>\n",
       "\t<li>26</li>\n",
       "\t<li>29</li>\n",
       "\t<li>43</li>\n",
       "\t<li>39</li>\n",
       "\t<li>40</li>\n",
       "\t<li>52</li>\n",
       "\t<li>42</li>\n",
       "\t<li>51</li>\n",
       "\t<li>34</li>\n",
       "\t<li>54</li>\n",
       "\t<li>36</li>\n",
       "\t<li>46</li>\n",
       "\t<li>41</li>\n",
       "\t<li>53</li>\n",
       "\t<li>49</li>\n",
       "\t<li>38</li>\n",
       "\t<li>44</li>\n",
       "\t<li>30</li>\n",
       "\t<li>45</li>\n",
       "\t<li>48</li>\n",
       "\t<li>47</li>\n",
       "\t<li>35</li>\n",
       "\t<li>28</li>\n",
       "\t<li>4</li>\n",
       "\t<li>20</li>\n",
       "\t<li>33</li>\n",
       "\t<li>31</li>\n",
       "\t<li>24</li>\n",
       "\t<li>55</li>\n",
       "\t<li>18</li>\n",
       "\t<li>56</li>\n",
       "\t<li>14</li>\n",
       "\t<li>32</li>\n",
       "\t<li>27</li>\n",
       "\t<li>10</li>\n",
       "\t<li>22</li>\n",
       "\t<li>6</li>\n",
       "\t<li>8</li>\n",
       "\t<li>9</li>\n",
       "\t<li>3</li>\n",
       "\t<li>5</li>\n",
       "\t<li>11</li>\n",
       "\t<li>1</li>\n",
       "\t<li>7</li>\n",
       "\t<li>23</li>\n",
       "\t<li>37</li>\n",
       "</ol>\n"
      ],
      "text/latex": [
       "\\begin{enumerate*}\n",
       "\\item 12\n",
       "\\item 13\n",
       "\\item 19\n",
       "\\item 2\n",
       "\\item 17\n",
       "\\item 16\n",
       "\\item 21\n",
       "\\item 50\n",
       "\\item 15\n",
       "\\item 25\n",
       "\\item 26\n",
       "\\item 29\n",
       "\\item 43\n",
       "\\item 39\n",
       "\\item 40\n",
       "\\item 52\n",
       "\\item 42\n",
       "\\item 51\n",
       "\\item 34\n",
       "\\item 54\n",
       "\\item 36\n",
       "\\item 46\n",
       "\\item 41\n",
       "\\item 53\n",
       "\\item 49\n",
       "\\item 38\n",
       "\\item 44\n",
       "\\item 30\n",
       "\\item 45\n",
       "\\item 48\n",
       "\\item 47\n",
       "\\item 35\n",
       "\\item 28\n",
       "\\item 4\n",
       "\\item 20\n",
       "\\item 33\n",
       "\\item 31\n",
       "\\item 24\n",
       "\\item 55\n",
       "\\item 18\n",
       "\\item 56\n",
       "\\item 14\n",
       "\\item 32\n",
       "\\item 27\n",
       "\\item 10\n",
       "\\item 22\n",
       "\\item 6\n",
       "\\item 8\n",
       "\\item 9\n",
       "\\item 3\n",
       "\\item 5\n",
       "\\item 11\n",
       "\\item 1\n",
       "\\item 7\n",
       "\\item 23\n",
       "\\item 37\n",
       "\\end{enumerate*}\n"
      ],
      "text/markdown": [
       "1. 12\n",
       "2. 13\n",
       "3. 19\n",
       "4. 2\n",
       "5. 17\n",
       "6. 16\n",
       "7. 21\n",
       "8. 50\n",
       "9. 15\n",
       "10. 25\n",
       "11. 26\n",
       "12. 29\n",
       "13. 43\n",
       "14. 39\n",
       "15. 40\n",
       "16. 52\n",
       "17. 42\n",
       "18. 51\n",
       "19. 34\n",
       "20. 54\n",
       "21. 36\n",
       "22. 46\n",
       "23. 41\n",
       "24. 53\n",
       "25. 49\n",
       "26. 38\n",
       "27. 44\n",
       "28. 30\n",
       "29. 45\n",
       "30. 48\n",
       "31. 47\n",
       "32. 35\n",
       "33. 28\n",
       "34. 4\n",
       "35. 20\n",
       "36. 33\n",
       "37. 31\n",
       "38. 24\n",
       "39. 55\n",
       "40. 18\n",
       "41. 56\n",
       "42. 14\n",
       "43. 32\n",
       "44. 27\n",
       "45. 10\n",
       "46. 22\n",
       "47. 6\n",
       "48. 8\n",
       "49. 9\n",
       "50. 3\n",
       "51. 5\n",
       "52. 11\n",
       "53. 1\n",
       "54. 7\n",
       "55. 23\n",
       "56. 37\n",
       "\n",
       "\n"
      ],
      "text/plain": [
       " [1] 12 13 19  2 17 16 21 50 15 25 26 29 43 39 40 52 42 51 34 54 36 46 41 53 49\n",
       "[26] 38 44 30 45 48 47 35 28  4 20 33 31 24 55 18 56 14 32 27 10 22  6  8  9  3\n",
       "[51]  5 11  1  7 23 37"
      ]
     },
     "execution_count": 7,
     "metadata": {},
     "output_type": "execute_result"
    }
   ],
   "source": [
    "scot_LL <- readOGR(\".\", \"scot\")\n",
    "proj4string(scot_LL) <- CRS(\"+proj=longlat +ellps=WGS84\")\n",
    "scot_LL$ID"
   ]
  },
  {
   "cell_type": "markdown",
   "metadata": {},
   "source": []
  },
  {
   "cell_type": "code",
   "execution_count": 8,
   "metadata": {
    "collapsed": false
   },
   "outputs": [
    {
     "data": {
      "text/html": [
       "<ol class=list-inline>\n",
       "\t<li>1</li>\n",
       "\t<li>2</li>\n",
       "\t<li>3</li>\n",
       "\t<li>4</li>\n",
       "\t<li>5</li>\n",
       "\t<li>6</li>\n",
       "\t<li>7</li>\n",
       "\t<li>8</li>\n",
       "\t<li>9</li>\n",
       "\t<li>10</li>\n",
       "\t<li>11</li>\n",
       "\t<li>12</li>\n",
       "\t<li>13</li>\n",
       "\t<li>14</li>\n",
       "\t<li>15</li>\n",
       "\t<li>16</li>\n",
       "\t<li>17</li>\n",
       "\t<li>18</li>\n",
       "\t<li>19</li>\n",
       "\t<li>20</li>\n",
       "\t<li>21</li>\n",
       "\t<li>22</li>\n",
       "\t<li>23</li>\n",
       "\t<li>24</li>\n",
       "\t<li>25</li>\n",
       "\t<li>26</li>\n",
       "\t<li>27</li>\n",
       "\t<li>28</li>\n",
       "\t<li>29</li>\n",
       "\t<li>30</li>\n",
       "\t<li>31</li>\n",
       "\t<li>32</li>\n",
       "\t<li>33</li>\n",
       "\t<li>34</li>\n",
       "\t<li>35</li>\n",
       "\t<li>36</li>\n",
       "\t<li>37</li>\n",
       "\t<li>38</li>\n",
       "\t<li>39</li>\n",
       "\t<li>40</li>\n",
       "\t<li>41</li>\n",
       "\t<li>42</li>\n",
       "\t<li>43</li>\n",
       "\t<li>44</li>\n",
       "\t<li>45</li>\n",
       "\t<li>46</li>\n",
       "\t<li>47</li>\n",
       "\t<li>48</li>\n",
       "\t<li>49</li>\n",
       "\t<li>50</li>\n",
       "\t<li>51</li>\n",
       "\t<li>52</li>\n",
       "\t<li>53</li>\n",
       "\t<li>54</li>\n",
       "\t<li>55</li>\n",
       "\t<li>56</li>\n",
       "</ol>\n"
      ],
      "text/latex": [
       "\\begin{enumerate*}\n",
       "\\item 1\n",
       "\\item 2\n",
       "\\item 3\n",
       "\\item 4\n",
       "\\item 5\n",
       "\\item 6\n",
       "\\item 7\n",
       "\\item 8\n",
       "\\item 9\n",
       "\\item 10\n",
       "\\item 11\n",
       "\\item 12\n",
       "\\item 13\n",
       "\\item 14\n",
       "\\item 15\n",
       "\\item 16\n",
       "\\item 17\n",
       "\\item 18\n",
       "\\item 19\n",
       "\\item 20\n",
       "\\item 21\n",
       "\\item 22\n",
       "\\item 23\n",
       "\\item 24\n",
       "\\item 25\n",
       "\\item 26\n",
       "\\item 27\n",
       "\\item 28\n",
       "\\item 29\n",
       "\\item 30\n",
       "\\item 31\n",
       "\\item 32\n",
       "\\item 33\n",
       "\\item 34\n",
       "\\item 35\n",
       "\\item 36\n",
       "\\item 37\n",
       "\\item 38\n",
       "\\item 39\n",
       "\\item 40\n",
       "\\item 41\n",
       "\\item 42\n",
       "\\item 43\n",
       "\\item 44\n",
       "\\item 45\n",
       "\\item 46\n",
       "\\item 47\n",
       "\\item 48\n",
       "\\item 49\n",
       "\\item 50\n",
       "\\item 51\n",
       "\\item 52\n",
       "\\item 53\n",
       "\\item 54\n",
       "\\item 55\n",
       "\\item 56\n",
       "\\end{enumerate*}\n"
      ],
      "text/markdown": [
       "1. 1\n",
       "2. 2\n",
       "3. 3\n",
       "4. 4\n",
       "5. 5\n",
       "6. 6\n",
       "7. 7\n",
       "8. 8\n",
       "9. 9\n",
       "10. 10\n",
       "11. 11\n",
       "12. 12\n",
       "13. 13\n",
       "14. 14\n",
       "15. 15\n",
       "16. 16\n",
       "17. 17\n",
       "18. 18\n",
       "19. 19\n",
       "20. 20\n",
       "21. 21\n",
       "22. 22\n",
       "23. 23\n",
       "24. 24\n",
       "25. 25\n",
       "26. 26\n",
       "27. 27\n",
       "28. 28\n",
       "29. 29\n",
       "30. 30\n",
       "31. 31\n",
       "32. 32\n",
       "33. 33\n",
       "34. 34\n",
       "35. 35\n",
       "36. 36\n",
       "37. 37\n",
       "38. 38\n",
       "39. 39\n",
       "40. 40\n",
       "41. 41\n",
       "42. 42\n",
       "43. 43\n",
       "44. 44\n",
       "45. 45\n",
       "46. 46\n",
       "47. 47\n",
       "48. 48\n",
       "49. 49\n",
       "50. 50\n",
       "51. 51\n",
       "52. 52\n",
       "53. 53\n",
       "54. 54\n",
       "55. 55\n",
       "56. 56\n",
       "\n",
       "\n"
      ],
      "text/plain": [
       " [1]  1  2  3  4  5  6  7  8  9 10 11 12 13 14 15 16 17 18 19 20 21 22 23 24 25\n",
       "[26] 26 27 28 29 30 31 32 33 34 35 36 37 38 39 40 41 42 43 44 45 46 47 48 49 50\n",
       "[51] 51 52 53 54 55 56"
      ]
     },
     "execution_count": 8,
     "metadata": {},
     "output_type": "execute_result"
    }
   ],
   "source": [
    "scot_dat <- read.table(\"scotland.dat\", skip = 1)\n",
    "names(scot_dat) <- c(\"District\", \"Observed\", \"Expected\", \n",
    "                     \"PcAFF\", \"Latitude\", \"Longitude\")\n",
    "scot_dat$District"
   ]
  },
  {
   "cell_type": "code",
   "execution_count": 7,
   "metadata": {
    "collapsed": false
   },
   "outputs": [
    {
     "data": {
      "text/html": [
       "<table>\n",
       "<thead><tr><th></th><th scope=col>District</th><th scope=col>Observed</th><th scope=col>Expected</th><th scope=col>PcAFF</th><th scope=col>Latitude</th><th scope=col>Longitude</th></tr></thead>\n",
       "<tbody>\n",
       "\t<tr><th scope=row>1</th><td>1</td><td>9</td><td>1.4</td><td>16</td><td>57.29</td><td>5.5</td></tr>\n",
       "\t<tr><th scope=row>2</th><td>2</td><td>39</td><td>8.7</td><td>16</td><td>57.56</td><td>2.36</td></tr>\n",
       "\t<tr><th scope=row>3</th><td>3</td><td>11</td><td>3</td><td>10</td><td>58.44</td><td>3.9</td></tr>\n",
       "\t<tr><th scope=row>4</th><td>4</td><td>9</td><td>2.5</td><td>24</td><td>55.76</td><td>2.4</td></tr>\n",
       "\t<tr><th scope=row>5</th><td>5</td><td>15</td><td>4.3</td><td>10</td><td>57.71</td><td>5.09</td></tr>\n",
       "\t<tr><th scope=row>6</th><td>6</td><td>8</td><td>2.4</td><td>24</td><td>59.13</td><td>3.25</td></tr>\n",
       "</tbody>\n",
       "</table>\n"
      ],
      "text/latex": [
       "\\begin{tabular}{r|llllll}\n",
       "  & District & Observed & Expected & PcAFF & Latitude & Longitude\\\\\n",
       "\\hline\n",
       "\t1 & 1 & 9 & 1.4 & 16 & 57.29 & 5.5\\\\\n",
       "\t2 & 2 & 39 & 8.7 & 16 & 57.56 & 2.36\\\\\n",
       "\t3 & 3 & 11 & 3 & 10 & 58.44 & 3.9\\\\\n",
       "\t4 & 4 & 9 & 2.5 & 24 & 55.76 & 2.4\\\\\n",
       "\t5 & 5 & 15 & 4.3 & 10 & 57.71 & 5.09\\\\\n",
       "\t6 & 6 & 8 & 2.4 & 24 & 59.13 & 3.25\\\\\n",
       "\\end{tabular}\n"
      ],
      "text/plain": [
       "  District Observed Expected PcAFF Latitude Longitude\n",
       "1        1        9      1.4    16    57.29      5.50\n",
       "2        2       39      8.7    16    57.56      2.36\n",
       "3        3       11      3.0    10    58.44      3.90\n",
       "4        4        9      2.5    24    55.76      2.40\n",
       "5        5       15      4.3    10    57.71      5.09\n",
       "6        6        8      2.4    24    59.13      3.25"
      ]
     },
     "execution_count": 7,
     "metadata": {},
     "output_type": "execute_result"
    }
   ],
   "source": [
    "head( scot_dat )"
   ]
  },
  {
   "cell_type": "code",
   "execution_count": 9,
   "metadata": {
    "collapsed": false
   },
   "outputs": [
    {
     "data": {
      "text/html": [
       "TRUE"
      ],
      "text/latex": [
       "TRUE"
      ],
      "text/markdown": [
       "TRUE"
      ],
      "text/plain": [
       "[1] TRUE"
      ]
     },
     "execution_count": 9,
     "metadata": {},
     "output_type": "execute_result"
    },
    {
     "data": {
      "text/html": [
       "<ol class=list-inline>\n",
       "\t<li>\"NAME\"</li>\n",
       "\t<li>\"ID\"</li>\n",
       "\t<li>\"District\"</li>\n",
       "\t<li>\"Observed\"</li>\n",
       "\t<li>\"Expected\"</li>\n",
       "\t<li>\"PcAFF\"</li>\n",
       "\t<li>\"Latitude\"</li>\n",
       "\t<li>\"Longitude\"</li>\n",
       "</ol>\n"
      ],
      "text/latex": [
       "\\begin{enumerate*}\n",
       "\\item \"NAME\"\n",
       "\\item \"ID\"\n",
       "\\item \"District\"\n",
       "\\item \"Observed\"\n",
       "\\item \"Expected\"\n",
       "\\item \"PcAFF\"\n",
       "\\item \"Latitude\"\n",
       "\\item \"Longitude\"\n",
       "\\end{enumerate*}\n"
      ],
      "text/markdown": [
       "1. \"NAME\"\n",
       "2. \"ID\"\n",
       "3. \"District\"\n",
       "4. \"Observed\"\n",
       "5. \"Expected\"\n",
       "6. \"PcAFF\"\n",
       "7. \"Latitude\"\n",
       "8. \"Longitude\"\n",
       "\n",
       "\n"
      ],
      "text/plain": [
       "[1] \"NAME\"      \"ID\"        \"District\"  \"Observed\"  \"Expected\"  \"PcAFF\"    \n",
       "[7] \"Latitude\"  \"Longitude\""
      ]
     },
     "execution_count": 9,
     "metadata": {},
     "output_type": "execute_result"
    }
   ],
   "source": [
    "library(maptools)\n",
    "scot_dat1 <- scot_dat[match(scot_LL$ID, scot_dat$District), ]\n",
    "row.names(scot_dat1) <- sapply(slot(scot_LL, \"polygons\"), \n",
    "                               function(x) slot(x, \"ID\"))\n",
    "scot_LLa <- spCbind(scot_LL, scot_dat1)\n",
    "all.equal(scot_LLa$ID, scot_LLa$District)\n",
    "names(scot_LLa)"
   ]
  },
  {
   "cell_type": "markdown",
   "metadata": {},
   "source": [
    "- 이 데이터셋을 가지고 11장에서 아래와 같이 그리는 방법을 설명함.\n",
    "\n",
    "![](chapter04_01.png)"
   ]
  },
  {
   "cell_type": "code",
   "execution_count": null,
   "metadata": {
    "collapsed": true
   },
   "outputs": [],
   "source": [
    "install.packages('spdep', repos=\"http://cran.nexr.com/\"  )"
   ]
  },
  {
   "cell_type": "code",
   "execution_count": null,
   "metadata": {
    "collapsed": true
   },
   "outputs": [],
   "source": [
    "install.packages('DCluster', repos=\"http://cran.nexr.com/\"  )"
   ]
  },
  {
   "cell_type": "code",
   "execution_count": 17,
   "metadata": {
    "collapsed": false
   },
   "outputs": [
    {
     "name": "stderr",
     "output_type": "stream",
     "text": [
      "Loading required package: boot\n",
      "Loading required package: MASS\n"
     ]
    }
   ],
   "source": [
    "library(spdep)\n",
    "O <- scot_LLa$Observed\n",
    "E <- scot_LLa$Expected\n",
    "scot_LLa$SMR <- probmap(O, E)$relRisk/100\n",
    "library(DCluster)\n",
    "scot_LLa$smth <- empbaysmooth(O, E)$smthrr"
   ]
  },
  {
   "cell_type": "code",
   "execution_count": 18,
   "metadata": {
    "collapsed": true
   },
   "outputs": [],
   "source": [
    "scot_BNG <- spTransform(scot_LLa, CRS(\"+init=epsg:27700\"))"
   ]
  },
  {
   "cell_type": "markdown",
   "metadata": {},
   "source": [
    "- Google Earth에 표시할 수 있도록 Keyhole Markup Language(KML)로 데이터 export할 수 있음."
   ]
  },
  {
   "cell_type": "code",
   "execution_count": null,
   "metadata": {
    "collapsed": true
   },
   "outputs": [],
   "source": [
    "writeOGR(scot_LLa[\"ID\"], dsn = \"scot_district.kml\",layer = \"borders\", driver = \"KML\")\n",
    "llCRS <- CRS(\"+proj=longlat ellps=WGS84\")\n",
    "scot_SP_LL <- SpatialPointsDataFrame(coordinates(scot_LLa), \n",
    "                                     proj4string = llCRS, \n",
    "                                     data = as(scot_LLa, \"data.frame\")[c(\"NAME\",\"Observed\", \"Expected\", \"SMR\", \"smth\")])\n",
    "writeOGR(scot_SP_LL, dsn = \"scot_rates.kml\", \n",
    "         layer = \"rates\", driver = \"KML\")"
   ]
  },
  {
   "cell_type": "markdown",
   "metadata": {},
   "source": [
    "![](chapter04_02.png)"
   ]
  },
  {
   "cell_type": "markdown",
   "metadata": {},
   "source": [
    "## 4.3 Raster File Formats"
   ]
  },
  {
   "cell_type": "markdown",
   "metadata": {},
   "source": [
    "- raster File Format은 Red-Green-Blue (RGB)값을 갖음.\n",
    "- rimage ,  biOps, EBImage(Bioconductor) 패키지가 raster image을 import와 export 기능을 제공.\n",
    "- spatial raster data는 기준좌표에 대한 핸들링이 필요함.\n",
    "- 그래서, 위의 패키지는 직접 지원하지 않음."
   ]
  },
  {
   "cell_type": "markdown",
   "metadata": {},
   "source": [
    "### 4.3.1 Using GDAL Drivers in rgdal\n",
    "\n",
    "- rgdal패키지의 readGDAL()함수는 다양한 driver 지원함."
   ]
  },
  {
   "cell_type": "code",
   "execution_count": null,
   "metadata": {
    "collapsed": true
   },
   "outputs": [],
   "source": [
    "![](70042108.tif)"
   ]
  },
  {
   "cell_type": "code",
   "execution_count": 10,
   "metadata": {
    "collapsed": false
   },
   "outputs": [
    {
     "name": "stdout",
     "output_type": "stream",
     "text": [
      "70042108.tif has GDAL driver GTiff \n",
      "and has 1200 rows and 1320 columns\n"
     ]
    }
   ],
   "source": [
    "auck_el1 <- readGDAL(\"70042108.tif\")"
   ]
  },
  {
   "cell_type": "code",
   "execution_count": 11,
   "metadata": {
    "collapsed": false
   },
   "outputs": [
    {
     "data": {
      "text/plain": [
       "Object of class SpatialGridDataFrame\n",
       "Coordinates:\n",
       "    min   max\n",
       "x 174.2 175.3\n",
       "y -37.5 -36.5\n",
       "Is projected: FALSE \n",
       "proj4string :\n",
       "[+proj=longlat +datum=WGS84 +no_defs +ellps=WGS84 +towgs84=0,0,0]\n",
       "Grid attributes:\n",
       "  cellcentre.offset     cellsize cells.dim\n",
       "x         174.20042 0.0008333333      1320\n",
       "y         -37.49958 0.0008333333      1200\n",
       "Data attributes:\n",
       "     band1           \n",
       " Min.   :-3.403e+38  \n",
       " 1st Qu.: 0.000e+00  \n",
       " Median : 1.000e+00  \n",
       " Mean   :-1.869e+34  \n",
       " 3rd Qu.: 5.300e+01  \n",
       " Max.   : 6.860e+02  "
      ]
     },
     "execution_count": 11,
     "metadata": {},
     "output_type": "execute_result"
    }
   ],
   "source": [
    "summary(auck_el1)"
   ]
  },
  {
   "cell_type": "markdown",
   "metadata": {
    "collapsed": true
   },
   "source": [
    "- readGDAL()함수는 GDAL과 R을 결합시켜주는 강력한 기능을 갖음.\n",
    "- 단지 읽기만 필요하면, GDALDriver 클래스를 사용할 수 있음"
   ]
  },
  {
   "cell_type": "code",
   "execution_count": 12,
   "metadata": {
    "collapsed": false
   },
   "outputs": [
    {
     "data": {
      "text/plain": [
       "An object of class \"GDALDriver\"\n",
       "Slot \"handle\":\n",
       "<pointer: 0x0000000012a7eea0>\n"
      ]
     },
     "execution_count": 12,
     "metadata": {},
     "output_type": "execute_result"
    }
   ],
   "source": [
    "x <- GDAL.open(\"70042108.tif\")\n",
    "xx <- getDriver(x)\n",
    "xx"
   ]
  },
  {
   "cell_type": "code",
   "execution_count": 13,
   "metadata": {
    "collapsed": false
   },
   "outputs": [
    {
     "data": {
      "text/html": [
       "\"GeoTIFF\""
      ],
      "text/latex": [
       "\"GeoTIFF\""
      ],
      "text/markdown": [
       "\"GeoTIFF\""
      ],
      "text/plain": [
       "[1] \"GeoTIFF\""
      ]
     },
     "execution_count": 13,
     "metadata": {},
     "output_type": "execute_result"
    }
   ],
   "source": [
    "getDriverLongName(xx)"
   ]
  },
  {
   "cell_type": "code",
   "execution_count": 14,
   "metadata": {
    "collapsed": false
   },
   "outputs": [
    {
     "data": {
      "text/plain": [
       "An object of class \"GDALReadOnlyDataset\"\n",
       "Slot \"handle\":\n",
       "<pointer: 0x000000001215fe30>\n"
      ]
     },
     "execution_count": 14,
     "metadata": {},
     "output_type": "execute_result"
    }
   ],
   "source": [
    "x"
   ]
  },
  {
   "cell_type": "code",
   "execution_count": 7,
   "metadata": {
    "collapsed": false
   },
   "outputs": [
    {
     "data": {
      "text/html": [
       "<ol class=list-inline>\n",
       "\t<li>1200</li>\n",
       "\t<li>1320</li>\n",
       "</ol>\n"
      ],
      "text/latex": [
       "\\begin{enumerate*}\n",
       "\\item 1200\n",
       "\\item 1320\n",
       "\\end{enumerate*}\n"
      ],
      "text/markdown": [
       "1. 1200\n",
       "2. 1320\n",
       "\n",
       "\n"
      ],
      "text/plain": [
       "[1] 1200 1320"
      ]
     },
     "execution_count": 7,
     "metadata": {},
     "output_type": "execute_result"
    }
   ],
   "source": [
    "dim(x)"
   ]
  },
  {
   "cell_type": "code",
   "execution_count": 9,
   "metadata": {
    "collapsed": true
   },
   "outputs": [],
   "source": [
    "GDAL.close(x)"
   ]
  },
  {
   "cell_type": "markdown",
   "metadata": {},
   "source": [
    "- GDALinfo함수를 이용해서 raster file에 대한 정보를 쉽게 볼 수 있음"
   ]
  },
  {
   "cell_type": "code",
   "execution_count": 15,
   "metadata": {
    "collapsed": false
   },
   "outputs": [
    {
     "name": "stderr",
     "output_type": "stream",
     "text": [
      "Warning message:\n",
      ": statistics not supported by this driver"
     ]
    },
    {
     "data": {
      "text/plain": [
       "rows        1200 \n",
       "columns     1320 \n",
       "bands       1 \n",
       "lower left origin.x        174.2 \n",
       "lower left origin.y        -37.5 \n",
       "res.x       0.0008333333 \n",
       "res.y       0.0008333333 \n",
       "ysign       -1 \n",
       "oblique.x   0 \n",
       "oblique.y   0 \n",
       "driver      GTiff \n",
       "projection  +proj=longlat +datum=WGS84 +no_defs \n",
       "file        70042108.tif \n",
       "apparent band summary:\n",
       "   GDType hasNoDataValue NoDataValue blockSize1 blockSize2\n",
       "1 Float32          FALSE           0          1       1320\n",
       "apparent band statistics:\n",
       "         Bmin       Bmax Bmean Bsd\n",
       "1 -4294967295 4294967295    NA  NA\n",
       "Metadata:\n",
       "AREA_OR_POINT=Area \n",
       "TIFFTAG_RESOLUTIONUNIT=1 (unitless) \n",
       "TIFFTAG_SOFTWARE=IMAGINE TIFF Support\n",
       "Copyright 1991 - 1999 by ERDAS, Inc. All Rights Reserved\n",
       "@(#)$RCSfile: etif.c $ $Revision: 1.11 $ $Date$ \n",
       "TIFFTAG_XRESOLUTION=1 \n",
       "TIFFTAG_YRESOLUTION=1 "
      ]
     },
     "execution_count": 15,
     "metadata": {},
     "output_type": "execute_result"
    }
   ],
   "source": [
    "GDALinfo(\"70042108.tif\")"
   ]
  },
  {
   "cell_type": "markdown",
   "metadata": {},
   "source": [
    "- Meuse(프랑스의 지명, 로테) grid 데이터셋로 GDAL을 사용해서 쓰기를 어떻게 하는지 보여줌.\n",
    "- writeGDAL()함수는 driver을 직접사용해서 함.\n",
    "- GeoTiff 파일로 출력하기 위해서 zinc(아연) ppm값을 로그취해서 거리 가중 보간값의 역값으로 출력함."
   ]
  },
  {
   "cell_type": "code",
   "execution_count": 31,
   "metadata": {
    "collapsed": true
   },
   "outputs": [],
   "source": [
    "library(sp)\n",
    "data(meuse.grid)\n",
    "coordinates(meuse.grid) <- c(\"x\", \"y\")\n",
    "gridded(meuse.grid) <- TRUE\n",
    "proj4string(meuse.grid) <- CRS(\"+init=epsg:28992\")\n",
    "data(meuse)\n",
    "coordinates(meuse) <- c(\"x\", \"y\")\n",
    "proj4string(meuse) <- CRS(proj4string(meuse.grid))"
   ]
  },
  {
   "cell_type": "code",
   "execution_count": 32,
   "metadata": {
    "collapsed": false
   },
   "outputs": [
    {
     "name": "stdout",
     "output_type": "stream",
     "text": [
      "[inverse distance weighted interpolation]\n"
     ]
    }
   ],
   "source": [
    "library(gstat)\n",
    "log_zinc <- gstat::idw(log(zinc)~1, meuse, meuse.grid)[\"var1.pred\"]"
   ]
  },
  {
   "cell_type": "code",
   "execution_count": 33,
   "metadata": {
    "collapsed": false
   },
   "outputs": [
    {
     "data": {
      "text/plain": [
       "Object of class SpatialPixelsDataFrame\n",
       "Coordinates:\n",
       "     min    max\n",
       "x 178440 181560\n",
       "y 329600 333760\n",
       "Is projected: TRUE \n",
       "proj4string :\n",
       "[+init=epsg:28992 +proj=sterea +lat_0=52.15616055555555\n",
       "+lon_0=5.38763888888889 +k=0.9999079 +x_0=155000 +y_0=463000\n",
       "+ellps=bessel\n",
       "+towgs84=565.4171,50.3319,465.5524,-0.398957388243134,0.343987817378283,-1.87740163998045,4.0725\n",
       "+units=m +no_defs]\n",
       "Number of points: 3103\n",
       "Grid attributes:\n",
       "  cellcentre.offset cellsize cells.dim\n",
       "x            178460       40        78\n",
       "y            329620       40       104\n",
       "Data attributes:\n",
       "   var1.pred    \n",
       " Min.   :4.791  \n",
       " 1st Qu.:5.484  \n",
       " Median :5.694  \n",
       " Mean   :5.777  \n",
       " 3rd Qu.:6.041  \n",
       " Max.   :7.482  "
      ]
     },
     "execution_count": 33,
     "metadata": {},
     "output_type": "execute_result"
    }
   ],
   "source": [
    "proj4string(log_zinc) <- CRS(proj4string(meuse.grid))\n",
    "summary(log_zinc)"
   ]
  },
  {
   "cell_type": "code",
   "execution_count": 34,
   "metadata": {
    "collapsed": false
   },
   "outputs": [
    {
     "name": "stderr",
     "output_type": "stream",
     "text": [
      "Warning message:\n",
      ": statistics not supported by this driver"
     ]
    },
    {
     "data": {
      "text/plain": [
       "rows        104 \n",
       "columns     78 \n",
       "bands       1 \n",
       "lower left origin.x        178440 \n",
       "lower left origin.y        329600 \n",
       "res.x       40 \n",
       "res.y       40 \n",
       "ysign       -1 \n",
       "oblique.x   0 \n",
       "oblique.y   0 \n",
       "driver      GTiff \n",
       "projection  +proj=sterea +lat_0=52.15616055555555 +lon_0=5.38763888888889\n",
       "+k=0.9999079 +x_0=155000 +y_0=463000 +ellps=bessel\n",
       "+towgs84=565.4171,50.3319,465.5524,-0.398957388243134,0.343987817378283,-1.87740163998045,4.0725\n",
       "+units=m +no_defs \n",
       "file        log_zinc.tif \n",
       "apparent band summary:\n",
       "   GDType hasNoDataValue NoDataValue blockSize1 blockSize2\n",
       "1 Float32          FALSE           0         26         78\n",
       "apparent band statistics:\n",
       "         Bmin       Bmax Bmean Bsd\n",
       "1 -4294967295 4294967295    NA  NA\n",
       "Metadata:\n",
       "AREA_OR_POINT=Area "
      ]
     },
     "execution_count": 34,
     "metadata": {},
     "output_type": "execute_result"
    }
   ],
   "source": [
    "writeGDAL(log_zinc, fname = \"log_zinc.tif\", \n",
    "          driver = \"GTiff\", type = \"Float32\", options = \"INTERLEAVE=PIXEL\")\n",
    "GDALinfo(\"log_zinc.tif\")"
   ]
  },
  {
   "cell_type": "markdown",
   "metadata": {
    "collapsed": true
   },
   "source": [
    "![](log_zinc.tif)"
   ]
  },
  {
   "cell_type": "markdown",
   "metadata": {},
   "source": [
    "### 4.3.2 Writing a Google Earth™ Image Overlay\n",
    "\n",
    "- 좀더 유용하게 raster 데이터를 저장할 수 있음.\n",
    "- Google Earth사용하는 PNG 이미지에 위의 보정된 log zinc ppm값을 색상값으로 export 함."
   ]
  },
  {
   "cell_type": "code",
   "execution_count": null,
   "metadata": {
    "collapsed": true
   },
   "outputs": [],
   "source": [
    "library(maptools)\n",
    "grd <- as(meuse.grid, \"SpatialPolygons\")\n",
    "proj4string(grd) <- CRS(proj4string(meuse))\n",
    "grd.union <- unionSpatialPolygons(grd, rep(\"x\", length(slot(grd, \"polygons\"))))\n",
    "ll <- CRS(\"+proj=longlat +datum=WGS84\")\n",
    "grd.union.ll <- spTransform(grd.union, ll)"
   ]
  },
  {
   "cell_type": "code",
   "execution_count": null,
   "metadata": {
    "collapsed": true
   },
   "outputs": [],
   "source": [
    "llGRD <- GE_SpatialGrid(grd.union.ll)\n",
    "llGRD_in <- overlay(llGRD$SG, grd.union.ll)\n",
    "llSGDF <- SpatialGridDataFrame(grid = slot(llGRD$SG,\"grid\"), \n",
    "                               proj4string = CRS(proj4string(llGRD$SG)),\n",
    "                               data = data.frame(in0 = llGRD_in))\n",
    " llSPix <- as(llSGDF, \"SpatialPixelsDataFrame\")"
   ]
  },
  {
   "cell_type": "code",
   "execution_count": null,
   "metadata": {
    "collapsed": true
   },
   "outputs": [],
   "source": [
    "meuse_ll <- spTransform(meuse, CRS(\"+proj=longlat +datum=WGS84\"))\n",
    "llSPix$pred <- idw(log(zinc) ~ 1, meuse_ll, llSPix)$var1.pred\n",
    "\n",
    "png(file = \"zinc_IDW.png\", width = llGRD$width,height = llGRD$height, bg = \"transparent\")\n",
    "par(mar = c(0, 0, 0, 0), xaxs = \"i\", yaxs = \"i\")\n",
    "image(llSPix, \"pred\", col = bpy.colors(20))\n",
    "dev.off()\n",
    "kmlOverlay(llGRD, \"zinc_IDW.kml\", \"zinc_IDW.png\")"
   ]
  },
  {
   "cell_type": "markdown",
   "metadata": {},
   "source": [
    "![](chapter04_03.png)"
   ]
  },
  {
   "cell_type": "markdown",
   "metadata": {},
   "source": [
    "## 4.4 Grass"
   ]
  },
  {
   "cell_type": "markdown",
   "metadata": {},
   "source": [
    "- Grass은 미육군 건설기술 연구소에서 Geographic Resources Analysis Support System으로써 개발되어고 오픈소스임. \n",
    "- https://grass.osgeo.org/"
   ]
  },
  {
   "cell_type": "code",
   "execution_count": 2,
   "metadata": {
    "collapsed": false
   },
   "outputs": [
    {
     "name": "stderr",
     "output_type": "stream",
     "text": [
      "also installing the dependency 'XML'\n",
      "\n"
     ]
    },
    {
     "name": "stdout",
     "output_type": "stream",
     "text": [
      "package 'XML' successfully unpacked and MD5 sums checked\n",
      "package 'spgrass6' successfully unpacked and MD5 sums checked\n",
      "\n",
      "The downloaded binary packages are in\n",
      "\tC:\\Users\\Y.G JI\\AppData\\Local\\Temp\\RtmpgfX4Qi\\downloaded_packages\n"
     ]
    }
   ],
   "source": [
    "install.packages( 'spgrass6',   repos=\"http://cran.nexr.com/\"  ) "
   ]
  },
  {
   "cell_type": "code",
   "execution_count": 1,
   "metadata": {
    "collapsed": false
   },
   "outputs": [
    {
     "name": "stderr",
     "output_type": "stream",
     "text": [
      "Loading required package: sp\n",
      "Loading required package: XML\n",
      "GRASS GIS interface loaded with GRASS version: (GRASS not running)\n"
     ]
    }
   ],
   "source": [
    "library(spgrass6)"
   ]
  },
  {
   "cell_type": "code",
   "execution_count": 2,
   "metadata": {
    "collapsed": false
   },
   "outputs": [
    {
     "ename": "ERROR",
     "evalue": "Error in system(\"g.version\", intern = TRUE): 'g.version' not found\n",
     "output_type": "error",
     "traceback": [
      "Error in system(\"g.version\", intern = TRUE): 'g.version' not found\n"
     ]
    }
   ],
   "source": [
    "system(\"g.version\", intern = TRUE)"
   ]
  },
  {
   "cell_type": "code",
   "execution_count": 3,
   "metadata": {
    "collapsed": false
   },
   "outputs": [
    {
     "ename": "ERROR",
     "evalue": "Error in parseGRASS(cmd, legacyExec = legacyExec): g.region not found\n",
     "output_type": "error",
     "traceback": [
      "Error in parseGRASS(cmd, legacyExec = legacyExec): g.region not found\n"
     ]
    }
   ],
   "source": [
    "library(spgrass6)\n",
    "gmeta6()"
   ]
  }
 ],
 "metadata": {
  "kernelspec": {
   "display_name": "R",
   "language": "R",
   "name": "ir"
  },
  "language_info": {
   "codemirror_mode": "r",
   "file_extension": ".r",
   "mimetype": "text/x-r-source",
   "name": "R",
   "pygments_lexer": "r",
   "version": "3.3.1"
  }
 },
 "nbformat": 4,
 "nbformat_minor": 0
}
