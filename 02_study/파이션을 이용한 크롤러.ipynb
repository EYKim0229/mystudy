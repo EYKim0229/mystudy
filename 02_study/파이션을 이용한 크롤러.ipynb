{
 "cells": [
  {
   "cell_type": "markdown",
   "metadata": {},
   "source": [
    "# 파이션을 이용한 크롤러"
   ]
  },
  {
   "cell_type": "markdown",
   "metadata": {},
   "source": [
    "- In python 2 ,you simply use urllib for example\n",
    "```\n",
    "import urllib\n",
    "htmlfile=urllib.urlopen(\"your url\")\n",
    "htmltext=htmlfile.read()\n",
    "```\n",
    "\n",
    "- in python 3,you need to use urllib.request\n",
    "```\n",
    "import urllib.request\n",
    "htmlfile=urllib.request.urlopen(\"your url\")\n",
    "htmltext=htmlfile.read()\n",
    "```"
   ]
  },
  {
   "cell_type": "code",
   "execution_count": 2,
   "metadata": {
    "collapsed": false
   },
   "outputs": [],
   "source": [
    "import re\n",
    "import urllib\n",
    "from bs4 import BeautifulSoup"
   ]
  },
  {
   "cell_type": "code",
   "execution_count": 3,
   "metadata": {
    "collapsed": true
   },
   "outputs": [],
   "source": [
    "url_1 = 'http://movie.naver.com/movie/bi/mi/pointWriteFormList.nhn?code='\n",
    "url_2 = '&type=after&isActualPointWriteExecute=false&isMileageSubscriptionAlready=false&isMileageSubscriptionReject=false&page='"
   ]
  },
  {
   "cell_type": "code",
   "execution_count": 4,
   "metadata": {
    "collapsed": true
   },
   "outputs": [],
   "source": [
    "def fetch_code(URL):\n",
    "    code_str = re.search('code=[0-9]+', URL).group()\n",
    "    code = re.search('[0-9]+', code_str).group()\n",
    "    return code"
   ]
  },
  {
   "cell_type": "code",
   "execution_count": 29,
   "metadata": {
    "collapsed": false
   },
   "outputs": [],
   "source": [
    "# -*- coding: utf-8 -*-\n",
    "def fetch_review_list():\n",
    "\n",
    "    #URL = input('URL을 입력하세요: ')\n",
    "    URL = \"http://movie.naver.com/movie/bi/mi/basic.nhn?code=122527\"\n",
    "    count = int(input('갯수를 입력하세요: '))\n",
    "    f = open('movie_review.txt', 'w')\n",
    "    code = fetch_code(URL)\n",
    "    \n",
    "    page = 1\n",
    "    #req = urllib.request.urlopen(URL)  # python 3용\n",
    "    req = urllib.urlopen(URL)   # python 2용\n",
    "    html = req.read()\n",
    "    soup = BeautifulSoup(html)\n",
    "    score_result = soup.find('div', class_='score_result')\n",
    "\n",
    "    lis = score_result.find_all('li')\n",
    "    while count:\n",
    "        \n",
    "        URL = url_1 + code + url_2 +  str(page)\n",
    "        print(URL)\n",
    "        \n",
    "        for li in lis:\n",
    "            reple = li.find('div', class_='score_reple').find('p').get_text()\n",
    "            score = li.find('div', class_='star_score').find('em').get_text()\n",
    "\n",
    "            f.write(\"Movie Ratings: \" + score + '\\n')\n",
    "            f.write(\"review: \" + reple + '\\n')\n",
    "            \n",
    "            print(reple)\n",
    "            print(score)\n",
    "\n",
    "            count -= 1\n",
    "\n",
    "            if not count:\n",
    "                break\n",
    "\n",
    "        page += 1\n",
    "\n",
    "    f.close()"
   ]
  },
  {
   "cell_type": "code",
   "execution_count": null,
   "metadata": {
    "collapsed": false
   },
   "outputs": [],
   "source": [
    "fetch_review_list()"
   ]
  },
  {
   "cell_type": "code",
   "execution_count": null,
   "metadata": {
    "collapsed": true
   },
   "outputs": [],
   "source": []
  }
 ],
 "metadata": {
  "kernelspec": {
   "display_name": "Python 2",
   "language": "python",
   "name": "python2"
  },
  "language_info": {
   "codemirror_mode": {
    "name": "ipython",
    "version": 2
   },
   "file_extension": ".py",
   "mimetype": "text/x-python",
   "name": "python",
   "nbconvert_exporter": "python",
   "pygments_lexer": "ipython2",
   "version": "2.7.11"
  }
 },
 "nbformat": 4,
 "nbformat_minor": 0
}
