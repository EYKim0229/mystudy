{
 "cells": [
  {
   "cell_type": "markdown",
   "metadata": {},
   "source": [
    "# 제목 : 암 종류에 따라서 암의 유전자 정보와 단백질체 정보의 임상적인 활용성에 대한 평가 \n",
    "\n",
    "# Assessing the clinical utility of cancer genomic and proteomic data across tumor types\n",
    "\n",
    "\n",
    "- http://www.nature.com/nbt/journal/v32/n7/full/nbt.2940.html\n",
    "- https://www.synapse.org/#!Synapse:syn1710282/wiki/27303"
   ]
  },
  {
   "cell_type": "markdown",
   "metadata": {},
   "source": [
    "## 초록\n",
    "- Cancer Genome Atlas 프로젝트에서부터 4가지의 암 종류의 953개의 샘플에서 다양한 분자생물학적인 데이터( somatic copy-number alteration, DNA methylation and mRNA, microRNA and protein expression )을 사용해서 사후적으로 환자 생존시간을 예측하였음.\n",
    "- 임상적인 변수와 통합된 분자생물학적인 데이터는 3개의 암에서 통계적으로 중요한 개선된 예측력(FDR < 0.05)을 나타나지만, 이들의 정량적인 잇점(gain)는 2.2 ~ 23.9%로 한정됨.\n",
    "- 추가적인 분석에는 한 가지 경우를 제외한 암종류에서 약간의 예측력은 보여주고 있음.\n",
    "- 임상적으로 관련된 유전자에서  환자 3,277명중 2,928명( 89.4% )에서 12개의 암종류에 따라서 10,281개의 somatic alterations ( 체세포 변경 )을 확인할 수 있었음.  이것은 한 종류의 암세포 분석에는 나타날 수 없는 수임.\n",
    "- 신뢰할 수 있는 예측력 있고 분자생물학적인 데이터와 통합하여 치료 전략을 구축하기 위한 오픈된 모델 평가 플랫폼을 포함한  리소스와  시작지점을 제공함.\n",
    "\n",
    "\n",
    "- FDR에 대한 설명 :  http://www.ibric.org/myboard/read.php?Board=report&id=1196"
   ]
  },
  {
   "cell_type": "markdown",
   "metadata": {},
   "source": [
    "## 결론\n",
    "###  다양한 분자생물학적인 데이터의 예측력 평가 ( Assessment of the prognostic power of diverse molecular data  )\n",
    "\n",
    "- 4가지 TCGA 암종류에 초점을 둠\n",
    "    - kidney renal clear cell carcinoma (KIRC) : 신장암\n",
    "    - glioblastoma multiforme(GBM) :  뇌종양\n",
    "    - ovarian serous cystadenocarcinoma(OV) : 난소 선종암\n",
    "    - lung squamous cell carcinoma(LUSC) : 폐암\n",
    "- 4가지 TCGA 암종류가 선택된 이유 \n",
    "    - 적절한 후속 시간을 가지고 있는 생존 데이터를 포함.\n",
    "    - 다양한 분자생물학적인 데이터의 다양한 타입을 특징지울 수 있는 충분한 샘플수\n",
    "- sample 데이터에 대한 설명\n",
    "    - 각각의 암종류별로, 전체 생존시간, 임상데이터(성별, 나이, 종양단계와 등급), 유전자 표현형과 관련있는 다섯가지 분자생물학적인 데이터에서 4가지을 추출함.\n",
    "    - SNP와 중요한 alterations, DNA methylation, mRNA expression, microRNA, protein expression\n",
    "![이미지](paper_review_01.jpg) \n",
    "    - concordance index( C-index )로 사용되는 임상데이터 또는 개별 분자생물학적 데이터 타입의 예측력을 평가하기 위해서 Monte Carlo cross-validation 적용하여 core sample set을 만듬.\n",
    "    - 분자생물학적인 데이터 또는 임상데이터로부터 추천되어진 특성치를 혼합하고, 학습용과 테스트용 셋을 100벌을 만들도록 core set을 램덤하게 나눔.\n",
    "    \n",
    "- C-index \n",
    "    - 예측모델의 판별능력을 정량할 수 있도록 비모수적으로 측정됨.\n",
    "    - C-index 1은 예측의 정확도가 완벽함을 나타냄.\n",
    "    - C-index 0.5는 임의추측과 같은 예측력\n",
    "    \n",
    "- 학습 방법\n",
    "    - 매우 상호보완적인 2가지 방법으로 학습데이터로부 예측모델을 생성\n",
    "    - 1) Cox, the multivariate Cox proportional hazards model with L1 penalized log partial likelihood (LASSO) for feature selection\n",
    "    - 2) random survival forest\n",
    "![이미지](paper_review_02.jpg) "
   ]
  },
  {
   "cell_type": "code",
   "execution_count": null,
   "metadata": {
    "collapsed": true
   },
   "outputs": [],
   "source": []
  }
 ],
 "metadata": {
  "kernelspec": {
   "display_name": "Python 2",
   "language": "python",
   "name": "python2"
  },
  "language_info": {
   "codemirror_mode": {
    "name": "ipython",
    "version": 2
   },
   "file_extension": ".py",
   "mimetype": "text/x-python",
   "name": "python",
   "nbconvert_exporter": "python",
   "pygments_lexer": "ipython2",
   "version": "2.7.10"
  }
 },
 "nbformat": 4,
 "nbformat_minor": 0
}
