{
 "cells": [
  {
   "cell_type": "markdown",
   "metadata": {},
   "source": [
    "# Recurrent Neural Networks  실습\n",
    "\n",
    "- 실습환경 :  docker + tensorflow + jupyter \n",
    "- https://hub.docker.com/r/xblaster/tensorflow-jupyter/\n",
    "- docker run -d -p 8888:8888 xblaster/tensorflow-jupyter \n",
    "- RNN 이론 : https://github.com/biospin/BigBio/blob/master/part02/week04_160426/tensorflow/RNN_%EC%9D%B4%EB%A1%A0.ipynb"
   ]
  },
  {
   "cell_type": "markdown",
   "metadata": {},
   "source": [
    "## Tensorflow가 정상동작 확인 및 예제 소스/데이터  받아오기"
   ]
  },
  {
   "cell_type": "code",
   "execution_count": 24,
   "metadata": {
    "collapsed": true
   },
   "outputs": [],
   "source": [
    "import tensorflow as tf"
   ]
  },
  {
   "cell_type": "code",
   "execution_count": 3,
   "metadata": {
    "collapsed": false
   },
   "outputs": [
    {
     "name": "stdout",
     "output_type": "stream",
     "text": [
      "Cloning into 'tensorflow'...\n",
      "remote: Counting objects: 37928, done.\u001b[K\n",
      "remote: Total 37928 (delta 0), reused 0 (delta 0), pack-reused 37927\u001b[K\n",
      "Receiving objects: 100% (37928/37928), 34.23 MiB | 2.55 MiB/s, done.\n",
      "Resolving deltas: 100% (27444/27444), done.\n",
      "Checking connectivity... done.\n",
      "Submodule 'google/protobuf' (https://github.com/google/protobuf.git) registered for path 'google/protobuf'\n",
      "Cloning into 'google/protobuf'...\n",
      "remote: Counting objects: 32372, done.\u001b[K\n",
      "remote: Total 32372 (delta 0), reused 0 (delta 0), pack-reused 32372\u001b[K\n",
      "Receiving objects: 100% (32372/32372), 31.00 MiB | 2.77 MiB/s, done.\n",
      "Resolving deltas: 100% (21719/21719), done.\n",
      "Checking connectivity... done.\n",
      "Submodule path 'google/protobuf': checked out 'fb714b3606bd663b823f6960a73d052f97283b74'\n"
     ]
    }
   ],
   "source": [
    "# tensorflow 다운받기\n",
    "! git clone --recurse-submodules https://github.com/tensorflow/tensorflow"
   ]
  },
  {
   "cell_type": "code",
   "execution_count": 7,
   "metadata": {
    "collapsed": false
   },
   "outputs": [
    {
     "name": "stdout",
     "output_type": "stream",
     "text": [
      "total 28\r\n",
      "-rw-r--r-- 1 root root 1178 Apr 22 09:56 BUILD\r\n",
      "-rw-r--r-- 1 root root  892 Apr 22 09:56 __init__.py\r\n",
      "-rw-r--r-- 1 root root 9957 Apr 22 09:56 ptb_word_lm.py\r\n",
      "-rw-r--r-- 1 root root 3604 Apr 22 09:56 reader.py\r\n",
      "-rw-r--r-- 1 root root 2024 Apr 22 09:56 reader_test.py\r\n"
     ]
    }
   ],
   "source": [
    "# RNN 예제 위치 확인\n",
    "! ls -l  tensorflow/tensorflow/models/rnn/ptb"
   ]
  },
  {
   "cell_type": "code",
   "execution_count": 10,
   "metadata": {
    "collapsed": false
   },
   "outputs": [
    {
     "name": "stdout",
     "output_type": "stream",
     "text": [
      "--2016-04-22 10:46:51--  http://www.fit.vutbr.cz/~imikolov/rnnlm/simple-examples.tgz\n",
      "Resolving www.fit.vutbr.cz (www.fit.vutbr.cz)... 147.229.9.23, 2001:67c:1220:809::93e5:917\n",
      "Connecting to www.fit.vutbr.cz (www.fit.vutbr.cz)|147.229.9.23|:80... connected.\n",
      "HTTP request sent, awaiting response... 200 OK\n",
      "Length: 34869662 (33M) [application/x-gtar]\n",
      "Saving to: ‘simple-examples.tgz’\n",
      "\n",
      "simple-examples.tgz 100%[=====================>]  33.25M   599KB/s   in 41s    \n",
      "\n",
      "2016-04-22 10:47:33 (822 KB/s) - ‘simple-examples.tgz’ saved [34869662/34869662]\n",
      "\n"
     ]
    }
   ],
   "source": [
    "# 학습용 데이터 다운로드\n",
    "! wget http://www.fit.vutbr.cz/~imikolov/rnnlm/simple-examples.tgz"
   ]
  },
  {
   "cell_type": "code",
   "execution_count": null,
   "metadata": {
    "collapsed": true
   },
   "outputs": [],
   "source": [
    "! tar xvf simple-examples.tgz"
   ]
  },
  {
   "cell_type": "markdown",
   "metadata": {},
   "source": [
    "## 학습데이터 설명\n",
    "\n",
    "- Penn Tree Bank (PTB) dataset : Language 모델의 성능평가용으로 유명함.\n",
    "- 이 dataset은 이미 전처리됨, 1만개 이상의 단어로 구성, marker로 문장의 끝은 표시, 빈도가 낮은 단어는 <unk>로 표시\n",
    "- reader.py 로 단어들을 유니크한 정수 식별자로 변환함."
   ]
  },
  {
   "cell_type": "markdown",
   "metadata": {},
   "source": [
    "## LSTM 관련 코드 설명\n",
    "\n",
    "- Memory state(gate value)은 zero 벡터로 초기화되고, 단어들을 읽어와서 학습한후에 업데이터됨.\n",
    "- mini-batches의 크기는 batch_size 만큼 데이터를 처리함."
   ]
  },
  {
   "cell_type": "code",
   "execution_count": null,
   "metadata": {
    "collapsed": true
   },
   "outputs": [],
   "source": [
    "lstm = rnn_cell.BasicLSTMCell(lstm_size)\n",
    "# Initial state of the LSTM memory.\n",
    "state = tf.zeros([batch_size, lstm.state_size])\n",
    "\n",
    "loss = 0.0\n",
    "for current_batch_of_words in words_in_dataset:\n",
    "    # The value of state is updated after processing each batch of words.\n",
    "    output, state = lstm(current_batch_of_words, state)\n",
    "\n",
    "    # The LSTM output can be used to make next word predictions\n",
    "    logits = tf.matmul(output, softmax_w) + softmax_b\n",
    "    probabilities = tf.nn.softmax(logits)\n",
    "    loss += loss_function(probabilities, target_words)"
   ]
  },
  {
   "cell_type": "markdown",
   "metadata": {},
   "source": [
    "## Backpropagation 관련 코드 설명\n",
    "\n",
    "- num_steps 만큼 학습되는 단계별로 상태를 확인할 수 있도록 words 변수를 만들어서 gradients값을 저장함."
   ]
  },
  {
   "cell_type": "code",
   "execution_count": null,
   "metadata": {
    "collapsed": true
   },
   "outputs": [],
   "source": [
    "# Placeholder for the inputs in a given iteration.\n",
    "words = tf.placeholder(tf.int32, [batch_size, num_steps])\n",
    "\n",
    "lstm = rnn_cell.BasicLSTMCell(lstm_size)\n",
    "# Initial state of the LSTM memory.\n",
    "initial_state = state = tf.zeros([batch_size, lstm.state_size])\n",
    "\n",
    "for i in range(num_steps):\n",
    "    # The value of state is updated after processing each batch of words.\n",
    "    output, state = lstm(words[:, i], state)\n",
    "\n",
    "    # The rest of the code.\n",
    "    # ...\n",
    "\n",
    "final_state = state"
   ]
  },
  {
   "cell_type": "markdown",
   "metadata": {},
   "source": [
    "## Input 곤련 코드 설명\n",
    "\n",
    "- 단어ID들은 LSTM에 사용되기 전에 dense representation으로 embedding됨.[(Vector Representations Tutorial, Word2Vec)](https://www.tensorflow.org/versions/r0.8/tutorials/word2vec/index.html)"
   ]
  },
  {
   "cell_type": "code",
   "execution_count": null,
   "metadata": {
    "collapsed": true
   },
   "outputs": [],
   "source": [
    "# embedding_matrix is a tensor of shape [vocabulary_size, embedding size]\n",
    "word_embeddings = tf.nn.embedding_lookup(embedding_matrix, word_ids)"
   ]
  },
  {
   "cell_type": "markdown",
   "metadata": {},
   "source": [
    "## Loss Function 대한 설명\n",
    "\n",
    "- 손실함수는 negative log probability의 평균을 최소를 하도록 함.\n",
    "### $ \\text{loss} = -\\frac{1}{N}\\sum_{i=1}^{N} \\ln p_{\\text{target}_i}  $"
   ]
  },
  {
   "cell_type": "markdown",
   "metadata": {},
   "source": [
    "## Stacking multiple LSTMs 관련 소스 설명\n",
    "\n",
    "- 모델에게 더 많은 표현력을 제공하기 위해, 데이터를 처리하는 LSTMs의 여러 레이어를 추가할 수 있음.\n",
    "- 첫번째 층의 출력값은 두번째 층의 입력값이 됨.\n",
    "- **MultiRNNCell** 을 사용하면 됨."
   ]
  },
  {
   "cell_type": "code",
   "execution_count": null,
   "metadata": {
    "collapsed": true
   },
   "outputs": [],
   "source": [
    "lstm = rnn_cell.BasicLSTMCell(lstm_size)\n",
    "stacked_lstm = rnn_cell.MultiRNNCell([lstm] * number_of_layers)\n",
    "\n",
    "initial_state = state = stacked_lstm.zero_state(batch_size, tf.float32)\n",
    "for i in range(num_steps):\n",
    "    # The value of state is updated after processing each batch of words.\n",
    "    output, state = stacked_lstm(words[:, i], state)\n",
    "\n",
    "    # The rest of the code.\n",
    "    # ...\n",
    "\n",
    "final_state = state"
   ]
  },
  {
   "cell_type": "markdown",
   "metadata": {},
   "source": [
    "## 코드를 돌려보자."
   ]
  },
  {
   "cell_type": "code",
   "execution_count": 20,
   "metadata": {
    "collapsed": false
   },
   "outputs": [
    {
     "name": "stdout",
     "output_type": "stream",
     "text": [
      "Traceback (most recent call last):\r\n",
      "  File \"ptb_word_lm.py\", line 62, in <module>\r\n",
      "    import tensorflow as tf\r\n",
      "ImportError: No module named 'tensorflow'\r\n"
     ]
    }
   ],
   "source": [
    "! cd /notebook/tensorflow/tensorflow/models/rnn/ptb/  &&  python ptb_word_lm.py --data_path=/notebook/simple-examples/data/ --model small"
   ]
  },
  {
   "cell_type": "code",
   "execution_count": 23,
   "metadata": {
    "collapsed": false
   },
   "outputs": [
    {
     "name": "stdout",
     "output_type": "stream",
     "text": [
      "Traceback (most recent call last):\r\n",
      "  File \"/notebook/tensorflow/tensorflow/models/rnn/ptb/ptb_word_lm.py\", line 62, in <module>\r\n",
      "    import tensorflow as tf\r\n",
      "ImportError: No module named 'tensorflow'\r\n"
     ]
    }
   ],
   "source": [
    "! python /notebook/tensorflow/tensorflow/models/rnn/ptb/ptb_word_lm.py --data_path=/notebook/simple-examples/data/ --model small"
   ]
  },
  {
   "cell_type": "markdown",
   "metadata": {},
   "source": [
    "! cat /notebook/tensorflow/tensorflow/models/rnn/ptb/ptb_word_lm.py"
   ]
  },
  {
   "cell_type": "code",
   "execution_count": 25,
   "metadata": {
    "collapsed": false
   },
   "outputs": [
    {
     "ename": "ImportError",
     "evalue": "No module named ptb",
     "output_type": "error",
     "traceback": [
      "\u001b[1;31m---------------------------------------------------------------------------\u001b[0m",
      "\u001b[1;31mImportError\u001b[0m                               Traceback (most recent call last)",
      "\u001b[1;32m<ipython-input-25-d43dc45e4b45>\u001b[0m in \u001b[0;36m<module>\u001b[1;34m()\u001b[0m\n\u001b[0;32m      8\u001b[0m \u001b[1;32mimport\u001b[0m \u001b[0mtensorflow\u001b[0m \u001b[1;32mas\u001b[0m \u001b[0mtf\u001b[0m\u001b[1;33m\u001b[0m\u001b[0m\n\u001b[0;32m      9\u001b[0m \u001b[1;33m\u001b[0m\u001b[0m\n\u001b[1;32m---> 10\u001b[1;33m \u001b[1;32mfrom\u001b[0m \u001b[0mtensorflow\u001b[0m\u001b[1;33m.\u001b[0m\u001b[0mmodels\u001b[0m\u001b[1;33m.\u001b[0m\u001b[0mrnn\u001b[0m\u001b[1;33m.\u001b[0m\u001b[0mptb\u001b[0m \u001b[1;32mimport\u001b[0m \u001b[0mreader\u001b[0m\u001b[1;33m\u001b[0m\u001b[0m\n\u001b[0m\u001b[0;32m     11\u001b[0m \u001b[1;33m\u001b[0m\u001b[0m\n\u001b[0;32m     12\u001b[0m \u001b[0mflags\u001b[0m \u001b[1;33m=\u001b[0m \u001b[0mtf\u001b[0m\u001b[1;33m.\u001b[0m\u001b[0mflags\u001b[0m\u001b[1;33m\u001b[0m\u001b[0m\n",
      "\u001b[1;31mImportError\u001b[0m: No module named ptb"
     ]
    }
   ],
   "source": [
    "from __future__ import absolute_import\n",
    "from __future__ import division\n",
    "from __future__ import print_function\n",
    "\n",
    "import time\n",
    "\n",
    "import numpy as np\n",
    "import tensorflow as tf\n",
    "\n",
    "from tensorflow.models.rnn.ptb import reader\n",
    "\n",
    "flags = tf.flags\n",
    "logging = tf.logging\n",
    "\n",
    "flags.DEFINE_string(\n",
    "    \"model\", \"small\",\n",
    "    \"A type of model. Possible options are: small, medium, large.\")\n",
    "flags.DEFINE_string(\"data_path\", \"/notebook/simple-examples/data/\", \"data_path\")\n",
    "\n",
    "FLAGS = flags.FLAGS\n",
    "\n",
    "\n",
    "class PTBModel(object):\n",
    "  \"\"\"The PTB model.\"\"\"\n",
    "\n",
    "  def __init__(self, is_training, config):\n",
    "    self.batch_size = batch_size = config.batch_size\n",
    "    self.num_steps = num_steps = config.num_steps\n",
    "    size = config.hidden_size\n",
    "    vocab_size = config.vocab_size\n",
    "\n",
    "    self._input_data = tf.placeholder(tf.int32, [batch_size, num_steps])\n",
    "    self._targets = tf.placeholder(tf.int32, [batch_size, num_steps])\n",
    "\n",
    "    # Slightly better results can be obtained with forget gate biases\n",
    "    # initialized to 1 but the hyperparameters of the model would need to be\n",
    "    # different than reported in the paper.\n",
    "    lstm_cell = tf.nn.rnn_cell.BasicLSTMCell(size, forget_bias=0.0)\n",
    "    if is_training and config.keep_prob < 1:\n",
    "      lstm_cell = tf.nn.rnn_cell.DropoutWrapper(\n",
    "          lstm_cell, output_keep_prob=config.keep_prob)\n",
    "    cell = tf.nn.rnn_cell.MultiRNNCell([lstm_cell] * config.num_layers)\n",
    "\n",
    "    self._initial_state = cell.zero_state(batch_size, tf.float32)\n",
    "\n",
    "    with tf.device(\"/cpu:0\"):\n",
    "      embedding = tf.get_variable(\"embedding\", [vocab_size, size])\n",
    "      inputs = tf.nn.embedding_lookup(embedding, self._input_data)\n",
    "\n",
    "    if is_training and config.keep_prob < 1:\n",
    "      inputs = tf.nn.dropout(inputs, config.keep_prob)\n",
    "\n",
    "    # Simplified version of tensorflow.models.rnn.rnn.py's rnn().\n",
    "    # This builds an unrolled LSTM for tutorial purposes only.\n",
    "    # In general, use the rnn() or state_saving_rnn() from rnn.py.\n",
    "    #\n",
    "    # The alternative version of the code below is:\n",
    "    #\n",
    "    # from tensorflow.models.rnn import rnn\n",
    "    # inputs = [tf.squeeze(input_, [1])\n",
    "    #           for input_ in tf.split(1, num_steps, inputs)]\n",
    "    # outputs, state = rnn.rnn(cell, inputs, initial_state=self._initial_state)\n",
    "    outputs = []\n",
    "    state = self._initial_state\n",
    "    with tf.variable_scope(\"RNN\"):\n",
    "      for time_step in range(num_steps):\n",
    "        if time_step > 0: tf.get_variable_scope().reuse_variables()\n",
    "        (cell_output, state) = cell(inputs[:, time_step, :], state)\n",
    "        outputs.append(cell_output)\n",
    "\n",
    "    output = tf.reshape(tf.concat(1, outputs), [-1, size])\n",
    "    softmax_w = tf.get_variable(\"softmax_w\", [size, vocab_size])\n",
    "    softmax_b = tf.get_variable(\"softmax_b\", [vocab_size])\n",
    "    logits = tf.matmul(output, softmax_w) + softmax_b\n",
    "    loss = tf.nn.seq2seq.sequence_loss_by_example(\n",
    "        [logits],\n",
    "        [tf.reshape(self._targets, [-1])],\n",
    "        [tf.ones([batch_size * num_steps])])\n",
    "    self._cost = cost = tf.reduce_sum(loss) / batch_size\n",
    "    self._final_state = state\n",
    "\n",
    "    if not is_training:\n",
    "      return\n",
    "\n",
    "    self._lr = tf.Variable(0.0, trainable=False)\n",
    "    tvars = tf.trainable_variables()\n",
    "    grads, _ = tf.clip_by_global_norm(tf.gradients(cost, tvars),\n",
    "                                      config.max_grad_norm)\n",
    "    optimizer = tf.train.GradientDescentOptimizer(self.lr)\n",
    "    self._train_op = optimizer.apply_gradients(zip(grads, tvars))\n",
    "\n",
    "  def assign_lr(self, session, lr_value):\n",
    "    session.run(tf.assign(self.lr, lr_value))\n",
    "\n",
    "  @property\n",
    "  def input_data(self):\n",
    "    return self._input_data\n",
    "\n",
    "  @property\n",
    "  def targets(self):\n",
    "    return self._targets\n",
    "\n",
    "  @property\n",
    "  def initial_state(self):\n",
    "    return self._initial_state\n",
    "\n",
    "  @property\n",
    "  def cost(self):\n",
    "    return self._cost\n",
    "\n",
    "  @property\n",
    "  def final_state(self):\n",
    "    return self._final_state\n",
    "\n",
    "  @property\n",
    "  def lr(self):\n",
    "    return self._lr\n",
    "\n",
    "  @property\n",
    "  def train_op(self):\n",
    "    return self._train_op\n",
    "\n",
    "\n",
    "class SmallConfig(object):\n",
    "  \"\"\"Small config.\"\"\"\n",
    "  init_scale = 0.1\n",
    "  learning_rate = 1.0\n",
    "  max_grad_norm = 5\n",
    "  num_layers = 2\n",
    "  num_steps = 20\n",
    "  hidden_size = 200\n",
    "  max_epoch = 4\n",
    "  max_max_epoch = 13\n",
    "  keep_prob = 1.0\n",
    "  lr_decay = 0.5\n",
    "  batch_size = 20\n",
    "  vocab_size = 10000\n",
    "\n",
    "\n",
    "class MediumConfig(object):\n",
    "  \"\"\"Medium config.\"\"\"\n",
    "  init_scale = 0.05\n",
    "  learning_rate = 1.0\n",
    "  max_grad_norm = 5\n",
    "  num_layers = 2\n",
    "  num_steps = 35\n",
    "  hidden_size = 650\n",
    "  max_epoch = 6\n",
    "  max_max_epoch = 39\n",
    "  keep_prob = 0.5\n",
    "  lr_decay = 0.8\n",
    "  batch_size = 20\n",
    "  vocab_size = 10000\n",
    "\n",
    "\n",
    "class LargeConfig(object):\n",
    "  \"\"\"Large config.\"\"\"\n",
    "  init_scale = 0.04\n",
    "  learning_rate = 1.0\n",
    "  max_grad_norm = 10\n",
    "  num_layers = 2\n",
    "  num_steps = 35\n",
    "  hidden_size = 1500\n",
    "  max_epoch = 14\n",
    "  max_max_epoch = 55\n",
    "  keep_prob = 0.35\n",
    "  lr_decay = 1 / 1.15\n",
    "  batch_size = 20\n",
    "  vocab_size = 10000\n",
    "\n",
    "\n",
    "class TestConfig(object):\n",
    "  \"\"\"Tiny config, for testing.\"\"\"\n",
    "  init_scale = 0.1\n",
    "  learning_rate = 1.0\n",
    "  max_grad_norm = 1\n",
    "  num_layers = 1\n",
    "  num_steps = 2\n",
    "  hidden_size = 2\n",
    "  max_epoch = 1\n",
    "  max_max_epoch = 1\n",
    "  keep_prob = 1.0\n",
    "  lr_decay = 0.5\n",
    "  batch_size = 20\n",
    "  vocab_size = 10000\n",
    "\n",
    "\n",
    "def run_epoch(session, m, data, eval_op, verbose=False):\n",
    "  \"\"\"Runs the model on the given data.\"\"\"\n",
    "  epoch_size = ((len(data) // m.batch_size) - 1) // m.num_steps\n",
    "  start_time = time.time()\n",
    "  costs = 0.0\n",
    "  iters = 0\n",
    "  state = m.initial_state.eval()\n",
    "  for step, (x, y) in enumerate(reader.ptb_iterator(data, m.batch_size,\n",
    "                                                    m.num_steps)):\n",
    "    cost, state, _ = session.run([m.cost, m.final_state, eval_op],\n",
    "                                 {m.input_data: x,\n",
    "                                  m.targets: y,\n",
    "                                  m.initial_state: state})\n",
    "    costs += cost\n",
    "    iters += m.num_steps\n",
    "\n",
    "    if verbose and step % (epoch_size // 10) == 10:\n",
    "      print(\"%.3f perplexity: %.3f speed: %.0f wps\" %\n",
    "            (step * 1.0 / epoch_size, np.exp(costs / iters),\n",
    "             iters * m.batch_size / (time.time() - start_time)))\n",
    "\n",
    "  return np.exp(costs / iters)\n",
    "\n",
    "\n",
    "def get_config():\n",
    "  if FLAGS.model == \"small\":\n",
    "    return SmallConfig()\n",
    "  elif FLAGS.model == \"medium\":\n",
    "    return MediumConfig()\n",
    "  elif FLAGS.model == \"large\":\n",
    "    return LargeConfig()\n",
    "  elif FLAGS.model == \"test\":\n",
    "    return TestConfig()\n",
    "  else:\n",
    "    raise ValueError(\"Invalid model: %s\", FLAGS.model)\n",
    "\n",
    "\n",
    "def main(_):\n",
    "  if not FLAGS.data_path:\n",
    "    raise ValueError(\"Must set --data_path to PTB data directory\")\n",
    "\n",
    "  raw_data = reader.ptb_raw_data(FLAGS.data_path)\n",
    "  train_data, valid_data, test_data, _ = raw_data\n",
    "\n",
    "  config = get_config()\n",
    "  eval_config = get_config()\n",
    "  eval_config.batch_size = 1\n",
    "  eval_config.num_steps = 1\n",
    "\n",
    "  with tf.Graph().as_default(), tf.Session() as session:\n",
    "    initializer = tf.random_uniform_initializer(-config.init_scale,\n",
    "                                                config.init_scale)\n",
    "    with tf.variable_scope(\"model\", reuse=None, initializer=initializer):\n",
    "      m = PTBModel(is_training=True, config=config)\n",
    "    with tf.variable_scope(\"model\", reuse=True, initializer=initializer):\n",
    "      mvalid = PTBModel(is_training=False, config=config)\n",
    "      mtest = PTBModel(is_training=False, config=eval_config)\n",
    "\n",
    "    tf.initialize_all_variables().run()\n",
    "\n",
    "    for i in range(config.max_max_epoch):\n",
    "      lr_decay = config.lr_decay ** max(i - config.max_epoch, 0.0)\n",
    "      m.assign_lr(session, config.learning_rate * lr_decay)\n",
    "\n",
    "      print(\"Epoch: %d Learning rate: %.3f\" % (i + 1, session.run(m.lr)))\n",
    "      train_perplexity = run_epoch(session, m, train_data, m.train_op,\n",
    "                                   verbose=True)\n",
    "      print(\"Epoch: %d Train Perplexity: %.3f\" % (i + 1, train_perplexity))\n",
    "      valid_perplexity = run_epoch(session, mvalid, valid_data, tf.no_op())\n",
    "      print(\"Epoch: %d Valid Perplexity: %.3f\" % (i + 1, valid_perplexity))\n",
    "\n",
    "    test_perplexity = run_epoch(session, mtest, test_data, tf.no_op())\n",
    "    print(\"Test Perplexity: %.3f\" % test_perplexity)\n",
    "\n",
    "\n",
    "if __name__ == \"__main__\":\n",
    "  tf.app.run()"
   ]
  },
  {
   "cell_type": "code",
   "execution_count": null,
   "metadata": {
    "collapsed": true
   },
   "outputs": [],
   "source": []
  }
 ],
 "metadata": {
  "kernelspec": {
   "display_name": "Python 2",
   "language": "python",
   "name": "python2"
  },
  "language_info": {
   "codemirror_mode": {
    "name": "ipython",
    "version": 2
   },
   "file_extension": ".py",
   "mimetype": "text/x-python",
   "name": "python",
   "nbconvert_exporter": "python",
   "pygments_lexer": "ipython2",
   "version": "2.7.11"
  }
 },
 "nbformat": 4,
 "nbformat_minor": 0
}
