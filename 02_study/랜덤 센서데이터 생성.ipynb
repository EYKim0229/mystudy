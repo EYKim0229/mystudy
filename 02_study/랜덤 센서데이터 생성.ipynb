{
 "cells": [
  {
   "cell_type": "code",
   "execution_count": 4,
   "metadata": {
    "collapsed": true
   },
   "outputs": [],
   "source": [
    "import numpy \n",
    "import datetime"
   ]
  },
  {
   "cell_type": "code",
   "execution_count": 20,
   "metadata": {
    "collapsed": false
   },
   "outputs": [],
   "source": [
    "rnorm = numpy.random.normal(1100,  50,  10)"
   ]
  },
  {
   "cell_type": "code",
   "execution_count": 21,
   "metadata": {
    "collapsed": false
   },
   "outputs": [
    {
     "data": {
      "text/plain": [
       "1181.5099740089679"
      ]
     },
     "execution_count": 21,
     "metadata": {},
     "output_type": "execute_result"
    }
   ],
   "source": [
    "rnorm[0]"
   ]
  },
  {
   "cell_type": "code",
   "execution_count": 7,
   "metadata": {
    "collapsed": false
   },
   "outputs": [
    {
     "data": {
      "text/plain": [
       "datetime.datetime(2015, 4, 15, 0, 0)"
      ]
     },
     "execution_count": 7,
     "metadata": {},
     "output_type": "execute_result"
    }
   ],
   "source": [
    "startDatetime = datetime.datetime.strptime('2015-04-15 00:00:00', '%Y-%m-%d %H:%M:%S')\n",
    "startDatetime"
   ]
  },
  {
   "cell_type": "code",
   "execution_count": 74,
   "metadata": {
    "collapsed": false
   },
   "outputs": [
    {
     "data": {
      "text/plain": [
       "datetime.datetime(2015, 4, 15, 0, 0, 1)"
      ]
     },
     "execution_count": 74,
     "metadata": {},
     "output_type": "execute_result"
    }
   ],
   "source": [
    "nextDatetime = startDatetime + datetime.timedelta(seconds=1)\n",
    "nextDatetime"
   ]
  },
  {
   "cell_type": "code",
   "execution_count": 18,
   "metadata": {
    "collapsed": false
   },
   "outputs": [
    {
     "data": {
      "text/plain": [
       "'2015-04-15'"
      ]
     },
     "execution_count": 18,
     "metadata": {},
     "output_type": "execute_result"
    }
   ],
   "source": [
    "dateStr = nextDatetime.strftime('%Y-%m-%d')\n",
    "dateStr"
   ]
  },
  {
   "cell_type": "code",
   "execution_count": 19,
   "metadata": {
    "collapsed": false
   },
   "outputs": [
    {
     "data": {
      "text/plain": [
       "'00:00:01'"
      ]
     },
     "execution_count": 19,
     "metadata": {},
     "output_type": "execute_result"
    }
   ],
   "source": [
    "timeStr = nextDatetime.strftime('%H:%M:%S')\n",
    "timeStr"
   ]
  },
  {
   "cell_type": "code",
   "execution_count": null,
   "metadata": {
    "collapsed": true
   },
   "outputs": [],
   "source": [
    "## 특정시점으로부터 1초마다 정규분포( 평균=100, 분산=10)인 50개의 데이터 생성\n",
    "startStr = \"2015-04-15 00:00:00\"\n",
    "sec = 1\n",
    "N = 50\n",
    "mu = 100\n",
    "sigma = 10\n",
    "\n",
    "nextDatetime = datetime.datetime.strptime(startStr, '%Y-%m-%d %H:%M:%S')\n",
    "randData1 = numpy.random.normal(mu,  sigma,  N)\n",
    "\n",
    "for i in range(N):\n",
    "    dateStr = nextDatetime.strftime('%Y-%m-%d')\n",
    "    timeStr = nextDatetime.strftime('%H:%M:%S')\n",
    "    rnum = randData1[ i ] \n",
    "    print ( \"%s, %s, %d \" %( dateStr, timeStr, rnum )  )\n",
    "    nextDatetime = nextDatetime + datetime.timedelta(seconds=sec)"
   ]
  },
  {
   "cell_type": "code",
   "execution_count": 26,
   "metadata": {
    "collapsed": false
   },
   "outputs": [
    {
     "data": {
      "text/plain": [
       "array([-0.79597308,  1.52027732, -1.51210882, -4.66201306, -2.14888   ,\n",
       "       -0.24532517,  1.02183417,  0.01168497, -0.94490873,  0.83707018])"
      ]
     },
     "execution_count": 26,
     "metadata": {},
     "output_type": "execute_result"
    }
   ],
   "source": [
    "## 정규분포 함수를 인자로 넘겨주고, 평균과 분산도 인자로..\n",
    "def randomDistirbute( mean, sigma, size, distributeFun ) :\n",
    "    return distributeFun( mean, sigma, size )\n",
    "    \n",
    "randomDistirbute( 0, 2, 10, numpy.random.normal  ) "
   ]
  },
  {
   "cell_type": "code",
   "execution_count": 27,
   "metadata": {
    "collapsed": false
   },
   "outputs": [
    {
     "data": {
      "text/plain": [
       "array([ 10.63954788,   9.48491327,   9.05405492,  11.83210664,\n",
       "         9.31149147,   8.9824002 ,  10.97576266,  10.05663445,\n",
       "        12.50187172,   8.06960552])"
      ]
     },
     "execution_count": 27,
     "metadata": {},
     "output_type": "execute_result"
    }
   ],
   "source": [
    "randomDistirbute( 10, 1, 10, numpy.random.normal  ) "
   ]
  },
  {
   "cell_type": "code",
   "execution_count": 38,
   "metadata": {
    "collapsed": false
   },
   "outputs": [
    {
     "name": "stdout",
     "output_type": "stream",
     "text": [
      "normal\n"
     ]
    }
   ],
   "source": [
    "funStr = numpy.random.normal\n",
    "#print funStr.__class__\n",
    "print funStr.__name__\n",
    "#print funStr.__doc__\n"
   ]
  },
  {
   "cell_type": "code",
   "execution_count": 59,
   "metadata": {
    "collapsed": false,
    "scrolled": true
   },
   "outputs": [],
   "source": [
    "## 여러가지 분포에 따라서 인자 설정을 다르게 처리함.\n",
    "def randomDistribute( mean, sigma, size, distributeFun ) :\n",
    "    if \"poisson\" == distributeFun.__name__ : \n",
    "        return distributeFun( mean, size )\n",
    "    else :\n",
    "        return distributeFun( mean, sigma, size )"
   ]
  },
  {
   "cell_type": "code",
   "execution_count": 61,
   "metadata": {
    "collapsed": false
   },
   "outputs": [
    {
     "data": {
      "text/plain": [
       "array([ 8.72539553,  4.20342648,  4.73180546,  2.39391589,  5.19780368,\n",
       "        6.99349119,  6.00779281,  6.82954564,  2.93021044,  6.23875417])"
      ]
     },
     "execution_count": 61,
     "metadata": {},
     "output_type": "execute_result"
    }
   ],
   "source": [
    "randomDistribute( 5, 2, 10, numpy.random.normal  ) "
   ]
  },
  {
   "cell_type": "code",
   "execution_count": 62,
   "metadata": {
    "collapsed": false
   },
   "outputs": [
    {
     "data": {
      "text/plain": [
       "array([7, 5, 8, 3, 4, 2, 6, 5, 7, 4])"
      ]
     },
     "execution_count": 62,
     "metadata": {},
     "output_type": "execute_result"
    }
   ],
   "source": [
    "randomDistribute( 5, 2, 10, numpy.random.poisson  ) "
   ]
  },
  {
   "cell_type": "code",
   "execution_count": 63,
   "metadata": {
    "collapsed": false
   },
   "outputs": [
    {
     "data": {
      "text/plain": [
       "array([ 2.80049233,  2.98609819,  4.18510226,  3.44758605,  4.52820942,\n",
       "        2.01512886,  3.78018997,  2.89498066,  2.71886338,  2.95574606])"
      ]
     },
     "execution_count": 63,
     "metadata": {},
     "output_type": "execute_result"
    }
   ],
   "source": [
    "randomDistribute( 5, 2, 10, numpy.random.uniform  ) "
   ]
  },
  {
   "cell_type": "code",
   "execution_count": 64,
   "metadata": {
    "collapsed": false
   },
   "outputs": [
    {
     "data": {
      "text/plain": [
       "array([  3.52205923e+44,   6.95919288e+41,   5.57978871e+42,\n",
       "         3.60469010e+41,   5.51937841e+42,   7.67980187e+43,\n",
       "         1.19645704e+45,   1.22540120e+43,   1.13812744e+44,\n",
       "         3.67033554e+43])"
      ]
     },
     "execution_count": 64,
     "metadata": {},
     "output_type": "execute_result"
    }
   ],
   "source": [
    "randomDistribute( 100, 2, 10, numpy.random.lognormal  ) "
   ]
  },
  {
   "cell_type": "markdown",
   "metadata": {},
   "source": [
    "## 여러가지 센서와 해당 센서가 갖는 분포를 정의함."
   ]
  },
  {
   "cell_type": "code",
   "execution_count": 87,
   "metadata": {
    "collapsed": false
   },
   "outputs": [],
   "source": [
    "sensor01 = {'code':'1', 'desc': 'Temerature' ,'mu':1100, 'sigma': 50, 'distribute' : numpy.random.normal }\n",
    "sensor02 = {'code':'2', 'desc': 'Humidity'   ,'mu':62,   'sigma': 5,  'distribute' : numpy.random.normal }\n",
    "sensor03 = {'code':'3', 'desc': 'Speed'      ,'mu':225,  'sigma': 0,  'distribute' : numpy.random.poisson }\n",
    "sensor04 = {'code':'4', 'desc': 'Vibration'  ,'mu':550,  'sigma': 10, 'distribute' : numpy.random.normal }\n",
    "sensor05 = {'code':'5', 'desc': 'Pressure'   ,'mu':300,  'sigma': 400,'distribute' : numpy.random.uniform }\n",
    "sensor06 = {'code':'6', 'desc': 'Noise'      ,'mu':65,   'sigma': 10, 'distribute' : numpy.random.poisson }"
   ]
  },
  {
   "cell_type": "code",
   "execution_count": 88,
   "metadata": {
    "collapsed": false
   },
   "outputs": [
    {
     "name": "stdout",
     "output_type": "stream",
     "text": [
      "code=1, desc=1\n",
      "code=2, desc=2\n",
      "code=3, desc=3\n",
      "code=4, desc=4\n",
      "code=5, desc=5\n",
      "code=6, desc=6\n"
     ]
    }
   ],
   "source": [
    "allSensor = list()\n",
    "allSensor.append( sensor01 ) \n",
    "allSensor.append( sensor02 ) \n",
    "allSensor.append( sensor03 ) \n",
    "allSensor.append( sensor04 ) \n",
    "allSensor.append( sensor05 ) \n",
    "allSensor.append( sensor06 ) \n",
    "\n",
    "for sens in allSensor:\n",
    "    print 'code=%s, desc=%s' %( sens['code'], sens['code'] )"
   ]
  },
  {
   "cell_type": "markdown",
   "metadata": {},
   "source": [
    "## 여러가지 센서 정보를 설정하고 특정시점부터 데이터를 N개 생성하는 함수 정의"
   ]
  },
  {
   "cell_type": "code",
   "execution_count": 93,
   "metadata": {
    "collapsed": false
   },
   "outputs": [],
   "source": [
    "def makeSensorData( SensorList, currDateTime, sec, N ) :\n",
    "    \"\"\" 여러가지 센서 정보를 인자로 받고 특정시점부터 데이터를 N개 생성하는 함수 정의\n",
    "    SensorList : 센서 정보를 갖는 List, 센서 정보를 dictionary형식으로 정의함.\n",
    "    currDateTime : 특정시점 \n",
    "    sec : 시간 간격(초)\n",
    "    N : 생성할 데이터의 개수\n",
    "    \"\"\"\n",
    "    from cStringIO import StringIO\n",
    "    strIO = StringIO()\n",
    "    \n",
    "    codeList = list()\n",
    "    randNumList = list()\n",
    "    for sensor in SensorList :\n",
    "        codeList.append( sensor['code'] )\n",
    "        rnum = randomDistribute( \n",
    "            sensor['mu'], \n",
    "            sensor['sigma'], \n",
    "            N, \n",
    "            sensor['distribute']  ) \n",
    "        randNumList.append( rnum )\n",
    "\n",
    "    for i in range( N ) :\n",
    "        dateStr = currDateTime.strftime('%Y-%m-%d')\n",
    "        timeStr = currDateTime.strftime('%H:%M:%S')\n",
    "        for idx in range( len(codeList) ) : \n",
    "            strIO.write( \"%s,%s,%s,%d\\n\" %( dateStr, timeStr, codeList[idx], randNumList[idx][i] )  )\n",
    "            \n",
    "        currDateTime = currDateTime + datetime.timedelta(seconds=sec)        \n",
    "    return strIO.getvalue()    "
   ]
  },
  {
   "cell_type": "code",
   "execution_count": 95,
   "metadata": {
    "collapsed": false
   },
   "outputs": [
    {
     "data": {
      "text/plain": [
       "'2015-04-15,00:00:01,1,1119\\n2015-04-15,00:00:01,2,48\\n2015-04-15,00:00:01,3,188\\n2015-04-15,00:00:01,4,561\\n2015-04-15,00:00:01,5,359\\n2015-04-15,00:00:01,6,68\\n'"
      ]
     },
     "execution_count": 95,
     "metadata": {},
     "output_type": "execute_result"
    }
   ],
   "source": [
    "makeSensorData( allSensor, nextDatetime, 1, 1)"
   ]
  },
  {
   "cell_type": "code",
   "execution_count": 96,
   "metadata": {
    "collapsed": true
   },
   "outputs": [],
   "source": [
    "with open('output.txt', 'w') as file:\n",
    "    aa = makeSensorData( allSensor, nextDatetime, 1, 1)\n",
    "    file.write( aa )\n",
    "    aa = makeSensorData( allSensor, nextDatetime, 1, 1)\n",
    "    file.write( aa )\n",
    "    aa = makeSensorData( allSensor, nextDatetime, 1, 1)\n",
    "    file.write( aa )    "
   ]
  },
  {
   "cell_type": "code",
   "execution_count": 103,
   "metadata": {
    "collapsed": false
   },
   "outputs": [
    {
     "data": {
      "text/plain": [
       "7"
      ]
     },
     "execution_count": 103,
     "metadata": {},
     "output_type": "execute_result"
    }
   ],
   "source": [
    "7 % 8"
   ]
  },
  {
   "cell_type": "code",
   "execution_count": 37,
   "metadata": {
    "collapsed": true
   },
   "outputs": [],
   "source": [
    "from numpy import append,array\n",
    "from numpy.random import normal\n",
    "def armaGen(phi,theta,sigma,n,burnin=0,verbose=0):\n",
    "    l=max(len(phi),len(theta))\n",
    "    if(burnin==0):\n",
    "      burnin=10*l # Burn-in elements!\n",
    "    w=normal(0,sigma,n+burnin)\n",
    "    ARMA=array([])\n",
    "    s=0.0\n",
    "    l=max(len(phi),len(theta))\n",
    "    for i in range(n+burnin):\n",
    "        if(i<l):\n",
    "          ARMA=append(ARMA,w[i])\n",
    "        else:\n",
    "          s=0.0\n",
    "          for j in range(len(phi)):\n",
    "              s=s+phi[j]*ARMA[i-j-1]\n",
    "          for j in range(len(theta)):\n",
    "              s=s+theta[j]*w[i-j-1]\n",
    "          ARMA=append(ARMA,s+w[i])\n",
    "    if(verbose!=0):\n",
    "      print 'Measured standard deviation: '+str(sqrt(var(w[burnin:])))\n",
    "    return ARMA[burnin:]"
   ]
  },
  {
   "cell_type": "code",
   "execution_count": 34,
   "metadata": {
    "collapsed": true
   },
   "outputs": [],
   "source": [
    "phi=[0.4,0.3]\n",
    "theta=[0.1,-0.3]\n",
    "sigma=2.0\n",
    "n=1000\n",
    "burnin=500\n",
    "x=armaGen(phi,theta,sigma,n,burnin)"
   ]
  },
  {
   "cell_type": "code",
   "execution_count": 38,
   "metadata": {
    "collapsed": false
   },
   "outputs": [
    {
     "data": {
      "text/plain": [
       "array([-270.99674129, -453.16265384, -384.44934999, -250.16661639,\n",
       "       -226.34869158, -263.92335363, -171.01976639, -366.68910035,\n",
       "       -221.24131142, -236.37815288, -179.589729  , -227.23714298,\n",
       "       -178.09441325, -122.04111801,  -71.24361195,  -59.12028156,\n",
       "       -102.02436929,   27.08779302,   55.25184311,   40.90907021,\n",
       "         73.14873466,   94.84457445,  246.41064235,  405.7229561 ,\n",
       "        170.67615773,   76.5802097 ,   53.09847409,  -57.82353312,\n",
       "       -109.51305453, -166.68700559, -136.85547333,  -80.65166492,\n",
       "         -7.05751366,  -83.60134635,  -23.49140244,  -51.11279711,\n",
       "        -23.75516752, -204.401493  , -140.66918925, -201.91931248,\n",
       "       -190.69339819,  -90.82375155, -176.31971969,  -56.27146754,\n",
       "       -116.25367267,  -39.71051004,  126.48409312,  215.73932326,\n",
       "        130.59523281,  323.0889931 ,  339.62582991,  217.65281986,\n",
       "        156.22887781,  153.0038421 ,  166.74049113,  147.59527474,\n",
       "         73.60980781, -100.34304418,  -38.55331384,   43.45832867,\n",
       "         95.32337325,  192.4332187 ,  146.2162419 ,  192.61352069,\n",
       "        312.3880795 ,  258.55775245,  292.79888679,  204.33050576,\n",
       "        236.2704309 ,  333.2072489 ,  380.04789748,  279.53026112,\n",
       "        162.56263139,  251.14921143,  377.12825534,  307.67324242,\n",
       "        350.51029064,  191.63231094,  219.83402561,  263.91473133,\n",
       "        175.39504476,   91.09040804,   25.8746811 ,  -50.03961732,\n",
       "        -79.48705166,   22.42552057,   58.48965123,  152.11456265,\n",
       "        118.63197793,  157.89323275,   68.54549003,   48.6525745 ,\n",
       "         18.70517091, -196.88631262,  -18.40129497,  -66.00599885,\n",
       "        -17.53115095,  -35.51799967,  -29.91003757,  -84.47722764])"
      ]
     },
     "execution_count": 38,
     "metadata": {},
     "output_type": "execute_result"
    }
   ],
   "source": [
    "#x=armaGen(phi,theta,sigma,n)\n",
    "x=armaGen( phi=[0.6,0.2], theta=[0.3, -0.1], sigma=100.0, n=100 )\n",
    "x"
   ]
  },
  {
   "cell_type": "code",
   "execution_count": 16,
   "metadata": {
    "collapsed": true
   },
   "outputs": [],
   "source": [
    "import matplotlib.pyplot as plt\n",
    "plt.xlabel(\"Time units\")\n",
    "plt.ylabel(\"ARMA(2,2) Series\")\n",
    "plt.plot(x,'-r') # This plots the series as a red line.\n",
    "plt.plot(x,'or') # This plots the series as red points.\n",
    "plt.show()"
   ]
  },
  {
   "cell_type": "code",
   "execution_count": 42,
   "metadata": {
    "collapsed": false
   },
   "outputs": [
    {
     "data": {
      "text/plain": [
       "1"
      ]
     },
     "execution_count": 42,
     "metadata": {},
     "output_type": "execute_result"
    }
   ],
   "source": [
    "startDatetime = datetime.datetime.strptime(\"2015-01-01 09:00:00\", '%Y-%m-%d %H:%M:%S')\n",
    "currDateTime = datetime.datetime.strptime(\"2015-01-02 19:00:00\", '%Y-%m-%d %H:%M:%S')\n",
    "\n",
    "dayDiff = (currDateTime - startDatetime).days;\n",
    "dayDiff"
   ]
  },
  {
   "cell_type": "code",
   "execution_count": 44,
   "metadata": {
    "collapsed": false
   },
   "outputs": [
    {
     "name": "stdout",
     "output_type": "stream",
     "text": [
      "makeSensorData.py, Run Time: 0sec\n"
     ]
    }
   ],
   "source": [
    "#!/usr/bin/python\n",
    "#-*- coding: utf-8 -*-\n",
    "\n",
    "## 랜덤한 센서 데이터 생성\n",
    "## 파일명 : makeSensorData.py\n",
    "import numpy \n",
    "import datetime\n",
    "\n",
    "\n",
    "startStr = \"2015-01-01 00:00:00\"\n",
    "sec = 1\n",
    "N = 10000\n",
    "outputFile = 'output.csv'\n",
    "\n",
    "armaN = 100\n",
    "MAX_NUM_PER_FUN = 10000\n",
    "\n",
    "def armaGen(phi,theta,sigma,n,burnin=0,verbose=0):\n",
    "    from numpy import append,array\n",
    "    from numpy.random import normal\n",
    "    l=max(len(phi),len(theta))\n",
    "    if(burnin==0):\n",
    "      burnin=10*l # Burn-in elements!\n",
    "    w=normal(0,sigma,n+burnin)\n",
    "    ARMA=array([])\n",
    "    s=0.0\n",
    "    l=max(len(phi),len(theta))\n",
    "    for i in range(n+burnin):\n",
    "        if(i<l):\n",
    "          ARMA=append(ARMA,w[i])\n",
    "        else:\n",
    "          s=0.0\n",
    "          for j in range(len(phi)):\n",
    "              s=s+phi[j]*ARMA[i-j-1]\n",
    "          for j in range(len(theta)):\n",
    "              s=s+theta[j]*w[i-j-1]\n",
    "          ARMA=append(ARMA,s+w[i])\n",
    "    if(verbose!=0):\n",
    "      print 'Measured standard deviation: '+str(sqrt(var(w[burnin:])))\n",
    "    return ARMA[burnin:]\n",
    "\n",
    "\n",
    "sensor01 = {'code':'1', 'desc': 'Temerature' ,'mu':1100, 'sigma': 50, 'distribute' : numpy.random.normal, 'arma': armaGen( phi=[0.6,0.2], theta=[0.2, -0.2], sigma=200.0, n=armaN ) }\n",
    "sensor02 = {'code':'2', 'desc': 'Humidity'   ,'mu':62,   'sigma': 5,  'distribute' : numpy.random.normal, 'arma': armaGen( phi=[0.6,0.2], theta=[0.3, 0.2], sigma=15.0, n=armaN )  }\n",
    "sensor03 = {'code':'3', 'desc': 'Speed'      ,'mu':225,  'sigma': 0,  'distribute' : numpy.random.poisson, 'arma': armaGen( phi=[0.6,0.2], theta=[0.1, -0.1], sigma=80.0, n=armaN )  }\n",
    "sensor04 = {'code':'4', 'desc': 'Vibration'  ,'mu':550,  'sigma': 10, 'distribute' : numpy.random.normal, 'arma': armaGen( phi=[0.6,0.2], theta=[0.5, 0.1], sigma=200.0, n=armaN )  }\n",
    "sensor05 = {'code':'5', 'desc': 'Pressure'   ,'mu':300,  'sigma': 400,'distribute' : numpy.random.uniform, 'arma': armaGen( phi=[0.6,0.2], theta=[0.3, -0.3], sigma=150.0, n=armaN )  }\n",
    "sensor06 = {'code':'6', 'desc': 'Noise'      ,'mu':65,   'sigma': 10, 'distribute' : numpy.random.poisson, 'arma': armaGen( phi=[0.6,0.2], theta=[0.6, 0.1], sigma=10.0, n=armaN )  }\n",
    "allSensor = list()\n",
    "allSensor.append( sensor01 ) \n",
    "allSensor.append( sensor02 ) \n",
    "allSensor.append( sensor03 ) \n",
    "allSensor.append( sensor04 ) \n",
    "allSensor.append( sensor05 ) \n",
    "allSensor.append( sensor06 ) \n",
    "\n",
    "def randomDistribute( mean, sigma, size, distributeFun ) :\n",
    "    \"\"\"\n",
    "    여러가지 분포에 따라서 인자 설정을 다르게 설정하도록 하는 함수\n",
    "    \"\"\"\n",
    "    \n",
    "    if \"poisson\" == distributeFun.__name__ : \n",
    "        return distributeFun( mean, size )\n",
    "    else :\n",
    "        return distributeFun( mean, sigma, size )\n",
    "\n",
    "    \n",
    "def makeSensorData( SensorList, startDatetime, currDateTime, sec, N, f ) :\n",
    "    \"\"\" 여러가지 센서 정보를 인자로 받고 특정시점부터 데이터를 N개 생성하는 함수 정의\n",
    "    SensorList : 센서 정보를 갖는 List, 센서 정보를 dictionary형식으로 정의함.\n",
    "    currDateTime : 특정시점 \n",
    "    sec : 시간 간격(초)\n",
    "    N : 생성할 데이터의 개수\n",
    "    \"\"\"\n",
    "    from cStringIO import StringIO\n",
    "    strIO = StringIO()\n",
    "    \n",
    "    dayDiff = ((currDateTime - startDatetime).days) % armaN ;\n",
    "    codeList = list()\n",
    "    randNumList = list()\n",
    "    for sensor in SensorList :\n",
    "        codeList.append( sensor['code'] )\n",
    "        rnum = randomDistribute( \n",
    "            sensor['mu'] + sensor['arma'][dayDiff ] , \n",
    "            sensor['sigma'], \n",
    "            N, \n",
    "            sensor['distribute']  ) \n",
    "        randNumList.append( rnum )\n",
    "\n",
    "    for i in range( N ) :\n",
    "        dateStr = currDateTime.strftime('%Y-%m-%d')\n",
    "        timeStr = currDateTime.strftime('%H:%M:%S')\n",
    "        for idx in range( len(codeList) ) : \n",
    "            strIO.write( \"%s,%s,%s,%d\\n\" %( dateStr, timeStr, codeList[idx], randNumList[idx][i] )  )\n",
    "            \n",
    "        currDateTime = currDateTime + datetime.timedelta(seconds=sec)        \n",
    "        \n",
    "    f.write( strIO.getvalue() )\n",
    "    f.flush()\n",
    "    return currDateTime\n",
    "\n",
    "def main(): \n",
    "    startDatetime = datetime.datetime.strptime(startStr, '%Y-%m-%d %H:%M:%S')\n",
    "    nextDatetime = startDatetime\n",
    "    \n",
    "    with open(outputFile, 'w') as f:\n",
    "        for i in range(  N / MAX_NUM_PER_FUN ) :\n",
    "            n = MAX_NUM_PER_FUN\n",
    "            if i == N / MAX_NUM_PER_FUN : \n",
    "                n = N % MAX_NUM_PER_FUN\n",
    "            nextDatetime = makeSensorData( allSensor, startDatetime, nextDatetime, sec, n, f)\n",
    "\n",
    "            \n",
    "if __name__ == \"__main__\":\n",
    "    import time\n",
    "    t1 = time.time() # start time\n",
    "    main()\n",
    "    t2 = time.time() # end time\n",
    "    print (\"makeSensorData.py, Run Time: %dsec\" %(t2-t1) )"
   ]
  },
  {
   "cell_type": "code",
   "execution_count": null,
   "metadata": {
    "collapsed": true
   },
   "outputs": [],
   "source": []
  }
 ],
 "metadata": {
  "kernelspec": {
   "display_name": "Python 2",
   "language": "python",
   "name": "python2"
  },
  "language_info": {
   "codemirror_mode": {
    "name": "ipython",
    "version": 2
   },
   "file_extension": ".py",
   "mimetype": "text/x-python",
   "name": "python",
   "nbconvert_exporter": "python",
   "pygments_lexer": "ipython2",
   "version": "2.7.11"
  }
 },
 "nbformat": 4,
 "nbformat_minor": 0
}
