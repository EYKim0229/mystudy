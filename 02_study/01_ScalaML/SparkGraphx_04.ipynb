{
 "cells": [
  {
   "cell_type": "markdown",
   "metadata": {},
   "source": [
    "# 04장 Transforming and Shaping Up Graphs to Your Needs\n",
    "\n",
    "\n",
    "- Use property operators to modify vertex or edge properties\n",
    "- Use structural operators to modify the shape of a graph\n",
    "- Join additional RDD collections with a property graph"
   ]
  },
  {
   "cell_type": "markdown",
   "metadata": {},
   "source": [
    "## 01절 Transforming the vertex and edge attributes\n",
    "\n",
    "\n",
    "```\n",
    "class Graph[VD, ED] {\n",
    "    def mapVertices[VD2](mapFun: (VertexId, VD) => VD2): Graph[VD2, ED]\n",
    "    def mapEdges[ED2](mapFun: Edge[ED] => ED2): Graph[VD, ED2]\n",
    "    def mapTriplets[ED2](mapFun: EdgeTriplet[VD, ED] => ED2):  Graph[VD, ED2]\n",
    "}\n",
    "```\n",
    "\n",
    "- Each of them also takes a user-defined mapping function mapFun that performs one of the following:\n",
    "\n",
    "    - For mapVertices, mapFun takes a pair of (VertexId, VD) as input and returns a transformed vertex attribute of type VD2.\n",
    "    - For mapEdges, mapFun takes an Edge object as input and returns a transformed edge attribute of type ED2.\n",
    "    - For mapTriplets, mapFun takes an EdgeTriplet object as input and returns a transformed edge attribute of type ED2.\n",
    "    \n",
    "### mapVertices\n",
    "\n",
    "```\n",
    "case class Person(first: String, last: String, age: Int)\n",
    "case class Link(relationship: String, duration: Float)\n",
    "\n",
    "val inputGraph: Graph[Person, Link] = Graph(people, links)\n",
    "\n",
    "val outputGraph: Graph[String, Link] = inputGraph.mapVertices((_, person) => person.first + person.last)\n",
    "```\n",
    "\n",
    "### mapEdges\n",
    "```\n",
    "val outputGraph: Graph[Person, String] = inputGraph.mapEdges(link => link.relationship)\n",
    "```\n",
    "\n",
    "### mapTriplets\n",
    "```\n",
    "val outputGraph: Graph[Person, (Int, Int)] = inputGraph.mapTriplets(t =>       (t.srcAttr.age - t.attr.duration,\n",
    "t.dstAttr.age - t.attr.duration)\n",
    ")\n",
    "```\n",
    "\n"
   ]
  },
  {
   "cell_type": "markdown",
   "metadata": {},
   "source": [
    "## 02절 Modifying graph structures\n",
    "\n",
    "- The GraphX library also comes with four useful methods for changing the structure of graphs.\n",
    "```\n",
    "class Graph[VD, ED] {\n",
    "    def reverse: Graph[VD, ED]\n",
    "    \n",
    "    def subgraph(epred: EdgeTriplet[VD,ED] => Boolean, vpred: (VertexId, VD) => Boolean): Graph[VD, ED]\n",
    "    \n",
    "    def mask[VD2, ED2](other: Graph[VD2, ED2]): Graph[VD, ED]\n",
    "    \n",
    "    def groupEdges(merge: (ED, ED) => ED): Graph[VD,ED]\n",
    "}\n",
    "```\n",
    "\n",
    "### The reverse operator\n",
    "- the reverse operator returns a new graph with all the edge directions reversed.\n",
    "\n",
    "### The subgraph operator\n",
    "- subgraph is useful for filtering graphs\n",
    "- It takes two predicate functions as arguments that return Boolean values.\n",
    "     - The first predicate epred takes an EdgeTriplet and returns true when the triplet satisfies the predicate.\n",
    "     - vpred predicate takes a pair of (VertexId, VD) and returns true when the vertex satisfies the predicate condition.\n",
    "     \n",
    "- \"Which people in my friends' list of friends are not yet my friends?\":\n",
    "\n",
    "```\n",
    "// Given a social network\n",
    "type Name = String\n",
    "class Person(name: Name, friends: List[Name])\n",
    "val socialNetwork: Graph[Person, Int] = ...\n",
    "\n",
    "// that I am part of\n",
    "val me = Person(myName, myFriends)\n",
    "\n",
    "// I want know my friends' friends that are not yet my friends\n",
    "val potentialFriends = socialNetwork.subgraph(vpred = (_, p: Person) => !(me.friends contains p.name))\n",
    "```\n",
    "\n",
    "### The mask operator\n",
    "- The mask operator also filters a graph on which it is invoked\n",
    "- the expression graph.mask(anotherGraph) constructs a subgraph of graph by returning a graph that contains the vertices and edges that are also found in anotherGraph.\n",
    "\n",
    "```\n",
    "// Run Connected Components\n",
    "val ccGraph = graph.connectedComponents()\n",
    "\n",
    "// Remove vertices with missing attribute values and the edges connected to them\n",
    "val validGraph = graph.subgraph(vpred = (_, attr) => attr.info != \"NA\")\n",
    "\n",
    "// Restrict the resulting components to the valid subgraph\n",
    "val validCCGraph = ccGraph.mask(validGraph)\n",
    "```\n",
    "\n",
    "### The groupEdges operator\n",
    "- The groupEdges operator is another structural operator that merges duplicate edges between each pair of nodes into a single edge.\n",
    "- groupEdges requires one function argument named merge merge, which takes a pair of edge attributes of type ED and combines them into a single attribute value of the same type."
   ]
  },
  {
   "cell_type": "markdown",
   "metadata": {},
   "source": [
    "## 03절 Joining graph datasets\n",
    "\n",
    "### joinVertices\n",
    "\n",
    "```\n",
    "def joinVertices[U](table: RDD[(VertexId, U)])(map: (VertexId, VD, U) => VD): Graph[VD, ED]\n",
    "```\n",
    "\n",
    "### outerJoinVertices\n",
    "\n",
    "- outerJoinVertices, which is a more general method than joinVertices.\n",
    "```\n",
    "def outerJoinVertices[U, VD2](table: RDD[(VertexId, U)])(map: (VertexId, VD, Option[U]) => VD2): Graph[VD2, ED]\n",
    "```"
   ]
  },
  {
   "cell_type": "markdown",
   "metadata": {},
   "source": [
    "### Example – Hollywood movie graph"
   ]
  },
  {
   "cell_type": "code",
   "execution_count": null,
   "metadata": {
    "collapsed": true
   },
   "outputs": [],
   "source": [
    "bin/spark-shell  --driver-memory 2g  --master local[4]\n",
    "\n",
    "# build a small graph of movie actors and actresses \n",
    "val actors: RDD[(VertexId, String)] = sc.parallelize(List(\n",
    "(1L, \"George Clooney\"),\n",
    "(2L, \"Julia Stiles\"),\n",
    "(3L, \"Will Smith\"), \n",
    "(4L, \"Matt Damon\"),\n",
    "(5L, \"Salma Hayek\")))\n",
    "    \n",
    "val movies: RDD[Edge[String]] = sc.parallelize(List(\n",
    "Edge(1L, 4L,\"Ocean's Eleven\"),\n",
    "Edge(2L, 4L, \"Bourne Ultimatum\"),\n",
    "Edge(3L, 5L, \"Wild Wild West\"),\n",
    "Edge(1L, 5L, \"From Dusk Till Dawn\"),\n",
    "Edge(3L, 4L, \"The Legend of Bagger Vance\")))\n",
    "                                               \n",
    "val movieGraph = Graph(actors, movies) \n",
    "                                               \n",
    "movieGraph.triplets.foreach(t => println(\n",
    "  t.srcAttr + \" & \" + t.dstAttr + \" appeared in \" + t.attr)\n",
    ")\n",
    "\n",
    "movieGraph.vertices.foreach(println)"
   ]
  },
  {
   "cell_type": "code",
   "execution_count": null,
   "metadata": {
    "collapsed": true
   },
   "outputs": [],
   "source": [
    "# Suppose we have access to a dataset of actor biographies\n",
    "# quickly load one such dataset into a vertex RDD:\n",
    "\n",
    "case class Biography(birthname: String, hometown: String)\n",
    "\n",
    "val bio: RDD[(VertexId, Biography)] = sc.parallelize(List(\n",
    "(2, Biography(\"Julia O'Hara Stiles\", \"NY City, NY, USA\")),\n",
    "(3, Biography(\"Willard Christopher Smith Jr.\", \"Philadelphia, PA, USA\")),\n",
    "(4, Biography(\"Matthew Paige Damon\", \"Boston, MA, USA\")),\n",
    "(5, Biography(\"Salma Valgarma Hayek-Jimenez\", \"Coatzacoalcos, Veracruz, Mexico\")),\n",
    "(6, Biography(\"José Antonio Domínguez Banderas\", \"Málaga, Andalucía, Spain\")),\n",
    "(7, Biography(\"Paul William Walker IV\", \"Glendale, CA, USA\"))\n",
    "))"
   ]
  },
  {
   "cell_type": "code",
   "execution_count": null,
   "metadata": {
    "collapsed": true
   },
   "outputs": [],
   "source": [
    "# use joinVertices to join this information to our movie graph.\n",
    "def appendHometown(id: VertexId, name: String, bio: Biography) : String = {\n",
    "    name + \":\"+ bio.hometown\n",
    "}\n",
    "    \n",
    "val movieJoinedGraph = movieGraph.joinVertices(bio)(appendHometown)\n",
    "movieJoinedGraph.vertices.foreach(println)"
   ]
  },
  {
   "cell_type": "code",
   "execution_count": null,
   "metadata": {
    "collapsed": true
   },
   "outputs": [],
   "source": [
    "# let's use outerJoinVertices to see the difference\n",
    "val movieOuterJoinedGraph = movieGraph.outerJoinVertices(bio)((_,name, bio) => (name,bio))\n",
    "movieOuterJoinedGraph.vertices.foreach(println)"
   ]
  },
  {
   "cell_type": "code",
   "execution_count": null,
   "metadata": {
    "collapsed": true
   },
   "outputs": [],
   "source": [
    "# we can use the getOrElse method defined on Option[T] and\n",
    "# provide a default new attribute value for the vertices that are not present in the\n",
    "# passed vertex RDD:\n",
    "\n",
    "val movieOuterJoinedGraph = movieGraph.outerJoinVertices(bio)(\n",
    "    (_, name, bio) => (name,bio.getOrElse(Biography(\"NA\",\"NA\")))\n",
    ")\n",
    "movieOuterJoinedGraph.vertices.foreach(println)\n"
   ]
  },
  {
   "cell_type": "code",
   "execution_count": null,
   "metadata": {
    "collapsed": true
   },
   "outputs": [],
   "source": [
    "# it is possible to create a new return type for the joined vertices.\n",
    "# we can create a type Actor to generate a new graph of type\n",
    "# Graph[Actor,String] as follows:\n",
    "\n",
    "case class Actor(name: String, birthname: String, hometown: String)\n",
    "val movieOuterJoinedGraph = movieGraph.outerJoinVertices(bio)((_,name, b) => b match {\n",
    "    case Some(bio) => Actor(name, bio.birthname, bio.hometown)\n",
    "    case None => Actor(name, \"\", \"\")\n",
    "})\n",
    "movieOuterJoinedGraph.vertices.foreach(println)\n"
   ]
  },
  {
   "cell_type": "markdown",
   "metadata": {},
   "source": [
    "## 04절 Data operations on VertexRDD and EdgeRDD\n",
    "\n",
    "- we will introduce operations that transform VertexRDD and EdgeRDD collections.\n",
    "- The types of these collections are subtypes of RDD[(VertexID, VD)] and RDD[Edge[ED]]"
   ]
  },
  {
   "cell_type": "markdown",
   "metadata": {},
   "source": [
    "### Mapping VertexRDD and EdgeRDD\n",
    "\n",
    "```\n",
    "def mapValues[VD2](map: VD => VD2): VertexRDD[VD2]\n",
    "def mapValues[VD2](map: (VertexId, VD) => VD2): VertexRDD[VD2]\n",
    "\n",
    "def mapValues[ED2](f: Edge[ED] => ED2): EdgeRDD[ED2]\n",
    "```"
   ]
  },
  {
   "cell_type": "code",
   "execution_count": null,
   "metadata": {
    "collapsed": true
   },
   "outputs": [],
   "source": [
    "val actorsBio = movieJoinedGraph.vertices\n",
    "actorsBio.foreach(println)\n",
    "\n",
    "actorsBio.mapValues(s => s.split(':')(0)).foreach(println)\n",
    "actorsBio.mapValues((vid,s) => s.split(':')(0)).foreach(println)"
   ]
  },
  {
   "cell_type": "markdown",
   "metadata": {},
   "source": [
    "### Filtering VertexRDDs\n",
    "\n",
    "- Using the filter method, we can also filter VertexRDD collections.\n",
    "```\n",
    "def filter(pred: (VertexId, VD) => Boolean): VertexRDD[VD]\n",
    "```\n",
    "\n",
    "- the diff operation also filters vertices inside a VertexRDD collection.\n",
    "- It takes another VertexRDD set as input and removes vertices from the original set that are also in the input set:\n",
    "```\n",
    "def diff(other: VertexRDD[VD]): VertexRDD[VD]\n",
    "```"
   ]
  },
  {
   "cell_type": "markdown",
   "metadata": {},
   "source": [
    "### Joining VertexRDDs\n",
    "\n",
    "```\n",
    "def innerJoin[U, VD2](other: RDD[(VertexId, U)])(f: (VertexId, VD, U) => VD2): VertexRDD[VD2]\n",
    "\n",
    "def leftJoin[U, VD2](other: RDD[(VertexId, VD2)])(f: (VertexId, VD, Option[U]) => VD2): VertexRDD[VD2]\n",
    "```"
   ]
  },
  {
   "cell_type": "code",
   "execution_count": null,
   "metadata": {
    "collapsed": true
   },
   "outputs": [],
   "source": [
    "val actors = movieGraph.vertices\n",
    "actors.innerJoin(bio)(\n",
    "    (vid, name, b) => name + \" is from \" + b.hometown\n",
    ").foreach(println)\n",
    "\n",
    "actors.leftJoin(bio)((vid, name, b) => b match {\n",
    "    case Some(bio) => name + \" is from \" + bio.hometown\n",
    "    case None => name + \"\\'s hometown is unknown\"\n",
    "}).foreach( println )"
   ]
  },
  {
   "cell_type": "markdown",
   "metadata": {},
   "source": [
    "### Joining EdgeRDDs\n",
    "\n",
    "```\n",
    "def innerJoin[ED2, ED3](other: EdgeRDD[ED2])(f: (VertexId, VertexId, ED, ED2) => ED3): EdgeRDD[ED3]\n",
    "```"
   ]
  },
  {
   "cell_type": "markdown",
   "metadata": {},
   "source": [
    "### Reversing edge directions\n",
    "\n",
    "```\n",
    "def reverse: EdgeRDD[ED]\n",
    "```"
   ]
  },
  {
   "cell_type": "code",
   "execution_count": null,
   "metadata": {
    "collapsed": true
   },
   "outputs": [],
   "source": [
    "val movies = movieGraph.edges\n",
    "movies.foreach(println)\n",
    "\n",
    "val bidirectedGraph = Graph(actors, movies union movies.reverse)\n",
    "bidirectedGraph.edges.foreach(println)"
   ]
  },
  {
   "cell_type": "markdown",
   "metadata": {},
   "source": [
    "### Collecting neighboring information\n",
    "\n",
    "```\n",
    "def collectNeighborIds(edgeDirection: EdgeDirection): VertexRDD[Array[VertexId]]\n",
    "def collectNeighbors(edgeDirection: EdgeDirection): VertexRDD[Array[(VertexId, VD)]]\n",
    "```\n",
    "\n",
    "- EdgeDirection attribute can take four possible values:\n",
    "    - Edge.Direction.In: When this option is specified, each vertex collects only the attributes of neighbors that have an incoming link to it\n",
    "    - Edge.Direction.Out: Each vertex collects only the attributes of neighbors that it links to\n",
    "    - Edge.Direction.Either: Each vertex collects the attributes of all its neighbors\n",
    "    - Edge.Direction.Both: Each vertex collects the attributes of the neighbors with which it has both an incoming edge and outgoing one\n"
   ]
  },
  {
   "cell_type": "markdown",
   "metadata": {},
   "source": [
    "### Example – from food network to flavor pairing"
   ]
  },
  {
   "cell_type": "code",
   "execution_count": null,
   "metadata": {
    "collapsed": true
   },
   "outputs": [],
   "source": [
    "import scala.io.Source\n",
    "\n",
    "Source.fromFile(\"./data/ingr_info.tsv\").getLines().take(7).foreach(println)\n",
    "Source.fromFile(\"./data/comp_info.tsv\").getLines().take(7).foreach(println)\n",
    "Source.fromFile(\"./data/ingr_comp.tsv\").getLines().take(7).foreach(println)\n",
    "\n",
    "class FNNode(val name: String) extends Serializable  \n",
    "case class Ingredient(override val name: String, category: String) extends FNNode(name)\n",
    "case class Compound(override val name: String, cas: String) extends FNNode(name)\n",
    "\n",
    "\n",
    "val ingredients: RDD[(VertexId, FNNode)] =\n",
    "sc.textFile(\"./data/ingr_info.tsv\").\n",
    "    filter(! _.startsWith(\"#\")).\n",
    "    map {line =>\n",
    "        val row = line split '\\t'\n",
    "        (row(0).toInt, Ingredient(row(1), row(2)))\n",
    "}\n",
    "    \n",
    "val compounds: RDD[(VertexId, FNNode)] =\n",
    "sc.textFile(\"./data/comp_info.tsv\").\n",
    "    filter(! _.startsWith(\"#\")).\n",
    "    map {line =>\n",
    "        val row = line split '\\t'\n",
    "        (10000L + row(0).toInt, Compound(row(1), row(2)))\n",
    "}\n",
    "    \n",
    "val links: RDD[Edge[Int]] =\n",
    "sc.textFile(\"./data/ingr_comp.tsv\").\n",
    "    filter(! _.startsWith(\"#\")).\n",
    "    map {line =>\n",
    "        val row = line split '\\t'\n",
    "        Edge(row(0).toInt, 10000L + row(1).toInt, 1)\n",
    "}\n",
    "    \n",
    "val nodes = ingredients ++ compounds\n",
    "\n",
    "val foodNetwork = Graph(nodes, links)\n",
    "val similarIngr: RDD[(VertexId, Array[VertexId])] = \n",
    "    foodNetwork.collectNeighborIds(EdgeDirection.In)\n",
    "    \n",
    "def pairIngredients(ingPerComp: (VertexId, Array[VertexId])):\n",
    "Seq[Edge[Int]] =\n",
    "    for {\n",
    "        x <- ingPerComp._2\n",
    "        y <- ingPerComp._2\n",
    "        if x != y\n",
    "} yield Edge(x,y,1)\n",
    "    \n",
    "val flavorPairsRDD: RDD[Edge[Int]] = similarIngr flatMap pairIngredients    \n",
    "    \n",
    "val flavorNetwork = Graph(ingredients, flavorPairsRDD).cache\n",
    "\n",
    "flavorNetwork.triplets.take(20).foreach(println)\n",
    "\n",
    "\n",
    "val flavorWeightedNetwork = \n",
    "    flavorNetwork.partitionBy(PartitionStrategy.EdgePartition2D).groupEdges((x,y) => x+y)\n",
    "\n",
    "flavorWeightedNetwork.triplets.sortBy(t => t.attr, false).take(20).foreach(\n",
    "    t => println(\n",
    "        t.srcAttr.name + \" and \" + t.dstAttr.name + \" share\" + t.attr + \" compounds.\"\n",
    "    )\n",
    ")"
   ]
  }
 ],
 "metadata": {
  "kernelspec": {
   "display_name": "Python 2",
   "language": "python",
   "name": "python2"
  },
  "language_info": {
   "codemirror_mode": {
    "name": "ipython",
    "version": 2
   },
   "file_extension": ".py",
   "mimetype": "text/x-python",
   "name": "python",
   "nbconvert_exporter": "python",
   "pygments_lexer": "ipython2",
   "version": "2.7.11"
  }
 },
 "nbformat": 4,
 "nbformat_minor": 0
}
