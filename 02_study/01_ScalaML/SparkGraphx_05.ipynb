{
 "cells": [
  {
   "cell_type": "markdown",
   "metadata": {},
   "source": [
    "# 5장 Creating Custom Graph Aggregation Operators"
   ]
  },
  {
   "cell_type": "markdown",
   "metadata": {},
   "source": [
    "## 이번장의 학습목표 \n",
    "### 이번장에서는 graph에서 모든 노드들의 이웃정보를 취합하는데 유용한 aggregateMessages 연산자에 대해서 배움.\n",
    "#### NCAA College Basketball 데이터셋을 aggregateMessages에 적용하여 아래 3가지를 할 수 있음\n",
    "- aggregateMessages 기본 메카니즘과 패턴을 이해함\n",
    "- custom한 graph aggregation 연산자을 만들기 위해서 aggregateMessages을 활용해봄.\n",
    "- aggregateMessages의 성능과 효율성을 최적화 하기"
   ]
  },
  {
   "cell_type": "markdown",
   "metadata": {},
   "source": [
    "## 01절 NCAA College Basketball datasets\n",
    "\n",
    "- https://www.packtpub.com/big-data-and-business-intelligence/apache-spark-graph-processing\n",
    "- 2개의 CSV 데이터셋으로 구성됨.\n",
    "- teams.csv 는 NCAA Division I competition(미국대학스포츠협회 )에서 참가한 모든 대학팀의 리스트를 포함.  각각의 팀은 4자릿수 ID번호가 부여됨.\n",
    "```\n",
    "team_id,team_name\n",
    "1101,Abilene Chr\n",
    "1102,Air Force\n",
    "1103,Akron\n",
    "1104,Alabama\n",
    "1105,Alabama A&M\n",
    "1106,Alabama St\n",
    "1107,Albany NY\n",
    "1108,Alcorn St\n",
    "1109,Alliant Intl\n",
    "1110,American Univ\n",
    "```\n",
    "- stats.csv 는 2014~2015 정규시즌동안의 농구 경기의 점수와 통계치가 포함됨.\n",
    "```\n",
    "2015,11,1103,74,1420,57,H,0,25,53,12,30,12,21,9,22,17,12,7,5,22,20,48,3,12,14,28,8,21,13,14,9,0,19\n",
    "2015,11,1104,82,1406,54,H,0,29,63,7,23,17,19,12,20,17,8,14,9,16,18,50,7,21,11,15,13,19,9,21,2,2,20\n",
    "2015,11,1112,78,1291,55,H,0,31,54,4,16,12,25,7,28,17,8,11,5,11,20,52,7,21,8,12,3,17,8,16,2,0,17\n",
    "2015,11,1113,86,1152,50,H,0,30,49,7,16,19,34,8,25,17,11,7,4,22,17,53,3,20,13,23,12,20,7,17,5,3,30\n",
    "2015,11,1119,84,1102,78,H,0,30,61,13,25,11,17,14,19,18,15,6,4,21,31,62,6,19,10,15,11,12,14,18,8,6,\n",
    "```"
   ]
  },
  {
   "cell_type": "markdown",
   "metadata": {},
   "source": [
    "### 데이터셋을 파싱해서 RDD로 읽어오는 모듈을 만들어 보자.\n",
    "- 농구 경기에 대한 한팀의 통계치를 저장하는 GameStats 클래스를 만들어보자."
   ]
  },
  {
   "cell_type": "code",
   "execution_count": null,
   "metadata": {
    "collapsed": true
   },
   "outputs": [],
   "source": [
    "case class GameStats(\n",
    "    val score: Int,\n",
    "    val fieldGoalMade: Int,\n",
    "    val fieldGoalAttempt: Int,\n",
    "    val threePointerMade: Int,\n",
    "    val threePointerAttempt: Int,\n",
    "    val threeThrowsMade: Int,\n",
    "    val threeThrowsAttempt: Int,\n",
    "    val offensiveRebound: Int,\n",
    "    val defensiveRebound: Int,\n",
    "    val assist: Int,\n",
    "    val turnOver: Int,\n",
    "    val steal: Int,\n",
    "    val block: Int,\n",
    "    val personalFoul: Int\n",
    "){\n",
    "    def fgPercent: Double = 100.0 * fieldGoalMade / fieldGoalAttempt\n",
    "    def tpPercent: Double = 100.0 * threePointerMade / threePointerAttempt\n",
    "    def ftPercent: Double = 100.0 * threeThrowsMade / threeThrowsAttempt\n",
    "    override def toString: String = \"Score: \" + score \n",
    "}"
   ]
  },
  {
   "cell_type": "markdown",
   "metadata": {},
   "source": [
    "- 경기내에서 효율적인 공격을 어떻게 한지를 알아보기 위해서 GameStats 클래스에 다음의 메소드를 추가"
   ]
  },
  {
   "cell_type": "code",
   "execution_count": null,
   "metadata": {
    "collapsed": true
   },
   "outputs": [],
   "source": [
    "##  Field Goal percentage\n",
    "def fgPercent: Double = 100.0 * fieldGoalMade / fieldGoalAttempt\n",
    "    \n",
    "## Three Point percentage\n",
    "def tpPercent: Double = 100.0 * threePointerMade / threePointerAttempt\n",
    "    \n",
    "## Free throws percentage\n",
    "def ftPercent: Double = 100.0 * threeThrowsMade / threeThrowsAttempt\n",
    "override def toString: String = \"Score: \" + score"
   ]
  },
  {
   "cell_type": "markdown",
   "metadata": {},
   "source": [
    " - game 결과를 위한 클래스 2개를 만듬.\n",
    " - FullResult 클래스에는 경기 시즌의 년도와 날짜, 장소가 포함하고, 이긴 팀과 진 팀의 경기에 대한 통계치도 포함."
   ]
  },
  {
   "cell_type": "code",
   "execution_count": null,
   "metadata": {
    "collapsed": true
   },
   "outputs": [],
   "source": [
    "#### \n",
    "####  중요 : extends Serializable 을 추가 필요함.\n",
    "####\n",
    "\n",
    "abstract class GameResult (\n",
    "    val season: Int,\n",
    "    val day: Int,\n",
    "    val loc: String\n",
    ") extends Serializable\n",
    "\n",
    "case class FullResult (\n",
    "    override val season: Int,\n",
    "    override val day: Int,\n",
    "    override val loc: String,\n",
    "    val winnerStats: GameStats,\n",
    "    val loserStats: GameStats\n",
    ") extends GameResult(season, day, loc)"
   ]
  },
  {
   "cell_type": "markdown",
   "metadata": {},
   "source": [
    " - 정규시즌의 통계 graph을 만들어 보자.\n",
    " - 팀들은 node가 되고, edge는 게임 경기가 됨.\n",
    " - teams.csv 파일을 파싱해서 team이라는 RDD 변수에 넣어보자."
   ]
  },
  {
   "cell_type": "code",
   "execution_count": null,
   "metadata": {
    "collapsed": true
   },
   "outputs": [],
   "source": [
    "bin/spark-shell  --driver-memory 2g  --master local[4]\n",
    "\n",
    "import org.apache.spark.graphx._\n",
    "import org.apache.spark.rdd.RDD\n",
    "\n",
    "## ! _.startsWith(\"#\") 를  _.startsWith(\"team_id\") 변경 필요함.\n",
    "val teams: RDD[(VertexId, String)] =\n",
    "   sc.textFile(\"./data/teams.csv\").filter(! _.startsWith(\"team_id\")).map { line =>\n",
    "       val row = line split ','\n",
    "       (row(0).toInt, row(1))\n",
    "   }\n",
    "\n",
    "teams.take(3).foreach{println}"
   ]
  },
  {
   "cell_type": "markdown",
   "metadata": {},
   "source": [
    "- RDD[Edge[FullResult]] 타임으로 경기결과를 RDD로 로딩함.\n",
    "- 이긴팀ID, 진팀ID, 2개팀의 경기통계치로 구성됨."
   ]
  },
  {
   "cell_type": "code",
   "execution_count": null,
   "metadata": {
    "collapsed": true
   },
   "outputs": [],
   "source": [
    "        val detailedStats: RDD[Edge[FullResult]] =\n",
    "            sc.textFile(\"./data/stats.csv\").\n",
    "            filter(! _.startsWith(\"#\")).\n",
    "            map {line =>\n",
    "                val row = line split ','\n",
    "                Edge(row(2).toInt, row(4).toInt, \n",
    "                    FullResult(\n",
    "                        row(0).toInt, row(1).toInt, \n",
    "                        row(6),\n",
    "                        GameStats(      \n",
    "                                        score = row(3).toInt,\n",
    "                                fieldGoalMade = row(8).toInt,\n",
    "                             fieldGoalAttempt = row(9).toInt, \n",
    "                             threePointerMade = row(10).toInt,\n",
    "                          threePointerAttempt = row(11).toInt,   \n",
    "                              threeThrowsMade = row(12).toInt,\n",
    "                           threeThrowsAttempt = row(13).toInt, \n",
    "                             offensiveRebound = row(14).toInt,\n",
    "                             defensiveRebound = row(15).toInt,\n",
    "                                       assist = row(16).toInt,\n",
    "                                     turnOver = row(17).toInt,\n",
    "                                        steal = row(18).toInt,\n",
    "                                        block = row(19).toInt,\n",
    "                                 personalFoul = row(20).toInt\n",
    "                        ),\n",
    "                        GameStats(\n",
    "                                        score = row(5).toInt,\n",
    "                                fieldGoalMade = row(21).toInt,\n",
    "                             fieldGoalAttempt = row(22).toInt, \n",
    "                             threePointerMade = row(23).toInt,\n",
    "                          threePointerAttempt = row(24).toInt,\n",
    "                              threeThrowsMade = row(25).toInt,\n",
    "                           threeThrowsAttempt = row(26).toInt, \n",
    "                             offensiveRebound = row(27).toInt,\n",
    "                             defensiveRebound = row(28).toInt,\n",
    "                                       assist = row(20).toInt,\n",
    "                                     turnOver = row(30).toInt,\n",
    "                                        steal = row(31).toInt,\n",
    "                                        block = row(32).toInt,\n",
    "                                 personalFoul = row(33).toInt\n",
    "                        )\n",
    "                    )\n",
    "                )\n",
    "            }\n",
    "            \n",
    "detailedStats.take(3).foreach(println)"
   ]
  },
  {
   "cell_type": "markdown",
   "metadata": {},
   "source": [
    "- 경기 통계 graph를 생성\n",
    "- 2015 NCAA 우승대학인 Duke 대학이 진 4개의 경기를 조회해보자."
   ]
  },
  {
   "cell_type": "code",
   "execution_count": null,
   "metadata": {
    "collapsed": true
   },
   "outputs": [],
   "source": [
    "## Game Score graphs\n",
    "val fullScoreGraph = Graph(teams, detailedStats)\n",
    "\n",
    "## Score for 2015 season  \n",
    "val scoreGraph = fullScoreGraph subgraph (epred = _.attr.season == 2015)\n",
    "\n",
    "## Print to test\n",
    "scoreGraph.triplets.filter(_.dstAttr == \"Duke\").foreach(println)"
   ]
  },
  {
   "cell_type": "markdown",
   "metadata": {},
   "source": [
    "## 02절 The aggregateMessages operator\n",
    "\n",
    "### GraphX에 있는 aggregateMessages 연산자를 이용해서 scoreGraph에서 통계데이터를 취합해보자.\n",
    "- 이긴팀들의 경기당 field goals made 평균 점수을 구해보자.\n",
    "- 각각의 이긴팀의 평균을 얻기 위해서, 이긴팀들의 field goals made점수를 계산함. "
   ]
  },
  {
   "cell_type": "code",
   "execution_count": null,
   "metadata": {
    "collapsed": true
   },
   "outputs": [],
   "source": [
    "// Aggregate the total field goals made by winning teams\n",
    "type FGMsg = (Int, Int)\n",
    "val winningFieldGoalMade: VertexRDD[FGMsg] = scoreGraph\n",
    "aggregateMessages(\n",
    "    // sendMsg\n",
    "    triplet => triplet.sendToSrc(1, triplet.attr.winnerStats.fieldGoalMade)\n",
    "    // mergeMsg\n",
    "    ,(x, y) => (x._1 + y._1, x._2+ y._2)\n",
    ")\n",
    "\n",
    "\n",
    "// Aggregate the total field goals made by winning teams\n",
    "type Msg = (Int, Int)\n",
    "type Context = EdgeContext[String, FullResult, Msg]\n",
    "val winningFieldGoalMade: VertexRDD[Msg] = scoreGraph aggregateMessages(\n",
    "     // sendMsg\n",
    "     (ec: Context) => ec.sendToSrc(1, ec.attr.winnerStats.fieldGoalMade),\n",
    "     // mergeMsg\n",
    "     (x: Msg, y: Msg) => (x._1 + y._1, x._2+ y._2)\n",
    ")"
   ]
  },
  {
   "cell_type": "markdown",
   "metadata": {},
   "source": [
    "### EdgeContext\n",
    "\n",
    "- 위의 코드를 천천히 보자.\n",
    "- scoreGraph 객체에서 aggregateMessages 메소드를 호출하였고, 인자로 2개의 함수를 넘겨줌.\n",
    "- 첫번째 함수의 시그너처는 EdgeContext[VD, ED, Msg] => Unit 이며, EdgeContext을 인자로 받아서 리턴값은 없으며, node에게 message을 보내는 side effect을 생성함.\n",
    "\n",
    "----------------------------------------------------------\n",
    "\n",
    "- EdgeContext은 EdgeTriplet과 비슷하게 이웃 노드를 포함한 edge을 표현하며, source노드와 destination노드를 접근할 수 있음.\n",
    "- EdgeContext은 source노드와 destination노드에게만 message을 보내는 메소드를 갖음. sendToSrc(), sendToDst()\n",
    "- 각각 triplet에 보내지는 메시지 타임을 정의한 것이 Msg임\n",
    "\n",
    "----------------------------------------------------------\n",
    "\n",
    "- Msg객체가 이긴팀인 source 노드에게 전달되고 전달된 실제적인 값은 ( 1,  ec.attr.winnerStats.fieldGoalMade ) 임.\n",
    "- 그래서, 첫번째 값은 이긴 게임의 수이고, 두번째 값은 득점수를 추출하는 역할을 함.\n",
    "\n",
    "----------------------------------------------------------\n",
    "\n",
    "- aggregateMessages의 두번째 인자인 mergeMsg함수는 시그너처 (Msg, Msg) => Msg 을 갖음.\n",
    "- mergeMsg 함수는 두개의 Msg을 받아서 하나의 Msg을 생성함.\n",
    "- aggregateMessages은 VertexRDD[Msg]안에 취합된 메시지를 리턴함.\n",
    "\n",
    "----------------------------------------------------------\n",
    "\n",
    "- aggregateMessages의 결과를 mapValues()함수를 적용해서 평균을 구함."
   ]
  },
  {
   "cell_type": "code",
   "execution_count": null,
   "metadata": {
    "collapsed": true
   },
   "outputs": [],
   "source": [
    "// Average field goals made per Game by winning teams\n",
    "val avgWinningFieldGoalMade: VertexRDD[Double] =\n",
    "    winningFieldGoalMade mapValues (\n",
    "        (id: VertexId, x: Msg) => x match {\n",
    "            case (count: Int, total: Int) => total.toDouble/count\n",
    "        }\n",
    ")\n",
    "    \n",
    "avgWinningFieldGoalMade.take(5).foreach(println)"
   ]
  },
  {
   "cell_type": "markdown",
   "metadata": {},
   "source": [
    "- aggregateMessages와 EdgeContext의 정의는 아래와 같음.\n",
    "\n",
    "```\n",
    "class Graph[VD, ED] {\n",
    "    def aggregateMessages[Msg: ClassTag](\n",
    "    sendMsg: EdgeContext[VD, ED, Msg] => Unit,\n",
    "        mergeMsg: (Msg, Msg) => Msg,\n",
    "        tripletFields: TripletFields = TripletFields.All)\n",
    "     : VertexRDD[Msg]\n",
    "}\n",
    "\n",
    "abstract class EdgeContext[VD, ED, A] {\n",
    "\n",
    "   // Attribute associated with the edge:\n",
    "   abstract def attr: ED\n",
    "   \n",
    "   // Vertex attribute of the edge's source vertex.\n",
    "   abstract def srcAttr: VD\n",
    "   \n",
    "   // Vertex attribute of the edge's destination vertex.\n",
    "   abstract def dstAttr: VD\n",
    "   \n",
    "   // Vertex id of the edge's source vertex.\n",
    "   abstract def srcId: VertexId\n",
    "   \n",
    "   // Vertex id of the edge's destination vertex.\n",
    "   abstract def dstId: VertexId\n",
    "   \n",
    "   // Sends a message to the destination vertex.\n",
    "   abstract def sendToDst(msg: A): Unit\n",
    "   \n",
    "   // Sends a message to the source vertex.\n",
    "   abstract def sendToSrc(msg: A): Unit\n",
    "}\n",
    "\n",
    "```\n"
   ]
  },
  {
   "cell_type": "markdown",
   "metadata": {},
   "source": [
    "## 03절 Abstracting out the aggregation\n",
    "\n",
    "- 이긴팀의 게임당 득점의 평균을 좀더 간단한 방법으로 구해보자."
   ]
  },
  {
   "cell_type": "code",
   "execution_count": null,
   "metadata": {
    "collapsed": true
   },
   "outputs": [],
   "source": [
    "// Aggregate the points scored by winning teams\n",
    "val winnerTotalPoints: VertexRDD[(Int, Int)] =\n",
    "scoreGraph.aggregateMessages(\n",
    "    // sendMsg\n",
    "    triplet => triplet.sendToSrc(1, triplet.attr.winnerStats.score),\n",
    "    // mergeMsg\n",
    "    (x, y) => (x._1 + y._1, x._2+ y._2)\n",
    ")   \n",
    "\n",
    "// Average field goals made per Game by winning teams\n",
    "var winnersPPG: VertexRDD[Double] =\n",
    "    winnerTotalPoints mapValues (\n",
    "        (id: VertexId, x: (Int, Int)) => x match {\n",
    "            case (count: Int, total: Int) => total.toDouble/count\n",
    "})\n",
    "    \n",
    "winnersPPG.take(5).foreach(println)"
   ]
  },
  {
   "cell_type": "markdown",
   "metadata": {},
   "source": [
    "### Keeping things DRY\n",
    "- 코치가 이긴 게임에서 3점슛의 평준중에서 가장 높은 5개의 팀의 리스트를 보고 싶어함.\n",
    "- 이 요구를 좀도 효율적으로 처리하는 방법을 알아보자.\n",
    "\n",
    "-------------\n",
    "\n",
    "- 위의 코드를 추상화해서 재사용성있는 코드로 만들어보자.\n",
    "- 스칼라는 이때 필요한 고차함수들을 지원함.\n",
    "\n",
    "--------------\n",
    "\n",
    "- GameStats을 입력받아서 원하는 통계량을 리턴하는 함수를 정의하자.\n",
    "- 3점 득점과 3점슛의 퍼센트의 평균을 구해보자."
   ]
  },
  {
   "cell_type": "code",
   "execution_count": null,
   "metadata": {
    "collapsed": true
   },
   "outputs": [],
   "source": [
    "// Getting individual stats\n",
    "def threePointMade(stats: GameStats) = {\n",
    "    stats.threePointerMade\n",
    "}\n",
    "\n",
    "def threePointPercent(stats: GameStats) = {\n",
    "    stats.tpPercent\n",
    "}"
   ]
  },
  {
   "cell_type": "markdown",
   "metadata": {},
   "source": [
    "- stats graph 변수와 signature GameStats => Double인 함수를 2개의 인자로 받는 함수를 정의함."
   ]
  },
  {
   "cell_type": "code",
   "execution_count": null,
   "metadata": {
    "collapsed": true
   },
   "outputs": [],
   "source": [
    "// Generic function for stats averaging\n",
    "def averageWinnerStat(graph: Graph[String, FullResult])(getStat: GameStats => Double): VertexRDD[Double] = {\n",
    "    type Msg = (Int, Double)\n",
    "    val winningScore: VertexRDD[Msg] =\n",
    "    graph.aggregateMessages[Msg](\n",
    "        // sendMsg\n",
    "        triplet => triplet.sendToSrc(1, getStat(triplet.attr.winnerStats)),\n",
    "        // mergeMsg\n",
    "        (x, y) => (x._1 + y._1, x._2+ y._2)\n",
    "    )\n",
    "    winningScore mapValues (\n",
    "        (id: VertexId, x: Msg) => x match {\n",
    "            case (count: Int, total: Double) => total/count\n",
    "        })\n",
    "}\n",
    "    \n",
    "    \n",
    "val winnersThreePointMade = averageWinnerStat(scoreGraph)(threePointMade)\n",
    "val winnersThreePointPercent = averageWinnerStat(scoreGraph)(threePointPercent)\n",
    "\n",
    "\n",
    "winnersThreePointMade.sortBy(_._2,false).take(5).foreach(println)\n",
    "winnersThreePointPercent.sortBy(_._2,false).take(5).foreach(println)"
   ]
  },
  {
   "cell_type": "markdown",
   "metadata": {},
   "source": [
    "### Coach wants more numbers\n",
    "\n",
    "- 각각의 팀의 모든 게임의 평균을 얻기를 원함.\n",
    "- 이전 코드들은 이긴팀에 대한 정보를 구했지만, 진팀에 대한 정보를 구하지 않음. => 이전 코드를 좀더 유연하게 추상화를 해보자.\n",
    "\n",
    "-----------------\n",
    "\n",
    "- 이전 코드를 Teams 이라는 추가적인 인자를 고차함수로 수정하자."
   ]
  },
  {
   "cell_type": "code",
   "execution_count": null,
   "metadata": {
    "collapsed": true
   },
   "outputs": [],
   "source": [
    "trait Teams\n",
    "case class Winners extends Teams\n",
    "case class Losers extends Teams\n",
    "case class AllTeams extends Teams\n",
    "\n",
    "\n",
    "def averageStat(graph: Graph[String, FullResult])(getStat: GameStats => Double, tms: Teams): VertexRDD[Double] = {\n",
    "    type Msg = (Int, Double)\n",
    "    val aggrStats: VertexRDD[Msg] = graph.aggregateMessages[Msg](\n",
    "        // sendMsg\n",
    "        tms match {\n",
    "            case _ : Winners => t => t.sendToSrc((1, getStat(t.attr.winnerStats)))\n",
    "            case _ : Losers  => t => t.sendToDst((1,  getStat(t.attr.loserStats)))\n",
    "            case _           => t => {\n",
    "                t.sendToSrc((1, getStat(t.attr.winnerStats)))\n",
    "                t.sendToDst((1, getStat(t.attr.loserStats)))\n",
    "            }\n",
    "        }\n",
    "    ,\n",
    "    // mergeMsg\n",
    "    (x, y) => (x._1 + y._1, x._2+ y._2)\n",
    "    )\n",
    "        \n",
    "    aggrStats mapValues (\n",
    "        (id: VertexId, x: Msg) => x match {\n",
    "            case (count: Int, total: Double) => total/count\n",
    "    })\n",
    "}\n",
    "    \n",
    "    \n",
    "## Average Three Point Made Per Game for All Teams\n",
    "val allThreePointMade = averageStat(scoreGraph)(threePointMade, AllTeams())    \n",
    "allThreePointMade.sortBy(_._2, false).take(5).foreach(println)\n",
    "\n",
    "## 진게임에서 3점수의 평균\n",
    "val loseThreePointMade = averageStat(scoreGraph)(threePointMade, Losers())    \n",
    "loseThreePointMade.sortBy(_._2, false).take(5).foreach(println)\n",
    "\n",
    "## Average Three Point Percent for All Teams\n",
    "val allThreePointPercent = averageStat(scoreGraph)(threePointPercent, AllTeams())\n",
    "allThreePointPercent.sortBy(_._2,false).take(5).foreach(println)"
   ]
  },
  {
   "cell_type": "markdown",
   "metadata": {},
   "source": [
    "### Calculating average points per game\n",
    "\n",
    "- 가장 많은 점수와 가장 적은 점수로 이긴 2팀을 찾아보자."
   ]
  },
  {
   "cell_type": "code",
   "execution_count": null,
   "metadata": {
    "collapsed": true
   },
   "outputs": [],
   "source": [
    "// Winning teams\n",
    "def score(stats: GameStats) = {\n",
    "    stats.score\n",
    "}\n",
    "val winnerAvgPPG = averageStat(scoreGraph)(score, Winners())\n",
    "\n",
    "winnerAvgPPG.max()(Ordering.by(_._2))\n",
    "winnerAvgPPG.min()(Ordering.by(_._2))"
   ]
  },
  {
   "cell_type": "markdown",
   "metadata": {},
   "source": [
    "- 모든 경기에서 가장 공격적인 팀과 공격적인 나쁜 팀을 찾아보자."
   ]
  },
  {
   "cell_type": "code",
   "execution_count": null,
   "metadata": {
    "collapsed": true
   },
   "outputs": [],
   "source": [
    "val allAvgPPG = averageStat(scoreGraph)(score, AllTeams())\n",
    "allAvgPPG.max()(Ordering.by(_._2))\n",
    "allAvgPPG.min()(Ordering.by(_._2))"
   ]
  },
  {
   "cell_type": "markdown",
   "metadata": {},
   "source": [
    "### Defense stats – D matters as in direction\n",
    "\n",
    "- 각각의 팀은 상대방팀에게 허용하는 평균득점수와 리바운드수는 얼마인가??\n",
    "- 이것을 알아보기 위해서 averageConcededStat() 고차함수를 정의함.\n",
    "- 이긴팀에 대해서는 loserStats를 전달하고, 진팀에 대해서는 winnerStats를 전달함."
   ]
  },
  {
   "cell_type": "code",
   "execution_count": null,
   "metadata": {
    "collapsed": true
   },
   "outputs": [],
   "source": [
    "def averageConcededStat(graph: Graph[String, FullResult])(getStat:GameStats => Double, rxs: Teams): VertexRDD[(String, Double)] = {\n",
    "    type Msg = (Int, Double, String)\n",
    "    val aggrStats: VertexRDD[Msg] = graph.aggregateMessages[Msg](\n",
    "        // sendMsg\n",
    "        rxs match {\n",
    "            case _ : Winners => t => t.sendToSrc((1, getStat(t.attr.loserStats), t.srcAttr))\n",
    "            case _ : Losers  => t => t.sendToDst((1, getStat(t.attr.winnerStats), t.dstAttr))\n",
    "            case _           => t => {\n",
    "                t.sendToSrc((1, getStat(t.attr.loserStats),t.srcAttr))\n",
    "                t.sendToDst((1, getStat(t.attr.winnerStats),t.dstAttr))\n",
    "            }\n",
    "        }\n",
    "        ,\n",
    "        // mergeMsg\n",
    "        (x, y) => (x._1 + y._1, x._2+ y._2, x._3)\n",
    "    )\n",
    "    aggrStats mapValues (\n",
    "        (id: VertexId, x: Msg) => x match {\n",
    "            case (count: Int, total: Double, name: String) =>\n",
    "            (name, total/count)\n",
    "        })\n",
    "}\n",
    "    \n",
    "val winnersAvgConcededPoints = averageConcededStat(scoreGraph)(score, Winners())\n",
    "val losersAvgConcededPoints = averageConcededStat(scoreGraph)(score, Losers())\n",
    "\n",
    "\n",
    "losersAvgConcededPoints.min()(Ordering.by(_._2))\n",
    "winnersAvgConcededPoints.min()(Ordering.by(_._2))\n",
    "\n",
    "losersAvgConcededPoints.max()(Ordering.by(_._2))\n",
    "winnersAvgConcededPoints.max()(Ordering.by(_._2))"
   ]
  },
  {
   "cell_type": "markdown",
   "metadata": {},
   "source": [
    "### Joining average stats into a graph\n",
    "- 각각의 팀에 대해서 더 많은 통계치를 구하고 노드들에 대한 정보를 연결해보자.\n",
    "\n",
    "----------\n",
    "- 팀에 대한 통계 클래스를 만드는것부터 시작하자."
   ]
  },
  {
   "cell_type": "code",
   "execution_count": null,
   "metadata": {
    "collapsed": true
   },
   "outputs": [],
   "source": [
    "// Average Stats of All Teams\n",
    "case class TeamStat(\n",
    "    wins: Int = 0 // Number of wins\n",
    "    ,losses: Int = 0 // Number of losses\n",
    "    ,ppg: Int = 0 // Points per game\n",
    "    ,pcg: Int = 0 // Points conceded per game\n",
    "    ,fgp: Double = 0 // Field goal percentage\n",
    "    ,tpp: Double = 0 // Three point percentage\n",
    "    ,ftp: Double = 0 // Free Throw percentage\n",
    "    ){\n",
    "    override def toString = wins + \"-\" + losses\n",
    "}"
   ]
  },
  {
   "cell_type": "markdown",
   "metadata": {},
   "source": [
    "- aggregateMessages을 사용해서 모든 팀에 대한 통계치를 구할 수 있음.\n",
    "- 8개의 값을 갖는 메시지를 정의하고 경기수, 이긴 경기수, 진 경기수, 통계치로 정의함."
   ]
  },
  {
   "cell_type": "code",
   "execution_count": null,
   "metadata": {
    "collapsed": true
   },
   "outputs": [],
   "source": [
    "type Msg = (Int, Int, Int, Int, Int, Double, Double, Double)\n",
    "\n",
    "val aggrStats: VertexRDD[Msg] =\n",
    "scoreGraph.aggregateMessages(\n",
    "    // sendMsg\n",
    "    t => {\n",
    "        t.sendToSrc(( 1,\n",
    "            1, 0,\n",
    "            t.attr.winnerStats.score,\n",
    "            t.attr.loserStats.score,\n",
    "            t.attr.winnerStats.fgPercent,\n",
    "            t.attr.winnerStats.tpPercent,\n",
    "            t.attr.winnerStats.ftPercent\n",
    "            ))\n",
    "        t.sendToDst(( 1,\n",
    "            0, 1,\n",
    "            t.attr.loserStats.score,\n",
    "            t.attr.winnerStats.score,\n",
    "            t.attr.loserStats.fgPercent,\n",
    "            t.attr.loserStats.tpPercent,\n",
    "            t.attr.loserStats.ftPercent\n",
    "            ))\n",
    "        }\n",
    "    ,\n",
    "    // mergeMsg\n",
    "    (x, y) => ( x._1 + y._1, x._2 + y._2,\n",
    "        x._3 + y._3, x._4 + y._4,\n",
    "        x._5 + y._5, x._6 + y._6,\n",
    "        x._7 + y._7, x._8 + y._8\n",
    "    )\n",
    ")"
   ]
  },
  {
   "cell_type": "markdown",
   "metadata": {},
   "source": [
    "- aggregate message로 구한 aggrStats RDD을 TeamStats으로 변경함."
   ]
  },
  {
   "cell_type": "code",
   "execution_count": null,
   "metadata": {
    "collapsed": true
   },
   "outputs": [],
   "source": [
    "val teamStats: VertexRDD[TeamStat] = aggrStats mapValues {\n",
    "    (id: VertexId, m: Msg) => m match {\n",
    "        case ( \n",
    "            count: Int,\n",
    "            wins: Int,\n",
    "            losses: Int,\n",
    "            totPts: Int,\n",
    "            totConcPts: Int,\n",
    "            totFG: Double,\n",
    "            totTP: Double,\n",
    "            totFT: Double) => TeamStat( wins, losses,\n",
    "                totPts/count,\n",
    "                totConcPts/count,\n",
    "                totFG/count,\n",
    "                totTP/count,\n",
    "                totFT/count)\n",
    "    }\n",
    "}"
   ]
  },
  {
   "cell_type": "markdown",
   "metadata": {},
   "source": [
    "- graph에 teamStats을 연결해보자.\n",
    "- vertex의 속성으로 Team클래스를 정의하고 Team은 이름과 TeamStat Option을 멤버변수로 갖음."
   ]
  },
  {
   "cell_type": "code",
   "execution_count": null,
   "metadata": {
    "collapsed": true
   },
   "outputs": [],
   "source": [
    "case class Team(name: String, stats: Option[TeamStat]) {\n",
    "    override def toString = name + \": \" + stats\n",
    "}"
   ]
  },
  {
   "cell_type": "markdown",
   "metadata": {},
   "source": [
    "- 이전 장에서 본 joinVertices연산자를 사용함."
   ]
  },
  {
   "cell_type": "code",
   "execution_count": null,
   "metadata": {
    "collapsed": true
   },
   "outputs": [],
   "source": [
    "// Joining the average stats to vertex attributes\n",
    "def addTeamStat(id: VertexId, t: Team, stats: TeamStat) =\n",
    "Team(t.name, Some(stats))\n",
    "\n",
    "val statsGraph: Graph[Team, FullResult] =\n",
    "    scoreGraph.mapVertices((_, name) => Team(name, None)).\n",
    "        joinVertices(teamStats)(addTeamStat)"
   ]
  },
  {
   "cell_type": "code",
   "execution_count": null,
   "metadata": {
    "collapsed": true
   },
   "outputs": [],
   "source": [
    "statsGraph.vertices.take(3).foreach(println)"
   ]
  },
  {
   "cell_type": "markdown",
   "metadata": {},
   "source": [
    "- 정규시즌에서 상위 10개 팀을 뽑아보자.\n",
    "- Option[TeamStat] 객체를 위한 Ordering option 객체를 정의함."
   ]
  },
  {
   "cell_type": "code",
   "execution_count": null,
   "metadata": {
    "collapsed": true
   },
   "outputs": [],
   "source": [
    "import scala.math.Ordering\n",
    "object winsOrdering extends Ordering[Option[TeamStat]] {\n",
    "    def compare(x: Option[TeamStat], y: Option[TeamStat]) =\n",
    "    (x, y) match {\n",
    "        case (None, None)       => 0\n",
    "        case (Some(a), None)    => 1\n",
    "        case (None, Some(b))    => -1\n",
    "        case (Some(a), Some(b)) => {\n",
    "            if (a.wins == b.wins)  a.losses compare b.losses\n",
    "            else  a.wins compare b.wins\n",
    "        }\n",
    "    }\n",
    "}"
   ]
  },
  {
   "cell_type": "code",
   "execution_count": null,
   "metadata": {
    "collapsed": true
   },
   "outputs": [],
   "source": [
    "import scala.reflect.classTag\n",
    "import scala.reflect.ClassTag\n",
    "statsGraph.vertices.sortBy(v => v._2.stats,false)(winsOrdering, classTag[Option[TeamStat]]).take(10).foreach(println)"
   ]
  },
  {
   "cell_type": "markdown",
   "metadata": {},
   "source": [
    "## 03절 Performance optimization\n",
    "\n",
    "- aggregateMessages함수의 세번째 인자는 TripletFields을 갖으며, 이것은 EdgeContext에 대한 접근을 어떻게 할지를 지정해줌.\n",
    "- 기본값은 TripletFields.All으로 EdgeContext 클래스의 모든 필드를 접근 가능함.\n",
    "    - TripletFields.All: This option exposes all the fields (source, edge, and destination)\n",
    "    -  TripletFields.Dst: This one exposes the destination and edge fields but not the source field\n",
    "    -  TripletFields.EdgeOnly: This option exposes only the edge field but not the source or destination field\n",
    "    -  TripletFields.None: With this option none of the triplet fields are exposed\n",
    "    -  TripletFields.Src: This one exposes the source and edge fields but not the destination field"
   ]
  },
  {
   "cell_type": "markdown",
   "metadata": {},
   "source": [
    " - 만약, 각각의 팀에 대해서 이긴 경기수와 진 경기수에만 관심이 있다면, EdgeContext classd의 필드에는 접근이 필요없기 때문에, TripletFields.None 으로 지정할 수 있음."
   ]
  },
  {
   "cell_type": "code",
   "execution_count": null,
   "metadata": {
    "collapsed": true
   },
   "outputs": [],
   "source": [
    "// Number of wins of the teams\n",
    "val numWins: VertexRDD[Int] = scoreGraph.aggregateMessages(\n",
    "    triplet => {\n",
    "        triplet.sendToSrc(1) // No attribute is passed but an integer\n",
    "    },\n",
    "    (x, y) => x + y,\n",
    "    TripletFields.None\n",
    ")\n",
    "    \n",
    "// Number of losses of the teams\n",
    "val numLosses: VertexRDD[Int] = scoreGraph.aggregateMessages(\n",
    "    triplet => {\n",
    "        triplet.sendToDst(1) // No attribute is passed but an integer\n",
    "    },\n",
    "    (x, y) => x + y,\n",
    "    TripletFields.None\n",
    ")\n",
    "    \n",
    "numWins.sortBy(_._2,false).take(5).foreach(println)\n",
    "\n",
    "numLosses.sortBy(_._2, false).take(5).foreach(println)"
   ]
  },
  {
   "cell_type": "markdown",
   "metadata": {},
   "source": [
    "- 상위 5개 팀의 이름을 알고 싶으면, srcAttr속성에 접근이 필요하므로, TripletFields.Src로 설정함."
   ]
  },
  {
   "cell_type": "code",
   "execution_count": null,
   "metadata": {
    "collapsed": true
   },
   "outputs": [],
   "source": [
    "val numWinsOfTeams: VertexRDD[(String, Int)] = scoreGraph.aggregateMessages(\n",
    "    t => {\n",
    "        t.sendToSrc(t.srcAttr, 1) // Pass source attribute   only\n",
    "    },\n",
    "    (x, y) => (x._1, x._2 + y._2),\n",
    "    TripletFields.Src\n",
    ")\n",
    "    \n",
    "numWinsOfTeams.sortBy(_._2._2, false).take(5).foreach(println)\n",
    "numWinsOfTeams.sortBy(_._2._2).take(5).foreach(println)"
   ]
  },
  {
   "cell_type": "markdown",
   "metadata": {},
   "source": [
    "### The MapReduceTriplets operator "
   ]
  },
  {
   "cell_type": "markdown",
   "metadata": {},
   "source": [
    "- Spark 1.2이전에는 aggregateMessages연산자가 없었고 대신에 mapReduceTriplets연산자가 원시적인 취합 연산자가 였음.\n",
    "```\n",
    "class Graph[VD, ED] {\n",
    "    def mapReduceTriplets[Msg](\n",
    "        map: EdgeTriplet[VD, ED] => Iterator[(VertexId, Msg)],\n",
    "        reduce: (Msg, Msg) => Msg) : VertexRDD[Msg]\n",
    "}\n",
    "```\n",
    "\n",
    "- mapReduceTriplets비해서 aggregateMessages연산자가 더 표현력이 풍부하고, TripletFields을 지정할수 있어서 성능을 최적화 할수 있음."
   ]
  },
  {
   "cell_type": "code",
   "execution_count": null,
   "metadata": {
    "collapsed": true
   },
   "outputs": [],
   "source": []
  }
 ],
 "metadata": {
  "kernelspec": {
   "display_name": "Python 2",
   "language": "python",
   "name": "python2"
  },
  "language_info": {
   "codemirror_mode": {
    "name": "ipython",
    "version": 2
   },
   "file_extension": ".py",
   "mimetype": "text/x-python",
   "name": "python",
   "nbconvert_exporter": "python",
   "pygments_lexer": "ipython2",
   "version": "2.7.11"
  }
 },
 "nbformat": 4,
 "nbformat_minor": 0
}
